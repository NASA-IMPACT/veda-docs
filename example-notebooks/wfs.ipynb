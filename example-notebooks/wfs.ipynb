{
 "cells": [
  {
   "cell_type": "raw",
   "id": "c3e31c73",
   "metadata": {},
   "source": [
    "---\n",
    "title: Get Fire Perimeters from an OGC API\n",
    "description: Explore data available through an OGC API, and how to filter data temporally, spatially, and by property.\n",
    "author: Tempest McCabe, Julia Signell\n",
    "date: March, 8, 2023\n",
    "execute:\n",
    "  cache: true\n",
    "  freeze: true\n",
    "---"
   ]
  },
  {
   "cell_type": "markdown",
   "id": "8ddb4d14",
   "metadata": {},
   "source": [
    "## Run this notebook\n",
    "\n",
    "You can launch this notbook using mybinder, by clicking the button below.\n",
    "\n",
    "<a href=\"https://mybinder.org/v2/gh/NASA-IMPACT/veda-docs/HEAD?labpath=example-notebooks%2Fwfs.ipynb\">\n",
    "<img src=\"https://mybinder.org/badge_logo.svg\" alt=\"Binder\" title=\"A cute binder\" width=\"150\"/> \n",
    "</a>"
   ]
  },
  {
   "cell_type": "markdown",
   "id": "764b9775",
   "metadata": {},
   "source": [
    "## Approach\n",
    "\n",
    "   1. Use `OWSLib` to determine what data is available and inspect the metadata\n",
    "   2. Use `OWSLib` to filter and read the data\n",
    "   3. Use `geopandas` and `folium` to analyze and plot the data"
   ]
  },
  {
   "cell_type": "markdown",
   "id": "f2b830b6",
   "metadata": {},
   "source": [
    "Note that the default examples environment is missing one requirement: `oswlib`. We can `pip install` that before we move on. "
   ]
  },
  {
   "cell_type": "code",
   "execution_count": 1,
   "id": "8e7ab104",
   "metadata": {},
   "outputs": [
    {
     "name": "stdout",
     "output_type": "stream",
     "text": [
      "Requirement already satisfied: OWSLib==0.28.1 in /opt/conda/lib/python3.7/site-packages (0.28.1)\n",
      "Requirement already satisfied: python-dateutil>=1.5 in /opt/conda/lib/python3.7/site-packages (from OWSLib==0.28.1) (2.8.2)\n",
      "Requirement already satisfied: lxml in /opt/conda/lib/python3.7/site-packages (from OWSLib==0.28.1) (4.9.2)\n",
      "Requirement already satisfied: requests>=1.0 in /opt/conda/lib/python3.7/site-packages (from OWSLib==0.28.1) (2.24.0)\n",
      "Requirement already satisfied: pytz in /opt/conda/lib/python3.7/site-packages (from OWSLib==0.28.1) (2021.1)\n",
      "Requirement already satisfied: pyyaml in /opt/conda/lib/python3.7/site-packages (from OWSLib==0.28.1) (5.4.1)\n",
      "Requirement already satisfied: six>=1.5 in /opt/conda/lib/python3.7/site-packages (from python-dateutil>=1.5->OWSLib==0.28.1) (1.15.0)\n",
      "Requirement already satisfied: urllib3!=1.25.0,!=1.25.1,<1.26,>=1.21.1 in /opt/conda/lib/python3.7/site-packages (from requests>=1.0->OWSLib==0.28.1) (1.25.11)\n",
      "Requirement already satisfied: certifi>=2017.4.17 in /opt/conda/lib/python3.7/site-packages (from requests>=1.0->OWSLib==0.28.1) (2022.9.24)\n",
      "Requirement already satisfied: idna<3,>=2.5 in /opt/conda/lib/python3.7/site-packages (from requests>=1.0->OWSLib==0.28.1) (2.10)\n",
      "Requirement already satisfied: chardet<4,>=3.0.2 in /opt/conda/lib/python3.7/site-packages (from requests>=1.0->OWSLib==0.28.1) (3.0.4)\n",
      "\u001b[33mWARNING: Running pip as the 'root' user can result in broken permissions and conflicting behaviour with the system package manager. It is recommended to use a virtual environment instead: https://pip.pypa.io/warnings/venv\u001b[0m\u001b[33m\n",
      "\u001b[0m\u001b[33mWARNING: You are using pip version 22.0.3; however, version 23.1 is available.\n",
      "You should consider upgrading via the '/opt/conda/bin/python3.7 -m pip install --upgrade pip' command.\u001b[0m\u001b[33m\n",
      "\u001b[0m"
     ]
    }
   ],
   "source": [
    "!pip install OWSLib==0.28.1"
   ]
  },
  {
   "cell_type": "code",
   "execution_count": 2,
   "id": "d588472e",
   "metadata": {},
   "outputs": [],
   "source": [
    "from owslib.ogcapi.features import Features\n",
    "import geopandas as gpd\n",
    "import datetime as dt\n",
    "from datetime import datetime, timedelta"
   ]
  },
  {
   "cell_type": "markdown",
   "id": "30a789f8",
   "metadata": {},
   "source": [
    "## Look at the data that is availible through the OGC API\n",
    "\n",
    "The datasets that are distributed throught the OGC API are organized into collections.\n",
    "We can display the collections with the command: "
   ]
  },
  {
   "cell_type": "code",
   "execution_count": 3,
   "id": "7f921d08",
   "metadata": {},
   "outputs": [
    {
     "data": {
      "text/plain": [
       "['public.eis_fire_newfirepix',\n",
       " 'public.eis_fire_perimeter',\n",
       " 'public.eis_fire_fireline',\n",
       " 'public.st_subdivide',\n",
       " 'public.st_hexagongrid',\n",
       " 'public.st_squaregrid']"
      ]
     },
     "execution_count": 3,
     "metadata": {},
     "output_type": "execute_result"
    }
   ],
   "source": [
    "OGC_URL = \"https://firenrt.delta-backend.com\"\n",
    "\n",
    "w = Features(url=OGC_URL)\n",
    "w.feature_collections()"
   ]
  },
  {
   "cell_type": "markdown",
   "id": "7eab08b9",
   "metadata": {},
   "source": [
    "We will focus on the `public.eis_fire_fireline` collection and the `public.eis_fire_perimeter` collection. "
   ]
  },
  {
   "cell_type": "markdown",
   "id": "3b7067aa",
   "metadata": {},
   "source": [
    "### Inspect the metatdata for public.eis_fire_perimeter collection\n",
    "\n",
    "We can access information that drescribes the `public.eis_fire_perimeter`. "
   ]
  },
  {
   "cell_type": "code",
   "execution_count": 4,
   "id": "bd18dc9d",
   "metadata": {},
   "outputs": [],
   "source": [
    "perm = w.collection(\"public.eis_fire_perimeter\")"
   ]
  },
  {
   "cell_type": "markdown",
   "id": "2962dd23",
   "metadata": {},
   "source": [
    "We are particularly interested in the spatial and temporal extents of the data."
   ]
  },
  {
   "cell_type": "code",
   "execution_count": 5,
   "id": "75075ec3",
   "metadata": {},
   "outputs": [
    {
     "data": {
      "text/plain": [
       "{'spatial': {'bbox': [[-125.16691790604779,\n",
       "    24.116061807989844,\n",
       "    -61.8556830871285,\n",
       "    49.37712098567962]],\n",
       "  'crs': 'http://www.opengis.net/def/crs/OGC/1.3/CRS84'},\n",
       " 'temporal': {'interval': [['2023-03-30T00:00:00+00:00',\n",
       "    '2023-04-19T00:00:00+00:00']],\n",
       "  'trs': 'http://www.opengis.net/def/uom/ISO-8601/0/Gregorian'}}"
      ]
     },
     "execution_count": 5,
     "metadata": {},
     "output_type": "execute_result"
    }
   ],
   "source": [
    "perm[\"extent\"]"
   ]
  },
  {
   "cell_type": "markdown",
   "id": "8ae975b8",
   "metadata": {},
   "source": [
    "In addition to getting metadata about the data we can access the queryable fields. Each of these fields will represent a column in our dataframe."
   ]
  },
  {
   "cell_type": "code",
   "execution_count": 6,
   "id": "1999700d",
   "metadata": {},
   "outputs": [
    {
     "data": {
      "text/plain": [
       "{'wkb_geometry': {'$ref': 'https://geojson.org/schema/Geometry.json'},\n",
       " 'ogc_fid': {'name': 'ogc_fid', 'type': 'number'},\n",
       " 'n_pixels': {'name': 'n_pixels', 'type': 'number'},\n",
       " 'n_newpixels': {'name': 'n_newpixels', 'type': 'number'},\n",
       " 'farea': {'name': 'farea', 'type': 'number'},\n",
       " 'fperim': {'name': 'fperim', 'type': 'number'},\n",
       " 'flinelen': {'name': 'flinelen', 'type': 'number'},\n",
       " 'duration': {'name': 'duration', 'type': 'number'},\n",
       " 'pixden': {'name': 'pixden', 'type': 'number'},\n",
       " 'meanfrp': {'name': 'meanfrp', 'type': 'number'},\n",
       " 'isactive': {'name': 'isactive', 'type': 'number'},\n",
       " 't': {'name': 't', 'type': 'string'},\n",
       " 'fireid': {'name': 'fireid', 'type': 'number'}}"
      ]
     },
     "execution_count": 6,
     "metadata": {},
     "output_type": "execute_result"
    }
   ],
   "source": [
    "perm_q = w.collection_queryables(\"public.eis_fire_perimeter\")\n",
    "perm_q[\"properties\"]"
   ]
  },
  {
   "cell_type": "markdown",
   "id": "66cd3645",
   "metadata": {},
   "source": [
    "## Filter the data\n",
    "\n",
    "It is always a good idea to do any data filtering as early as possible. In this example we know that we want the data for particular spatial and temporal extents. We can apply those and other filters using the `OWSLib` package.\n",
    "\n",
    "In the below example we are:\n",
    "\n",
    " - choosing the `public.eis_fire_perimeter` collection \n",
    " - subsetting it by space using the `bbox` parameter\n",
    " - subsetting it by time using the `datetime` parameter\n",
    " - filtering for fires over 5km^2 and over 2 days long using the `filter` parameter. The `filter` parameter lets us filter by the columns in 'public.eis_fire_perimeter' using SQL-style queries. \n",
    "\n",
    "NOTE: The `limit` parameter desginates the maximum number of objects the query will return. The default limit is 10, so if we want to all of the fire perimeters within certain conditions, we need to make sure that the limit is large."
   ]
  },
  {
   "cell_type": "code",
   "execution_count": 7,
   "id": "43ec793b",
   "metadata": {},
   "outputs": [
    {
     "name": "stdout",
     "output_type": "stream",
     "text": [
      "Most Recent Time = 2023-04-19T00:00:00+00:00\n",
      "Last week = 2023-04-12T00:00:00+00:00\n"
     ]
    }
   ],
   "source": [
    "## Get the most recent fire perimeters, and 7 days before most recent fire perimeter\n",
    "most_recent_time = max(*perm[\"extent\"][\"temporal\"][\"interval\"])\n",
    "now = dt.datetime.strptime(most_recent_time, \"%Y-%m-%dT%H:%M:%S+00:00\")\n",
    "last_week = now - dt.timedelta(weeks=1)\n",
    "last_week = dt.datetime.strftime(last_week, \"%Y-%m-%dT%H:%M:%S+00:00\")\n",
    "print(\"Most Recent Time =\", most_recent_time)\n",
    "print(\"Last week =\", last_week)"
   ]
  },
  {
   "cell_type": "code",
   "execution_count": 8,
   "id": "d503e425",
   "metadata": {},
   "outputs": [],
   "source": [
    "perm_results = w.collection_items(\n",
    "    \"public.eis_fire_perimeter\",  # name of the dataset we want\n",
    "    bbox=[\"-106.8\", \"24.5\", \"-72.9\", \"37.3\"],  # coodrinates of bounding box,\n",
    "    datetime=[last_week + \"/\" + most_recent_time],  # date range\n",
    "    limit=1000,  # max number of items returned\n",
    "    filter=\"farea>5 AND duration>2\",  # additional filters based on queryable fields\n",
    ")"
   ]
  },
  {
   "cell_type": "markdown",
   "id": "1edb9a49",
   "metadata": {},
   "source": [
    "The result is a dictionary containing all of the data and some summary fields. We can look at the keys to see what all is in there."
   ]
  },
  {
   "cell_type": "code",
   "execution_count": 9,
   "id": "a8a023ca",
   "metadata": {},
   "outputs": [
    {
     "data": {
      "text/plain": [
       "dict_keys(['type', 'id', 'title', 'description', 'numberMatched', 'numberReturned', 'links', 'features'])"
      ]
     },
     "execution_count": 9,
     "metadata": {},
     "output_type": "execute_result"
    }
   ],
   "source": [
    "perm_results.keys()"
   ]
  },
  {
   "cell_type": "markdown",
   "id": "22840ae1",
   "metadata": {},
   "source": [
    "For instance you can check the total number of matched items and make sure that it is equal to the number of returned items. This is how you know that the `limit` you defined above is high enough."
   ]
  },
  {
   "cell_type": "code",
   "execution_count": 10,
   "id": "1ee08eb4",
   "metadata": {},
   "outputs": [
    {
     "data": {
      "text/plain": [
       "True"
      ]
     },
     "execution_count": 10,
     "metadata": {},
     "output_type": "execute_result"
    }
   ],
   "source": [
    "perm_results[\"numberMatched\"] == perm_results[\"numberReturned\"]"
   ]
  },
  {
   "cell_type": "markdown",
   "id": "a63026a7",
   "metadata": {},
   "source": [
    "You can also access the data directly in the browser or in an HTTP GET call using the constructed link."
   ]
  },
  {
   "cell_type": "code",
   "execution_count": 11,
   "id": "0c1dddb6",
   "metadata": {},
   "outputs": [
    {
     "data": {
      "text/plain": [
       "'https://firenrt.delta-backend.com/collections/public.eis_fire_perimeter/items?bbox=-106.8%2C24.5%2C-72.9%2C37.3&datetime=2023-04-12T00%3A00%3A00%2B00%3A00%2F2023-04-19T00%3A00%3A00%2B00%3A00&limit=1000&filter=farea%3E5+AND+duration%3E2'"
      ]
     },
     "execution_count": 11,
     "metadata": {},
     "output_type": "execute_result"
    }
   ],
   "source": [
    "perm_results[\"links\"][1][\"href\"]"
   ]
  },
  {
   "cell_type": "markdown",
   "id": "788254eb",
   "metadata": {},
   "source": [
    "## Read data\n",
    "\n",
    "In addition to all the summary fields, the `perm_results` dict contains all the data. We can pass the data into geopandas to make it easier to interact with."
   ]
  },
  {
   "cell_type": "code",
   "execution_count": 12,
   "id": "82820e6d",
   "metadata": {},
   "outputs": [
    {
     "data": {
      "text/html": [
       "<div>\n",
       "<style scoped>\n",
       "    .dataframe tbody tr th:only-of-type {\n",
       "        vertical-align: middle;\n",
       "    }\n",
       "\n",
       "    .dataframe tbody tr th {\n",
       "        vertical-align: top;\n",
       "    }\n",
       "\n",
       "    .dataframe thead th {\n",
       "        text-align: right;\n",
       "    }\n",
       "</style>\n",
       "<table border=\"1\" class=\"dataframe\">\n",
       "  <thead>\n",
       "    <tr style=\"text-align: right;\">\n",
       "      <th></th>\n",
       "      <th>geometry</th>\n",
       "      <th>ogc_fid</th>\n",
       "      <th>n_pixels</th>\n",
       "      <th>n_newpixels</th>\n",
       "      <th>farea</th>\n",
       "      <th>fperim</th>\n",
       "      <th>flinelen</th>\n",
       "      <th>duration</th>\n",
       "      <th>pixden</th>\n",
       "      <th>meanfrp</th>\n",
       "      <th>isactive</th>\n",
       "      <th>t</th>\n",
       "      <th>fireid</th>\n",
       "    </tr>\n",
       "  </thead>\n",
       "  <tbody>\n",
       "    <tr>\n",
       "      <th>0</th>\n",
       "      <td>POLYGON ((-94.92952 34.21025, -94.92951 34.210...</td>\n",
       "      <td>1627</td>\n",
       "      <td>175</td>\n",
       "      <td>0</td>\n",
       "      <td>36.914361</td>\n",
       "      <td>40.545199</td>\n",
       "      <td>0.0</td>\n",
       "      <td>3.0</td>\n",
       "      <td>4.740702</td>\n",
       "      <td>0.0</td>\n",
       "      <td>1</td>\n",
       "      <td>2023-04-14T12:00:00</td>\n",
       "      <td>47998</td>\n",
       "    </tr>\n",
       "    <tr>\n",
       "      <th>1</th>\n",
       "      <td>MULTIPOLYGON (((-94.21166 34.82102, -94.21169 ...</td>\n",
       "      <td>1670</td>\n",
       "      <td>187</td>\n",
       "      <td>0</td>\n",
       "      <td>30.058442</td>\n",
       "      <td>49.606250</td>\n",
       "      <td>0.0</td>\n",
       "      <td>4.0</td>\n",
       "      <td>6.221214</td>\n",
       "      <td>0.0</td>\n",
       "      <td>1</td>\n",
       "      <td>2023-04-14T12:00:00</td>\n",
       "      <td>46850</td>\n",
       "    </tr>\n",
       "    <tr>\n",
       "      <th>2</th>\n",
       "      <td>POLYGON ((-93.51528 35.85425, -93.51521 35.854...</td>\n",
       "      <td>2091</td>\n",
       "      <td>66</td>\n",
       "      <td>0</td>\n",
       "      <td>13.140147</td>\n",
       "      <td>19.700381</td>\n",
       "      <td>0.0</td>\n",
       "      <td>3.0</td>\n",
       "      <td>5.022775</td>\n",
       "      <td>0.0</td>\n",
       "      <td>1</td>\n",
       "      <td>2023-04-14T12:00:00</td>\n",
       "      <td>47822</td>\n",
       "    </tr>\n",
       "    <tr>\n",
       "      <th>3</th>\n",
       "      <td>POLYGON ((-94.68205 35.07044, -94.68205 35.070...</td>\n",
       "      <td>2131</td>\n",
       "      <td>36</td>\n",
       "      <td>0</td>\n",
       "      <td>6.523911</td>\n",
       "      <td>10.634670</td>\n",
       "      <td>0.0</td>\n",
       "      <td>6.0</td>\n",
       "      <td>5.518162</td>\n",
       "      <td>0.0</td>\n",
       "      <td>1</td>\n",
       "      <td>2023-04-17T00:00:00</td>\n",
       "      <td>47508</td>\n",
       "    </tr>\n",
       "    <tr>\n",
       "      <th>4</th>\n",
       "      <td>POLYGON ((-91.46354 37.08346, -91.46334 37.083...</td>\n",
       "      <td>2934</td>\n",
       "      <td>89</td>\n",
       "      <td>0</td>\n",
       "      <td>8.150479</td>\n",
       "      <td>11.893227</td>\n",
       "      <td>0.0</td>\n",
       "      <td>4.0</td>\n",
       "      <td>10.919603</td>\n",
       "      <td>0.0</td>\n",
       "      <td>0</td>\n",
       "      <td>2023-04-12T12:00:00</td>\n",
       "      <td>45190</td>\n",
       "    </tr>\n",
       "    <tr>\n",
       "      <th>5</th>\n",
       "      <td>POLYGON ((-81.35660 32.81974, -81.35677 32.819...</td>\n",
       "      <td>4236</td>\n",
       "      <td>72</td>\n",
       "      <td>0</td>\n",
       "      <td>17.501778</td>\n",
       "      <td>26.349821</td>\n",
       "      <td>0.0</td>\n",
       "      <td>34.0</td>\n",
       "      <td>4.113868</td>\n",
       "      <td>0.0</td>\n",
       "      <td>1</td>\n",
       "      <td>2023-04-18T12:00:00</td>\n",
       "      <td>31357</td>\n",
       "    </tr>\n",
       "    <tr>\n",
       "      <th>6</th>\n",
       "      <td>POLYGON ((-81.06540 32.37262, -81.06541 32.372...</td>\n",
       "      <td>4313</td>\n",
       "      <td>33</td>\n",
       "      <td>0</td>\n",
       "      <td>5.214923</td>\n",
       "      <td>10.994579</td>\n",
       "      <td>0.0</td>\n",
       "      <td>5.0</td>\n",
       "      <td>6.327994</td>\n",
       "      <td>0.0</td>\n",
       "      <td>1</td>\n",
       "      <td>2023-04-17T12:00:00</td>\n",
       "      <td>48921</td>\n",
       "    </tr>\n",
       "    <tr>\n",
       "      <th>7</th>\n",
       "      <td>MULTIPOLYGON (((-96.18329 36.97956, -96.18309 ...</td>\n",
       "      <td>9873</td>\n",
       "      <td>347</td>\n",
       "      <td>0</td>\n",
       "      <td>51.520094</td>\n",
       "      <td>56.936577</td>\n",
       "      <td>0.0</td>\n",
       "      <td>20.0</td>\n",
       "      <td>6.735236</td>\n",
       "      <td>0.0</td>\n",
       "      <td>1</td>\n",
       "      <td>2023-04-17T12:00:00</td>\n",
       "      <td>38904</td>\n",
       "    </tr>\n",
       "    <tr>\n",
       "      <th>8</th>\n",
       "      <td>MULTIPOLYGON (((-96.44047 36.84058, -96.44047 ...</td>\n",
       "      <td>9976</td>\n",
       "      <td>109</td>\n",
       "      <td>0</td>\n",
       "      <td>19.687421</td>\n",
       "      <td>22.361965</td>\n",
       "      <td>0.0</td>\n",
       "      <td>7.0</td>\n",
       "      <td>5.536530</td>\n",
       "      <td>0.0</td>\n",
       "      <td>0</td>\n",
       "      <td>2023-04-13T12:00:00</td>\n",
       "      <td>43579</td>\n",
       "    </tr>\n",
       "    <tr>\n",
       "      <th>9</th>\n",
       "      <td>POLYGON ((-96.24797 36.88458, -96.24777 36.884...</td>\n",
       "      <td>9977</td>\n",
       "      <td>160</td>\n",
       "      <td>0</td>\n",
       "      <td>14.874136</td>\n",
       "      <td>16.226787</td>\n",
       "      <td>0.0</td>\n",
       "      <td>6.0</td>\n",
       "      <td>10.756927</td>\n",
       "      <td>0.0</td>\n",
       "      <td>1</td>\n",
       "      <td>2023-04-17T12:00:00</td>\n",
       "      <td>47819</td>\n",
       "    </tr>\n",
       "    <tr>\n",
       "      <th>10</th>\n",
       "      <td>MULTIPOLYGON (((-96.12256 36.64613, -96.12243 ...</td>\n",
       "      <td>10003</td>\n",
       "      <td>453</td>\n",
       "      <td>0</td>\n",
       "      <td>66.949655</td>\n",
       "      <td>91.583456</td>\n",
       "      <td>0.0</td>\n",
       "      <td>20.0</td>\n",
       "      <td>6.766278</td>\n",
       "      <td>0.0</td>\n",
       "      <td>1</td>\n",
       "      <td>2023-04-18T12:00:00</td>\n",
       "      <td>39932</td>\n",
       "    </tr>\n",
       "    <tr>\n",
       "      <th>11</th>\n",
       "      <td>MULTIPOLYGON (((-96.52429 36.57442, -96.52422 ...</td>\n",
       "      <td>10046</td>\n",
       "      <td>1656</td>\n",
       "      <td>0</td>\n",
       "      <td>278.312936</td>\n",
       "      <td>239.301125</td>\n",
       "      <td>0.0</td>\n",
       "      <td>22.0</td>\n",
       "      <td>5.950137</td>\n",
       "      <td>0.0</td>\n",
       "      <td>1</td>\n",
       "      <td>2023-04-18T12:00:00</td>\n",
       "      <td>38602</td>\n",
       "    </tr>\n",
       "    <tr>\n",
       "      <th>12</th>\n",
       "      <td>POLYGON ((-96.55628 35.03073, -96.55629 35.030...</td>\n",
       "      <td>10324</td>\n",
       "      <td>55</td>\n",
       "      <td>0</td>\n",
       "      <td>7.225466</td>\n",
       "      <td>10.339737</td>\n",
       "      <td>0.0</td>\n",
       "      <td>6.0</td>\n",
       "      <td>7.611966</td>\n",
       "      <td>0.0</td>\n",
       "      <td>1</td>\n",
       "      <td>2023-04-14T12:00:00</td>\n",
       "      <td>45597</td>\n",
       "    </tr>\n",
       "    <tr>\n",
       "      <th>13</th>\n",
       "      <td>MULTIPOLYGON (((-97.17705 34.37751, -97.17704 ...</td>\n",
       "      <td>10405</td>\n",
       "      <td>54</td>\n",
       "      <td>0</td>\n",
       "      <td>9.346662</td>\n",
       "      <td>22.231417</td>\n",
       "      <td>0.0</td>\n",
       "      <td>8.0</td>\n",
       "      <td>5.777463</td>\n",
       "      <td>0.0</td>\n",
       "      <td>1</td>\n",
       "      <td>2023-04-16T12:00:00</td>\n",
       "      <td>45153</td>\n",
       "    </tr>\n",
       "    <tr>\n",
       "      <th>14</th>\n",
       "      <td>MULTIPOLYGON (((-103.53108 32.24245, -103.5310...</td>\n",
       "      <td>10793</td>\n",
       "      <td>105</td>\n",
       "      <td>0</td>\n",
       "      <td>7.479533</td>\n",
       "      <td>22.765320</td>\n",
       "      <td>0.0</td>\n",
       "      <td>89.0</td>\n",
       "      <td>14.038310</td>\n",
       "      <td>0.0</td>\n",
       "      <td>1</td>\n",
       "      <td>2023-04-18T00:00:00</td>\n",
       "      <td>6601</td>\n",
       "    </tr>\n",
       "    <tr>\n",
       "      <th>15</th>\n",
       "      <td>MULTIPOLYGON (((-104.20130 32.66784, -104.2012...</td>\n",
       "      <td>10853</td>\n",
       "      <td>59</td>\n",
       "      <td>0</td>\n",
       "      <td>25.571155</td>\n",
       "      <td>26.188966</td>\n",
       "      <td>0.0</td>\n",
       "      <td>35.0</td>\n",
       "      <td>2.307287</td>\n",
       "      <td>0.0</td>\n",
       "      <td>1</td>\n",
       "      <td>2023-04-14T00:00:00</td>\n",
       "      <td>28761</td>\n",
       "    </tr>\n",
       "    <tr>\n",
       "      <th>16</th>\n",
       "      <td>POLYGON ((-97.42567 27.84066, -97.42567 27.840...</td>\n",
       "      <td>11324</td>\n",
       "      <td>29</td>\n",
       "      <td>0</td>\n",
       "      <td>7.043949</td>\n",
       "      <td>15.407704</td>\n",
       "      <td>0.0</td>\n",
       "      <td>7.0</td>\n",
       "      <td>4.117009</td>\n",
       "      <td>0.0</td>\n",
       "      <td>1</td>\n",
       "      <td>2023-04-17T00:00:00</td>\n",
       "      <td>46505</td>\n",
       "    </tr>\n",
       "  </tbody>\n",
       "</table>\n",
       "</div>"
      ],
      "text/plain": [
       "                                             geometry  ogc_fid  n_pixels  \\\n",
       "0   POLYGON ((-94.92952 34.21025, -94.92951 34.210...     1627       175   \n",
       "1   MULTIPOLYGON (((-94.21166 34.82102, -94.21169 ...     1670       187   \n",
       "2   POLYGON ((-93.51528 35.85425, -93.51521 35.854...     2091        66   \n",
       "3   POLYGON ((-94.68205 35.07044, -94.68205 35.070...     2131        36   \n",
       "4   POLYGON ((-91.46354 37.08346, -91.46334 37.083...     2934        89   \n",
       "5   POLYGON ((-81.35660 32.81974, -81.35677 32.819...     4236        72   \n",
       "6   POLYGON ((-81.06540 32.37262, -81.06541 32.372...     4313        33   \n",
       "7   MULTIPOLYGON (((-96.18329 36.97956, -96.18309 ...     9873       347   \n",
       "8   MULTIPOLYGON (((-96.44047 36.84058, -96.44047 ...     9976       109   \n",
       "9   POLYGON ((-96.24797 36.88458, -96.24777 36.884...     9977       160   \n",
       "10  MULTIPOLYGON (((-96.12256 36.64613, -96.12243 ...    10003       453   \n",
       "11  MULTIPOLYGON (((-96.52429 36.57442, -96.52422 ...    10046      1656   \n",
       "12  POLYGON ((-96.55628 35.03073, -96.55629 35.030...    10324        55   \n",
       "13  MULTIPOLYGON (((-97.17705 34.37751, -97.17704 ...    10405        54   \n",
       "14  MULTIPOLYGON (((-103.53108 32.24245, -103.5310...    10793       105   \n",
       "15  MULTIPOLYGON (((-104.20130 32.66784, -104.2012...    10853        59   \n",
       "16  POLYGON ((-97.42567 27.84066, -97.42567 27.840...    11324        29   \n",
       "\n",
       "    n_newpixels       farea      fperim  flinelen  duration     pixden  \\\n",
       "0             0   36.914361   40.545199       0.0       3.0   4.740702   \n",
       "1             0   30.058442   49.606250       0.0       4.0   6.221214   \n",
       "2             0   13.140147   19.700381       0.0       3.0   5.022775   \n",
       "3             0    6.523911   10.634670       0.0       6.0   5.518162   \n",
       "4             0    8.150479   11.893227       0.0       4.0  10.919603   \n",
       "5             0   17.501778   26.349821       0.0      34.0   4.113868   \n",
       "6             0    5.214923   10.994579       0.0       5.0   6.327994   \n",
       "7             0   51.520094   56.936577       0.0      20.0   6.735236   \n",
       "8             0   19.687421   22.361965       0.0       7.0   5.536530   \n",
       "9             0   14.874136   16.226787       0.0       6.0  10.756927   \n",
       "10            0   66.949655   91.583456       0.0      20.0   6.766278   \n",
       "11            0  278.312936  239.301125       0.0      22.0   5.950137   \n",
       "12            0    7.225466   10.339737       0.0       6.0   7.611966   \n",
       "13            0    9.346662   22.231417       0.0       8.0   5.777463   \n",
       "14            0    7.479533   22.765320       0.0      89.0  14.038310   \n",
       "15            0   25.571155   26.188966       0.0      35.0   2.307287   \n",
       "16            0    7.043949   15.407704       0.0       7.0   4.117009   \n",
       "\n",
       "    meanfrp  isactive                    t  fireid  \n",
       "0       0.0         1  2023-04-14T12:00:00   47998  \n",
       "1       0.0         1  2023-04-14T12:00:00   46850  \n",
       "2       0.0         1  2023-04-14T12:00:00   47822  \n",
       "3       0.0         1  2023-04-17T00:00:00   47508  \n",
       "4       0.0         0  2023-04-12T12:00:00   45190  \n",
       "5       0.0         1  2023-04-18T12:00:00   31357  \n",
       "6       0.0         1  2023-04-17T12:00:00   48921  \n",
       "7       0.0         1  2023-04-17T12:00:00   38904  \n",
       "8       0.0         0  2023-04-13T12:00:00   43579  \n",
       "9       0.0         1  2023-04-17T12:00:00   47819  \n",
       "10      0.0         1  2023-04-18T12:00:00   39932  \n",
       "11      0.0         1  2023-04-18T12:00:00   38602  \n",
       "12      0.0         1  2023-04-14T12:00:00   45597  \n",
       "13      0.0         1  2023-04-16T12:00:00   45153  \n",
       "14      0.0         1  2023-04-18T00:00:00    6601  \n",
       "15      0.0         1  2023-04-14T00:00:00   28761  \n",
       "16      0.0         1  2023-04-17T00:00:00   46505  "
      ]
     },
     "execution_count": 12,
     "metadata": {},
     "output_type": "execute_result"
    }
   ],
   "source": [
    "df = gpd.GeoDataFrame.from_features(perm_results[\"features\"])\n",
    "df"
   ]
  },
  {
   "cell_type": "markdown",
   "id": "c1faf365",
   "metadata": {},
   "source": [
    "## Explore data\n",
    "\n",
    "We can quickly explore the data by setting the coordinate reference system (`crs`) and using `.explore()`"
   ]
  },
  {
   "cell_type": "code",
   "execution_count": null,
   "id": "2b8c7b9c",
   "metadata": {},
   "outputs": [],
   "source": [
    "df = df.set_crs(\"EPSG:4326\")\n",
    "df.explore()"
   ]
  },
  {
   "cell_type": "markdown",
   "id": "b668c0e7",
   "metadata": {},
   "source": [
    "## Visualize Most Recent Fire Perimeters with Firelines\n",
    "\n",
    "If we wanted to combine collections to make more informative analyses, we can use some of the same principles. \n",
    "\n",
    "First we'll get the queryable fields, and the extents:"
   ]
  },
  {
   "cell_type": "code",
   "execution_count": null,
   "id": "2839d76e",
   "metadata": {},
   "outputs": [],
   "source": [
    "fline_q = w.collection_queryables(\"public.eis_fire_fireline\")\n",
    "fline_collection = w.collection(\"public.eis_fire_fireline\")\n",
    "fline_q[\"properties\"]"
   ]
  },
  {
   "cell_type": "markdown",
   "id": "55852aee",
   "metadata": {},
   "source": [
    "### Read\n",
    "Then we'll use those fields to get most recent fire perimeters and fire lines."
   ]
  },
  {
   "cell_type": "code",
   "execution_count": null,
   "id": "c536956a",
   "metadata": {},
   "outputs": [],
   "source": [
    "perm_results = w.collection_items(\n",
    "    \"public.eis_fire_perimeter\",\n",
    "    datetime=most_recent_time,\n",
    "    limit=1000,\n",
    ")\n",
    "perimeters = gpd.GeoDataFrame.from_features(perm_results[\"features\"])\n",
    "\n",
    "## Get the most recent fire lines\n",
    "perimeter_ids = perimeters.fireid.unique()\n",
    "perimeter_ids = \",\".join(map(str, perimeter_ids))\n",
    "\n",
    "fline_results = w.collection_items(\n",
    "    \"public.eis_fire_fireline\",\n",
    "    limit=1000,\n",
    "    filter=\"fireid IN (\"\n",
    "    + perimeter_ids\n",
    "    + \")\",  # only the fires from the fire perimeter query above\n",
    ")\n",
    "fline = gpd.GeoDataFrame.from_features(fline_results[\"features\"])"
   ]
  },
  {
   "cell_type": "markdown",
   "id": "05152559",
   "metadata": {},
   "source": [
    "### Visualize"
   ]
  },
  {
   "cell_type": "code",
   "execution_count": null,
   "id": "33a612cf",
   "metadata": {},
   "outputs": [],
   "source": [
    "perimeters = perimeters.set_crs(\"epsg:4326\")\n",
    "fline = fline.set_crs(\"epsg:4326\")\n",
    "\n",
    "m = perimeters.explore()\n",
    "m = fline.explore(m=m, color=\"orange\")\n",
    "m"
   ]
  },
  {
   "cell_type": "markdown",
   "id": "070ca82b",
   "metadata": {},
   "source": [
    "## Download Data\n",
    "\n",
    "Downloading pre-filtered data may be useful for working locally, or for working with the data in GIS software. \n",
    "\n",
    "\n",
    "We can download the dataframe we made by writing it out into a shapefile or into a GeoJSON file.  "
   ]
  },
  {
   "cell_type": "markdown",
   "id": "038ee67c",
   "metadata": {},
   "source": [
    "    perimeters.to_file('perimeters.shp') \n",
    "    perimeters.to_file('perimeters.geojson', driver='GeoJSON')"
   ]
  },
  {
   "cell_type": "markdown",
   "id": "fe85bd52",
   "metadata": {},
   "source": [
    "## About the Data\n",
    "\n",
    "\n",
    "The fire data shown is generated by the FEDs algorithm. The FEDs algorithm tracks fire movement and severity by ingesting observations from the VIIRS thermal sensors on the Suomi NPP and NOAA-20 satellites. This algorithm uses raw VIIRS observations to generate a polygon of the fire, locations of the active fire line, and estimates of fire mean Fire Radiative Power (FRP). The VIIRS sensors overpass at ~1:30 AM and PM local time, and provide estimates of fire evolution ~ every 12 hours. The data produced by this algorithm describe where fires are in space and how fires evolve through time. This CONUS-wide implementation of the FEDs algorithm is based on [Chen et al 2020’s](https://www.nature.com/articles/s41597-022-01343-0) algorithm for California.\n",
    "\n",
    "\n",
    "The data produced by this algorithm is considered experimental. \n",
    "\n",
    "\n",
    "## Collection Information\n",
    "\n",
    "**public.eis_fire_perimeter**\n",
    "\n",
    "Perimeter of cumulative fire-area.\n",
    "\n",
    "| Column      | Description | Unit      |\n",
    "| ----------- | ----------- | ----------- |\n",
    "| meanfrp      | Mean fire radiative power. The weighted sum of the fire radiative power detected at each new pixel, divided by the number of pixels.   If no new pixels are detected, meanfrp is set to zero. | MW/(pixel area)  |\n",
    "| t   | Time of most recent VIIRS detection, corrected to noon and midnight. API delivers all perimeters with a VIIRS detection in the last 20 days.    | Datetime. yyyy-mm-ddThh:mm:ss. Local time.  |\n",
    "| fireid   | Fire ID. Unique for each fire. Matches fireid. |Numeric ID |\n",
    "| pixden   |Number of pixels divided by area of perimeter.   | pixels/Km^2|\n",
    "| duration  |Number of days since first observation of fire. Fires with a single observation have a duration of zero. |Days|\n",
    "| flinelen   | Length of active fire line, based on new pixels. If no new pixels are detected, flinelen is set to zero.   |Km |\n",
    "| fperim   | Length of fire perimeter.        | Km   |\n",
    "| farea   | Area within fire perimeter.        |Km^2    |\n",
    "| n_newpixels   | Number of pixels newly detected since last overpass.      |pixels  |\n",
    "| n_pixels   | Number of pixel-detections in history of fire. | pixels   |\n",
    "| isactive   | Have new fire pixels been detected in the last 5 days?     | Boolean |\n",
    "| ogc_fid   |The ID used by the OGC API to sort perimeters.       | Numeric ID   |\n",
    "| geometry  |The shape of the perimeter.    | Geometry    |\n",
    "\n",
    "\n",
    "**public.eis_fire_fireline**\n",
    "\n",
    "Active fire line as estimated by new VIIRS detections.\n",
    "\n",
    "**public.eis_fire_newfirepix**\n",
    "\n",
    "New pixel detections that inform the most recent time-step’s perimeter and fireline calculation.\n",
    "\n",
    "| Column      | Description | Unit      |\n",
    "| ----------- | ----------- | ----------- |\n",
    "| fireid   | ID of fire pixel associated with.      | Numeric ID |\n",
    "| t   | Time of most recent VIIRS detection, corrected to noon and midnight. API delivers all perimeters with a VIIRS detection in the last 20 days.| Datetime. yyyy-mm-ddThh:mm:ss. Local time.|\n",
    "| mergeid  | ID used to connect pixels to perimeters. Matches fireid      | Numeric ID      |\n",
    "| ogc_fid   |The ID used by the OGC API to sort pixels.      | Numeric ID     |\n"
   ]
  }
 ],
 "metadata": {
  "kernelspec": {
   "display_name": "Python (fireatlas_oct4_2)",
   "language": "python",
   "name": "fireatlas_oct4"
  },
  "language_info": {
   "codemirror_mode": {
    "name": "ipython",
    "version": 3
   },
   "file_extension": ".py",
   "mimetype": "text/x-python",
   "name": "python",
   "nbconvert_exporter": "python",
   "pygments_lexer": "ipython3",
   "version": "3.8.16"
  }
 },
 "nbformat": 4,
 "nbformat_minor": 5
}
