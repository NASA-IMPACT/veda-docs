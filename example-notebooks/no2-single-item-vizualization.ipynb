{
"cells": [
{
"cell_type": "markdown",
"id": "785f8d6e",
"metadata": {},
"source": [
"# Select and visualize an item from the Nitrogen Dioxide (NO_2) collection"
]
},
{
"cell_type": "code",
"execution_count": 1,
"id": "1061f724",
"metadata": {},
"outputs": [],
"source": [
"import requests as re\n",
"import folium\n",
"\n",
"STAC_ENDPOINT_URL = \"https://staging-stac.delta-backend.com\"\n",
"RASTER_ENDPOINT_URL = \"https://staging-raster.delta-backend.com\""
]
},
{
"cell_type": "code",
"execution_count": 2,
"id": "59052865",
"metadata": {
"scrolled": true
},
"outputs": [
{
"data": {
"text/plain": [
"{'id': 'no2-monthly',\n",
" 'type': 'Collection',\n",
" 'links': [{'rel': 'items',\n",
"   'type': 'application/geo+json',\n",
"   'href': 'https://staging-stac.delta-backend.com/collections/no2-monthly/items'},\n",
"  {'rel': 'parent',\n",
"   'type': 'application/json',\n",
"   'href': 'https://staging-stac.delta-backend.com/'},\n",
"  {'rel': 'root',\n",
"   'type': 'application/json',\n",
"   'href': 'https://staging-stac.delta-backend.com/'},\n",
"  {'rel': 'self',\n",
"   'type': 'application/json',\n",
"   'href': 'https://staging-stac.delta-backend.com/collections/no2-monthly'}],\n",
" 'title': 'NO₂',\n",
" 'extent': {'spatial': {'bbox': [[-180, -90, 180, 90]]},\n",
"  'temporal': {'interval': [['2016-01-01T00:00:00Z',\n",
"     '2022-01-01T00:00:00Z']]}},\n",
" 'license': 'MIT',\n",
" 'summaries': {'datetime': ['2016-01-01T00:00:00Z', '2022-05-01T00:00:00Z'],\n",
"  'cog_default': {'max': 50064805976866816, 'min': -6618294421291008}},\n",
" 'description': 'Darker colors indicate higher nitrogen dioxide (NO₂) levels and more activity. Lighter colors indicate lower levels of NO₂ and less activity. Missing pixels indicate areas of no data most likely associated with cloud cover or snow.',\n",
" 'item_assets': {'cog_default': {'type': 'image/tiff; application=geotiff; profile=cloud-optimized',\n",
"   'roles': ['data', 'layer'],\n",
"   'title': 'Default COG Layer',\n",
"   'description': 'Cloud optimized default layer to display on map'}},\n",
" 'stac_version': '1.0.0',\n",
" 'stac_extensions': ['https://stac-extensions.github.io/item-assets/v1.0.0/schema.json'],\n",
" 'dashboard:is_periodic': True,\n",
" 'dashboard:time_density': 'month'}"
]
},
"execution_count": 2,
"metadata": {},
"output_type": "execute_result"
}
],
"source": [
"no2_collection_summary = re.get(f\"{STAC_ENDPOINT_URL}/collections/no2-monthly\").json()\n",
"no2_collection_summary"
]
},
{
"cell_type": "code",
"execution_count": 3,
"id": "7bc42fff",
"metadata": {},
"outputs": [
{
"data": {
"text/plain": [
"{'max': 50064805976866816, 'min': -6618294421291008}"
]
},
"execution_count": 3,
"metadata": {},
"output_type": "execute_result"
}
],
"source": [
"rescale_values = no2_collection_summary[\"summaries\"][\"cog_default\"]\n",
"rescale_values"
]
},
{
"cell_type": "code",
"execution_count": 4,
"id": "b5eb7467",
"metadata": {},
"outputs": [
{
"data": {
"text/plain": [
"{'id': 'OMI_trno2_monthly_0.10x0.10_202101_Col3_V4.nc',\n",
" 'bbox': [-180.0, -90.0, 180.0, 90.0],\n",
" 'type': 'Feature',\n",
" 'links': [{'rel': 'collection',\n",
"   'type': 'application/json',\n",
"   'href': 'https://staging-stac.delta-backend.com/collections/no2-monthly'},\n",
"  {'rel': 'parent',\n",
"   'type': 'application/json',\n",
"   'href': 'https://staging-stac.delta-backend.com/collections/no2-monthly'},\n",
"  {'rel': 'root',\n",
"   'type': 'application/json',\n",
"   'href': 'https://staging-stac.delta-backend.com/'},\n",
"  {'rel': 'self',\n",
"   'type': 'application/geo+json',\n",
"   'href': 'https://staging-stac.delta-backend.com/collections/no2-monthly/items/OMI_trno2_monthly_0.10x0.10_202101_Col3_V4.nc'}],\n",
" 'assets': {'cog_default': {'href': 's3://veda-data-store-staging/no2-monthly/OMI_trno2_monthly_0.10x0.10_202101_Col3_V4.nc.tif',\n",
"   'type': 'image/tiff; application=geotiff; profile=cloud-optimized',\n",
"   'roles': ['data', 'layer'],\n",
"   'raster:bands': [{'scale': 1.0,\n",
"     'nodata': -1.2676506002282294e+30,\n",
"     'offset': 0.0,\n",
"     'sampling': 'area',\n",
"     'data_type': 'float32',\n",
"     'histogram': {'max': 35781585143857150,\n",
"      'min': -4107596126486528.0,\n",
"      'count': 11,\n",
"      'buckets': [7437, 432387, 2866, 699, 356, 207, 76, 27, 7, 1]},\n",
"     'statistics': {'mean': 367152773066762.6,\n",
"      'stddev': 961254458662885.4,\n",
"      'maximum': 35781585143857150,\n",
"      'minimum': -4107596126486528.0,\n",
"      'valid_percent': 84.69829559326172}}]}},\n",
" 'geometry': {'type': 'Polygon',\n",
"  'coordinates': [[[-180.0, -90.0],\n",
"    [180.0, -90.0],\n",
"    [180.0, 90.0],\n",
"    [-180.0, 90.0],\n",
"    [-180.0, -90.0]]]},\n",
" 'collection': 'no2-monthly',\n",
" 'properties': {'datetime': None,\n",
"  'proj:bbox': [-180.0, -90.0, 180.0, 90.0],\n",
"  'proj:epsg': 4326,\n",
"  'proj:shape': [1800, 3600],\n",
"  'end_datetime': '2021-01-31T00:00:00Z',\n",
"  'proj:geometry': {'type': 'Polygon',\n",
"   'coordinates': [[[-180.0, -90.0],\n",
"     [180.0, -90.0],\n",
"     [180.0, 90.0],\n",
"     [-180.0, 90.0],\n",
"     [-180.0, -90.0]]]},\n",
"  'proj:transform': [0.1, 0.0, -180.0, 0.0, -0.1, 90.0, 0.0, 0.0, 1.0],\n",
"  'start_datetime': '2021-01-01T00:00:00Z'},\n",
" 'stac_version': '1.0.0',\n",
" 'stac_extensions': ['https://stac-extensions.github.io/projection/v1.0.0/schema.json',\n",
"  'https://stac-extensions.github.io/raster/v1.1.0/schema.json']}"
]
},
"execution_count": 4,
"metadata": {},
"output_type": "execute_result"
}
],
"source": [
"response = re.post(\n",
"    f\"{STAC_ENDPOINT_URL}/search\", \n",
"    json={\n",
"        \"collections\": [\"no2-monthly\"], \n",
"        \"query\": {\"datetime\": {\"eq\":\"2021-01-01T00:00:00\"}},\n",
"        \"limit\": 100\n",
"    }\n",
").json()\n",
"item = response[\"features\"][0]\n",
"item"
]
},
{
"cell_type": "code",
"execution_count": 5,
"id": "71acb916",
"metadata": {},
"outputs": [
{
"data": {
"text/plain": [
"{'tilejson': '2.2.0',\n",
" 'version': '1.0.0',\n",
" 'scheme': 'xyz',\n",
" 'tiles': ['https://staging-raster.delta-backend.com/stac/tiles/WebMercatorQuad/{z}/{x}/{y}@1x?collection=no2-monthly&item=OMI_trno2_monthly_0.10x0.10_202101_Col3_V4.nc&assets=cog_default&color_formula=gamma+r+1.05&colormap_name=rdbu_r&rescale=0%2C15000000000000000'],\n",
" 'minzoom': 0,\n",
" 'maxzoom': 24,\n",
" 'bounds': [-180.0, -90.0, 180.0, 90.0],\n",
" 'center': [0.0, 0.0, 0]}"
]
},
"execution_count": 5,
"metadata": {},
"output_type": "execute_result"
}
],
"source": [
"tiles = re.get(\n",
"    f\"{RASTER_ENDPOINT_URL}/stac/tilejson.json?collection={item['collection']}&item={item['id']}&assets=cog_default&color_formula=gamma+r+1.05&colormap_name=rdbu_r&rescale=0%2C15000000000000000\", \n",
").json()\n",
"tiles"
]
},
{
"cell_type": "code",
"execution_count": 6,
"id": "b4792eed",
"metadata": {},
"outputs": [
{
"data": {
"text/html": [
"<div style=\"width:100%;\"><div style=\"position:relative;width:100%;height:0;padding-bottom:60%;\"><span style=\"color:#565656\">Make this Notebook Trusted to load map: File -> Trust Notebook</span><iframe srcdoc=\"&lt;!DOCTYPE html&gt;\n",
"&lt;head&gt;    \n",
"    &lt;meta http-equiv=&quot;content-type&quot; content=&quot;text/html; charset=UTF-8&quot; /&gt;\n",
"    \n",
"        &lt;script&gt;\n",
"            L_NO_TOUCH = false;\n",
"            L_DISABLE_3D = false;\n",
"        &lt;/script&gt;\n",
"    \n",
"    &lt;style&gt;html, body {width: 100%;height: 100%;margin: 0;padding: 0;}&lt;/style&gt;\n",
"    &lt;style&gt;#map {position:absolute;top:0;bottom:0;right:0;left:0;}&lt;/style&gt;\n",
"    &lt;script src=&quot;https://cdn.jsdelivr.net/npm/leaflet@1.6.0/dist/leaflet.js&quot;&gt;&lt;/script&gt;\n",
"    &lt;script src=&quot;https://code.jquery.com/jquery-1.12.4.min.js&quot;&gt;&lt;/script&gt;\n",
"    &lt;script src=&quot;https://maxcdn.bootstrapcdn.com/bootstrap/3.2.0/js/bootstrap.min.js&quot;&gt;&lt;/script&gt;\n",
"    &lt;script src=&quot;https://cdnjs.cloudflare.com/ajax/libs/Leaflet.awesome-markers/2.0.2/leaflet.awesome-markers.js&quot;&gt;&lt;/script&gt;\n",
"    &lt;link rel=&quot;stylesheet&quot; href=&quot;https://cdn.jsdelivr.net/npm/leaflet@1.6.0/dist/leaflet.css&quot;/&gt;\n",
"    &lt;link rel=&quot;stylesheet&quot; href=&quot;https://maxcdn.bootstrapcdn.com/bootstrap/3.2.0/css/bootstrap.min.css&quot;/&gt;\n",
"    &lt;link rel=&quot;stylesheet&quot; href=&quot;https://maxcdn.bootstrapcdn.com/bootstrap/3.2.0/css/bootstrap-theme.min.css&quot;/&gt;\n",
"    &lt;link rel=&quot;stylesheet&quot; href=&quot;https://maxcdn.bootstrapcdn.com/font-awesome/4.6.3/css/font-awesome.min.css&quot;/&gt;\n",
"    &lt;link rel=&quot;stylesheet&quot; href=&quot;https://cdnjs.cloudflare.com/ajax/libs/Leaflet.awesome-markers/2.0.2/leaflet.awesome-markers.css&quot;/&gt;\n",
"    &lt;link rel=&quot;stylesheet&quot; href=&quot;https://cdn.jsdelivr.net/gh/python-visualization/folium/folium/templates/leaflet.awesome.rotate.min.css&quot;/&gt;\n",
"    \n",
"            &lt;meta name=&quot;viewport&quot; content=&quot;width=device-width,\n",
"                initial-scale=1.0, maximum-scale=1.0, user-scalable=no&quot; /&gt;\n",
"            &lt;style&gt;\n",
"                #map_830757fb819170b15033d697ac9824e9 {\n",
"                    position: relative;\n",
"                    width: 100.0%;\n",
"                    height: 100.0%;\n",
"                    left: 0.0%;\n",
"                    top: 0.0%;\n",
"                }\n",
"            &lt;/style&gt;\n",
"        \n",
"&lt;/head&gt;\n",
"&lt;body&gt;    \n",
"    \n",
"            &lt;div class=&quot;folium-map&quot; id=&quot;map_830757fb819170b15033d697ac9824e9&quot; &gt;&lt;/div&gt;\n",
"        \n",
"&lt;/body&gt;\n",
"&lt;script&gt;    \n",
"    \n",
"            var map_830757fb819170b15033d697ac9824e9 = L.map(\n",
"                &quot;map_830757fb819170b15033d697ac9824e9&quot;,\n",
"                {\n",
"                    center: [0, 0],\n",
"                    crs: L.CRS.EPSG3857,\n",
"                    zoom: 1,\n",
"                    zoomControl: true,\n",
"                    preferCanvas: false,\n",
"                    scrollWheelZoom: true,\n",
"                    minzoom: 18,\n",
"                    maxzoom: 0,\n",
"                }\n",
"            );\n",
"\n",
"            \n",
"\n",
"        \n",
"    \n",
"            var tile_layer_86b19ec14fd1e4ccfb7001084d9697a4 = L.tileLayer(\n",
"                &quot;https://staging-raster.delta-backend.com/stac/tiles/WebMercatorQuad/{z}/{x}/{y}@1x?collection=no2-monthly\\u0026item=OMI_trno2_monthly_0.10x0.10_202101_Col3_V4.nc\\u0026assets=cog_default\\u0026color_formula=gamma+r+1.05\\u0026colormap_name=rdbu_r\\u0026rescale=0%2C15000000000000000&quot;,\n",
"                {&quot;attribution&quot;: &quot;VEDA&quot;, &quot;detectRetina&quot;: false, &quot;maxNativeZoom&quot;: 18, &quot;maxZoom&quot;: 18, &quot;minZoom&quot;: 0, &quot;noWrap&quot;: false, &quot;opacity&quot;: 1, &quot;subdomains&quot;: &quot;abc&quot;, &quot;tms&quot;: false}\n",
"            ).addTo(map_830757fb819170b15033d697ac9824e9);\n",
"        \n",
"&lt;/script&gt;\" style=\"position:absolute;width:100%;height:100%;left:0;top:0;border:none !important;\" allowfullscreen webkitallowfullscreen mozallowfullscreen></iframe></div></div>"
],
"text/plain": [
"<folium.folium.Map at 0x1146af850>"
]
},
"execution_count": 6,
"metadata": {},
"output_type": "execute_result"
}
],
"source": [
"m = folium.Map(\n",
"    zoom_start=2,\n",
"    scroll_wheel_zoom=True, \n",
"    tiles=tiles[\"tiles\"][0], \n",
"    attr=\"VEDA\", \n",
"    minzoom=18, \n",
"    maxzoom=0, \n",
"    \n",
")\n",
"\n",
"m"
]
}
],
"metadata": {
"kernelspec": {
"display_name": "VEDA Documentation",
"language": "python",
"name": "env-veda-documentation"
},
"language_info": {
"codemirror_mode": {
"name": "ipython",
"version": 3
},
"file_extension": ".py",
"mimetype": "text/x-python",
"name": "python",
"nbconvert_exporter": "python",
"pygments_lexer": "ipython3",
"version": "3.8.3"
}
},
"nbformat": 4,
"nbformat_minor": 5
}
