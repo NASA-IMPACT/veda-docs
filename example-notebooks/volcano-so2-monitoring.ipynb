{
 "cells": [
  {
   "cell_type": "raw",
   "metadata": {},
   "source": [
    "---\n",
    "title: Monitoring Volcanic Sulfur Dioxide Emissions\n",
    "description: NASA monitors volcanic emissions and its impact on global air quality\n",
    "author: Kathryn Berger\n",
    "date: April 4, 2023\n",
    "execute:\n",
    "   freeze: true\n",
    "---"
   ]
  },
  {
   "cell_type": "code",
   "execution_count": null,
   "metadata": {},
   "outputs": [],
   "source": [
    "## Run this notebook\n",
    "\n",
    "You can launch this notebook in VEDA JupyterHub by clicking the link below.\n",
    "\n",
    "[Launch in VEDA JupyterHub (requires access)](https://nasa-veda.2i2c.cloud/hub/user-redirect/git-pull?repo=https://github.com/NASA-IMPACT/veda-docs&urlpath=lab/tree/veda-docs/example-notebooks/volcano-so2-monitoring.ipynb&branch=main) \n",
    "\n",
    "<details><summary>Learn more</summary>\n",
    "    \n",
    "### Inside the Hub\n",
    "\n",
    "This notebook was written on the VEDA JupyterHub and as such is designed to be run on a jupyterhub which is associated with an AWS IAM role which has been granted permissions to the VEDA data store via its bucket policy. The instance used provided 16GB of RAM. \n",
    "\n",
    "See (VEDA Analytics JupyterHub Access)[https://nasa-impact.github.io/veda-docs/veda-jh-access.html] for information about how to gain access.\n",
    "\n",
    "### Outside the Hub\n",
    "\n",
    "The data is in a protected bucket. Please request access by emailng aimee@developmentseed.org or alexandra@developmentseed.org and providing your affiliation, interest in or expected use of the dataset and an AWS IAM role or user Amazon Resource Name (ARN). The team will help you configure the cognito client.\n",
    "\n",
    "You should then run:\n",
    "\n",
    "```\n",
    "%run -i 'cognito_login.py'\n",
    "```\n",
    "    \n",
    "</details>"
   ]
  }
 ],
 "metadata": {
  "language_info": {
   "name": "python"
  },
  "orig_nbformat": 4
 },
 "nbformat": 4,
 "nbformat_minor": 2
}
