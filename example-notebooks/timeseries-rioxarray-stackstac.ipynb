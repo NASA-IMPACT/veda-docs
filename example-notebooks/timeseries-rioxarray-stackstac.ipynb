{
 "cells": [
  {
   "cell_type": "raw",
   "id": "f43a8dbd-1a62-49c1-b682-f9353b822675",
   "metadata": {},
   "source": [
    "---\n",
    "title: Calculate timeseries from COGs\n",
    "description: Demonstrates how to aggregate COGs using `pystac_client`, `rioxarray`, and `stackstac`\n",
    "author: Aimee Barciauskas, Julia Signell\n",
    "date: February 1, 2023\n",
    "execute:\n",
    "  freeze: true\n",
    "  cache: true\n",
    "---"
   ]
  },
  {
   "cell_type": "markdown",
   "id": "81b36cd7-5e66-41bd-bc79-cf75e580293b",
   "metadata": {},
   "source": [
    "## Run this notebook\n",
    "\n",
    "You can launch this notebook in SMCE DaskHub by clicking the link below.\n",
    "\n",
    "[Launch in SMCE DaskHub (requires access)](https://daskhub.veda.smce.nasa.gov/hub/user-redirect/git-pull?repo=https%3A%2F%2Fgithub.com%2FNASA-IMPACT%2Fveda-docs&urlpath=lab%2Ftree%2Fveda-docs%2Fexample-notebooks%2Ftimeseries-rioxarray-stackstac.ipynb&branch=main) \n",
    "\n",
    "\n",
    "<details><summary>Learn more</summary>\n",
    "    \n",
    "### Inside the Hub\n",
    "\n",
    "This notebook was written on the VEDA SMCE DaskHub and as such is designed to be run on a jupyterhub which is associated with an AWS IAM role which has been granted permissions to the VEDA data store via its bucket policy. The instance used provided 16GB of RAM. \n",
    "\n",
    "Please request access by emailng aimee@developmentseed.org providing your affiliation, interest in or expected use of the dataset, and an AWS IAM role or user Amazon Resource Name (ARN).\n",
    "\n",
    "### Outside the Hub\n",
    "\n",
    "The data is in a protected bucket. Please request access by emailng aimee@developmentseed.org or alexandra@developmentseed.org and providing your affiliation, interest in or expected use of the dataset and an AWS IAM role or user Amazon Resource Name (ARN). The team will help you configure the cognito client.\n",
    "\n",
    "You should then run:\n",
    "\n",
    "```\n",
    "%run -i 'cognito_login.py'\n",
    "```\n",
    "    \n",
    "</details>"
   ]
  },
  {
   "cell_type": "markdown",
   "id": "0af28e0e-aed3-4d11-9ebb-dc64e2cc69f0",
   "metadata": {},
   "source": [
    "## Approach\n",
    "\n",
    "   1. Use `pystac_client` to open the STAC catalog and retrieve the items in the collection\n",
    "   2. Use `stackstac` to create an `xarray` dataset containing all the items cropped to AOI\n",
    "   3. Calculate the mean for each timestep over the AOI"
   ]
  },
  {
   "cell_type": "code",
   "execution_count": null,
   "id": "aadabf9e",
   "metadata": {},
   "outputs": [],
   "source": [
    "from pystac_client import Client\n",
    "import stackstac\n",
    "import rioxarray  # noqa"
   ]
  },
  {
   "cell_type": "markdown",
   "id": "17891bda-af2b-443d-80db-71cfb3d47823",
   "metadata": {
    "tags": []
   },
   "source": [
    "## Declare your collection of interest\n",
    "\n",
    "You can discover available collections the following ways:\n",
    "\n",
    "* Programmatically: see example in the `list-collections.ipynb` notebook\n",
    "* JSON API: https://staging-stac.delta-backend.com/collections\n",
    "* STAC Browser: http://veda-staging-stac-browser.s3-website-us-west-2.amazonaws.com"
   ]
  },
  {
   "cell_type": "code",
   "execution_count": null,
   "id": "b0b2f0c2-b734-493d-ab3e-47ec65de0da5",
   "metadata": {},
   "outputs": [],
   "source": [
    "STAC_API_URL = \"https://staging-stac.delta-backend.com/\"\n",
    "collection = \"no2-monthly\""
   ]
  },
  {
   "cell_type": "markdown",
   "id": "fc316ef9",
   "metadata": {},
   "source": [
    "## Discover items in collection for region and time of interest\n",
    "\n",
    "Use `pystac_client` to search the STAC collection for a particular area of interest within specified datetime bounds."
   ]
  },
  {
   "cell_type": "code",
   "execution_count": null,
   "id": "cbc79250-9ebe-4ab2-b200-07e2d5262113",
   "metadata": {},
   "outputs": [],
   "source": [
    "china_bbox = [\n",
    "    73.675,\n",
    "    18.198,\n",
    "    135.026,\n",
    "    53.459,\n",
    "]\n",
    "datetime = \"2000-01-01/2022-01-02\""
   ]
  },
  {
   "cell_type": "code",
   "execution_count": null,
   "id": "8efe9b34",
   "metadata": {},
   "outputs": [],
   "source": [
    "catalog = Client.open(STAC_API_URL)\n",
    "\n",
    "search = catalog.search(\n",
    "    bbox=china_bbox,\n",
    "    datetime=datetime,\n",
    "    collections=[collection],\n",
    "    limit=1000\n",
    ")\n",
    "items = list(search.items())\n",
    "print(f\"Found {len(items)} items\")"
   ]
  },
  {
   "cell_type": "markdown",
   "id": "beacc93f",
   "metadata": {},
   "source": [
    "## Read data\n",
    "\n",
    "Create an `xarray.DataSet` using `stackstac`"
   ]
  },
  {
   "cell_type": "code",
   "execution_count": null,
   "id": "a8ec1e87-5a4d-4ac8-9130-bf16ddb22296",
   "metadata": {},
   "outputs": [],
   "source": [
    "# This is a workaround that is planning to move up into stackstac itself\n",
    "import rasterio as rio\n",
    "import boto3\n",
    "\n",
    "session = rio.session.AWSSession(boto3.Session())\n",
    "gdal_env = stackstac.DEFAULT_GDAL_ENV.updated(always=dict(session=rio.session.AWSSession(boto3.Session())))"
   ]
  },
  {
   "cell_type": "code",
   "execution_count": null,
   "id": "cfcde367-f977-4bb4-b2ce-14f3271af7f1",
   "metadata": {},
   "outputs": [],
   "source": [
    "da = stackstac.stack(search.get_all_items(), gdal_env=gdal_env)\n",
    "da = da.assign_coords({\"time\": da.start_datetime})\n",
    "da"
   ]
  },
  {
   "cell_type": "markdown",
   "id": "a0a59a7f-b3bc-4783-8da5-c455acaf02a6",
   "metadata": {},
   "source": [
    "## Clip the data to the bounding box for China"
   ]
  },
  {
   "cell_type": "code",
   "execution_count": null,
   "id": "92bed8e4-dcf0-4226-8d1c-7ca66460ac52",
   "metadata": {},
   "outputs": [],
   "source": [
    "# Subset to Bounding Box for China\n",
    "subset = da.rio.clip_box(*china_bbox)\n",
    "subset"
   ]
  },
  {
   "cell_type": "markdown",
   "id": "01c72503",
   "metadata": {},
   "source": [
    "## Select a band of data\n",
    "\n",
    "There is just one band in this case, `cog_default`."
   ]
  },
  {
   "cell_type": "code",
   "execution_count": null,
   "id": "be794df9",
   "metadata": {},
   "outputs": [],
   "source": [
    "# select the band default\n",
    "data_band = da.sel(band='cog_default')"
   ]
  },
  {
   "cell_type": "markdown",
   "id": "2292a792-5859-4fc1-83b8-06d48d94197b",
   "metadata": {},
   "source": [
    "## Aggregate the data\n",
    "\n",
    "Calculate the mean at each time across the whole dataset. Note this is the first time that the data is actually loaded."
   ]
  },
  {
   "cell_type": "code",
   "execution_count": null,
   "id": "ab7632e9-ea71-482d-b8f6-7c987f20fdfa",
   "metadata": {},
   "outputs": [],
   "source": [
    "# Average over entire spatial bounding box for each month\n",
    "means = data_band.mean(dim=('x', 'y')).compute()"
   ]
  },
  {
   "cell_type": "code",
   "execution_count": null,
   "id": "b39bf4ae-1f5d-4e07-ba5c-2837cdb13999",
   "metadata": {},
   "outputs": [],
   "source": [
    "means.plot()"
   ]
  }
 ],
 "metadata": {
  "kernelspec": {
   "display_name": "Python [conda env:notebook] *",
   "language": "python",
   "name": "conda-env-notebook-py"
  },
  "language_info": {
   "codemirror_mode": {
    "name": "ipython",
    "version": 3
   },
   "file_extension": ".py",
   "mimetype": "text/x-python",
   "name": "python",
   "nbconvert_exporter": "python",
   "pygments_lexer": "ipython3",
   "version": "3.9.13"
  }
 },
 "nbformat": 4,
 "nbformat_minor": 5
}
