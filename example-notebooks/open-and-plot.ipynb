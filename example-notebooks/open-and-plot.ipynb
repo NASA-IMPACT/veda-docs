{
 "cells": [
  {
   "cell_type": "raw",
   "id": "c5e2a1d7-2c55-41a5-9778-62f7986d7992",
   "metadata": {},
   "source": [
    "---\n",
    "title: Open and plot COGs\n",
    "description: Demonstrates opening and ploting COGs using `pystac_client`, `xarray`, and `hvplot`\n",
    "author: Aimee Barciauskas, Julia Signell\n",
    "date: February 1, 2023\n",
    "execute:\n",
    "  freeze: true\n",
    "  cache: true\n",
    "---"
   ]
  },
  {
   "cell_type": "markdown",
   "id": "6a8651b5-26dc-4253-9d5c-3ee91b396a7e",
   "metadata": {
    "tags": []
   },
   "source": [
    "## Run this notebook\n",
    "\n",
    "You can launch this notebook in SMCE DaskHub by clicking the link below.\n",
    "\n",
    "[Launch in SMCE DaskHub (requires access)](https://daskhub.veda.smce.nasa.gov/hub/user-redirect/git-pull?repo=https%3A%2F%2Fgithub.com%2FNASA-IMPACT%2Fveda-docs&urlpath=lab%2Ftree%2Fveda-docs%2Fexample-notebooks%2Fopen-and-plot.ipynb&branch=main) \n",
    "\n",
    "<details><summary>Learn more</summary>\n",
    "    \n",
    "### Inside the Hub\n",
    "\n",
    "This notebook was written on the VEDA SMCE DaskHub and as such is designed to be run on a jupyterhub which is associated with an AWS IAM role which has been granted permissions to the VEDA data store via its bucket policy. The instance used provided 16GB of RAM. \n",
    "\n",
    "Please request access by emailng aimee@developmentseed.org providing your affiliation, interest in or expected use of the dataset, and an AWS IAM role or user Amazon Resource Name (ARN).\n",
    "\n",
    "### Outside the Hub\n",
    "\n",
    "The data is in a protected bucket. Please request access by emailng aimee@developmentseed.org or alexandra@developmentseed.org and providing your affiliation, interest in or expected use of the dataset and an AWS IAM role or user Amazon Resource Name (ARN). The team will help you configure the cognito client.\n",
    "\n",
    "You should then run:\n",
    "\n",
    "```\n",
    "%run -i 'cognito_login.py'\n",
    "```\n",
    "    \n",
    "</details>"
   ]
  },
  {
   "cell_type": "markdown",
   "id": "0057c401-144d-4c36-9c8d-eae594e40256",
   "metadata": {},
   "source": [
    "## Approach\n",
    "\n",
    "   1. Use `pystac_client` to open the STAC catalog and retrieve the items in the collection\n",
    "   2. Open the first item in the collection with `xarray`\n",
    "   3. Plot the data using `hvplot`"
   ]
  },
  {
   "cell_type": "markdown",
   "id": "ad75b0c1-d64f-42ae-87b1-dc36226ba1f1",
   "metadata": {
    "tags": []
   },
   "source": [
    "## About the data\n",
    "    \n",
    "CDC's Social Vulnerability Index (SVI) uses 15 variables at the census tract level. The data comes from the U.S. decennial census for the years 2000 & 2010, and the American Community Survey (ACS) for the years 2014, 2016, and 2018. It is a hierarchical additive index (Tate, 2013), with the component elements of CDC’s SVI including the following for 4 themes: Socioeconomic Status, Household Composition & Disability, Minority Status & Language, and Housing Type & Transportation.\n",
    "\n",
    "SVI indicates the relative vulnerability of every U.S. Census tract–subdivisions of counties for which the Census collects statistical data. SVI ranks the tracts on 15 social factors, including unemployment, minority status, and disability, and further groups them into four related themes. Thus, each tract receives a ranking for each Census variable and for each of the four themes, as well as an overall ranking.\n",
    "\n",
    "### Scientific research\n",
    "\n",
    "The SVI Overall Score provides the overall, summed social vulnerability score for a given tract. The Overall Score SVI Grid is part of the U.S. Census Grids collection, and displays the Center for Disease Control & Prevention (CDC) SVI score. Funding for the final development, processing and dissemination of this data set by the Socioeconomic Data and Applications Center (SEDAC) was provided under the U.S. National Aeronautics and Space Administration (NASA)¹.\n",
    "\n",
    "The Overall SVI Score describes the vulnerability in a given county tract based on the combined percentile ranking of the four SVI scores (Socioeconomic Status, Household Composition & Disability, Minority Status & Language, and Housing Type & Transportation). The summed percentile ranking from the four themes is ordered, and then used to calculate an overall percentile ranking, ranging from 0 (less vulnerable) to 1 (more vulnerable)². Tracts with higher Overall SVI Scores typically rank high in other SVI domains, and reveal communities that may require extra support, resources, and preventative care in order to better prepare for and manage emergency situations.\n",
    "\n",
    "### Interpreting the data\n",
    "\n",
    "The Overall SVI Score describes the vulnerability in a given county tract based on the combined percentile ranking of the four SVI scores (Socioeconomic Status, Household Composition & Disability, Minority Status & Language, and Housing Type & Transportation). The summed percentile ranking from the four themes is ordered, and then used to calculate an overall percentile ranking, ranging from 0 (less vulnerable) to 1 (more vulnerable)². Tracts with higher Overall SVI Scores typically rank high in other SVI domains, and reveal communities that may require extra support, resources, and preventative care in order to better prepare for and manage emergency situations.\n",
    "\n",
    "### Credits\n",
    "\n",
    "* Center for International Earth Science Information Network, (CIESIN), Columbia University. 2021. Documentation for the U.S. Social Vulnerability Index Grids. Palisades, NY: NASA Socioeconomic Data and Applications Center (SEDAC). https://doi.org/10.7927/fjr9-a973. Accessed 13 May 2022.\n",
    "* Centers for Disease Control and Prevention/ Agency for Toxic Substances and Disease Registry/ Geospatial Research, Analysis, and Services Program. CDC/ATSDR Social Vulnerability Index Database. https://www.atsdr.cdc.gov/placeandhealth/svi/documentation/pdf/SVI2018Documentation_01192022_1.pdf\n"
   ]
  },
  {
   "cell_type": "code",
   "execution_count": null,
   "id": "afad683d-9a44-46af-8b8b-4b2d8fb52681",
   "metadata": {},
   "outputs": [],
   "source": [
    "from pystac_client import Client\n",
    "import xarray as xr\n",
    "\n",
    "import hvplot.xarray  # noqa"
   ]
  },
  {
   "cell_type": "markdown",
   "id": "352f3013-534d-4714-8144-130a2facd0b8",
   "metadata": {
    "tags": []
   },
   "source": [
    "## Declare your collection of interest\n",
    "\n",
    "You can discover available collections the following ways:\n",
    "\n",
    "* Programmatically: see example in the `list-collections.ipynb` notebook\n",
    "* JSON API: https://staging-stac.delta-backend.com/collections\n",
    "* STAC Browser: http://veda-staging-stac-browser.s3-website-us-west-2.amazonaws.com"
   ]
  },
  {
   "cell_type": "code",
   "execution_count": null,
   "id": "402be5dc-a5c6-4a38-9a2d-cf46745632b5",
   "metadata": {},
   "outputs": [],
   "source": [
    "STAC_API_URL = \"https://staging-stac.delta-backend.com/\"\n",
    "collection = \"social-vulnerability-index-overall-nopop\""
   ]
  },
  {
   "cell_type": "markdown",
   "id": "07d9e668-c8f6-4664-95e0-0b76b7aa085e",
   "metadata": {},
   "source": [
    "## Find items in collection\n",
    "\n",
    "Use `pystac_client` to search the STAC collection."
   ]
  },
  {
   "cell_type": "code",
   "execution_count": null,
   "id": "b4d7ca0c-e66a-42be-a0b7-d289d5849fad",
   "metadata": {},
   "outputs": [],
   "source": [
    "search = Client.open(STAC_API_URL).search(collections=[collection])\n",
    "items = list(search.items())"
   ]
  },
  {
   "cell_type": "markdown",
   "id": "d357dafa-fe8e-40e6-b163-dadb32cf37ed",
   "metadata": {},
   "source": [
    "There are 5 items representing the 5 years of data in the collection (2000, 2010, 2014, 2016, and 2018)."
   ]
  },
  {
   "cell_type": "markdown",
   "id": "28bef102-8d16-4ceb-83c5-49c7adeafd4c",
   "metadata": {},
   "source": [
    "## Read data\n",
    "\n",
    "Read in data using `xarray` with the `rasterio` engine"
   ]
  },
  {
   "cell_type": "code",
   "execution_count": null,
   "id": "bfd485a8-e7ef-4d21-9b79-beebfe31e5a0",
   "metadata": {},
   "outputs": [],
   "source": [
    "s3_link = items[0].assets['cog_default'].href\n",
    "da = xr.open_dataset(s3_link, engine=\"rasterio\")\n",
    "da = da.squeeze(\"band\", drop=True)\n",
    "da"
   ]
  },
  {
   "cell_type": "markdown",
   "id": "40df7c15-cb57-4845-a4ec-3eb8c8eac9a5",
   "metadata": {},
   "source": [
    "## Plot data\n",
    "\n",
    "Plot data using `hvplot`. By using `rasterize=True` we tell `hvplot` to use `datashader` behind the scenes to make the plot render more quickly and re-render on zoom."
   ]
  },
  {
   "cell_type": "code",
   "execution_count": null,
   "id": "3eec33fb-8816-48e7-baf7-fe0ec2224bcf",
   "metadata": {},
   "outputs": [],
   "source": [
    "%%time\n",
    "da.hvplot(x=\"x\", y=\"y\", rasterize=True, clim=(0, 1), coastline=True, cmap=\"viridis\")"
   ]
  }
 ],
 "metadata": {
  "kernelspec": {
   "display_name": "Python [conda env:notebook] *",
   "language": "python",
   "name": "conda-env-notebook-py"
  },
  "language_info": {
   "codemirror_mode": {
    "name": "ipython",
    "version": 3
   },
   "file_extension": ".py",
   "mimetype": "text/x-python",
   "name": "python",
   "nbconvert_exporter": "python",
   "pygments_lexer": "ipython3",
   "version": "3.9.13"
  }
 },
 "nbformat": 4,
 "nbformat_minor": 5
}
