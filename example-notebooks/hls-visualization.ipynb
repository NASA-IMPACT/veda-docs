{
 "cells": [
  {
   "cell_type": "raw",
   "metadata": {
    "tags": [
     "hide-input"
    ]
   },
   "source": [
    "---\n",
    "title: Get tiles from COGs\n",
    "description: Demonstrates exploring HLS data at a specific time and place using the Raster API.\n",
    "author: Alexandra Kirk\n",
    "date: June 30, 2022\n",
    "execute:\n",
    "  freeze: true\n",
    "---"
   ]
  },
  {
   "cell_type": "markdown",
   "metadata": {},
   "source": [
    "## Run this notebook\n",
    "\n",
    "You can launch this notbook using mybinder, by clicking the button below.\n",
    "\n",
    "<a href=\"https://mybinder.org/v2/gh/NASA-IMPACT/veda-docs/HEAD?labpath=example-notebooks%2Fhls-visualization.ipynb\">\n",
    "<img src=\"https://mybinder.org/badge_logo.svg\" alt=\"Binder\" title=\"A cute binder\" width=\"150\"/> \n",
    "</a>"
   ]
  },
  {
   "cell_type": "markdown",
   "metadata": {
    "tags": [
     "hide-input"
    ]
   },
   "source": [
    "## Approach\n",
    "\n",
    "   1. Identify available dates within a bounding box, which is also an area of interest (AOI) in this example, for a given collection\n",
    "   2. Register a dynamic tiler search for an AOI and specific date range for a given collection\n",
    "   3. Explore different options for displaying multi-band Harmonized Landsat and Sentinel (HLS) assets with the Raster API."
   ]
  },
  {
   "cell_type": "markdown",
   "metadata": {
    "tags": [
     "hide-input"
    ]
   },
   "source": [
    "## About the Data\n",
    "\n",
    "A small subset of HLS data has been ingested to the VEDA datastore to visually explore data using the Raster API, which is a VEDA instance of ([pgstac-titiler](https://github.com/stac-utils/titiler-pgstac)). This limited subset includes a two granules for dates before and after Hurricane Maria in 2017 and Hurricane Ida in 2021.\n",
    "\n",
    "Note about HLS datasets: The Sentinel and Landsat assets have been \"harmonized\" in the sense that these products have been generated to use the same spatial resolution and grid system. Thus these 2 HLS S30 and L30 productscan be used interchangeably in algorithms. However, the individual band assets are specific to each provider. This notebook focuses on displaying HLS data with a dynamic tiler so separate examples are provided for rendering the unique band assets of each collection.\n",
    "\n",
    "**Additional Resources**\n",
    "\n",
    "- [HLSL30 Dataset Landing Page](https://lpdaac.usgs.gov/products/hlsl30v002/)\n",
    "- [Landsat 8 Bands and Combinations Blog](https://www.l3harrisgeospatial.com/Learn/Blogs/Blog-Details/ArtMID/10198/ArticleID/15691/The-Many-Band-Combinations-of-Landsat-8)\n",
    "- [HLSS30 Dataset Landing Page](https://lpdaac.usgs.gov/products/hlss30v002/)\n",
    "- [Sentinel 2 Bands and Combinations Blog](https://gisgeography.com/sentinel-2-bands-combinations/)\n",
    "- [CQL2 STAC-API Examples](https://github.com/radiantearth/stac-api-spec/tree/master/fragments/filter#examples)"
   ]
  },
  {
   "cell_type": "code",
   "execution_count": null,
   "metadata": {},
   "outputs": [],
   "source": [
    "import json\n",
    "import requests\n",
    "\n",
    "from folium import Map, TileLayer"
   ]
  },
  {
   "cell_type": "markdown",
   "metadata": {},
   "source": [
    "## Parameters for investigating hurricane events with the dynamic tiler and custom band combinations\n",
    "\n",
    "In this notebook we will focus on HLS S30 data for Hurricane Ida, but Hurricane Maria and L30 parameters are provided below for further exploration."
   ]
  },
  {
   "cell_type": "code",
   "execution_count": null,
   "metadata": {},
   "outputs": [],
   "source": [
    "# Endpoints\n",
    "STAC_API_URL = \"https://staging-stac.delta-backend.com\"\n",
    "RASTER_API_URL = \"https://staging-raster.delta-backend.com\" \n",
    "\n",
    "# Harmonized Sentinel collection id and configuration info\n",
    "s30_collection_id = \"hls-s30-002-ej-reprocessed\"\n",
    "s30_swir_assets = [\"B12\",\"B8A\",\"B04\"]\n",
    "s30_vegetation_index_assets = [\"B08\", \"B04\"]\n",
    "s30_vegetation_index_expression = \"(B08-B04)/(B08+B04)\"\n",
    "s30_vegetation_index_rescaling = \"0,1\"\n",
    "s30_vegetation_index_colormap = \"rdylgn\"\n",
    "\n",
    "# Harmonized Landsat collection id and map configuration info\n",
    "l30_collection_id = \"hls-l30-002-ej-reprocessed\"\n",
    "l30_swir_assets = [\"B07\",\"B05\",\"B04\"]\n",
    "l30_ndwi_expression = \"(B03-B05)/(B03+B05)\"\n",
    "l30_ndwi_assets = [\"B03\", \"B05\"]\n",
    "l30_ndwi_rescaling = \"0,1\"\n",
    "l30_ndwi_colormap = \"spectral\"\n",
    "\n",
    "# Search criteria for events in both HLS Events collections\n",
    "maria_bbox = [-66.167596, 17.961538, -65.110098, 18.96772]\n",
    "maria_temporal_range = [\"2017-06-06T00:00:00Z\", \"2017-11-30T00:00:00Z\"]\n",
    "\n",
    "ida_bbox = [-90.932637, 29.705366, -89.766437, 30.71627]\n",
    "ida_temporal_range = [\"2021-07-01T00:00:00Z\", \"2021-10-28T00:00:00Z\"]"
   ]
  },
  {
   "cell_type": "markdown",
   "metadata": {},
   "source": [
    "### First, search the STAC API to find the specific dates available within timeframe of interest (Hurricane Ida)\n",
    "\n",
    "To focus on a specific point in time, we will restrict the temporal range when defining the item search in the example below."
   ]
  },
  {
   "cell_type": "code",
   "execution_count": null,
   "metadata": {},
   "outputs": [],
   "source": [
    "collections_filter = {\n",
    "    \"op\": \"=\", \n",
    "    \"args\" : [{ \"property\": \"collection\" }, s30_collection_id]\n",
    "}\n",
    "\n",
    "spatial_filter = {\n",
    "    \"op\": \"s_intersects\",\n",
    "    \"args\": [\n",
    "        {\"property\": \"bbox\"}, ida_bbox\n",
    "    ]\n",
    "}\n",
    "\n",
    "temporal_filter = {\n",
    "    \"op\": \"t_intersects\",\n",
    "    \"args\": [\n",
    "        { \"property\": \"datetime\" },\n",
    "        { \"interval\" : ida_temporal_range }\n",
    "    ]\n",
    "}\n",
    "\n",
    "# Additional filters can be applied for other search criteria like <= maximum eo:cloud_cover in item properties\n",
    "cloud_filter = {\n",
    "    \"op\": \"<=\",\n",
    "    \"args\": [\n",
    "        {\"property\": \"eo:cloud_cover\"},\n",
    "        80\n",
    "    ]\n",
    "}\n",
    "\n",
    "search_body = {\n",
    "    \"filter-lang\": \"cql2-json\",\n",
    "    \"limit\": 100,\n",
    "    \"sortby\": [{\"direction\": \"asc\", \"field\": \"properties.datetime\"}],\n",
    "    \"context\": \"on\",  # add context for a summary of matched results\n",
    "    \"filter\": {\n",
    "        \"op\": \"and\",\n",
    "        \"args\": [\n",
    "            collections_filter,\n",
    "            spatial_filter,\n",
    "            temporal_filter,\n",
    "            cloud_filter\n",
    "        ]\n",
    "    }\n",
    "}\n",
    "\n",
    "# Note this search body can also be used for a stac item search \n",
    "stac_items_response = requests.post(\n",
    "    f\"{STAC_API_URL}/search\",\n",
    "    json=search_body,\n",
    ").json()\n",
    "\n",
    "# Check how many items were matched in search\n",
    "print(\"search context:\", stac_items_response[\"context\"])\n",
    "\n",
    "# Iterate over search results to get an array of item datetimes\n",
    "[item[\"properties\"][\"datetime\"] for item in stac_items_response[\"features\"]]"
   ]
  },
  {
   "cell_type": "markdown",
   "metadata": {},
   "source": [
    "## Visualizing the data on a map\n",
    "The VEDA backend is based on [eoAPI](https://github.com/developmentseed/eoAPI#earth-observation-api), an application for searching and tiling earth observation STAC records. The application uses titiler-pgstac for dynamically mosaicing cloud optimized data from a registerd STAC API search.\n",
    "\n",
    "To use the dynamic tiler, [register a STAC item search and then use the registered search ID to dynamically mosaic the search results on the map](https://github.com/stac-utils/titiler-pgstac/blob/master/docs/intro.md#mosaic)."
   ]
  },
  {
   "cell_type": "markdown",
   "metadata": {},
   "source": [
    "### Update the temporal range in search body and register that search with the Raster API\n",
    "\n",
    "The registered search id can be reused for alternate map layer visualizations."
   ]
  },
  {
   "cell_type": "code",
   "execution_count": null,
   "metadata": {},
   "outputs": [],
   "source": [
    "# Restricted date range \n",
    "restricted_temporal_filter = {\n",
    "    \"op\": \"t_intersects\",\n",
    "    \"args\": [\n",
    "        { \"property\": \"datetime\" },\n",
    "        { \"interval\" : [ \"2021-10-16T00:00:00Z\", \"2021-10-18T00:00:00Z\"] }\n",
    "    ]\n",
    "}\n",
    "\n",
    "# Specify cql2-json filter language in search body\n",
    "search_body = {\n",
    "    \"filter-lang\": \"cql2-json\",\n",
    "    \"filter\": {\n",
    "        \"op\": \"and\",\n",
    "        \"args\": [\n",
    "            collections_filter,\n",
    "            spatial_filter,\n",
    "            restricted_temporal_filter\n",
    "        ]\n",
    "    }\n",
    "}\n",
    "\n",
    "mosaic_response = requests.post(\n",
    "    f\"{RASTER_API_URL}/mosaic/register\",\n",
    "    json=search_body,\n",
    ").json()\n",
    "print(json.dumps(mosaic_response, indent=2))"
   ]
  },
  {
   "cell_type": "code",
   "execution_count": null,
   "metadata": {},
   "outputs": [],
   "source": [
    "# Get base url for tiler from the register mosaic request\n",
    "tiles_href = next(link[\"href\"] for link in mosaic_response[\"links\"] if link[\"rel\"]==\"tilejson\")"
   ]
  },
  {
   "cell_type": "markdown",
   "metadata": {},
   "source": [
    "### Configure map formatting parameters\n",
    "See the [raster-api/docs](https://staging-raster.delta-backend.com/docs#/Mosaic/tile_mosaic_tiles__searchid___z___x___y___format__get) for more formatting options"
   ]
  },
  {
   "cell_type": "markdown",
   "metadata": {},
   "source": [
    "## Use the built-in SWIR post processing algorithm\n",
    "\n",
    "Note in the example below the band assets for HLS S30 are selected. The equivalent SWIR band assets for L30 are provided at the top of this notebook."
   ]
  },
  {
   "cell_type": "code",
   "execution_count": null,
   "metadata": {},
   "outputs": [],
   "source": [
    "# Add additional map formatting parameters to tiles url\n",
    "tilejson_response = requests.get(\n",
    "    tiles_href,\n",
    "    params={\n",
    "        # Info to add to the tilejson response\n",
    "        \"minzoom\": 6,\n",
    "        \"maxzoom\": 12,\n",
    "        \"post_process\": \"swir\",\n",
    "        \"assets\": s30_swir_assets\n",
    "    }\n",
    ").json()\n",
    "print(json.dumps(tilejson_response, indent=2))"
   ]
  },
  {
   "cell_type": "markdown",
   "metadata": {},
   "source": [
    "### Display the data on a map"
   ]
  },
  {
   "cell_type": "code",
   "execution_count": null,
   "metadata": {},
   "outputs": [],
   "source": [
    "# Use bbox initial zoom and map\n",
    "# Set up a map located w/in event bounds\n",
    "zoom_start = 11\n",
    "m = Map(\n",
    "    tiles=\"OpenStreetMap\",\n",
    "    location=((ida_bbox[1] + ida_bbox[3]) / 2,(ida_bbox[0] + ida_bbox[2]) / 2),\n",
    "    zoom_start=zoom_start\n",
    ")\n",
    "\n",
    "# Add the formatted map layer\n",
    "map_layer = TileLayer(\n",
    "    tiles=tilejson_response[\"tiles\"][0],\n",
    "    attr=\"Mosaic\",  \n",
    ")\n",
    "map_layer.add_to(m)\n",
    "m"
   ]
  },
  {
   "cell_type": "markdown",
   "metadata": {},
   "source": [
    "### Format and render tiles using custom formatting\n",
    "The titiler/raster-api supports user defined band combinations, band math expressions, rescaling, band index, resampling and more.  "
   ]
  },
  {
   "cell_type": "code",
   "execution_count": null,
   "metadata": {},
   "outputs": [],
   "source": [
    "# Add additional map formatting parameters to tiles url\n",
    "tilejson_response = requests.get(\n",
    "    tiles_href,\n",
    "    params={\n",
    "        # Info to add to the tilejson response\n",
    "        \"minzoom\": 6,\n",
    "        \"maxzoom\": 12,\n",
    "        \"assets\": s30_vegetation_index_assets,\n",
    "        \"expression\": s30_vegetation_index_expression,\n",
    "        \"rescale\": s30_vegetation_index_rescaling,\n",
    "        \"colormap_name\": s30_vegetation_index_colormap\n",
    "    }\n",
    ").json()\n",
    "print(json.dumps(tilejson_response, indent=2))"
   ]
  },
  {
   "cell_type": "code",
   "execution_count": null,
   "metadata": {},
   "outputs": [],
   "source": [
    "# Use bbox initial zoom and map\n",
    "# Set up a map located w/in event bounds\n",
    "zoom_start = 11\n",
    "m = Map(\n",
    "    tiles=\"OpenStreetMap\",\n",
    "    location=((ida_bbox[1] + ida_bbox[3]) / 2,(ida_bbox[0] + ida_bbox[2]) / 2),\n",
    "    zoom_start=zoom_start\n",
    ")\n",
    "\n",
    "# Add the formatted map layer\n",
    "map_layer = TileLayer(\n",
    "    tiles=tilejson_response[\"tiles\"][0],\n",
    "    attr=\"Mosaic\",  \n",
    ")\n",
    "map_layer.add_to(m)\n",
    "m"
   ]
  }
 ],
 "metadata": {
  "kernelspec": {
   "display_name": "Python [conda env:notebook] *",
   "language": "python",
   "name": "conda-env-notebook-py"
  },
  "language_info": {
   "codemirror_mode": {
    "name": "ipython",
    "version": 3
   },
   "file_extension": ".py",
   "mimetype": "text/x-python",
   "name": "python",
   "nbconvert_exporter": "python",
   "pygments_lexer": "ipython3",
   "version": "3.9.13"
  },
  "vscode": {
   "interpreter": {
    "hash": "4c50046321092db1b3f5c75963655e1ce9fc52a21d0be5afb0baeb2611965dce"
   }
  }
 },
 "nbformat": 4,
 "nbformat_minor": 4
}
