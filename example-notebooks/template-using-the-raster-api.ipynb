{
 "cells": [
  {
   "cell_type": "markdown",
   "id": "21dec434-0eee-4c31-9dfd-f07445c3136e",
   "metadata": {},
   "source": [
    "<div class=\"alert alert-block alert-success\">\n",
    "    This notebook is intended to act as a template for the example notebooks that use the raster API. These green cells should all be deleted and in several sections only one of the provided cells should be included in the notebook.\n",
    "</div>"
   ]
  },
  {
   "cell_type": "raw",
   "id": "c7ab74b2-f3b9-4326-a655-70e8df9f1261",
   "metadata": {},
   "source": [
    "---\n",
    "title: \n",
    "description: \n",
    "author: \n",
    "date: Month day, year\n",
    "execute:\n",
    "  freeze: true\n",
    "---"
   ]
  },
  {
   "cell_type": "markdown",
   "id": "fcb6c134-9d68-4869-bef4-0e79fe8c39d2",
   "metadata": {},
   "source": [
    "<div class=\"alert alert-block alert-success\">\n",
    "\n",
    "Update the link in the following section.\n",
    "    \n",
    "</div>"
   ]
  },
  {
   "cell_type": "markdown",
   "id": "0fe4902f-b2c7-44b5-9f3f-cb59a26fbf16",
   "metadata": {},
   "source": [
    "## Run this notebook\n",
    "\n",
    "You can launch this notbook using mybinder, by clicking the button below.\n",
    "\n",
    "<a href=\"https://mybinder.org/v2/gh/NASA-IMPACT/veda-docs/HEAD?labpath=example-notebooks%2Ftemplate.ipynb\">\n",
    "<img src=\"https://mybinder.org/badge_logo.svg\" alt=\"Binder\" title=\"A cute binder\" width=\"150\"/> \n",
    "</a>"
   ]
  },
  {
   "cell_type": "markdown",
   "id": "47280eab-909a-4331-8b6c-c11892c6ed75",
   "metadata": {},
   "source": [
    "<div class=\"alert alert-block alert-success\">\n",
    "    \n",
    "Fill in the text in _italics_ in the following cells\n",
    "\n",
    "</div>"
   ]
  },
  {
   "cell_type": "markdown",
   "id": "f56368ca-2159-4fb4-ad1c-38a30b41b773",
   "metadata": {},
   "source": [
    "## Approach\n",
    "\n",
    "   1. _list a few steps that outline the approach_\n",
    "   2. _you will be taking in this notebook_"
   ]
  },
  {
   "cell_type": "code",
   "execution_count": null,
   "id": "1642bd71-0782-4bad-b625-ca3f7d408c78",
   "metadata": {},
   "outputs": [],
   "source": [
    "# include all your imports in this cell\n",
    "import folium\n",
    "import requests"
   ]
  },
  {
   "cell_type": "markdown",
   "id": "e54a4768-7677-4597-a241-219e675a9e66",
   "metadata": {
    "tags": []
   },
   "source": [
    "## About the data\n",
    "\n",
    "_Optional description of the dataset._"
   ]
  },
  {
   "cell_type": "markdown",
   "id": "65003a57-ba12-409a-8e73-8f7b25fe34f5",
   "metadata": {
    "tags": []
   },
   "source": [
    "## Declare your collection of interest\n",
    "\n",
    "You can discover available collections the following ways:\n",
    "\n",
    "* Programmatically: see example in the `list-collections.ipynb` notebook\n",
    "* JSON API: https://dev-stac.delta-backend.com/collections\n",
    "* STAC Browser: http://veda-dev-stac-browser.s3-website-us-west-2.amazonaws.com"
   ]
  },
  {
   "cell_type": "code",
   "execution_count": null,
   "id": "2ffe563a-42e5-4c7a-a23e-1e71085c265f",
   "metadata": {},
   "outputs": [],
   "source": [
    "STAC_API_URL = \"https://staging-stac.delta-backend.com\"\n",
    "RASTER_API_URL = \"https://staging-raster.delta-backend.com\"\n",
    "\n",
    "collection_id = "
   ]
  },
  {
   "cell_type": "markdown",
   "id": "d21d96ab-411a-4ebd-91f7-2425b2b93298",
   "metadata": {},
   "source": [
    "<div class=\"alert alert-block alert-success\">\n",
    "    \n",
    "Next step is to get STAC objects from the STAC API. In some notebooks we get the collection and use all the items, and in others we search for specific items.\n",
    "\n",
    "</div>"
   ]
  },
  {
   "cell_type": "markdown",
   "id": "d0e7e881-e4b0-4d64-910e-ec6e6fce2e6b",
   "metadata": {},
   "source": [
    "## Fetch STAC collection\n",
    "\n",
    "We will use `requests` to fetch all the metadata about the collection of interest from STAC."
   ]
  },
  {
   "cell_type": "code",
   "execution_count": null,
   "id": "4995d88b-6704-47a5-9257-ab6a17b14bdc",
   "metadata": {},
   "outputs": [],
   "source": [
    "collection = requests.get(f\"{STAC_API_URL}/collections/{collection_id}\").json()\n",
    "collection"
   ]
  },
  {
   "cell_type": "markdown",
   "id": "4e1e6c9e-8f2c-47ed-aafd-96528fd84279",
   "metadata": {},
   "source": [
    "## Fetch STAC item for a particular time\n",
    "\n",
    "We can use the search API to find the item that matches exactly our time of interest."
   ]
  },
  {
   "cell_type": "code",
   "execution_count": null,
   "id": "77753252-25ad-4dfc-9431-3226c0f620e0",
   "metadata": {},
   "outputs": [],
   "source": [
    "response = requests.post(\n",
    "    f\"{STAC_API_URL}/search\",\n",
    "    json={\n",
    "        \"collections\": [collection_id],\n",
    "        \"query\": {\"datetime\": {\"eq\": \"2021-01-01T00:00:00\"}},\n",
    "        \"limit\": 100,\n",
    "    },\n",
    ").json()\n",
    "items = response[\"features\"]"
   ]
  },
  {
   "cell_type": "markdown",
   "id": "e7ad8e7f-5943-44c9-b2bc-26d2c2497e53",
   "metadata": {},
   "source": [
    "<div class=\"alert alert-block alert-success\">\n",
    "The next step is often to define an Area of Interest. Note that it is preferred to get large geojson objects directly from their source rather than storing them in this repository or inlining them in the notebook. Here is an example of what that might look like. \n",
    "</div>"
   ]
  },
  {
   "cell_type": "markdown",
   "id": "f8a10cfd-a645-480d-aca6-bcf3986c1967",
   "metadata": {
    "tags": []
   },
   "source": [
    "## Define an AOI\n",
    "\n",
    "We can fetch GeoJSON for metropolitan France and Corsica (excluding overseas territories) from an authoritative online source (https://gadm.org/download_country.html)."
   ]
  },
  {
   "cell_type": "code",
   "execution_count": null,
   "id": "46de09a5-808d-4cba-9573-7bec5ea1f2e1",
   "metadata": {},
   "outputs": [],
   "source": [
    "response = requests.get(\n",
    "    \"https://geodata.ucdavis.edu/gadm/gadm4.1/json/gadm41_FRA_0.json\"\n",
    ")\n",
    "\n",
    "# If anything goes wrong with this request output error contents\n",
    "assert response.ok, response.text\n",
    "\n",
    "result = response.json()\n",
    "print(f\"There are {len(result['features'])} features in this collection\")"
   ]
  },
  {
   "cell_type": "markdown",
   "id": "0520f739-0691-48b7-b6f9-f043a4c2e6a9",
   "metadata": {},
   "source": [
    "That is the geojson for a feature collection, but since there is only one feature in it we can grab just that."
   ]
  },
  {
   "cell_type": "code",
   "execution_count": null,
   "id": "ba0fa4c5-4ff5-4906-a8a2-8e308f184c45",
   "metadata": {},
   "outputs": [],
   "source": [
    "aoi = result[\"features\"][0]"
   ]
  },
  {
   "cell_type": "markdown",
   "id": "b29a63bb-137f-46d0-bf58-c7c68426a9a8",
   "metadata": {},
   "source": [
    "Let's take a look at this AOI on a map"
   ]
  },
  {
   "cell_type": "code",
   "execution_count": null,
   "id": "982ec99f-f38b-4c7a-9013-03bb48a7ea92",
   "metadata": {},
   "outputs": [],
   "source": [
    "m = folium.Map(\n",
    "    location=[40, 0],\n",
    "    zoom_start=2,\n",
    ")\n",
    "\n",
    "folium.GeoJson(aoi, name=\"AOI\").add_to(m)\n",
    "m"
   ]
  },
  {
   "cell_type": "markdown",
   "id": "96616480-5d60-4e66-b9a2-a86403dadf94",
   "metadata": {},
   "source": [
    "<div class=\"alert alert-block alert-success\">\n",
    "    \n",
    "With the STAC object and optionally the AOI in hand, the next step is to do some analysis. The sections in the rest of the notebooks are totally up to you! Here is one idea though :)\n",
    "    \n",
    "</div>"
   ]
  },
  {
   "cell_type": "markdown",
   "id": "0a413b06-c280-4e4c-9bf5-f3da19990a8a",
   "metadata": {
    "tags": []
   },
   "source": [
    "## Use `/stac/tilejson.json` to get tiles\n",
    "\n",
    "We pass the item_id, collection id, and the `rescale_values` in to the RASTER API endpoint and get back a tile."
   ]
  },
  {
   "cell_type": "code",
   "execution_count": null,
   "id": "88bbc7ee-c8e1-4eb6-895a-5e9bdf6ecdda",
   "metadata": {},
   "outputs": [],
   "source": [
    "rescale_values = collection[\"summaries\"][\"cog_default\"]\n",
    "\n",
    "tiles = requests.get(\n",
    "    f\"{RASTER_API_URL}/stac/tilejson.json?collection={collection_id}&item={item['id']}\"\n",
    "    \"&assets=cog_default\"\n",
    "    \"&color_formula=gamma+r+1.05&colormap_name=rdbu_r\"\n",
    "    f\"&rescale={rescale_values['min']},{rescale_values['max']}\",\n",
    ").json()\n",
    "tiles"
   ]
  },
  {
   "cell_type": "markdown",
   "id": "84fb9b54-ecf4-422d-a42e-7b4fced929d8",
   "metadata": {},
   "source": [
    "With that tile url in hand we can create a simple visualization using `folium`."
   ]
  },
  {
   "cell_type": "code",
   "execution_count": null,
   "id": "a370353b-a665-42f2-a165-f681303397e7",
   "metadata": {},
   "outputs": [],
   "source": [
    "folium.Map(\n",
    "    tiles=tiles[\"tiles\"][0],\n",
    "    attr=\"VEDA\",\n",
    ")"
   ]
  }
 ],
 "metadata": {
  "kernelspec": {
   "display_name": "Python 3 (ipykernel)",
   "language": "python",
   "name": "python3"
  },
  "language_info": {
   "codemirror_mode": {
    "name": "ipython",
    "version": 3
   },
   "file_extension": ".py",
   "mimetype": "text/x-python",
   "name": "python",
   "nbconvert_exporter": "python",
   "pygments_lexer": "ipython3",
   "version": "3.10.8"
  }
 },
 "nbformat": 4,
 "nbformat_minor": 5
}
