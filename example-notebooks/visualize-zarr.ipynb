{
 "cells": [
  {
   "cell_type": "raw",
   "id": "c139fb2b-619f-4df6-bb50-7f1b6d1773a4",
   "metadata": {},
   "source": [
    "---\n",
    "title: Visualize zarr\n",
    "description: Demonstrates reading a zarr store from the VEDA STAC catalog using `intake` and visualizing the data using `hvplot`\n",
    "author: Slesa Adhikari, Julia Signell\n",
    "date: March 9, 2023\n",
    "execute:\n",
    "  cache: true\n",
    "  freeze: true\n",
    "---"
   ]
  },
  {
   "cell_type": "markdown",
   "id": "65e60c21-1377-464e-9659-7818a822d0fc",
   "metadata": {},
   "source": [
    "## Run this notebook\n",
    "\n",
    "You can launch this notebook in VEDA JupyterHub by clicking the link below.\n",
    "\n",
    "[Launch in VEDA JupyterHub (requires access)](https://nasa-veda.2i2c.cloud/hub/user-redirect/git-pull?repo=https://github.com/NASA-IMPACT/veda-docs&urlpath=lab/tree/veda-docs/example-notebooks/visualize-zarr.ipynb&branch=main) \n",
    "\n",
    "<details><summary>Learn more</summary>\n",
    "    \n",
    "### Inside the Hub\n",
    "\n",
    "This notebook was written on the VEDA JupyterHub and as such is designed to be run on a jupyterhub which is associated with an AWS IAM role which has been granted permissions to the VEDA data store via its bucket policy. The instance used provided 16GB of RAM. \n",
    "\n",
    "See (VEDA Analytics JupyterHub Access)[https://nasa-impact.github.io/veda-docs/veda-jh-access.html] for information about how to gain access.\n",
    "\n",
    "### Outside the Hub\n",
    "\n",
    "The data is in a protected bucket. Please request access by emailing aimee@developmentseed.org or alexandra@developmentseed.org and providing your affiliation, interest in or expected use of the dataset and an AWS IAM role or user Amazon Resource Name (ARN). The team will help you configure the cognito client.\n",
    "\n",
    "You should then run:\n",
    "\n",
    "```\n",
    "%run -i 'cognito_login.py'\n",
    "```\n",
    "    \n",
    "</details>"
   ]
  },
  {
   "cell_type": "markdown",
   "id": "73caee48-1599-4ae8-bf1e-d44531e348a2",
   "metadata": {},
   "source": [
    "## Approach\n",
    "\n",
    "   1. Use `intake` to open a STAC collection using with `xarray` and `dask`\n",
    "   3. Plot the data using `hvplot`"
   ]
  },
  {
   "cell_type": "markdown",
   "id": "b8dcc932-87a0-4113-8424-a537ad40c864",
   "metadata": {},
   "source": [
    "## About the data\n",
    "\n",
    "This is the Gridded Daily OCO-2 Carbon Dioxide assimilated dataset. More information can be found at: [OCO-2 GEOS Level 3 daily, 0.5x0.625 assimilated CO2 V10r (OCO2_GEOS_L3CO2_DAY)](https://catalog.data.gov/dataset/oco-2-geos-level-3-daily-0-5x0-625-assimilated-co2-v10r-oco2-geos-l3co2-day-at-ges-disc-72b15)\n",
    "\n",
    "The data has been converted to zarr format and published to the development version of the VEDA STAC Catalog."
   ]
  },
  {
   "cell_type": "code",
   "execution_count": null,
   "id": "a0fac22c-8704-4ee8-9288-1c7a7eb4fcdc",
   "metadata": {},
   "outputs": [],
   "source": [
    "import intake\n",
    "import hvplot.xarray  # noqa"
   ]
  },
  {
   "cell_type": "markdown",
   "id": "5769fa75-8166-411d-a09e-6e427f2a7b1c",
   "metadata": {
    "tags": []
   },
   "source": [
    "## Declare your collection of interest\n",
    "\n",
    "You can discover available collections the following ways:\n",
    "\n",
    "* Programmatically: see example in the `list-collections.ipynb` notebook\n",
    "* JSON API: https://dev-stac.delta-backend.com/collections\n",
    "* STAC Browser: http://veda-dev-stac-browser.s3-website-us-west-2.amazonaws.com"
   ]
  },
  {
   "cell_type": "code",
   "execution_count": null,
   "id": "501ff16f-de0a-4ba6-826b-42c5048f054b",
   "metadata": {},
   "outputs": [],
   "source": [
    "STAC_API_URL = \"https://dev-stac.delta-backend.com/\"\n",
    "collection_id = \"oco2-geos-l3-daily\""
   ]
  },
  {
   "cell_type": "markdown",
   "id": "76b73d20-1f2d-48b0-bd3b-bf0e4d5ace05",
   "metadata": {},
   "source": [
    "## Get STAC collection\n",
    "\n",
    "Use `intake` to get the entire STAC collection."
   ]
  },
  {
   "cell_type": "code",
   "execution_count": null,
   "id": "7a47c8c3-31b7-4428-9855-4579ae0a1d80",
   "metadata": {
    "scrolled": true,
    "tags": []
   },
   "outputs": [],
   "source": [
    "collection = intake.open_stac_collection(f\"{STAC_API_URL}/collections/{collection_id}\")\n",
    "collection"
   ]
  },
  {
   "cell_type": "markdown",
   "id": "79c5e611-f309-4bfb-bec6-14df392842c2",
   "metadata": {},
   "source": [
    "## Read from zarr to xarray\n",
    "\n",
    "Intake lets you go straight from the asset to an xarray dataset backed by a dask array."
   ]
  },
  {
   "cell_type": "code",
   "execution_count": null,
   "id": "b52706ee-2288-49ce-b30a-dcb6e001665d",
   "metadata": {},
   "outputs": [],
   "source": [
    "source = collection.get_asset(\"zarr\")\n",
    "\n",
    "ds = source.to_dask()\n",
    "ds"
   ]
  },
  {
   "cell_type": "markdown",
   "id": "803ba7a3-dc43-4b6d-9494-86273ab88fe2",
   "metadata": {},
   "source": [
    "In `xarray` you can inspect just one data variable using dot notation:"
   ]
  },
  {
   "cell_type": "code",
   "execution_count": null,
   "id": "0b96ec71-5246-4f62-a21d-385c73b89bff",
   "metadata": {},
   "outputs": [],
   "source": [
    "ds.XCO2"
   ]
  },
  {
   "cell_type": "markdown",
   "id": "6d6dd807-3146-4fc7-af27-03e3589e9e54",
   "metadata": {},
   "source": [
    "## Plot data\n",
    "\n",
    "We can plot the XCO2 variable as an interactive map (with date slider) using `hvplot`."
   ]
  },
  {
   "cell_type": "code",
   "execution_count": null,
   "id": "ab65eb4a-6cca-4233-84e5-681d6e0124e4",
   "metadata": {},
   "outputs": [],
   "source": [
    "ds.XCO2.hvplot(\n",
    "    x=\"lon\",\n",
    "    y=\"lat\",\n",
    "    groupby=\"time\",\n",
    "    coastline=True,\n",
    "    rasterize=True,\n",
    "    aggregator=\"mean\",\n",
    "    widget_location=\"bottom\",\n",
    ")"
   ]
  }
 ],
 "metadata": {
  "kernelspec": {
   "display_name": "Python 3 (ipykernel)",
   "language": "python",
   "name": "python3"
  },
  "language_info": {
   "codemirror_mode": {
    "name": "ipython",
    "version": 3
   },
   "file_extension": ".py",
   "mimetype": "text/x-python",
   "name": "python",
   "nbconvert_exporter": "python",
   "pygments_lexer": "ipython3",
   "version": "3.10.8"
  }
 },
 "nbformat": 4,
 "nbformat_minor": 5
}
