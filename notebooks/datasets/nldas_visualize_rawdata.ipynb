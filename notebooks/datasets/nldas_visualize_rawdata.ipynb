{
 "cells": [
  {
   "cell_type": "markdown",
   "id": "ac1ed754",
   "metadata": {},
   "source": [
    "---\n",
    "title: Visualizing the NLDAS-3 Data\n",
    "description: NLDAS3 covers most of North America - let's see what that looks like.\n",
    "author: Rishi Anand\n",
    "date: July 26, 2024\n",
    "execute:\n",
    "   freeze: true\n",
    "---"
   ]
  },
  {
   "cell_type": "code",
   "execution_count": 1,
   "id": "66029b37-25a8-4072-a863-671ca5abde15",
   "metadata": {},
   "outputs": [],
   "source": [
    "# import libraries\n",
    "from matplotlib import pyplot as plt\n",
    "import pandas as pd\n",
    "import xarray as xr\n",
    "import numpy as np\n",
    "import datetime\n",
    "from dateutil.relativedelta import relativedelta\n",
    "from __future__ import print_function\n",
    "import boto3\n",
    "import s3fs\n",
    "import rioxarray\n",
    "import rasterio\n",
    "from rasterio.io import MemoryFile\n",
    "import os\n",
    "import tempfile\n",
    "import shutil\n",
    "from boto3.session import Session"
   ]
  },
  {
   "cell_type": "markdown",
   "id": "171aab93-2c1d-452e-9933-b1a3dc12f373",
   "metadata": {},
   "source": [
    "#### The files are stored in Project VEDA's AWS cloud storage platform, so they can be accessed easily with the correct credentials from any environment."
   ]
  },
  {
   "cell_type": "code",
   "execution_count": 2,
   "id": "dd367d27-0e89-41d6-a645-9053ef071686",
   "metadata": {},
   "outputs": [],
   "source": [
    "# Set up global variables\n",
    "\n",
    "# Indicates the folder where the NLDAS files are found in Discover\n",
    "directory=r'/discover/nobackup/fmaina/veda_story/nldas3/'\n",
    "\n",
    "# Define the Lat/Long boundaries of the data for rescaling later\n",
    "nldasExtent = {\n",
    "    \"x0\":-169.0,\n",
    "    \"xn\":-52.0,\n",
    "    \"y0\":7.0,\n",
    "    \"yn\":72.0\n",
    "}\n",
    "\n",
    "#Temporary credentials, get them from Rishi Anand\n"
   ]
  },
  {
   "cell_type": "markdown",
   "id": "752b7b4c-a557-4852-b9d1-43fdd1e1ffe2",
   "metadata": {},
   "source": [
    "#### The data needs to be rescaled to work properly, as there was an encoding error related to one of the axes."
   ]
  },
  {
   "cell_type": "code",
   "execution_count": 3,
   "id": "cfab044b-091e-468b-bc9a-df8a35ea69c1",
   "metadata": {},
   "outputs": [],
   "source": [
    "# This function is used to generate rescaled axes, and will be used to convert the NLDAS data to Lat/Long axes\n",
    "def scaleAxes(x, y, x0, xn, y0, yn):\n",
    "    newX = np.array(x)\n",
    "    newY = np.array(y)\n",
    "    newX = newX * (xn-x0)/len(x)\n",
    "    newY = newY * (yn-y0)/len(y)\n",
    "    medX = np.median(newX)\n",
    "    medY = np.median(newY)\n",
    "    newX = newX-medX+((x0+xn)/2)\n",
    "    newY = newY-medY+((y0+yn)/2)\n",
    "    \n",
    "    return [newX, newY]\n",
    "\n",
    "# This function reads the files from directory starting with initYear and processes yearsToProcess years\n",
    "def getNLDASFilesForYrRange(initYear=2019, yearsToProcess=1):\n",
    "    print(\"Reading stored files...\")\n",
    "    # The returned list of data\n",
    "    results = []\n",
    "    # A list of dates associated with each datapoint, will be returned alongside results\n",
    "    dates = []\n",
    "\n",
    "    fs = s3fs.S3FileSystem(anon=False, \n",
    "                           key=credentials[''], \n",
    "                           secret=credentials[''],\n",
    "                           token=credentials[''],\n",
    "                           client_kwargs={\n",
    "                           'endpoint_url':'https://s3.us-west-2.amazonaws.com'\n",
    "                           })\n",
    "    \n",
    "    aws_url = 's3://veda-data-store-staging/'\n",
    "    \n",
    "    # Go through the files month by month\n",
    "    for month in range(int(12 * yearsToProcess)):\n",
    "        \n",
    "        #Convert from raw month into year and month of year (Jan == 01)\n",
    "        year = month//12+initYear\n",
    "        monthOfYear = month%12+1\n",
    "        if month%12==0:\n",
    "            print(year)\n",
    "        \n",
    "        # Format the year and month of year to the standard filename format\n",
    "        yrMnth = str(year) + str(monthOfYear).zfill(2)\n",
    "        nc = xr.open_dataset(fs.open(aws_url+\"EIS/NLDAS3MonthlyData/LIS_HIST_\"+yrMnth+\".nc\")) # reading the nc file and creating Dataset\n",
    "        nc = nc.set_coords((\"lat\", \"lon\")).drop_vars(['latitude', 'longitude'])\n",
    "        \n",
    "        # Rescalin the axes to Lat/Long\n",
    "        axes = scaleAxes(nc[\"longitude\"], nc[\"latitude\"], nldasExtent[\"x0\"], nldasExtent[\"xn\"], nldasExtent[\"y0\"], nldasExtent[\"yn\"])\n",
    "        nc[\"latitude\"] = axes[1]\n",
    "        nc[\"longitude\"] = axes[0]\n",
    "        results.append(nc)\n",
    "    \n",
    "    #Iterate through all used dates as datetimes and add them to dates\n",
    "    nextM = datetime.date(initYear, 1, 1)\n",
    "    end = datetime.date(initYear+yearsToProcess-1, 12, 1)    \n",
    "\n",
    "    while nextM <= end:\n",
    "        dates.append(nextM)\n",
    "        nextM += relativedelta(months=1)\n",
    "    \n",
    "    # Return generated data and corresponding dates in a dict\n",
    "    return {\n",
    "        \"data\":results,\n",
    "        \"dates\":dates\n",
    "    }"
   ]
  },
  {
   "cell_type": "code",
   "execution_count": null,
   "id": "73869d0b-e627-4deb-84da-d3b833330789",
   "metadata": {},
   "outputs": [
    {
     "name": "stdout",
     "output_type": "stream",
     "text": [
      "Reading stored files...\n",
      "2019\n"
     ]
    }
   ],
   "source": [
    "# Get a smaller sample to play with\n",
    "sample = getNLDASFilesForYrRange(initYear=2019, yearsToProcess=2)[\"data\"]"
   ]
  },
  {
   "cell_type": "code",
   "execution_count": null,
   "id": "5628cd57-c3b5-4a85-8e55-42b185ace602",
   "metadata": {},
   "outputs": [],
   "source": [
    "# Look at one of the raw pieces of data\n",
    "sample[6][\"Precep\"].plot()"
   ]
  }
 ],
 "metadata": {
  "kernelspec": {
   "display_name": "Python [conda env:pangeo] *",
   "language": "python",
   "name": "conda-env-pangeo-py"
  },
  "language_info": {
   "codemirror_mode": {
    "name": "ipython",
    "version": 3
   },
   "file_extension": ".py",
   "mimetype": "text/x-python",
   "name": "python",
   "nbconvert_exporter": "python",
   "pygments_lexer": "ipython3",
   "version": "3.10.13"
  }
 },
 "nbformat": 4,
 "nbformat_minor": 5
}
