{
 "cells": [
  {
   "cell_type": "raw",
   "id": "542c4399",
   "metadata": {},
   "source": [
    "---\n",
    "title: GIF generation using the TiTiler /cog/feature endpoint\n",
    "description: This notebook demonstrates how to generate a timeseries using STAC API statistics endpoints.\n",
    "author: Leo Thomas\n",
    "date: August 30, 2022\n",
    "execute:\n",
    "  freeze: true  \n",
    "---"
   ]
  },
  {
   "cell_type": "markdown",
   "id": "d929c8e7",
   "metadata": {},
   "source": [
    "# GIF generation using the TiTiler /cog/feature endpoint\n",
    "\n",
    "This notebook demonstrates how to use the `cog/feature` endpoint to generate GIFs from data in the VEDA API. \n",
    "\n",
    "The overall process will be: \n",
    "1. Use the STAC API to gather a list of STAC Items which will each become on frame in our gif\n",
    "2. Query the `/cog/feater` endpoint with the asset URL and a geojson geometry\n",
    "3. Stack all of the generated images into a animated GIF"
   ]
  },
  {
   "cell_type": "markdown",
   "id": "d1494d32",
   "metadata": {},
   "source": [
    "## Import relevant libraries"
   ]
  },
  {
   "cell_type": "code",
   "execution_count": null,
   "id": "e76fcbed",
   "metadata": {},
   "outputs": [],
   "source": [
    "# Standard lib imports\n",
    "from concurrent.futures import ThreadPoolExecutor\n",
    "import datetime\n",
    "import glob\n",
    "import json\n",
    "import os\n",
    "import requests\n",
    "import tempfile\n",
    "import time\n",
    "import io\n",
    "from IPython import display\n",
    "\n",
    "# 3rd party imports\n",
    "import folium\n",
    "import numpy as np\n",
    "\n",
    "# import PIL\n",
    "from PIL import Image, ImageFont, ImageDraw\n",
    "import rasterio\n",
    "import rasterio.features\n",
    "import rasterio.plot"
   ]
  },
  {
   "cell_type": "markdown",
   "id": "4c963c84",
   "metadata": {},
   "source": [
    "## Define global variables"
   ]
  },
  {
   "cell_type": "code",
   "execution_count": null,
   "id": "b7c3562a",
   "metadata": {},
   "outputs": [],
   "source": [
    "STAC_API_URL = \"https://staging-stac.delta-backend.com\"\n",
    "RASTER_API_URL = \"https://staging-raster.delta-backend.com\"\n",
    "\n",
    "# Collection we'll be using to generate the GIF\n",
    "collection = \"no2-monthly\""
   ]
  },
  {
   "cell_type": "markdown",
   "id": "420086ae",
   "metadata": {
    "tags": []
   },
   "source": [
    "## Define an AOI to crop the COG data\n",
    "\n",
    "We can fetch GeoJSON for metropolitan France and Corsica (excluding overseas territories) from an authoritative online source (https://gadm.org/download_country.html)."
   ]
  },
  {
   "cell_type": "code",
   "execution_count": null,
   "id": "8738008b-591d-4450-b451-a6abdef5d897",
   "metadata": {},
   "outputs": [],
   "source": [
    "response = requests.get(\n",
    "    \"https://geodata.ucdavis.edu/gadm/gadm4.1/json/gadm41_FRA_0.json\"\n",
    ")\n",
    "\n",
    "# If anything goes wrong with this request output error contents\n",
    "assert response.ok, response.text\n",
    "\n",
    "result = response.json()\n",
    "print(f\"There are {len(result['features'])} features in this collection\")"
   ]
  },
  {
   "cell_type": "markdown",
   "id": "c6493a25-e599-41f8-96d1-e44dad6a8bc8",
   "metadata": {},
   "source": [
    "That is the geojson for a feature collection, but since there is only one feature in it we can grab just that."
   ]
  },
  {
   "cell_type": "code",
   "execution_count": null,
   "id": "01dcaf19-b3cc-436b-8aba-4fd961ccf45a",
   "metadata": {},
   "outputs": [],
   "source": [
    "france_aoi = result[\"features\"][0]"
   ]
  },
  {
   "cell_type": "markdown",
   "id": "351dd4bc-9465-4859-9b28-0bf1925e397e",
   "metadata": {},
   "source": [
    "Let's take a look at this AOI on a map"
   ]
  },
  {
   "cell_type": "code",
   "execution_count": null,
   "id": "937171af",
   "metadata": {},
   "outputs": [],
   "source": [
    "m = folium.Map(\n",
    "    location=[45, 0],\n",
    "    zoom_start=5,\n",
    ")\n",
    "\n",
    "folium.GeoJson(france_aoi, name=\"France\").add_to(m)\n",
    "m"
   ]
  },
  {
   "cell_type": "markdown",
   "id": "752dd0a9",
   "metadata": {},
   "source": [
    "## Search STAC API for available data"
   ]
  },
  {
   "cell_type": "code",
   "execution_count": null,
   "id": "759652ad",
   "metadata": {},
   "outputs": [],
   "source": [
    "# NO2 monthly has a global extent, so we don't need to specify an area within\n",
    "# which to search. For non-global datasets, use the `bbox` parameter to specify\n",
    "# the bounding box within which to search.\n",
    "items = requests.get(f\"{STAC_API_URL}/collections/{collection}/items?limit=100\").json()[\n",
    "    \"features\"\n",
    "]"
   ]
  },
  {
   "cell_type": "code",
   "execution_count": null,
   "id": "c0380be1",
   "metadata": {},
   "outputs": [],
   "source": [
    "# Available dates:\n",
    "dates = [item[\"properties\"][\"start_datetime\"] for item in items]\n",
    "print(f\"Dates available: {dates[:5]} ... {dates[-5:]}\")"
   ]
  },
  {
   "cell_type": "markdown",
   "id": "52ba4286",
   "metadata": {},
   "source": [
    "## The /cog/feature endpoint\n",
    "\n",
    "The endpoint accepts the following parameters, among others: \n",
    "- format (tif, jpeg, webp, etc)\n",
    "- height and width\n",
    "- url (for the COG file to extract data from)\n",
    "\n",
    "And any other visualization parameters specific to that dataset (eg: rescale and color_map values)"
   ]
  },
  {
   "cell_type": "markdown",
   "id": "a286d57e",
   "metadata": {},
   "source": [
    "### Get visualization parameters: "
   ]
  },
  {
   "cell_type": "code",
   "execution_count": null,
   "id": "939579d7",
   "metadata": {},
   "outputs": [],
   "source": [
    "# get visualization parameters from collection summaries\n",
    "COG_DEFAULT = [\n",
    "    x\n",
    "    for x in requests.get(f\"{STAC_API_URL}/collections\").json()[\"collections\"]\n",
    "    if x[\"id\"] == \"no2-monthly\"\n",
    "][0][\"summaries\"][\"cog_default\"]"
   ]
  },
  {
   "cell_type": "markdown",
   "id": "747ba130",
   "metadata": {},
   "source": [
    "### Generate a PNG!"
   ]
  },
  {
   "cell_type": "code",
   "execution_count": null,
   "id": "8713b8c8",
   "metadata": {},
   "outputs": [],
   "source": [
    "# get PNG bytes from API\n",
    "response = requests.post(\n",
    "    f\"{RASTER_API_URL}/cog/feature\",\n",
    "    params={\n",
    "        \"format\": \"png\",\n",
    "        \"height\": 512,\n",
    "        \"width\": 512,\n",
    "        \"url\": items[0][\"assets\"][\"cog_default\"][\"href\"],\n",
    "        \"rescale\": f\"{COG_DEFAULT['min']},{COG_DEFAULT['max']}\",\n",
    "        \"colormap_name\": \"viridis\",\n",
    "    },\n",
    "    json=france_aoi,\n",
    ")\n",
    "\n",
    "assert response.ok, response.text\n",
    "\n",
    "image_bytes = response.content\n",
    "\n",
    "# Write to temporary file in order to display\n",
    "f = tempfile.NamedTemporaryFile(suffix=\".png\")\n",
    "f.write(image_bytes)\n",
    "\n",
    "# display PNG!\n",
    "display.Image(filename=f.name, height=512, width=512)"
   ]
  },
  {
   "cell_type": "markdown",
   "id": "6da1fab3",
   "metadata": {},
   "source": [
    "## Generating a GIF\n",
    "\n",
    "To generate a GIF we request a PNG for each STAC Item and then use the Python Imaging Library (PIL) to combine them into a GIF. We will use a temporary directory to store all the generated PNGs and we will use multi-threading to speed up the operation"
   ]
  },
  {
   "cell_type": "code",
   "execution_count": null,
   "id": "e0cebee8",
   "metadata": {},
   "outputs": [],
   "source": [
    "# for convenience we will wrap the API call from above into a method that will\n",
    "# save the contents of the image file into a file stored within the temp directory\n",
    "from gif_generation_dependencies.helper_functions import generate_frame\n",
    "\n",
    "# temporary directory to hold PNGs\n",
    "with tempfile.TemporaryDirectory() as tmpdirname:\n",
    "\n",
    "    start = time.time()\n",
    "\n",
    "    args = (\n",
    "        (\n",
    "            item,  # stac item\n",
    "            france_aoi,  # aoi to crop\n",
    "            tmpdirname,  # tmpdir (optional)\n",
    "            \"png\",  # image format\n",
    "            None,  # overlay (will be discussed further)\n",
    "            {\n",
    "                \"rescale\": f\"{COG_DEFAULT['min']},{COG_DEFAULT['max']}\",\n",
    "                \"colormap_name\": \"viridis\",\n",
    "            },  # visualization parameters\n",
    "        )\n",
    "        for item in items\n",
    "    )\n",
    "\n",
    "    with ThreadPoolExecutor(max_workers=10) as executor:\n",
    "        result = list(executor.map(lambda a: generate_frame(*a), args))\n",
    "\n",
    "    end = time.time()\n",
    "\n",
    "    print(f\"Gather frames: {round((end-start), 2)} seconds\")\n",
    "\n",
    "    imgs = (Image.open(f) for f in sorted(glob.glob(os.path.join(tmpdirname, \"*.png\"))))\n",
    "    img = next(imgs)  # extract first image from iterator\n",
    "    img.save(\n",
    "        fp=\"./output.gif\",\n",
    "        format=\"GIF\",\n",
    "        append_images=imgs,\n",
    "        save_all=True,\n",
    "        duration=300,\n",
    "        loop=0,\n",
    "    )\n",
    "\n",
    "display.Image(filename=\"./output.gif\")"
   ]
  },
  {
   "cell_type": "markdown",
   "id": "c4e1c144",
   "metadata": {},
   "source": [
    "## Adding context\n",
    "\n",
    "To provide more interesting or engaging data to the users, we can add temporal and geospatial context to the GIF. This is possible because API can return images in geo-referenced tif format. "
   ]
  },
  {
   "cell_type": "code",
   "execution_count": null,
   "id": "d75bdb6d",
   "metadata": {},
   "outputs": [],
   "source": [
    "with tempfile.TemporaryDirectory() as tmpdirname:\n",
    "\n",
    "    filepath = generate_frame(items[0], france_aoi, tmpdirname, image_format=\"tif\")\n",
    "\n",
    "    # Verify that the tif returned by the API is correctly georeferenced\n",
    "    georeferenced_raster_data = rasterio.open(filepath)\n",
    "\n",
    "    print(\"Data bounds: \", georeferenced_raster_data.bounds)\n",
    "    print(\"Data CRS: \", georeferenced_raster_data.crs)"
   ]
  },
  {
   "cell_type": "markdown",
   "id": "8f4f2073",
   "metadata": {},
   "source": [
    "### Overlaying GeoJSON: \n",
    "In order to overlay GeoJSON over the raster, we will have to convert the geojson boundaries to a raster format. We do this with the following steps: \n",
    "\n",
    "For each feature in the geojson we rasterize the feature into a mask. We use [binary dialation](https://docs.scipy.org/doc/scipy/reference/generated/scipy.ndimage.binary_dilation.html?highlight=binary%20dilation#scipy.ndimage.binary_dilation) to detect the edges of the mask, and set the values corresponding to the mask edges to 255. This approach has one known problem: if multiple features share a border (eg: two adjoining provinces) the border between then will be detected twice, once from each side (or from each feature sharing that border). This means that internal borders will be twice as thick as external borders     "
   ]
  },
  {
   "cell_type": "code",
   "execution_count": null,
   "id": "f16931f2",
   "metadata": {},
   "outputs": [],
   "source": [
    "from gif_generation_dependencies.helper_functions import overlay_geojson\n",
    "\n",
    "with tempfile.TemporaryDirectory() as tmpdirname:\n",
    "    with open(\"./gif_generation_dependencies/france-departements.geojson\", \"r\") as f:\n",
    "        geojson = json.loads(f.read())\n",
    "\n",
    "    filepath = generate_frame(\n",
    "        items[0],\n",
    "        france_aoi,\n",
    "        tmpdirname,\n",
    "        image_format=\"tif\",\n",
    "        additional_cog_feature_args={\n",
    "            \"rescale\": f\"{COG_DEFAULT['min']},{COG_DEFAULT['max']}\",\n",
    "            \"colormap_name\": \"viridis\",\n",
    "        },\n",
    "    )\n",
    "\n",
    "    filepath = overlay_geojson(filepath, geojson)\n",
    "    rasterio.plot.show(rasterio.open(filepath))"
   ]
  },
  {
   "cell_type": "markdown",
   "id": "6ed23682",
   "metadata": {},
   "source": [
    "### Overlaying the raster on a basemap\n",
    "Another way to contextualize where in the GIF's data is, is by overlaying the GIF on top of a base map. This process is a bit more complicated: \n",
    "- Generate a raster image (.tif)\n",
    "- Overlay in on a folium map interface\n",
    "- Save the map interface to html\n",
    "- Open the html file with a headless chrome webdriver (using the selenium library)\n",
    "- Save a screenshot of the rendered html as a .png"
   ]
  },
  {
   "cell_type": "code",
   "execution_count": null,
   "id": "d92854f7",
   "metadata": {},
   "outputs": [],
   "source": [
    "from gif_generation_dependencies.helper_functions import overlay_raster_on_folium\n",
    "\n",
    "tmpdirname = tempfile.TemporaryDirectory()\n",
    "\n",
    "image_filepath = generate_frame(\n",
    "    items[0],\n",
    "    france_aoi,\n",
    "    tmpdirname.name,\n",
    "    image_format=\"tif\",\n",
    "    overlay=None,\n",
    "    additional_cog_feature_args={\n",
    "        \"rescale\": f\"{COG_DEFAULT['min']},{COG_DEFAULT['max']}\",\n",
    "        \"colormap_name\": \"viridis\",\n",
    "    },\n",
    ")\n",
    "\n",
    "image_filepath = overlay_raster_on_folium(image_filepath)\n",
    "\n",
    "display.Image(filename=image_filepath)"
   ]
  },
  {
   "cell_type": "markdown",
   "id": "5921f8e8",
   "metadata": {},
   "source": [
    "### Overlaying the Date: \n",
    "Now that we have the raster data displayed over the basemap, we want to add the date of each file "
   ]
  },
  {
   "cell_type": "code",
   "execution_count": null,
   "id": "31459950",
   "metadata": {},
   "outputs": [],
   "source": [
    "from gif_generation_dependencies.helper_functions import overlay_date\n",
    "\n",
    "date = items[0][\"properties\"][\"start_datetime\"]\n",
    "\n",
    "# get datestring from STAC Item properties and reformat\n",
    "datestring = datetime.datetime.strptime(date, \"%Y-%m-%dT%H:%M:%S\").date().isoformat()\n",
    "\n",
    "# Reuse the raster overlayed on the OSM basemap using folium from above:\n",
    "overlay_date(image_filepath, datestring)\n",
    "\n",
    "display.Image(filename=image_filepath)"
   ]
  },
  {
   "cell_type": "markdown",
   "id": "13ba89b4",
   "metadata": {},
   "source": [
    "## Putting it all together\n",
    "\n",
    "I've combined all of the above functionality, along with a few helper functions in the file: `./gif_generation_dependencies/helper_functions.py`\n",
    "\n",
    "I've also added the contextualizaiton steps (overlaying geojson, date, and folium basemap) directly into the `generate_frame()` method"
   ]
  },
  {
   "cell_type": "markdown",
   "id": "ba92f1b4",
   "metadata": {},
   "source": [
    "## Generate a GIF with geojson overlay: "
   ]
  },
  {
   "cell_type": "code",
   "execution_count": null,
   "id": "13b31224",
   "metadata": {},
   "outputs": [],
   "source": [
    "with tempfile.TemporaryDirectory() as tmpdirname:\n",
    "    start = time.time()\n",
    "\n",
    "    with open(\"./gif_generation_dependencies/france-departements.geojson\", \"r\") as f:\n",
    "        overlay = json.loads(f.read())\n",
    "\n",
    "    args = (\n",
    "        (\n",
    "            item,\n",
    "            france_aoi,\n",
    "            tmpdirname,\n",
    "            \"tif\",\n",
    "            geojson,\n",
    "            {\n",
    "                \"rescale\": f\"{COG_DEFAULT['min']},{COG_DEFAULT['max']}\",\n",
    "                \"colormap_name\": \"viridis\",\n",
    "            },\n",
    "        )\n",
    "        for item in items\n",
    "    )\n",
    "\n",
    "    with ThreadPoolExecutor(max_workers=10) as executor:\n",
    "        result = list(executor.map(lambda a: generate_frame(*a), args))\n",
    "\n",
    "    end = time.time()\n",
    "\n",
    "    print(f\"Gather frames: {round((end-start), 2)} seconds\")\n",
    "\n",
    "    imgs = [Image.open(f) for f in sorted(glob.glob(os.path.join(tmpdirname, \"*.tif\")))]\n",
    "    imgs[0].save(\n",
    "        fp=\"./output_with_geojson.gif\",\n",
    "        format=\"GIF\",\n",
    "        append_images=imgs[1:],\n",
    "        save_all=True,\n",
    "        duration=300,\n",
    "        loop=0,\n",
    "    )\n",
    "\n",
    "display.Image(filename=\"./output_with_geojson.gif\")"
   ]
  },
  {
   "cell_type": "markdown",
   "id": "a6daefbe",
   "metadata": {},
   "source": [
    "## GIF with OSM basemap (folium)"
   ]
  },
  {
   "cell_type": "code",
   "execution_count": null,
   "id": "fe68b8af",
   "metadata": {},
   "outputs": [],
   "source": [
    "with tempfile.TemporaryDirectory() as tmpdirname:\n",
    "    start = time.time()\n",
    "\n",
    "    args = (\n",
    "        (\n",
    "            item,\n",
    "            france_aoi,\n",
    "            tmpdirname,\n",
    "            \"tif\",\n",
    "            \"folium\",\n",
    "            {\n",
    "                \"rescale\": f\"{COG_DEFAULT['min']},{COG_DEFAULT['max']}\",\n",
    "                \"colormap_name\": \"viridis\",\n",
    "            },\n",
    "        )\n",
    "        for item in items\n",
    "    )\n",
    "\n",
    "    with ThreadPoolExecutor(max_workers=10) as executor:\n",
    "        result = list(executor.map(lambda a: generate_frame(*a), args))\n",
    "\n",
    "    end = time.time()\n",
    "\n",
    "    print(f\"Gather frames: {round((end-start), 2)} seconds\")\n",
    "\n",
    "    # Note: I'm searching for `*.png` files instead of *.tif files because the webdriver screenshot\n",
    "    # of the folium map interface is exported in png format (this also helps reduce the size of\n",
    "    # the final gif )\n",
    "    imgs = [Image.open(f) for f in sorted(glob.glob(os.path.join(tmpdirname, \"*.png\")))]\n",
    "    imgs[0].save(\n",
    "        fp=\"./output_with_osm_basemap.gif\",\n",
    "        format=\"GIF\",\n",
    "        append_images=imgs[1:],\n",
    "        save_all=True,\n",
    "        duration=300,\n",
    "        loop=0,\n",
    "    )\n",
    "\n",
    "display.Image(filename=\"./output_with_osm_basemap.gif\")"
   ]
  },
  {
   "cell_type": "markdown",
   "id": "52c63231",
   "metadata": {},
   "source": [
    "## Cleanup: \n",
    "Run the following cell to remove the following generated images/gifs: \n",
    "- `output.gif`\n",
    "- `output_with_geojson.gif` \n",
    "- `output_with_osm_basemap.gif`"
   ]
  },
  {
   "cell_type": "code",
   "execution_count": null,
   "id": "d23b3464",
   "metadata": {},
   "outputs": [],
   "source": [
    "for f in glob.glob(os.path.join(\".\", \"output*.gif\")):\n",
    "    os.remove(f)"
   ]
  }
 ],
 "metadata": {
  "kernelspec": {
   "display_name": "Python [conda env:notebook] *",
   "language": "python",
   "name": "conda-env-notebook-py"
  },
  "language_info": {
   "codemirror_mode": {
    "name": "ipython",
    "version": 3
   },
   "file_extension": ".py",
   "mimetype": "text/x-python",
   "name": "python",
   "nbconvert_exporter": "python",
   "pygments_lexer": "ipython3",
   "version": "3.9.13"
  }
 },
 "nbformat": 4,
 "nbformat_minor": 5
}
