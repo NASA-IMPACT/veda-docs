{
 "cells": [
  {
   "cell_type": "raw",
   "metadata": {},
   "source": [
    "---\n",
    "title: List STAC collections\n",
    "description: Programatically list all collections that are available on a particular STAC catalog\n",
    "author: Aimee Barciauskas, Julia Signell\n",
    "date: May 1, 2023\n",
    "execute:\n",
    "  cache: true\n",
    "  freeze: true\n",
    "---"
   ]
  },
  {
   "cell_type": "markdown",
   "metadata": {},
   "source": [
    "## Run this notebook\n",
    "\n",
    "You can launch this notbook using mybinder, by clicking the button below.\n",
    "\n",
    "<a href=\"https://mybinder.org/v2/gh/NASA-IMPACT/veda-docs/HEAD?labpath=notebooks/quickstarts%2Flist-collections.ipynb\">\n",
    "<img src=\"https://mybinder.org/badge_logo.svg\" alt=\"Binder\" title=\"A cute binder\" width=\"150\"/> \n",
    "</a>"
   ]
  },
  {
   "attachments": {},
   "cell_type": "markdown",
   "metadata": {},
   "source": [
    "## Approach\n",
    "\n",
    "   1. Use `pystac_client` to open the STAC catalog \n",
    "   2. Iterate over collections and print the title of each collection"
   ]
  },
  {
   "cell_type": "markdown",
   "metadata": {},
   "source": [
    "## Open STAC catalog"
   ]
  },
  {
   "cell_type": "code",
   "execution_count": 1,
   "metadata": {},
   "outputs": [],
   "source": [
    "from pystac_client import Client\n",
    "\n",
    "STAC_API_URL = \"https://staging-stac.delta-backend.com/\"\n",
    "catalog = Client.open(STAC_API_URL)"
   ]
  },
  {
   "cell_type": "markdown",
   "metadata": {},
   "source": [
    "## List collections"
   ]
  },
  {
   "cell_type": "code",
   "execution_count": 2,
   "metadata": {},
   "outputs": [
    {
     "name": "stdout",
     "output_type": "stream",
     "text": [
      "\n",
      "\n",
      "0-100 cm Volumetric Soil Moisture (%)\n",
      "Active Fire Line\n",
      "Aerosol Optical Depth (AOD)\n",
      "Annual LAI maps for 2003 and 2021 (Bangladesh)\n",
      "Annual land cover maps for 2001 and 2020\n",
      "Black Marble 500m Nightlights Daily Dataset\n",
      "Black Marble High Definition Nightlights 1 band Dataset\n",
      "Black Marble High Definition Nightlights Monthly Dataset\n",
      "Burn Area Reflectance Classification for Thomas Fire\n",
      "CO₂ (Avg)\n",
      "CO₂ (Diff)\n",
      "Caldor Fire Behavior\n",
      "Caldor Fire Burn Severity\n",
      "Change in ET for 2020 fires using LIS outputs\n",
      "Change in transpiration for 2020 fires using LIS outputs\n",
      "ECCO sea-surface height change from 1992 to 2017\n",
      "Evapotranspiration - LIS 10km Global DA\n",
      "Fire Perimeters\n",
      "GEOGLAM Crop Monitor\n",
      "GRDI BUILT Constituent Raster\n",
      "GRDI CDR Constituent Raster\n",
      "GRDI Filled Missing Values Count\n",
      "GRDI IMR Constituent Raster\n",
      "GRDI SHDI Constituent Raster\n",
      "GRDI V1 raster\n",
      "GRDI VNL Constituent Raster\n",
      "GRDI VNL Slope Constituent Raster\n",
      "Global TWS Non-Stationarity Index\n",
      "Gridded 2012 EPA Methane Emissions - Abandoned Coal Mines\n",
      "Gridded 2012 EPA Methane Emissions - Composting\n",
      "Gridded 2012 EPA Methane Emissions - Domestic Wastewater Treatment\n",
      "Gridded 2012 EPA Methane Emissions - Enteric Fermentation\n",
      "Gridded 2012 EPA Methane Emissions - Ferroalloy Production\n",
      "Gridded 2012 EPA Methane Emissions - Field Burning\n",
      "Gridded 2012 EPA Methane Emissions - Field Burning (monthly)\n",
      "Gridded 2012 EPA Methane Emissions - Forest Fires\n",
      "Gridded 2012 EPA Methane Emissions - Forest Fires (daily)\n",
      "Gridded 2012 EPA Methane Emissions - Industrial Landfills\n",
      "Gridded 2012 EPA Methane Emissions - Industrial Wastewater Treatment\n",
      "Gridded 2012 EPA Methane Emissions - Manure Management\n",
      "Gridded 2012 EPA Methane Emissions - Manure Management (monthly)\n",
      "Gridded 2012 EPA Methane Emissions - Mobile Combustion\n",
      "Gridded 2012 EPA Methane Emissions - Municipal Landfills\n",
      "Gridded 2012 EPA Methane Emissions - Natural Gas Distribution\n",
      "Gridded 2012 EPA Methane Emissions - Natural Gas Processing\n",
      "Gridded 2012 EPA Methane Emissions - Natural Gas Production\n",
      "Gridded 2012 EPA Methane Emissions - Natural Gas Production (monthly)\n",
      "Gridded 2012 EPA Methane Emissions - Natural Gas Transmission\n",
      "Gridded 2012 EPA Methane Emissions - Petrochemical Production\n",
      "Gridded 2012 EPA Methane Emissions - Petroleum\n",
      "Gridded 2012 EPA Methane Emissions - Petroleum (monthly)\n",
      "Gridded 2012 EPA Methane Emissions - Rice Cultivation\n",
      "Gridded 2012 EPA Methane Emissions - Rice Cultivation (monthly)\n",
      "Gridded 2012 EPA Methane Emissions - Stationary Combustion\n",
      "Gridded 2012 EPA Methane Emissions - Stationary Combustion (monthly)\n",
      "Gridded 2012 EPA Methane Emissions - Surface Coal Mines\n",
      "Gridded 2012 EPA Methane Emissions - Underground Coal Mines\n",
      "Gross Primary Productivity - LIS 10km Global DA\n",
      "Gross Primary Productivity Trend - LIS 10km Global DA\n",
      "Groundwater Storage - LIS 10km Global DA\n",
      "HLSL30.002 Environmental Justice Events\n",
      "HLSS30.002 Environmental Justice Events\n",
      "Houston LST (Diff)\n",
      "Houston Land Cover\n",
      "Houston NDVI: decadal average\n",
      "Houston land surface temperature at night time - decadal average\n",
      "Houston land surface temperature during daytime - decadal average\n",
      "Hurricane Ida - Blue Tarps PlanetScope Image\n",
      "Hurricane Ida - Detected Blue Tarps\n",
      "ICESat-2 L4 Monthly Gridded Sea Ice Thickness (COGs)\n",
      "MTBS Burn Severity\n",
      "Maximum Fire Radiative Power for Thomas Fire\n",
      "NCEO Africa Aboveground Woody Biomass 2017\n",
      "NO₂\n",
      "NO₂ (Diff)\n",
      "OMI/Aura Sulfur Dioxide (SO2) Total Column L3 1 day Best Pixel in 0.25 degree x 0.25 degree V3 as Cloud-Optimized GeoTIFFs (COGs)\n",
      "OMI_trno2 - 0.10 x 0.10 Annual as Cloud-Optimized GeoTIFFs (COGs)\n",
      "Population Density Maps using satellite imagery built by Meta\n",
      "Projected changes to winter (January, February, and March) average daily air temperature\n",
      "Projected changes to winter (January, February, and March) average daily air temperature\n",
      "Projected changes to winter (January, February, and March) cumulative daily precipitation\n",
      "Projected changes to winter (January, February, and March) cumulative daily precipitation\n",
      "Projections of Snow Water Equivalent (SWE)\n",
      "Projections of Snow Water Equivalent (SWE) - SSP2-4.5\n",
      "Projections of Snow Water Equivalent (SWE) - SSP5-8.5\n",
      "Projections of Snow Water Equivalent (SWE) Losses - SSP2-4.5\n",
      "Projections of Snow Water Equivalent (SWE) Losses - SSP5-8.5\n",
      "Projections of Snow Water Equivalent (SWE) losses\n",
      "Selected Landsat 7 through 9 Surface Reflectance Scenes for the Pine Island Glacier\n",
      "Selected Landsat 7 through 9 Surface Reflectance Scenes for the Thwaites Glacier\n",
      "Snow Water Equivalent - LIS 10km Global DA\n",
      "Social Vulnerability Index (Household)\n",
      "Social Vulnerability Index (Household) (Masked)\n",
      "Social Vulnerability Index (Housing)\n",
      "Social Vulnerability Index (Housing) (Masked)\n",
      "Social Vulnerability Index (Minority)\n",
      "Social Vulnerability Index (Minority) (Masked)\n",
      "Social Vulnerability Index (Overall)\n",
      "Social Vulnerability Index (Overall) (Masked)\n",
      "Social Vulnerability Index (SocioEconomic)\n",
      "Social Vulnerability Index (SocioEconomic) (Masked)\n",
      "Stream network across the Contiguous United States\n",
      "Streamflow - LIS 10km Global DA\n",
      "Subsurface Runoff - LIS 10km Global DA\n",
      "Surface runoff - LIS 10km Global DA\n",
      "Terrestrial Water Storage (TWS) Anomalies\n",
      "Terrestrial Water Storage - LIS 10km Global DA\n",
      "Terrestrial Water Storage Trend - LIS 10km Global DA\n",
      "Total Precipitation - LIS 10km Global DA\n",
      "Trend in Terrestrial Water Storage (TWS) Anomalies\n",
      "VIIRs Fire Detections\n",
      "disalexi-etsuppression\n"
     ]
    }
   ],
   "source": [
    "collections = list(catalog.get_collections())\n",
    "for collection in sorted(collections, key=lambda x: x.title):\n",
    "    print(collection.title)"
   ]
  },
  {
   "cell_type": "markdown",
   "metadata": {},
   "source": [
    "## Alternate approachs\n",
    "\n",
    "Instead of exploring STAC catalog programatically, you can discover available collections the following ways:\n",
    "\n",
    "* JSON API: https://staging-stac.delta-backend.com/collections\n",
    "* STAC Browser: http://veda-staging-stac-browser.s3-website-us-west-2.amazonaws.com"
   ]
  }
 ],
 "metadata": {
  "kernelspec": {
   "display_name": "Python 3 (ipykernel)",
   "language": "python",
   "name": "python3"
  },
  "language_info": {
   "codemirror_mode": {
    "name": "ipython",
    "version": 3
   },
   "file_extension": ".py",
   "mimetype": "text/x-python",
   "name": "python",
   "nbconvert_exporter": "python",
   "pygments_lexer": "ipython3",
   "version": "3.10.9"
  },
  "vscode": {
   "interpreter": {
    "hash": "1a1af0ee75eeea9e2e1ee996c87e7a2b11a0bebd85af04bb136d915cefc0abce"
   }
  }
 },
 "nbformat": 4,
 "nbformat_minor": 4
}
