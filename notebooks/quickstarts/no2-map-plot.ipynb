{
 "cells": [
  {
   "cell_type": "raw",
   "id": "ef7fc66c-e074-4e7d-b7f0-067c3959098e",
   "metadata": {},
   "source": [
    "---\n",
    "title: Get map from COGs - NO2\n",
    "description: Demonstrates generating a map for a given area.\n",
    "author: Leo Thomas, Julia Signell\n",
    "date: February 7, 2023\n",
    "execute:\n",
    "  freeze: true\n",
    "---"
   ]
  },
  {
   "cell_type": "markdown",
   "id": "83b43abe-d178-49ab-aee0-523fb138f2c9",
   "metadata": {},
   "source": [
    "## Run this notebook\n",
    "\n",
    "You can launch this notbook using mybinder, by clicking the button below.\n",
    "\n",
    "<a href=\"https://mybinder.org/v2/gh/NASA-IMPACT/veda-docs/HEAD?labpath=notebooks/quickstarts%2Fno2-map-plot.ipynb\">\n",
    "<img src=\"https://mybinder.org/badge_logo.svg\" alt=\"Binder\" title=\"A cute binder\" width=\"150\"/> \n",
    "</a>"
   ]
  },
  {
   "cell_type": "markdown",
   "id": "72eb97e2-386b-4db5-b520-e2cfc8b849e5",
   "metadata": {},
   "source": [
    "## Approach\n",
    "\n",
    "   1. Fetch STAC item for a particular date and collection - NO2 \n",
    "   2. Pass STAC item in to the raster API `/stac/tilejson.json` endpoint\n",
    "   3. Visualize tiles using `folium`\n"
   ]
  },
  {
   "cell_type": "code",
   "execution_count": 1,
   "id": "5e4e46f1-892c-45fe-956b-fa0752c0e70e",
   "metadata": {},
   "outputs": [],
   "source": [
    "import requests\n",
    "import folium"
   ]
  },
  {
   "cell_type": "markdown",
   "id": "74ab3470-45c2-4ee6-a8b5-e0822bcd3283",
   "metadata": {
    "tags": []
   },
   "source": [
    "## Declare your collection of interest\n",
    "\n",
    "You can discover available collections the following ways:\n",
    "\n",
    "* Programmatically: see example in the `list-collections.ipynb` notebook\n",
    "* JSON API: https://staging-stac.delta-backend.com/collections\n",
    "* STAC Browser: http://veda-staging-stac-browser.s3-website-us-west-2.amazonaws.com"
   ]
  },
  {
   "cell_type": "code",
   "execution_count": 2,
   "id": "b3cbcf7a-ba1e-4985-9780-2b2806d50e13",
   "metadata": {},
   "outputs": [],
   "source": [
    "STAC_API_URL = \"https://staging-stac.delta-backend.com\"\n",
    "RASTER_API_URL = \"https://staging-raster.delta-backend.com\"\n",
    "\n",
    "collection_name = \"no2-monthly\""
   ]
  },
  {
   "cell_type": "markdown",
   "id": "659a0d2f-7944-4074-a93e-f0099d59c9ae",
   "metadata": {},
   "source": [
    "## Fetch STAC collection\n",
    "\n",
    "We will use `requests` to fetch all the metadata about the collection of interest from STAC."
   ]
  },
  {
   "cell_type": "code",
   "execution_count": 3,
   "id": "f8584f43-07d0-4530-b71e-7eee38814a60",
   "metadata": {},
   "outputs": [
    {
     "data": {
      "text/plain": [
       "{'id': 'no2-monthly',\n",
       " 'type': 'Collection',\n",
       " 'links': [{'rel': 'items',\n",
       "   'type': 'application/geo+json',\n",
       "   'href': 'https://staging-stac.delta-backend.com/collections/no2-monthly/items'},\n",
       "  {'rel': 'parent',\n",
       "   'type': 'application/json',\n",
       "   'href': 'https://staging-stac.delta-backend.com/'},\n",
       "  {'rel': 'root',\n",
       "   'type': 'application/json',\n",
       "   'href': 'https://staging-stac.delta-backend.com/'},\n",
       "  {'rel': 'self',\n",
       "   'type': 'application/json',\n",
       "   'href': 'https://staging-stac.delta-backend.com/collections/no2-monthly'}],\n",
       " 'title': 'NO₂',\n",
       " 'assets': None,\n",
       " 'extent': {'spatial': {'bbox': [[-180, -90, 180, 90]]},\n",
       "  'temporal': {'interval': [['2016-01-01 00:00:00+00',\n",
       "     '2023-09-30 00:00:00+00']]}},\n",
       " 'license': 'MIT',\n",
       " 'keywords': None,\n",
       " 'providers': None,\n",
       " 'summaries': {'datetime': ['2016-01-01T00:00:00Z', '2023-09-30T00:00:00Z']},\n",
       " 'description': 'Darker colors indicate higher nitrogen dioxide (NO₂) levels and more activity. Lighter colors indicate lower levels of NO₂ and less activity. Missing pixels indicate areas of no data most likely associated with cloud cover or snow.',\n",
       " 'item_assets': {'cog_default': {'type': 'image/tiff; application=geotiff; profile=cloud-optimized',\n",
       "   'roles': ['data', 'layer'],\n",
       "   'title': 'Default COG Layer',\n",
       "   'description': 'Cloud optimized default layer to display on map'}},\n",
       " 'stac_version': '1.0.0',\n",
       " 'stac_extensions': None,\n",
       " 'dashboard:is_periodic': True,\n",
       " 'dashboard:time_density': 'month'}"
      ]
     },
     "execution_count": 3,
     "metadata": {},
     "output_type": "execute_result"
    }
   ],
   "source": [
    "collection = requests.get(f\"{STAC_API_URL}/collections/{collection_name}\").json()\n",
    "collection"
   ]
  },
  {
   "cell_type": "markdown",
   "id": "aea3352d-6a38-41c7-9dc9-f2c010b3a85b",
   "metadata": {},
   "source": [
    "## Fetch STAC item for a particular time\n",
    "\n",
    "We can use the search API to find the item that matches exactly our time of interest."
   ]
  },
  {
   "cell_type": "code",
   "execution_count": 6,
   "id": "b5eb7467",
   "metadata": {},
   "outputs": [
    {
     "data": {
      "text/plain": [
       "1"
      ]
     },
     "execution_count": 6,
     "metadata": {},
     "output_type": "execute_result"
    }
   ],
   "source": [
    "response = requests.post(\n",
    "    f\"{STAC_API_URL}/search\",\n",
    "    json={\n",
    "        \"collections\": [collection_name],\n",
    "        \"query\": {\"datetime\": {\"eq\": \"2021-01-01T00:00:00\"}},\n",
    "        \"limit\": 100,\n",
    "    },\n",
    ").json()\n",
    "items = response[\"features\"]\n",
    "len(items)"
   ]
  },
  {
   "cell_type": "markdown",
   "id": "a48c8d45-1923-40e8-b329-97ea432f1f89",
   "metadata": {},
   "source": [
    "Let's take a look at that one item."
   ]
  },
  {
   "cell_type": "code",
   "execution_count": 7,
   "id": "79a63492-b9be-4278-85f8-5464fcd9d142",
   "metadata": {
    "tags": []
   },
   "outputs": [
    {
     "data": {
      "text/plain": [
       "{'id': 'OMI_trno2_0.10x0.10_202101_Col3_V4.nc',\n",
       " 'bbox': [-180.0, -90.0, 180.0, 90.0],\n",
       " 'type': 'Feature',\n",
       " 'links': [{'rel': 'collection',\n",
       "   'type': 'application/json',\n",
       "   'href': 'https://staging-stac.delta-backend.com/collections/no2-monthly'},\n",
       "  {'rel': 'parent',\n",
       "   'type': 'application/json',\n",
       "   'href': 'https://staging-stac.delta-backend.com/collections/no2-monthly'},\n",
       "  {'rel': 'root',\n",
       "   'type': 'application/json',\n",
       "   'href': 'https://staging-stac.delta-backend.com/'},\n",
       "  {'rel': 'self',\n",
       "   'type': 'application/geo+json',\n",
       "   'href': 'https://staging-stac.delta-backend.com/collections/no2-monthly/items/OMI_trno2_0.10x0.10_202101_Col3_V4.nc'}],\n",
       " 'assets': {'cog_default': {'href': 's3://veda-data-store-staging/no2-monthly/OMI_trno2_0.10x0.10_202101_Col3_V4.nc.tif',\n",
       "   'type': 'image/tiff; application=geotiff; profile=cloud-optimized',\n",
       "   'roles': ['data', 'layer'],\n",
       "   'title': 'Default COG Layer',\n",
       "   'description': 'Cloud optimized default layer to display on map',\n",
       "   'raster:bands': [{'scale': 1.0,\n",
       "     'nodata': -1.2676506002282294e+30,\n",
       "     'offset': 0.0,\n",
       "     'sampling': 'area',\n",
       "     'data_type': 'float32',\n",
       "     'histogram': {'max': 35781585143857150,\n",
       "      'min': -4107596126486528.0,\n",
       "      'count': 11.0,\n",
       "      'buckets': [7437.0,\n",
       "       432387.0,\n",
       "       2866.0,\n",
       "       699.0,\n",
       "       356.0,\n",
       "       207.0,\n",
       "       76.0,\n",
       "       27.0,\n",
       "       7.0,\n",
       "       1.0]},\n",
       "     'statistics': {'mean': 367152773066762.6,\n",
       "      'stddev': 961254458662885.4,\n",
       "      'maximum': 35781585143857150,\n",
       "      'minimum': -4107596126486528.0,\n",
       "      'valid_percent': 84.69829559326172}}]}},\n",
       " 'geometry': {'type': 'Polygon',\n",
       "  'coordinates': [[[-180, -90],\n",
       "    [180, -90],\n",
       "    [180, 90],\n",
       "    [-180, 90],\n",
       "    [-180, -90]]]},\n",
       " 'collection': 'no2-monthly',\n",
       " 'properties': {'proj:bbox': [-180.0, -90.0, 180.0, 90.0],\n",
       "  'proj:epsg': 4326.0,\n",
       "  'proj:shape': [1800.0, 3600.0],\n",
       "  'end_datetime': '2021-01-31T00:00:00',\n",
       "  'proj:geometry': {'type': 'Polygon',\n",
       "   'coordinates': [[[-180.0, -90.0],\n",
       "     [180.0, -90.0],\n",
       "     [180.0, 90.0],\n",
       "     [-180.0, 90.0],\n",
       "     [-180.0, -90.0]]]},\n",
       "  'proj:transform': [0.1, 0.0, -180.0, 0.0, -0.1, 90.0, 0.0, 0.0, 1.0],\n",
       "  'start_datetime': '2021-01-01T00:00:00'},\n",
       " 'stac_version': '1.0.0',\n",
       " 'stac_extensions': ['https://stac-extensions.github.io/projection/v1.0.0/schema.json',\n",
       "  'https://stac-extensions.github.io/raster/v1.1.0/schema.json']}"
      ]
     },
     "execution_count": 7,
     "metadata": {},
     "output_type": "execute_result"
    }
   ],
   "source": [
    "item = items[0]\n",
    "item"
   ]
  },
  {
   "cell_type": "code",
   "execution_count": 8,
   "id": "7bc42fff",
   "metadata": {},
   "outputs": [],
   "source": [
    "item_stats = item['assets']['cog_default']['raster:bands'][0]['statistics']\n",
    "rescale_values = item_stats['minimum'], item_stats['maximum']"
   ]
  },
  {
   "cell_type": "markdown",
   "id": "c9b60ad7-ed96-42b2-9263-f7ddaa6ea7fe",
   "metadata": {},
   "source": [
    "## Use `/stac/tilejson.json` to get tiles\n",
    "\n",
    "We pass the, item id, collection name, and the `rescale_values` in to the RASTER API endpoint and get back a tile."
   ]
  },
  {
   "cell_type": "code",
   "execution_count": 10,
   "id": "71acb916",
   "metadata": {},
   "outputs": [
    {
     "data": {
      "text/plain": [
       "{'tilejson': '2.2.0',\n",
       " 'version': '1.0.0',\n",
       " 'scheme': 'xyz',\n",
       " 'tiles': ['https://staging-raster.delta-backend.com/stac/tiles/WebMercatorQuad/{z}/{x}/{y}@1x?collection=no2-monthly&item=OMI_trno2_0.10x0.10_202101_Col3_V4.nc&assets=cog_default&color_formula=gamma+r+1.05&colormap_name=rdbu_r&rescale=-4107596126486528.0%2C35781585143857150'],\n",
       " 'minzoom': 0,\n",
       " 'maxzoom': 24,\n",
       " 'bounds': [-180.0, -90.0, 180.0, 90.0],\n",
       " 'center': [0.0, 0.0, 0]}"
      ]
     },
     "execution_count": 10,
     "metadata": {},
     "output_type": "execute_result"
    }
   ],
   "source": [
    "tiles = requests.get(\n",
    "    f\"{RASTER_API_URL}/stac/tilejson.json?collection={item['collection']}&item={item['id']}\"\n",
    "    \"&assets=cog_default\"\n",
    "    \"&color_formula=gamma+r+1.05&colormap_name=rdbu_r\"\n",
    "    f\"&rescale={rescale_values[0]},{rescale_values[1]}\",\n",
    ").json()\n",
    "tiles"
   ]
  },
  {
   "cell_type": "markdown",
   "id": "b9430a57-851e-43a6-9fb3-bc18296291bf",
   "metadata": {},
   "source": [
    "With that tile url in hand we can create a simple visualization using `folium`."
   ]
  },
  {
   "cell_type": "code",
   "execution_count": 11,
   "id": "b4792eed",
   "metadata": {},
   "outputs": [
    {
     "data": {
      "text/html": [
       "<div style=\"width:100%;\"><div style=\"position:relative;width:100%;height:0;padding-bottom:60%;\"><span style=\"color:#565656\">Make this Notebook Trusted to load map: File -> Trust Notebook</span><iframe srcdoc=\"&lt;!DOCTYPE html&gt;\n",
       "&lt;html&gt;\n",
       "&lt;head&gt;\n",
       "    \n",
       "    &lt;meta http-equiv=&quot;content-type&quot; content=&quot;text/html; charset=UTF-8&quot; /&gt;\n",
       "    \n",
       "        &lt;script&gt;\n",
       "            L_NO_TOUCH = false;\n",
       "            L_DISABLE_3D = false;\n",
       "        &lt;/script&gt;\n",
       "    \n",
       "    &lt;style&gt;html, body {width: 100%;height: 100%;margin: 0;padding: 0;}&lt;/style&gt;\n",
       "    &lt;style&gt;#map {position:absolute;top:0;bottom:0;right:0;left:0;}&lt;/style&gt;\n",
       "    &lt;script src=&quot;https://cdn.jsdelivr.net/npm/leaflet@1.9.3/dist/leaflet.js&quot;&gt;&lt;/script&gt;\n",
       "    &lt;script src=&quot;https://code.jquery.com/jquery-3.7.1.min.js&quot;&gt;&lt;/script&gt;\n",
       "    &lt;script src=&quot;https://cdn.jsdelivr.net/npm/bootstrap@5.2.2/dist/js/bootstrap.bundle.min.js&quot;&gt;&lt;/script&gt;\n",
       "    &lt;script src=&quot;https://cdnjs.cloudflare.com/ajax/libs/Leaflet.awesome-markers/2.0.2/leaflet.awesome-markers.js&quot;&gt;&lt;/script&gt;\n",
       "    &lt;link rel=&quot;stylesheet&quot; href=&quot;https://cdn.jsdelivr.net/npm/leaflet@1.9.3/dist/leaflet.css&quot;/&gt;\n",
       "    &lt;link rel=&quot;stylesheet&quot; href=&quot;https://cdn.jsdelivr.net/npm/bootstrap@5.2.2/dist/css/bootstrap.min.css&quot;/&gt;\n",
       "    &lt;link rel=&quot;stylesheet&quot; href=&quot;https://netdna.bootstrapcdn.com/bootstrap/3.0.0/css/bootstrap.min.css&quot;/&gt;\n",
       "    &lt;link rel=&quot;stylesheet&quot; href=&quot;https://cdn.jsdelivr.net/npm/@fortawesome/fontawesome-free@6.2.0/css/all.min.css&quot;/&gt;\n",
       "    &lt;link rel=&quot;stylesheet&quot; href=&quot;https://cdnjs.cloudflare.com/ajax/libs/Leaflet.awesome-markers/2.0.2/leaflet.awesome-markers.css&quot;/&gt;\n",
       "    &lt;link rel=&quot;stylesheet&quot; href=&quot;https://cdn.jsdelivr.net/gh/python-visualization/folium/folium/templates/leaflet.awesome.rotate.min.css&quot;/&gt;\n",
       "    \n",
       "            &lt;meta name=&quot;viewport&quot; content=&quot;width=device-width,\n",
       "                initial-scale=1.0, maximum-scale=1.0, user-scalable=no&quot; /&gt;\n",
       "            &lt;style&gt;\n",
       "                #map_b760f5d56c6e116deffd4c09b180e7c2 {\n",
       "                    position: relative;\n",
       "                    width: 100.0%;\n",
       "                    height: 100.0%;\n",
       "                    left: 0.0%;\n",
       "                    top: 0.0%;\n",
       "                }\n",
       "                .leaflet-container { font-size: 1rem; }\n",
       "            &lt;/style&gt;\n",
       "        \n",
       "&lt;/head&gt;\n",
       "&lt;body&gt;\n",
       "    \n",
       "    \n",
       "            &lt;div class=&quot;folium-map&quot; id=&quot;map_b760f5d56c6e116deffd4c09b180e7c2&quot; &gt;&lt;/div&gt;\n",
       "        \n",
       "&lt;/body&gt;\n",
       "&lt;script&gt;\n",
       "    \n",
       "    \n",
       "            var map_b760f5d56c6e116deffd4c09b180e7c2 = L.map(\n",
       "                &quot;map_b760f5d56c6e116deffd4c09b180e7c2&quot;,\n",
       "                {\n",
       "                    center: [0.0, 0.0],\n",
       "                    crs: L.CRS.EPSG3857,\n",
       "                    zoom: 1,\n",
       "                    zoomControl: true,\n",
       "                    preferCanvas: false,\n",
       "                }\n",
       "            );\n",
       "\n",
       "            \n",
       "\n",
       "        \n",
       "    \n",
       "            var tile_layer_8bcaf12e8a9ebcbfd6f653010cb98f18 = L.tileLayer(\n",
       "                &quot;https://staging-raster.delta-backend.com/stac/tiles/WebMercatorQuad/{z}/{x}/{y}@1x?collection=no2-monthly\\u0026item=OMI_trno2_0.10x0.10_202101_Col3_V4.nc\\u0026assets=cog_default\\u0026color_formula=gamma+r+1.05\\u0026colormap_name=rdbu_r\\u0026rescale=-4107596126486528.0%2C35781585143857150&quot;,\n",
       "                {&quot;attribution&quot;: &quot;VEDA&quot;, &quot;detectRetina&quot;: false, &quot;maxNativeZoom&quot;: 18, &quot;maxZoom&quot;: 18, &quot;minZoom&quot;: 0, &quot;noWrap&quot;: false, &quot;opacity&quot;: 1, &quot;subdomains&quot;: &quot;abc&quot;, &quot;tms&quot;: false}\n",
       "            );\n",
       "        \n",
       "    \n",
       "            tile_layer_8bcaf12e8a9ebcbfd6f653010cb98f18.addTo(map_b760f5d56c6e116deffd4c09b180e7c2);\n",
       "        \n",
       "&lt;/script&gt;\n",
       "&lt;/html&gt;\" style=\"position:absolute;width:100%;height:100%;left:0;top:0;border:none !important;\" allowfullscreen webkitallowfullscreen mozallowfullscreen></iframe></div></div>"
      ],
      "text/plain": [
       "<folium.folium.Map at 0x7fcac62cb650>"
      ]
     },
     "execution_count": 11,
     "metadata": {},
     "output_type": "execute_result"
    }
   ],
   "source": [
    "folium.Map(\n",
    "    tiles=tiles[\"tiles\"][0],\n",
    "    attr=\"VEDA\",\n",
    ")"
   ]
  }
 ],
 "metadata": {
  "kernelspec": {
   "display_name": "Python 3 (ipykernel)",
   "language": "python",
   "name": "python3"
  },
  "language_info": {
   "codemirror_mode": {
    "name": "ipython",
    "version": 3
   },
   "file_extension": ".py",
   "mimetype": "text/x-python",
   "name": "python",
   "nbconvert_exporter": "python",
   "pygments_lexer": "ipython3",
   "version": "3.11.7"
  }
 },
 "nbformat": 4,
 "nbformat_minor": 5
}
