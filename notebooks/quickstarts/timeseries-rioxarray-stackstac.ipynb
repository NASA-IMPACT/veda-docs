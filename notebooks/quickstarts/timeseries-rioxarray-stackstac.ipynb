{
 "cells": [
  {
   "cell_type": "raw",
   "id": "f43a8dbd-1a62-49c1-b682-f9353b822675",
   "metadata": {},
   "source": [
    "---\n",
    "title: Calculate timeseries from COGs\n",
    "description: Demonstrates how to aggregate COGs using `pystac_client`, `rioxarray`, and `stackstac`\n",
    "author: Aimee Barciauskas, Julia Signell\n",
    "date: February 1, 2023\n",
    "execute:\n",
    "  freeze: true\n",
    "  cache: true\n",
    "---"
   ]
  },
  {
   "cell_type": "markdown",
   "id": "81b36cd7-5e66-41bd-bc79-cf75e580293b",
   "metadata": {},
   "source": [
    "## Run this notebook\n",
    "\n",
    "You can launch this notebook in VEDA JupyterHub by clicking the link below.\n",
    "\n",
    "[Launch in VEDA JupyterHub (requires access)](https://nasa-veda.2i2c.cloud/hub/user-redirect/git-pull?repo=https://github.com/NASA-IMPACT/veda-docs&urlpath=lab/tree/veda-docs/notebooks/quickstarts/timeseries-rioxarray-stackstac.ipynb&branch=main) \n",
    "\n",
    "<details><summary>Learn more</summary>\n",
    "    \n",
    "### Inside the Hub\n",
    "\n",
    "This notebook was written on the VEDA JupyterHub and as such is designed to be run on a jupyterhub which is associated with an AWS IAM role which has been granted permissions to the VEDA data store via its bucket policy. The instance used provided 16GB of RAM. \n",
    "\n",
    "See (VEDA Analytics JupyterHub Access)[https://nasa-impact.github.io/veda-docs/veda-jh-access.html] for information about how to gain access.\n",
    "\n",
    "### Outside the Hub\n",
    "\n",
    "The data is in a protected bucket. Please request access by emailng aimee@developmentseed.org or alexandra@developmentseed.org and providing your affiliation, interest in or expected use of the dataset and an AWS IAM role or user Amazon Resource Name (ARN). The team will help you configure the cognito client.\n",
    "\n",
    "You should then run:\n",
    "\n",
    "```\n",
    "%run -i 'cognito_login.py'\n",
    "```\n",
    "    \n",
    "</details>"
   ]
  },
  {
   "cell_type": "markdown",
   "id": "0af28e0e-aed3-4d11-9ebb-dc64e2cc69f0",
   "metadata": {},
   "source": [
    "## Approach\n",
    "\n",
    "   1. Use `pystac_client` to open the STAC catalog and retrieve the items in the collection\n",
    "   2. Use `stackstac` to create an `xarray` dataset containing all the items cropped to AOI\n",
    "   3. Calculate the mean for each timestep over the AOI"
   ]
  },
  {
   "cell_type": "code",
   "execution_count": 1,
   "id": "aadabf9e",
   "metadata": {},
   "outputs": [],
   "source": [
    "from pystac_client import Client\n",
    "import stackstac\n",
    "import rioxarray  # noqa"
   ]
  },
  {
   "cell_type": "markdown",
   "id": "17891bda-af2b-443d-80db-71cfb3d47823",
   "metadata": {
    "tags": []
   },
   "source": [
    "## Declare your collection of interest\n",
    "\n",
    "You can discover available collections the following ways:\n",
    "\n",
    "* Programmatically: see example in the `list-collections.ipynb` notebook\n",
    "* JSON API: https://staging-stac.delta-backend.com/collections\n",
    "* STAC Browser: http://veda-staging-stac-browser.s3-website-us-west-2.amazonaws.com"
   ]
  },
  {
   "cell_type": "code",
   "execution_count": 2,
   "id": "b0b2f0c2-b734-493d-ab3e-47ec65de0da5",
   "metadata": {},
   "outputs": [],
   "source": [
    "STAC_API_URL = \"https://staging-stac.delta-backend.com/\"\n",
    "collection = \"no2-monthly\""
   ]
  },
  {
   "cell_type": "markdown",
   "id": "fc316ef9",
   "metadata": {},
   "source": [
    "## Discover items in collection for region and time of interest\n",
    "\n",
    "Use `pystac_client` to search the STAC collection for a particular area of interest within specified datetime bounds."
   ]
  },
  {
   "cell_type": "code",
   "execution_count": 3,
   "id": "cbc79250-9ebe-4ab2-b200-07e2d5262113",
   "metadata": {},
   "outputs": [],
   "source": [
    "china_bbox = [\n",
    "    73.675,\n",
    "    18.198,\n",
    "    135.026,\n",
    "    53.459,\n",
    "]\n",
    "datetime = \"2000-01-01/2022-01-02\""
   ]
  },
  {
   "cell_type": "code",
   "execution_count": 4,
   "id": "8efe9b34",
   "metadata": {},
   "outputs": [
    {
     "name": "stdout",
     "output_type": "stream",
     "text": [
      "Found 73 items\n"
     ]
    }
   ],
   "source": [
    "catalog = Client.open(STAC_API_URL)\n",
    "\n",
    "search = catalog.search(\n",
    "    bbox=china_bbox, datetime=datetime, collections=[collection], limit=1000\n",
    ")\n",
    "items = list(search.items())\n",
    "print(f\"Found {len(items)} items\")"
   ]
  },
  {
   "cell_type": "markdown",
   "id": "beacc93f",
   "metadata": {},
   "source": [
    "## Read data\n",
    "\n",
    "Create an `xarray.DataSet` using `stackstac`"
   ]
  },
  {
   "cell_type": "code",
   "execution_count": 5,
   "id": "a8ec1e87-5a4d-4ac8-9130-bf16ddb22296",
   "metadata": {},
   "outputs": [],
   "source": [
    "# This is a workaround that is planning to move up into stackstac itself\n",
    "import rasterio as rio\n",
    "import boto3\n",
    "\n",
    "session = rio.session.AWSSession(boto3.Session())\n",
    "gdal_env = stackstac.DEFAULT_GDAL_ENV.updated(\n",
    "    always=dict(session=rio.session.AWSSession(boto3.Session()))\n",
    ")"
   ]
  },
  {
   "cell_type": "code",
   "execution_count": 6,
   "id": "cfcde367-f977-4bb4-b2ce-14f3271af7f1",
   "metadata": {},
   "outputs": [
    {
     "name": "stderr",
     "output_type": "stream",
     "text": [
      "/srv/conda/envs/notebook/lib/python3.11/site-packages/pystac_client/item_search.py:850: FutureWarning: get_all_items() is deprecated, use item_collection() instead.\n",
      "  warnings.warn(\n"
     ]
    },
    {
     "ename": "AssertionError",
     "evalue": "`out_epsg` not found. out_epsg=4326.0",
     "output_type": "error",
     "traceback": [
      "\u001b[0;31m---------------------------------------------------------------------------\u001b[0m",
      "\u001b[0;31mAssertionError\u001b[0m                            Traceback (most recent call last)",
      "Cell \u001b[0;32mIn[6], line 1\u001b[0m\n\u001b[0;32m----> 1\u001b[0m da \u001b[38;5;241m=\u001b[39m \u001b[43mstackstac\u001b[49m\u001b[38;5;241;43m.\u001b[39;49m\u001b[43mstack\u001b[49m\u001b[43m(\u001b[49m\u001b[43msearch\u001b[49m\u001b[38;5;241;43m.\u001b[39;49m\u001b[43mget_all_items\u001b[49m\u001b[43m(\u001b[49m\u001b[43m)\u001b[49m\u001b[43m,\u001b[49m\u001b[43m \u001b[49m\u001b[43mgdal_env\u001b[49m\u001b[38;5;241;43m=\u001b[39;49m\u001b[43mgdal_env\u001b[49m\u001b[43m)\u001b[49m\n\u001b[1;32m      2\u001b[0m da \u001b[38;5;241m=\u001b[39m da\u001b[38;5;241m.\u001b[39massign_coords({\u001b[38;5;124m\"\u001b[39m\u001b[38;5;124mtime\u001b[39m\u001b[38;5;124m\"\u001b[39m: da\u001b[38;5;241m.\u001b[39mstart_datetime})\n\u001b[1;32m      3\u001b[0m da\n",
      "File \u001b[0;32m/srv/conda/envs/notebook/lib/python3.11/site-packages/stackstac/stack.py:290\u001b[0m, in \u001b[0;36mstack\u001b[0;34m(items, assets, epsg, resolution, bounds, bounds_latlon, snap_bounds, resampling, chunksize, dtype, fill_value, rescale, sortby_date, xy_coords, properties, band_coords, gdal_env, errors_as_nodata, reader)\u001b[0m\n\u001b[1;32m    283\u001b[0m \u001b[38;5;28;01mif\u001b[39;00m sortby_date \u001b[38;5;129;01mis\u001b[39;00m \u001b[38;5;129;01mnot\u001b[39;00m \u001b[38;5;28;01mFalse\u001b[39;00m:\n\u001b[1;32m    284\u001b[0m     plain_items \u001b[38;5;241m=\u001b[39m \u001b[38;5;28msorted\u001b[39m(\n\u001b[1;32m    285\u001b[0m         plain_items,\n\u001b[1;32m    286\u001b[0m         key\u001b[38;5;241m=\u001b[39m\u001b[38;5;28;01mlambda\u001b[39;00m item: item[\u001b[38;5;124m\"\u001b[39m\u001b[38;5;124mproperties\u001b[39m\u001b[38;5;124m\"\u001b[39m]\u001b[38;5;241m.\u001b[39mget(\u001b[38;5;124m\"\u001b[39m\u001b[38;5;124mdatetime\u001b[39m\u001b[38;5;124m\"\u001b[39m, \u001b[38;5;124m\"\u001b[39m\u001b[38;5;124m\"\u001b[39m) \u001b[38;5;129;01mor\u001b[39;00m \u001b[38;5;124m\"\u001b[39m\u001b[38;5;124m\"\u001b[39m,\n\u001b[1;32m    287\u001b[0m         reverse\u001b[38;5;241m=\u001b[39msortby_date \u001b[38;5;241m==\u001b[39m \u001b[38;5;124m\"\u001b[39m\u001b[38;5;124mdesc\u001b[39m\u001b[38;5;124m\"\u001b[39m,\n\u001b[1;32m    288\u001b[0m     )\n\u001b[0;32m--> 290\u001b[0m asset_table, spec, asset_ids, plain_items \u001b[38;5;241m=\u001b[39m \u001b[43mprepare_items\u001b[49m\u001b[43m(\u001b[49m\n\u001b[1;32m    291\u001b[0m \u001b[43m    \u001b[49m\u001b[43mplain_items\u001b[49m\u001b[43m,\u001b[49m\n\u001b[1;32m    292\u001b[0m \u001b[43m    \u001b[49m\u001b[43massets\u001b[49m\u001b[38;5;241;43m=\u001b[39;49m\u001b[43massets\u001b[49m\u001b[43m,\u001b[49m\n\u001b[1;32m    293\u001b[0m \u001b[43m    \u001b[49m\u001b[43mepsg\u001b[49m\u001b[38;5;241;43m=\u001b[39;49m\u001b[43mepsg\u001b[49m\u001b[43m,\u001b[49m\n\u001b[1;32m    294\u001b[0m \u001b[43m    \u001b[49m\u001b[43mresolution\u001b[49m\u001b[38;5;241;43m=\u001b[39;49m\u001b[43mresolution\u001b[49m\u001b[43m,\u001b[49m\n\u001b[1;32m    295\u001b[0m \u001b[43m    \u001b[49m\u001b[43mbounds\u001b[49m\u001b[38;5;241;43m=\u001b[39;49m\u001b[43mbounds\u001b[49m\u001b[43m,\u001b[49m\n\u001b[1;32m    296\u001b[0m \u001b[43m    \u001b[49m\u001b[43mbounds_latlon\u001b[49m\u001b[38;5;241;43m=\u001b[39;49m\u001b[43mbounds_latlon\u001b[49m\u001b[43m,\u001b[49m\n\u001b[1;32m    297\u001b[0m \u001b[43m    \u001b[49m\u001b[43msnap_bounds\u001b[49m\u001b[38;5;241;43m=\u001b[39;49m\u001b[43msnap_bounds\u001b[49m\u001b[43m,\u001b[49m\n\u001b[1;32m    298\u001b[0m \u001b[43m    \u001b[49m\u001b[43mrescale\u001b[49m\u001b[38;5;241;43m=\u001b[39;49m\u001b[43mrescale\u001b[49m\u001b[43m,\u001b[49m\n\u001b[1;32m    299\u001b[0m \u001b[43m    \u001b[49m\u001b[43mdtype\u001b[49m\u001b[38;5;241;43m=\u001b[39;49m\u001b[43mdtype\u001b[49m\u001b[43m,\u001b[49m\n\u001b[1;32m    300\u001b[0m \u001b[43m\u001b[49m\u001b[43m)\u001b[49m\n\u001b[1;32m    301\u001b[0m arr \u001b[38;5;241m=\u001b[39m items_to_dask(\n\u001b[1;32m    302\u001b[0m     asset_table,\n\u001b[1;32m    303\u001b[0m     spec,\n\u001b[0;32m   (...)\u001b[0m\n\u001b[1;32m    311\u001b[0m     errors_as_nodata\u001b[38;5;241m=\u001b[39merrors_as_nodata,\n\u001b[1;32m    312\u001b[0m )\n\u001b[1;32m    314\u001b[0m \u001b[38;5;28;01mreturn\u001b[39;00m xr\u001b[38;5;241m.\u001b[39mDataArray(\n\u001b[1;32m    315\u001b[0m     arr,\n\u001b[1;32m    316\u001b[0m     \u001b[38;5;241m*\u001b[39mto_coords(\n\u001b[0;32m   (...)\u001b[0m\n\u001b[1;32m    325\u001b[0m     name\u001b[38;5;241m=\u001b[39m\u001b[38;5;124m\"\u001b[39m\u001b[38;5;124mstackstac-\u001b[39m\u001b[38;5;124m\"\u001b[39m \u001b[38;5;241m+\u001b[39m dask\u001b[38;5;241m.\u001b[39mbase\u001b[38;5;241m.\u001b[39mtokenize(arr),\n\u001b[1;32m    326\u001b[0m )\n",
      "File \u001b[0;32m/srv/conda/envs/notebook/lib/python3.11/site-packages/stackstac/prepare.py:206\u001b[0m, in \u001b[0;36mprepare_items\u001b[0;34m(items, assets, epsg, resolution, bounds, bounds_latlon, snap_bounds, rescale, dtype)\u001b[0m\n\u001b[1;32m    198\u001b[0m     \u001b[38;5;28;01melif\u001b[39;00m out_epsg \u001b[38;5;241m!=\u001b[39m asset_epsg:\n\u001b[1;32m    199\u001b[0m         \u001b[38;5;28;01mraise\u001b[39;00m \u001b[38;5;167;01mValueError\u001b[39;00m(\n\u001b[1;32m    200\u001b[0m             \u001b[38;5;124mf\u001b[39m\u001b[38;5;124m\"\u001b[39m\u001b[38;5;124mCannot pick a common CRS, since assets have multiple CRSs: asset \u001b[39m\u001b[38;5;132;01m{\u001b[39;00m\u001b[38;5;28mid\u001b[39m\u001b[38;5;132;01m!r}\u001b[39;00m\u001b[38;5;124m of item \u001b[39m\u001b[38;5;124m\"\u001b[39m\n\u001b[1;32m    201\u001b[0m             \u001b[38;5;124mf\u001b[39m\u001b[38;5;124m\"\u001b[39m\u001b[38;5;132;01m{\u001b[39;00mitem_i\u001b[38;5;132;01m}\u001b[39;00m\u001b[38;5;124m \u001b[39m\u001b[38;5;132;01m{\u001b[39;00mitem[\u001b[38;5;124m'\u001b[39m\u001b[38;5;124mid\u001b[39m\u001b[38;5;124m'\u001b[39m]\u001b[38;5;132;01m!r}\u001b[39;00m\u001b[38;5;124m is in EPSG:\u001b[39m\u001b[38;5;132;01m{\u001b[39;00masset_epsg\u001b[38;5;132;01m}\u001b[39;00m\u001b[38;5;124m, \u001b[39m\u001b[38;5;124m\"\u001b[39m\n\u001b[1;32m    202\u001b[0m             \u001b[38;5;124mf\u001b[39m\u001b[38;5;124m\"\u001b[39m\u001b[38;5;124mbut assets before it were in EPSG:\u001b[39m\u001b[38;5;132;01m{\u001b[39;00mout_epsg\u001b[38;5;132;01m}\u001b[39;00m\u001b[38;5;124m.\u001b[39m\u001b[38;5;130;01m\\n\u001b[39;00m\u001b[38;5;130;01m\\n\u001b[39;00m\u001b[38;5;124m\"\u001b[39m\n\u001b[1;32m    203\u001b[0m             \u001b[38;5;124m\"\u001b[39m\u001b[38;5;124mPlease specify a CRS with the `epsg=` argument.\u001b[39m\u001b[38;5;124m\"\u001b[39m\n\u001b[1;32m    204\u001b[0m         )\n\u001b[0;32m--> 206\u001b[0m \u001b[38;5;28;01massert\u001b[39;00m \u001b[38;5;28misinstance\u001b[39m(out_epsg, \u001b[38;5;28mint\u001b[39m), \u001b[38;5;124mf\u001b[39m\u001b[38;5;124m\"\u001b[39m\u001b[38;5;124m`out_epsg` not found. \u001b[39m\u001b[38;5;132;01m{\u001b[39;00mout_epsg\u001b[38;5;132;01m=}\u001b[39;00m\u001b[38;5;124m\"\u001b[39m\n\u001b[1;32m    207\u001b[0m \u001b[38;5;66;03m# ^ because if it was None initially, and we didn't error out in the above check, it's now always set\u001b[39;00m\n\u001b[1;32m    209\u001b[0m \u001b[38;5;28;01mif\u001b[39;00m bounds_latlon \u001b[38;5;129;01mis\u001b[39;00m \u001b[38;5;129;01mnot\u001b[39;00m \u001b[38;5;28;01mNone\u001b[39;00m \u001b[38;5;129;01mand\u001b[39;00m out_bounds \u001b[38;5;129;01mis\u001b[39;00m \u001b[38;5;28;01mNone\u001b[39;00m:\n",
      "\u001b[0;31mAssertionError\u001b[0m: `out_epsg` not found. out_epsg=4326.0"
     ]
    }
   ],
   "source": [
    "da = stackstac.stack(search.get_all_items(), gdal_env=gdal_env)\n",
    "da = da.assign_coords({\"time\": da.start_datetime})\n",
    "da"
   ]
  },
  {
   "cell_type": "markdown",
   "id": "a0a59a7f-b3bc-4783-8da5-c455acaf02a6",
   "metadata": {},
   "source": [
    "## Clip the data to the bounding box for China"
   ]
  },
  {
   "cell_type": "code",
   "execution_count": null,
   "id": "92bed8e4-dcf0-4226-8d1c-7ca66460ac52",
   "metadata": {},
   "outputs": [],
   "source": [
    "# Subset to Bounding Box for China\n",
    "subset = da.rio.clip_box(*china_bbox)\n",
    "subset"
   ]
  },
  {
   "cell_type": "markdown",
   "id": "01c72503",
   "metadata": {},
   "source": [
    "## Select a band of data\n",
    "\n",
    "There is just one band in this case, `cog_default`."
   ]
  },
  {
   "cell_type": "code",
   "execution_count": null,
   "id": "be794df9",
   "metadata": {},
   "outputs": [],
   "source": [
    "# select the band default\n",
    "data_band = da.sel(band=\"cog_default\")"
   ]
  },
  {
   "cell_type": "markdown",
   "id": "2292a792-5859-4fc1-83b8-06d48d94197b",
   "metadata": {},
   "source": [
    "## Aggregate the data\n",
    "\n",
    "Calculate the mean at each time across the whole dataset. Note this is the first time that the data is actually loaded."
   ]
  },
  {
   "cell_type": "code",
   "execution_count": null,
   "id": "ab7632e9-ea71-482d-b8f6-7c987f20fdfa",
   "metadata": {},
   "outputs": [],
   "source": [
    "# Average over entire spatial bounding box for each month\n",
    "means = data_band.mean(dim=(\"x\", \"y\")).compute()"
   ]
  },
  {
   "cell_type": "code",
   "execution_count": null,
   "id": "b39bf4ae-1f5d-4e07-ba5c-2837cdb13999",
   "metadata": {},
   "outputs": [],
   "source": [
    "means.plot()"
   ]
  }
 ],
 "metadata": {
  "kernelspec": {
   "display_name": "Python 3 (ipykernel)",
   "language": "python",
   "name": "python3"
  },
  "language_info": {
   "codemirror_mode": {
    "name": "ipython",
    "version": 3
   },
   "file_extension": ".py",
   "mimetype": "text/x-python",
   "name": "python",
   "nbconvert_exporter": "python",
   "pygments_lexer": "ipython3",
   "version": "3.11.7"
  }
 },
 "nbformat": 4,
 "nbformat_minor": 5
}
