{
 "cells": [
  {
   "cell_type": "markdown",
   "id": "21dec434-0eee-4c31-9dfd-f07445c3136e",
   "metadata": {},
   "source": [
    "<div class=\"alert alert-block alert-success\">\n",
    "    This notebook is intended to act as a template for the example notebooks that access the data directly. These green cells should all be deleted and in several sections only one of the provided cells should be included in the notebook.\n",
    "</div>"
   ]
  },
  {
   "cell_type": "raw",
   "id": "c7ab74b2-f3b9-4326-a655-70e8df9f1261",
   "metadata": {},
   "source": [
    "---\n",
    "title: \n",
    "description: \n",
    "author: \n",
    "date: Month day, year\n",
    "execute:\n",
    "  freeze: true\n",
    "---"
   ]
  },
  {
   "cell_type": "markdown",
   "id": "01cbb159-2789-463d-8279-4b104107f185",
   "metadata": {},
   "source": [
    "<div class=\"alert alert-block alert-success\">\n",
    "\n",
    "Update the link in the following section.\n",
    "    \n",
    "</div>"
   ]
  },
  {
   "cell_type": "markdown",
   "id": "7fc7fb2f-c356-459b-9806-5075e6d8d1f5",
   "metadata": {},
   "source": [
    "## Run this notebook\n",
    "\n",
    "You can launch this notebook in VEDA JupyterHub by clicking the link below.\n",
    "\n",
    "[Launch in VEDA JupyterHub (requires access)](https://hub.openveda.cloud/hub/user-redirect/git-pull?repo=https://github.com/NASA-IMPACT/veda-docs&urlpath=lab/tree/veda-docs/notebooks/template.ipynb&branch=main) \n",
    "\n",
    "<details><summary>Learn more</summary>\n",
    "    \n",
    "### Inside the Hub\n",
    "\n",
    "This notebook was written on the VEDA JupyterHub and as such is designed to be run on a jupyterhub which is associated with an AWS IAM role which has been granted permissions to the VEDA data store via its bucket policy. The instance used provided 16GB of RAM. \n",
    "\n",
    "See (VEDA Analytics JupyterHub Access)[https://nasa-impact.github.io/veda-docs/veda-jh-access.html] for information about how to gain access.\n",
    "\n",
    "### Outside the Hub\n",
    "\n",
    "The data is in a protected bucket. Please request access by emailing aimee@developmentseed.org or alexandra@developmentseed.org and providing your affiliation, interest in or expected use of the dataset and an AWS IAM role or user Amazon Resource Name (ARN). The team will help you configure the cognito client.\n",
    "\n",
    "You should then run:\n",
    "\n",
    "```\n",
    "%run -i 'cognito_login.py'\n",
    "```\n",
    "    \n",
    "</details>"
   ]
  },
  {
   "cell_type": "markdown",
   "id": "47280eab-909a-4331-8b6c-c11892c6ed75",
   "metadata": {},
   "source": [
    "<div class=\"alert alert-block alert-success\">\n",
    "    \n",
    "Fill in the text in _italics_ in the following cells\n",
    "\n",
    "</div>"
   ]
  },
  {
   "cell_type": "markdown",
   "id": "f56368ca-2159-4fb4-ad1c-38a30b41b773",
   "metadata": {},
   "source": [
    "## Approach\n",
    "\n",
    "   1. _list a few steps that outline the approach_\n",
    "   2. _you will be taking in this notebook_"
   ]
  },
  {
   "cell_type": "code",
   "execution_count": null,
   "id": "4ff03b7a-5b3c-427c-b11e-c548b42db0d1",
   "metadata": {},
   "outputs": [],
   "source": [
    "# include all your imports in this cell\n",
    "import folium\n",
    "import requests\n",
    "import stackstac\n",
    "\n",
    "from pystac_client import Client"
   ]
  },
  {
   "cell_type": "markdown",
   "id": "e54a4768-7677-4597-a241-219e675a9e66",
   "metadata": {
    "tags": []
   },
   "source": [
    "## About the data\n",
    "\n",
    "_Optional description of the dataset._"
   ]
  },
  {
   "cell_type": "markdown",
   "id": "65003a57-ba12-409a-8e73-8f7b25fe34f5",
   "metadata": {
    "tags": []
   },
   "source": [
    "## Declare your collection of interest\n",
    "\n",
    "You can discover available collections the following ways:\n",
    "\n",
    "* Programmatically: see example in the `list-collections.ipynb` notebook\n",
    "* JSON API: https://staging-stac.delta-backend.com/collections\n",
    "* STAC Browser: http://veda-staging-stac-browser.s3-website-us-west-2.amazonaws.com"
   ]
  },
  {
   "cell_type": "code",
   "execution_count": null,
   "id": "2ffe563a-42e5-4c7a-a23e-1e71085c265f",
   "metadata": {},
   "outputs": [],
   "source": [
    "STAC_API_URL = \"https://staging-stac.delta-backend.com\"\n",
    "\n",
    "collection_id = "
   ]
  },
  {
   "cell_type": "markdown",
   "id": "d21d96ab-411a-4ebd-91f7-2425b2b93298",
   "metadata": {},
   "source": [
    "<div class=\"alert alert-block alert-success\">\n",
    "    \n",
    "Next step is to get STAC objects from the STAC API. We use `pystac-client` to do a search. Here is an some example of what that might look like.\n",
    "\n",
    "</div>"
   ]
  },
  {
   "cell_type": "markdown",
   "id": "d7f38c49-a7dd-485b-8ba2-aa84330fff34",
   "metadata": {},
   "source": [
    "## Discover items in collection for region and time of interest\n",
    "\n",
    "Use `pystac_client` to search the STAC collection for a particular area of interest within specified datetime bounds."
   ]
  },
  {
   "cell_type": "code",
   "execution_count": null,
   "id": "876ad293-e942-4820-909f-e85d01afa843",
   "metadata": {},
   "outputs": [],
   "source": [
    "bbox = []\n",
    "datetime = \"2000-01-01/2022-01-02\""
   ]
  },
  {
   "cell_type": "code",
   "execution_count": null,
   "id": "34b4fe77-baef-403c-b293-c2f48afb7b0d",
   "metadata": {},
   "outputs": [],
   "source": [
    "catalog = Client.open(STAC_API_URL)\n",
    "\n",
    "search = catalog.search(\n",
    "    bbox=bbox, datetime=datetime, collections=[collection_id], limit=1000\n",
    ")\n",
    "items = list(search.items())\n",
    "print(f\"Found {len(items)} items\")"
   ]
  },
  {
   "cell_type": "markdown",
   "id": "e7ad8e7f-5943-44c9-b2bc-26d2c2497e53",
   "metadata": {},
   "source": [
    "<div class=\"alert alert-block alert-success\">\n",
    "The next step is often to define an Area of Interest. Note that it is preferred to get large geojson objects directly from their source rather than storing them in this repository or inlining them in the notebook. Here is an example of what that might look like. \n",
    "</div>"
   ]
  },
  {
   "cell_type": "markdown",
   "id": "f8a10cfd-a645-480d-aca6-bcf3986c1967",
   "metadata": {
    "tags": []
   },
   "source": [
    "## Define an AOI\n",
    "\n",
    "_We can fetch GeoJSON from an authoritative online source for instance: https://gadm.org/download_country.html_"
   ]
  },
  {
   "cell_type": "code",
   "execution_count": null,
   "id": "46de09a5-808d-4cba-9573-7bec5ea1f2e1",
   "metadata": {},
   "outputs": [],
   "source": [
    "response = requests.get(\n",
    "    \"https://geodata.ucdavis.edu/gadm/gadm4.1/json/gadm41_FRA_0.json\"\n",
    ")\n",
    "\n",
    "# If anything goes wrong with this request output error contents\n",
    "assert response.ok, response.text\n",
    "\n",
    "result = response.json()\n",
    "print(f\"There are {len(result['features'])} features in this collection\")"
   ]
  },
  {
   "cell_type": "markdown",
   "id": "0520f739-0691-48b7-b6f9-f043a4c2e6a9",
   "metadata": {},
   "source": [
    "That is the geojson for a feature collection, but since there is only one feature in it we can grab just that."
   ]
  },
  {
   "cell_type": "code",
   "execution_count": null,
   "id": "ba0fa4c5-4ff5-4906-a8a2-8e308f184c45",
   "metadata": {},
   "outputs": [],
   "source": [
    "aoi = result[\"features\"][0]"
   ]
  },
  {
   "cell_type": "markdown",
   "id": "b66e474f-101a-4dc4-98b7-cd0bd6f2637f",
   "metadata": {},
   "source": [
    "<div class=\"alert alert-block alert-success\">\n",
    "    \n",
    "Next some notebooks read in the data. If you are using the raster API to trigger computation server side skip this section. Here is an example of reading the data in using `stackstac` and clipping using `rasterio`. \n",
    "    \n",
    "</div>"
   ]
  },
  {
   "cell_type": "code",
   "execution_count": null,
   "id": "dc63a056-959d-4121-ba57-10a8ce496274",
   "metadata": {},
   "outputs": [],
   "source": [
    "m = folium.Map(\n",
    "    location=[40, 0],\n",
    "    zoom_start=2,\n",
    ")\n",
    "\n",
    "folium.GeoJson(aoi, name=\"AOI\").add_to(m)\n",
    "m"
   ]
  },
  {
   "cell_type": "markdown",
   "id": "4244bd36-d75d-4001-94ff-8ebda6287334",
   "metadata": {
    "tags": []
   },
   "source": [
    "## Read data\n",
    "\n",
    "Create an `xarray.DataSet` using `stackstac`"
   ]
  },
  {
   "cell_type": "code",
   "execution_count": null,
   "id": "ff6f9457-5898-4671-a7ef-5e93e14840d5",
   "metadata": {},
   "outputs": [],
   "source": [
    "# This is a workaround that is planning to move up into stackstac itself\n",
    "import rasterio as rio\n",
    "import boto3\n",
    "\n",
    "gdal_env = stackstac.DEFAULT_GDAL_ENV.updated(\n",
    "    always=dict(AWS_NO_SIGN_REQUEST=True, session=rio.session.AWSSession(boto3.Session())\n",
    ")"
   ]
  },
  {
   "cell_type": "code",
   "execution_count": null,
   "id": "4d36aacb-8e00-449d-978f-6bcad6adcc5c",
   "metadata": {},
   "outputs": [],
   "source": [
    "da = stackstac.stack(search.item_collection(), gdal_env=gdal_env)\n",
    "da = da.assign_coords({\"time\": pd.to_datetime(da.start_datetime)})\n",
    "da"
   ]
  },
  {
   "cell_type": "markdown",
   "id": "48a7f988-3676-4f7a-9242-2a6a762b312a",
   "metadata": {},
   "source": [
    "## Clip the data to AOI"
   ]
  },
  {
   "cell_type": "code",
   "execution_count": null,
   "id": "986bc308-3415-486a-b6fa-4155bfdd2755",
   "metadata": {},
   "outputs": [],
   "source": [
    "subset = da.rio.clip([aoi[\"geometry\"]])\n",
    "subset"
   ]
  },
  {
   "cell_type": "markdown",
   "id": "96616480-5d60-4e66-b9a2-a86403dadf94",
   "metadata": {},
   "source": [
    "<div class=\"alert alert-block alert-success\">\n",
    "    \n",
    "With the STAC object, and optionally the AOI and/or the data in hand, the next step is to do some analysis. The sections in the rest of the notebooks are totally up to you! Here is an idea though :)\n",
    "    \n",
    "</div>"
   ]
  },
  {
   "cell_type": "markdown",
   "id": "66f38729-98af-496f-a1fc-5e0ca6f51cd7",
   "metadata": {},
   "source": [
    "## Select a band of data\n",
    "\n",
    "There is just one band in this case, `cog_default`."
   ]
  },
  {
   "cell_type": "code",
   "execution_count": null,
   "id": "ddcdcc0b-7c33-44e7-8fc4-4c3e6d903ad0",
   "metadata": {},
   "outputs": [],
   "source": [
    "data_band = da.sel(band=\"cog_default\")"
   ]
  },
  {
   "cell_type": "markdown",
   "id": "34d5a8a1-3e98-4ec0-bbe3-d20310f88778",
   "metadata": {},
   "source": [
    "## Compute and plot\n",
    "\n",
    "Calculate the mean at each time across the whole dataset. Note this is the first time that the data is actually loaded."
   ]
  },
  {
   "cell_type": "code",
   "execution_count": null,
   "id": "5fce20b3-47f1-46f3-9c7e-ad711451eee1",
   "metadata": {},
   "outputs": [],
   "source": [
    "# Average over entire AOI for each month\n",
    "means = data_band.mean(dim=(\"x\", \"y\")).compute()"
   ]
  },
  {
   "cell_type": "code",
   "execution_count": null,
   "id": "996f8eec-ce1d-43cf-8238-68d0325db544",
   "metadata": {},
   "outputs": [],
   "source": [
    "means.plot()"
   ]
  }
 ],
 "metadata": {
  "kernelspec": {
   "display_name": "Python 3 (ipykernel)",
   "language": "python",
   "name": "python3"
  },
  "language_info": {
   "codemirror_mode": {
    "name": "ipython",
    "version": 3
   },
   "file_extension": ".py",
   "mimetype": "text/x-python",
   "name": "python",
   "nbconvert_exporter": "python",
   "pygments_lexer": "ipython3",
   "version": "3.10.12"
  }
 },
 "nbformat": 4,
 "nbformat_minor": 5
}
