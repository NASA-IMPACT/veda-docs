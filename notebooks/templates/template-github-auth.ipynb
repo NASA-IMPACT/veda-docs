{
 "cells": [
  {
   "cell_type": "code",
   "execution_count": null,
   "metadata": {
    "vscode": {
     "languageId": "plaintext"
    }
   },
   "outputs": [],
   "source": [
    "import gh_scoped_creds  # noqa\n",
    "\n",
    "%ghscopedcreds"
   ]
  }
 ],
 "metadata": {
  "language_info": {
   "name": "python"
  }
 },
 "nbformat": 4,
 "nbformat_minor": 2
}
