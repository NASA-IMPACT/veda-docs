{
 "cells": [
  {
   "cell_type": "markdown",
   "id": "dd5607aa-2e4e-4f14-a56b-40ec6cdb9c50",
   "metadata": {
    "tags": []
   },
   "source": [
    "---\n",
    "title: Publishing a CMIP6 Kerchunk Reference to STAC\n",
    "description: Tutorial for data providers who want to create a kerchunk reference for NetCDF files.\n",
    "author: Aimee Barciauskas\n",
    "date: November 17, 2023\n",
    "execute:\n",
    "  freeze: true\n",
    "  cache: true\n",
    "---"
   ]
  },
  {
   "cell_type": "markdown",
   "metadata": {},
   "source": [
    "## Run this notebook\n",
    "\n",
    "You can launch this notebook in VEDA JupyterHub by clicking the link below.\n",
    "\n",
    "[Launch in VEDA JupyterHub (requires access)](https://hub.openveda.cloud/hub/user-redirect/git-pull?repo=https://github.com/NASA-IMPACT/veda-docs&urlpath=lab/tree/veda-docs/notebooks/veda-operations/publish-cmip6-kerchunk-stac.ipynb&branch=main) \n",
    "\n",
    "<details><summary>Learn more</summary>\n",
    "    \n",
    "### Inside the Hub\n",
    "\n",
    "This notebook was written on a VEDA JupyterHub instance\n",
    "\n",
    "See (VEDA Analytics JupyterHub Access)[https://nasa-impact.github.io/veda-docs/veda-jh-access.html] for information about how to gain access.\n",
    "\n",
    "### Outside the Hub\n",
    "\n",
    "You are welcome to run this anywhere you like (Note: alternatively you can run this on https://daskhub.veda.smce.nasa.gov/, MAAP, locally, ...), just make sure that the data is accessible, or get in contact with the VEDA team to enable access.\n",
    "\n",
    "</details>"
   ]
  },
  {
   "cell_type": "markdown",
   "id": "75fb0ac8-80d8-4169-9aed-f4ac50b3d1d6",
   "metadata": {},
   "source": [
    "## Approach\n",
    "\n",
    "This notebook creates STAC collection metadata for a CMIP6 Kerchunk Reference File which has already been generated and stored in S3.\n",
    "\n",
    "This notebook serves as documentation for the publication of the CMIP6 kerchunk reference. It is not expected to generalize for arbitrary Zarr datasets but may be a helpful example. It was run on the [VEDA JupyterHub](https://nasa-impact.github.io/veda-docs/services/jupyterhub.html) and since `veda-data-store-staging` is a protected bucket it is not expected to work in an environment without access to that bucket. \n",
    "\n",
    "## Step 1: Install and import necessary libraries"
   ]
  },
  {
   "cell_type": "code",
   "execution_count": 1,
   "id": "3c3e536f-f61f-4ad7-a0b4-414387d634d1",
   "metadata": {
    "tags": []
   },
   "outputs": [],
   "source": [
    "#!pip install xstac\n",
    "import pystac\n",
    "import requests\n",
    "import s3fs\n",
    "import xstac\n",
    "import fsspec\n",
    "import xarray as xr"
   ]
  },
  {
   "cell_type": "markdown",
   "id": "e256d2e4-6ff0-461d-a847-794aae86e444",
   "metadata": {},
   "source": [
    "## Step 2: Open the dataset with `xarray`"
   ]
  },
  {
   "cell_type": "code",
   "execution_count": 2,
   "id": "0d11fbe9-f562-481c-8648-f43b17896665",
   "metadata": {},
   "outputs": [
    {
     "name": "stderr",
     "output_type": "stream",
     "text": [
      "/tmp/ipykernel_5419/732403854.py:16: UserWarning: Variable(s) referenced in cell_measures not in variables: ['areacella']\n",
      "  ds = xr.open_dataset(src_path, **xr_open_args)\n"
     ]
    }
   ],
   "source": [
    "dataset_url = 's3://veda-data-store-staging/cmip6-GISS-E2-1-G-tas-kerchunk/combined_CMIP6_daily_GISS-E2-1-G_tas_kerchunk.json'\n",
    "\n",
    "xr_open_args = {\n",
    "    \"engine\": \"zarr\",\n",
    "    \"decode_coords\": \"all\",\n",
    "    \"consolidated\": False\n",
    "}\n",
    "\n",
    "fs = fsspec.filesystem(\n",
    "    \"reference\",\n",
    "    fo=dataset_url,\n",
    "    remote_options={\"anon\": True},\n",
    ")\n",
    "src_path = fs.get_mapper(\"\")\n",
    "\n",
    "ds = xr.open_dataset(src_path, **xr_open_args)"
   ]
  },
  {
   "cell_type": "markdown",
   "id": "4449a055-779e-4024-a871-ddf107cb27d2",
   "metadata": {
    "tags": []
   },
   "source": [
    "## Step 3: Generate STAC metadata\n",
    "\n",
    "The spatial extent is taken from the xarray metadata. The temporal extent will be added by the [`xstac`](https://github.com/stac-utils/xstac) library."
   ]
  },
  {
   "cell_type": "code",
   "execution_count": 3,
   "id": "47cba6c5-2d6c-4829-8b49-ada67e6b5522",
   "metadata": {
    "tags": []
   },
   "outputs": [],
   "source": [
    "spatial_extent_values = [ds.lon[0].values, ds.lat[0].values, ds.lon[-1].values, ds.lat[-1].values]\n",
    "spatial_extent = list(map(int, spatial_extent_values))\n",
    "_id = 'combined_CMIP6_daily_GISS-E2-1-G_tas_kerchunk_TEST'\n",
    "zarr_asset = pystac.Asset(\n",
    "    title='zarr',\n",
    "    href=dataset_url,\n",
    "    media_type='application/vnd+zarr',\n",
    "    roles=['data'],\n",
    ")\n",
    "extent = pystac.Extent(\n",
    "    spatial=pystac.SpatialExtent(bboxes=[spatial_extent]),\n",
    "    temporal=pystac.TemporalExtent([[None, None]])\n",
    ")"
   ]
  },
  {
   "cell_type": "markdown",
   "id": "3351996d-f124-410d-a6a2-55abcdb2aecb",
   "metadata": {},
   "source": [
    "Add the VEDA provider."
   ]
  },
  {
   "cell_type": "code",
   "execution_count": 4,
   "id": "aaef1ad4-d796-48d5-80da-f3a0fced5f0f",
   "metadata": {
    "tags": []
   },
   "outputs": [],
   "source": [
    "providers = [\n",
    "    pystac.Provider(\n",
    "        name=\"VEDA\",\n",
    "        roles=[pystac.ProviderRole.PRODUCER, pystac.ProviderRole.PROCESSOR, pystac.ProviderRole.HOST],\n",
    "        url=\"https://github.com/nasa-impact/veda-data-pipelines\",\n",
    "    )\n",
    "]"
   ]
  },
  {
   "cell_type": "markdown",
   "id": "3c2bb7f1-4eb3-4d6d-9fd2-f3800c2cf57e",
   "metadata": {},
   "source": [
    "Put it all together to intialize a `pystac.Collection` instance."
   ]
  },
  {
   "cell_type": "code",
   "execution_count": 5,
   "id": "7a36bb5c-1425-4818-8d05-4c29bcd35590",
   "metadata": {},
   "outputs": [],
   "source": [
    "collection = pystac.Collection(\n",
    "    id=_id,\n",
    "    extent=extent,\n",
    "    assets = {'zarr': zarr_asset},\n",
    "    description='for zarr testing',\n",
    "    providers=providers,\n",
    "    stac_extensions=['https://stac-extensions.github.io/datacube/v2.0.0/schema.json'],\n",
    "    license=\"CC0-1.0\"\n",
    ")"
   ]
  },
  {
   "cell_type": "markdown",
   "id": "3f31a852-c727-4a46-97c8-44de1e965345",
   "metadata": {},
   "source": [
    "That collection instance is used by `xstac` to generate additional metadata, such as the temporal extent and the [`datacube extension`](https://github.com/stac-extensions/datacube) information."
   ]
  },
  {
   "cell_type": "code",
   "execution_count": 7,
   "id": "d66cd1e6-9c29-429d-b569-be5f6c69d6b4",
   "metadata": {
    "tags": []
   },
   "outputs": [
    {
     "data": {
      "text/plain": [
       "['https://schemas.stacspec.org/v1.0.0/collection-spec/json-schema/collection.json',\n",
       " 'https://stac-extensions.github.io/datacube/v2.0.0/schema.json']"
      ]
     },
     "execution_count": 7,
     "metadata": {},
     "output_type": "execute_result"
    }
   ],
   "source": [
    "collection_template = collection.to_dict()\n",
    "collection = xstac.xarray_to_stac(\n",
    "    ds,\n",
    "    collection_template,\n",
    "    temporal_dimension=\"time\",\n",
    "    x_dimension=\"lon\",\n",
    "    y_dimension=\"lat\",\n",
    "    # TODO: get this from attributes if possible\n",
    "    reference_system=\"4326\",\n",
    "    validate=False\n",
    ")\n",
    "# It should validate, yay!\n",
    "collection.validate()"
   ]
  },
  {
   "cell_type": "markdown",
   "id": "8ffc1bb7-85f0-4e2a-8310-95acaf4ca988",
   "metadata": {},
   "source": [
    "# Final Step - Publish the collection\n",
    "\n",
    "Finally, we will publish the client using the [VEDA STAC Ingestor API](https://github.com/NASA-IMPACT/veda-stac-ingestor). If you are trying to publish to the VEDA STAC API but don't have credentials for the STAC ingestor, this is a good time to ask for help and take a break. If you are not trying to publish to the VEDA STAC API but you are using pgSTAC, you should be able to write the collection to a json file and upload to the location of your static catalog publish using [pypgstac](https://stac-utils.github.io/pgstac/pypgstac/)."
   ]
  },
  {
   "cell_type": "code",
   "execution_count": null,
   "id": "c6a6a1f6-9d07-4d14-8331-33e5e5755980",
   "metadata": {
    "tags": []
   },
   "outputs": [],
   "source": [
    "# The VEDA STAC ingestor requires a few more fields\n",
    "dataset = collection.to_dict()\n",
    "dataset['data_type'] = 'zarr'\n",
    "dataset['collection'] = _id\n",
    "dataset['title'] = 'CMIP6 Daily GISS-E2-1-G TAS Kerchunk (DEMO)'\n",
    "dataset['dashboard:is_periodic'] = True\n",
    "dataset['dashboard:time_density'] = 'day'"
   ]
  },
  {
   "cell_type": "code",
   "execution_count": null,
   "id": "c4016d09-ecf5-4f0e-ade6-50e5bc14d25f",
   "metadata": {
    "tags": []
   },
   "outputs": [],
   "source": [
    "# You may need to install cognito client\n",
    "from cognito_client import CognitoClient\n",
    "\n",
    "STAC_INGESTOR_API = \"https://6r8ht9b123.execute-api.us-west-2.amazonaws.com/dev/\"\n",
    "client = CognitoClient(\n",
    "    client_id=\"CHANGE ME\",\n",
    "    user_pool_id=\"CHANGE ME\",\n",
    "    identity_pool_id=\"CHANGE ME\",\n",
    ")\n",
    "_ = client.login()\n",
    "\n",
    "TOKEN = client.access_token"
   ]
  },
  {
   "cell_type": "code",
   "execution_count": null,
   "id": "4a26219f-66b6-4c63-ac28-f592fe5f8087",
   "metadata": {
    "tags": []
   },
   "outputs": [],
   "source": [
    "auth_header = f\"Bearer {TOKEN}\"\n",
    "headers = {\n",
    "    \"Authorization\": auth_header,\n",
    "    \"content-type\": \"application/json\",\n",
    "    \"accept\": \"application/json\",\n",
    "}\n",
    "response = requests.post((STAC_INGESTOR_API + \"api/ingest/collections\"), json=dataset, headers=headers)\n",
    "\n",
    "print(response.text)"
   ]
  }
 ],
 "metadata": {
  "kernelspec": {
   "display_name": "Python 3 (ipykernel)",
   "language": "python",
   "name": "python3"
  },
  "language_info": {
   "codemirror_mode": {
    "name": "ipython",
    "version": 3
   },
   "file_extension": ".py",
   "mimetype": "text/x-python",
   "name": "python",
   "nbconvert_exporter": "python",
   "pygments_lexer": "ipython3",
   "version": "3.10.12"
  }
 },
 "nbformat": 4,
 "nbformat_minor": 5
}
