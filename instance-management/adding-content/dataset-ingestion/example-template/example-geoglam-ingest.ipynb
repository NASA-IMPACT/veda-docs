{
 "cells": [
  {
   "cell_type": "raw",
   "id": "1b78106c",
   "metadata": {},
   "source": [
    "---\n",
    "title: Ingestion Workflow for Uploading Data to the VEDA Catalog for the VEDA Dashboard\n",
    "description: A walk through of the ingestion workflow for data providers who want to add a new dataset to the VEDA Dashboard.\n",
    "author: Jonas Sølvsteen, Kathryn Berger\n",
    "date: July 25, 2023\n",
    "updated: August 15, 2024\n",
    "execute:\n",
    "  freeze: true\n",
    "  cache: true\n",
    "---"
   ]
  },
  {
   "cell_type": "markdown",
   "id": "a34abb82",
   "metadata": {},
   "source": [
    "# Approach"
   ]
  },
  {
   "cell_type": "markdown",
   "id": "d866531f-d8c5-45bc-ad55-51b1a385beac",
   "metadata": {},
   "source": [
    "This notebook is intented to be used as a reference for data providers who want to add new datasets to the VEDA Dashboard. As always it is important that the data provider has read the documentation for [Data Ingestion](https://nasa-impact.github.io/veda-docs/adding-content/dataset-ingestion/) before moving forward with this notebook example. \n",
    "\n",
    "For example purposes, we will walk the end user through adding the GEOGLAM June 2023 dataset directly to the VEDA Dashboard. \n",
    "\n",
    "1. Validate the GeoTIFF\n",
    "2. Upload the file to the staging S3 bucket (`veda-data-store-staging`)\n",
    "3. Use the workflows-api ([staging.openveda.cloud/api/workflows/docs](https://staging.openveda.cloud/api/workflows/docs)) to generate STAC metadata for the file and add to the staging STAC catalog ([staging.openveda.cloud](https://staging.openveda.cloud))\n",
    "\n",
    "When the data has been published to the STAC metadata catalog for this `geoglam` collection, which is already configured for the dashboard, it will be available in the [VEDA Dashboard](https://www.earthdata.nasa.gov/dashboard)"
   ]
  },
  {
   "attachments": {},
   "cell_type": "markdown",
   "id": "1035711c-64ee-4e0e-82af-277595f8a415",
   "metadata": {},
   "source": [
    "## 1. Validate data format"
   ]
  },
  {
   "cell_type": "markdown",
   "id": "68ad75ed",
   "metadata": {},
   "source": [
    "Below we will import some geospatial tools for validation and define some of the variables to be used including the `TARGET_FILENAME` for the datafile you want to upload. Note that in this example we will demonstrate the ingestion of GEOGLAM's June 2023 data. It is important that the file you want to upload (e.g., `CropMonitor_2023_06_28.tif` ) is located in the same repository folder as this notebook. "
   ]
  },
  {
   "cell_type": "code",
   "execution_count": 1,
   "id": "fee35629-2bde-4956-a80a-44626b3de62a",
   "metadata": {
    "vscode": {
     "languageId": "python"
    }
   },
   "outputs": [],
   "source": [
    "import os\n",
    "\n",
    "import rio_cogeo\n",
    "import rasterio\n",
    "import boto3\n",
    "import requests"
   ]
  },
  {
   "cell_type": "markdown",
   "id": "bee52303",
   "metadata": {},
   "source": [
    "In the cell below we are using `TARGET_FILENAME` to revise the `LOCAL_FILE_PATH` into the correct file format as advised in the `File preparation` [documentation](https://nasa-impact.github.io/veda-docs/adding-content/dataset-ingestion/file-preparation.html). See example formats in the link provided. \n",
    "\n",
    "If the `LOCAL_FILE_PATH` is already properly formatted, then both `LOCAL_FILE_PATH` and `TARGET_FILENAME` will be identical. "
   ]
  },
  {
   "cell_type": "code",
   "execution_count": 2,
   "id": "ed0999b4-36c2-4bcf-8ab6-bcd8738deb52",
   "metadata": {
    "vscode": {
     "languageId": "python"
    }
   },
   "outputs": [],
   "source": [
    "LOCAL_FILE_PATH = \"CropMonitor_2023_06_28.tif\"\n",
    "YEAR, MONTH = 2023, 6\n",
    "\n",
    "TARGET_FILENAME = f\"CropMonitor_{YEAR}{MONTH:02}.tif\""
   ]
  },
  {
   "cell_type": "markdown",
   "id": "47e7e5fa",
   "metadata": {},
   "source": [
    "The following code is used to test whether the data format you are planning to upload is Cloud Optimized GeoTiff (COG) that enables more efficient workflows in the cloud environment. If the validation process identifies that it is not a COG, it will convert it into one. "
   ]
  },
  {
   "cell_type": "code",
   "execution_count": 3,
   "id": "286370d2-953b-4bc7-8b43-7db4250a4dd9",
   "metadata": {
    "vscode": {
     "languageId": "python"
    }
   },
   "outputs": [],
   "source": [
    "file_is_a_cog = rio_cogeo.cog_validate(LOCAL_FILE_PATH)\n",
    "if not file_is_a_cog:\n",
    "    raise ValueError()\n",
    "    print(\"File is not a COG - converting\")\n",
    "    rio_cogeo.cog_translate(LOCAL_FILE_PATH, LOCAL_FILE_PATH, in_memory=True)"
   ]
  },
  {
   "attachments": {},
   "cell_type": "markdown",
   "id": "a41dbfc8-475b-430a-bd6b-84275857b2ec",
   "metadata": {},
   "source": [
    "## 2. Upload file to S3"
   ]
  },
  {
   "cell_type": "markdown",
   "id": "6fb9cc0f",
   "metadata": {},
   "source": [
    "The following code will upload your COG data into `veda-data-store-staging` bucket. It will use the `TARGET_FILENAME` to assign the correct month and year values we have provided earlier in this notebook, under the `geoglam` bucket on `S3`."
   ]
  },
  {
   "cell_type": "code",
   "execution_count": 4,
   "id": "5b3fb388-f021-4719-aca7-7f9bebb0f378",
   "metadata": {
    "vscode": {
     "languageId": "python"
    }
   },
   "outputs": [],
   "source": [
    "s3 = boto3.client(\"s3\")\n",
    "BUCKET = \"veda-data-store-staging\"\n",
    "KEY = f\"{BUCKET}/geoglam/{TARGET_FILENAME}\"\n",
    "S3_FILE_LOCATION = f\"s3://{KEY}\"\n",
    "\n",
    "if False:\n",
    "    s3.upload_file(LOCAL_FILE_PATH, KEY)"
   ]
  },
  {
   "cell_type": "markdown",
   "id": "46f4bf4e-fee2-46c8-b21a-20ecdb5ac333",
   "metadata": {},
   "source": [
    "## 3. Use the workflows-api to add this geoglam item to the staging catalog\n",
    "\n",
    "For this step, open the workflows API at [staging.openveda.cloud/api/workflows/docs](https://staging.openveda.cloud/api/workflows/docs) in a second browser tab and click the green authorize button at the upper right to authenticate your session with your username and password (you will be temporarily redirected to a login widget and then back to the workflows-api docs). The cells below will guide you through the process of configuiring your request jsons for each endpoint demonstrated and you will copy the cell outputs into the workflows API in your second tab."
   ]
  },
  {
   "attachments": {},
   "cell_type": "markdown",
   "id": "2943e433-0ce7-43af-9802-7d90f5abe26c",
   "metadata": {},
   "source": [
    "### 3a. Construct dataset definition"
   ]
  },
  {
   "cell_type": "markdown",
   "id": "b9a548ac",
   "metadata": {},
   "source": [
    "Here the data provider will construct the dataset definition (and supporting metadata) that will be used for dataset ingestion. It is imperative that these values are correct and align to the data the provider is planning to upload to the VEDA Platform. For example, make sure that the `startdate` and `enddate` are realistic (e.g., an `\"enddate\":\"2023-06-31T23:59:59Z\"` would be an incorrect value for June, as it contains only 31 days). \n",
    "\n",
    "For further detail on metadata required for entries in the VEDA STAC to work with the VEDA Dashboard, see documentation [here.](https://nasa-impact.github.io/veda-docs/adding-content/dataset-ingestion/stac-collection-conventions.html) In particular, note recommendations for the fields `is_periodic` and `time_density`. For example, in the code block below we define the `is_periodic` field as `False` because we are ingesting only one month of data. Even though we know that the monthly observations are provided routinely by GEOGLAM, we will only have a single file to ingest and so do not have a temporal range of items in the collection with a monthly time density to generate a time picker from the available data. \n",
    "\n",
    "> **Note** Several OPTIONAL properties are added to this dataset config for completeness. Your dataset json does NOT need to include these optional properties\n",
    "> * `assets`\n",
    "> * `item_assets`\n",
    "> * `renders`"
   ]
  },
  {
   "cell_type": "code",
   "execution_count": 5,
   "id": "4a046ad1-c5ad-4212-ac33-bb7c3e0f7a97",
   "metadata": {
    "vscode": {
     "languageId": "python"
    }
   },
   "outputs": [
    {
     "name": "stdout",
     "output_type": "stream",
     "text": [
      "{\n",
      "  \"collection\": \"geoglam\",\n",
      "  \"title\": \"GEOGLAM Crop Monitor\",\n",
      "  \"data_type\": \"cog\",\n",
      "  \"spatial_extent\": {\n",
      "    \"xmin\": -180,\n",
      "    \"ymin\": -90,\n",
      "    \"xmax\": 180,\n",
      "    \"ymax\": 90\n",
      "  },\n",
      "  \"temporal_extent\": {\n",
      "    \"startdate\": \"2020-01-01T00:00:00Z\",\n",
      "    \"enddate\": \"2023-06-30T23:59:59Z\"\n",
      "  },\n",
      "  \"license\": \"MIT\",\n",
      "  \"description\": \"The Crop Monitors were designed to provide a public good of open, timely, science-driven information on crop conditions in support of market transparency for the G20 Agricultural Market Information System (AMIS). Reflecting an international, multi-source, consensus assessment of crop growing conditions, status, and agro-climatic factors likely to impact global production, focusing on the major producing and trading countries for the four primary crops monitored by AMIS (wheat, maize, rice, and soybeans). The Crop Monitor for AMIS brings together over 40 partners from national, regional (i.e. sub-continental), and global monitoring systems, space agencies, agriculture organizations and universities. Read more: https://cropmonitor.org/index.php/about/aboutus/\",\n",
      "  \"is_periodic\": false,\n",
      "  \"time_density\": \"month\",\n",
      "  \"assets\": {\n",
      "    \"thumbnail\": {\n",
      "      \"href\": \"https://thumbnails.openveda.cloud/geoglam--dataset-cover.jpg\",\n",
      "      \"type\": \"image/jpeg\",\n",
      "      \"roles\": [\n",
      "        \"thumbnail\"\n",
      "      ],\n",
      "      \"title\": \"Thumbnail\",\n",
      "      \"description\": \"Photo by [Jean Wimmerlin](https://unsplash.com/photos/RUj5b4YXaHE) (Bird's eye view of fields)\"\n",
      "    }\n",
      "  },\n",
      "  \"renders\": {\n",
      "    \"dashboard\": {\n",
      "      \"bidx\": [\n",
      "        1\n",
      "      ],\n",
      "      \"title\": \"VEDA Dashboard Render Parameters\",\n",
      "      \"assets\": [\n",
      "        \"cog_default\"\n",
      "      ],\n",
      "      \"unscale\": false,\n",
      "      \"colormap\": {\n",
      "        \"1\": [\n",
      "          120,\n",
      "          120,\n",
      "          120\n",
      "        ],\n",
      "        \"2\": [\n",
      "          130,\n",
      "          65,\n",
      "          0\n",
      "        ],\n",
      "        \"3\": [\n",
      "          66,\n",
      "          207,\n",
      "          56\n",
      "        ],\n",
      "        \"4\": [\n",
      "          245,\n",
      "          239,\n",
      "          0\n",
      "        ],\n",
      "        \"5\": [\n",
      "          241,\n",
      "          89,\n",
      "          32\n",
      "        ],\n",
      "        \"6\": [\n",
      "          168,\n",
      "          0,\n",
      "          0\n",
      "        ],\n",
      "        \"7\": [\n",
      "          0,\n",
      "          143,\n",
      "          201\n",
      "        ]\n",
      "      },\n",
      "      \"max_size\": 1024,\n",
      "      \"resampling\": \"nearest\",\n",
      "      \"return_mask\": true\n",
      "    }\n",
      "  },\n",
      "  \"providers\": [\n",
      "    {\n",
      "      \"url\": \"https://data.nal.usda.gov/dataset/geoglam-geo-global-agricultural-monitoring-crop-assessment-tool#:~:text=The%20GEOGLAM%20crop%20calendars%20are,USDA%20FAS%2C%20and%20USDA%20NASS.\",\n",
      "      \"name\": \"USDA & Global Crop Monitor Group partners\",\n",
      "      \"roles\": [\n",
      "        \"producer\",\n",
      "        \"processor\",\n",
      "        \"licensor\"\n",
      "      ]\n",
      "    },\n",
      "    {\n",
      "      \"url\": \"https://www.earthdata.nasa.gov/dashboard/\",\n",
      "      \"name\": \"NASA VEDA\",\n",
      "      \"roles\": [\n",
      "        \"host\"\n",
      "      ]\n",
      "    }\n",
      "  ],\n",
      "  \"item_assets\": {\n",
      "    \"cog_default\": {\n",
      "      \"type\": \"image/tiff; application=geotiff; profile=cloud-optimized\",\n",
      "      \"roles\": [\n",
      "        \"data\",\n",
      "        \"layer\"\n",
      "      ],\n",
      "      \"title\": \"Default COG Layer\",\n",
      "      \"description\": \"Cloud optimized default layer to display on map\"\n",
      "    }\n",
      "  },\n",
      "  \"sample_files\": [\n",
      "    \"s3://veda-data-store-staging/geoglam/CropMonitor_202306.tif\"\n",
      "  ],\n",
      "  \"discovery_items\": [\n",
      "    {\n",
      "      \"discovery\": \"s3\",\n",
      "      \"prefix\": \"geoglam/\",\n",
      "      \"bucket\": \"veda-data-store-staging\",\n",
      "      \"filename_regex\": \"(.*)CropMonitor_202306.tif$\"\n",
      "    }\n",
      "  ]\n",
      "}\n"
     ]
    }
   ],
   "source": [
    "import json\n",
    "\n",
    "dataset = {\n",
    "    \"collection\": \"geoglam\",\n",
    "    \"title\": \"GEOGLAM Crop Monitor\",\n",
    "    \"data_type\": \"cog\",\n",
    "    \"spatial_extent\": {\n",
    "    \"xmin\": -180,\n",
    "    \"ymin\": -90,\n",
    "    \"xmax\": 180,\n",
    "    \"ymax\": 90\n",
    "    },\n",
    "    \"temporal_extent\": {\n",
    "    \"startdate\": \"2020-01-01T00:00:00Z\",\n",
    "    \"enddate\": \"2023-06-30T23:59:59Z\"\n",
    "    },\n",
    "    \"license\": \"MIT\",\n",
    "    \"description\": \"The Crop Monitors were designed to provide a public good of open, timely, science-driven information on crop conditions in support of market transparency for the G20 Agricultural Market Information System (AMIS). Reflecting an international, multi-source, consensus assessment of crop growing conditions, status, and agro-climatic factors likely to impact global production, focusing on the major producing and trading countries for the four primary crops monitored by AMIS (wheat, maize, rice, and soybeans). The Crop Monitor for AMIS brings together over 40 partners from national, regional (i.e. sub-continental), and global monitoring systems, space agencies, agriculture organizations and universities. Read more: https://cropmonitor.org/index.php/about/aboutus/\",\n",
    "    \"is_periodic\": False,\n",
    "    \"time_density\": \"month\",\n",
    "    ## NOTE: email the veda team at veda@uah.edu to upload a new thumbnail for your dataset\n",
    "    \"assets\": {\n",
    "        \"thumbnail\": {\n",
    "            \"href\": \"https://thumbnails.openveda.cloud/geoglam--dataset-cover.jpg\",\n",
    "            \"type\": \"image/jpeg\",\n",
    "            \"roles\": [\"thumbnail\"],\n",
    "            \"title\": \"Thumbnail\",\n",
    "            \"description\": \"Photo by [Jean Wimmerlin](https://unsplash.com/photos/RUj5b4YXaHE) (Bird's eye view of fields)\"\n",
    "        }\n",
    "    },\n",
    "    ## RENDERS metadata are OPTIONAL but provided below\n",
    "    \"renders\": {\n",
    "        \"dashboard\": {\n",
    "            \"bidx\": [1],\n",
    "            \"title\": \"VEDA Dashboard Render Parameters\",\n",
    "            \"assets\": [\n",
    "            \"cog_default\"\n",
    "            ],\n",
    "            \"unscale\": False,\n",
    "            \"colormap\": {\n",
    "                \"1\": [120, 120, 120],\n",
    "                \"2\": [130, 65, 0],\n",
    "                \"3\": [66, 207, 56],\n",
    "                \"4\": [245, 239, 0],\n",
    "                \"5\": [241, 89, 32],\n",
    "                \"6\": [168, 0, 0],\n",
    "                \"7\": [0, 143, 201]\n",
    "            },\n",
    "            \"max_size\": 1024,\n",
    "            \"resampling\": \"nearest\",\n",
    "            \"return_mask\": True\n",
    "        }\n",
    "    },\n",
    "    ## IMPORTANT update providers for a your data, some are specific to each collection\n",
    "    \"providers\": [\n",
    "    {\n",
    "        \"url\": \"https://data.nal.usda.gov/dataset/geoglam-geo-global-agricultural-monitoring-crop-assessment-tool#:~:text=The%20GEOGLAM%20crop%20calendars%20are,USDA%20FAS%2C%20and%20USDA%20NASS.\",\n",
    "        \"name\": \"USDA & Global Crop Monitor Group partners\",\n",
    "        \"roles\": [\n",
    "            \"producer\",\n",
    "            \"processor\",\n",
    "            \"licensor\"\n",
    "        ]\n",
    "    },\n",
    "        {\n",
    "            \"url\": \"https://www.earthdata.nasa.gov/dashboard/\",\n",
    "            \"name\": \"NASA VEDA\",\n",
    "            \"roles\": [\"host\"]\n",
    "        }\n",
    "    ],\n",
    "    ## item_assets are OPTIONAL but pre-filled here\n",
    "    \"item_assets\": {\n",
    "        \"cog_default\": {\n",
    "            \"type\": \"image/tiff; application=geotiff; profile=cloud-optimized\",\n",
    "                \"roles\": [\"data\",\"layer\"],\n",
    "            \"title\": \"Default COG Layer\",\n",
    "            \"description\": \"Cloud optimized default layer to display on map\"\n",
    "        }\n",
    "    },\n",
    "    \"sample_files\": [\n",
    "        \"s3://veda-data-store-staging/geoglam/CropMonitor_202306.tif\"\n",
    "    ],\n",
    "    \"discovery_items\": [\n",
    "        {\n",
    "          \"discovery\": \"s3\",\n",
    "          \"prefix\": \"geoglam/\",\n",
    "          \"bucket\": \"veda-data-store-staging\",\n",
    "          \"filename_regex\": \"(.*)CropMonitor_202306.tif$\"\n",
    "        }\n",
    "    ]\n",
    "}\n",
    "\n",
    "print(json.dumps(dataset, indent=2))"
   ]
  },
  {
   "attachments": {},
   "cell_type": "markdown",
   "id": "98371241-acf4-4e2d-bb44-24dcf1c03d51",
   "metadata": {},
   "source": [
    "### 3b. Validate dataset definition"
   ]
  },
  {
   "cell_type": "markdown",
   "id": "be31f24a",
   "metadata": {},
   "source": [
    "After composing your dataset definition, copy the printed json and paste it into the `/dataset/validate` input in the workflows-api docs page in the second tab. Note that if you navigate away from this page you will need to click authorize again.\n",
    "\n",
    "Choose `POST dataset/validate` in the **Dataset** section of the API docs at [staging.openveda.cloud/api/workflows/docs](https://staging.openveda.cloud/api/workflows/docs). Click 'Try it Out` and paste your json into the **Request body** and then **Execute**\n",
    "\n",
    "If the json is valid, the response will confirm that it is ready to be published on the VEDA Platform. "
   ]
  },
  {
   "attachments": {},
   "cell_type": "markdown",
   "id": "ff44ef07-c1fa-4701-986e-cff480accc2a",
   "metadata": {},
   "source": [
    "### 3c. Publish to STAC"
   ]
  },
  {
   "cell_type": "markdown",
   "id": "7492daef",
   "metadata": {},
   "source": [
    "Now that you have validated your dataset, you can initiate a workflow and publish the dataset to the VEDA Platform. \n",
    "\n",
    "Choose `POST dataset/publish` in the **Dataset** section of the API docs at [staging.openveda.cloud/api/workflows/docs](https://staging.openveda.cloud/api/workflows/docs). Click 'Try it Out` and paste your json into the **Request body** and then **Execute**\n",
    "\n",
    "On success, you will recieve a success message containing the id of your workflow, for example\n",
    "```\n",
    "{\"message\":\"Successfully published collection: geoglam. 1  workflows initiated.\",\"workflows_ids\":[\"db6a2097-3e4c-45a3-a772-0c11e6da8b44\"]}\n",
    "```"
   ]
  },
  {
   "cell_type": "markdown",
   "id": "8794df9a",
   "metadata": {},
   "source": [
    "Congratulations! You have now successfully uploaded a COG dataset to the [VEDA Dashboard](https://www.earthdata.nasa.gov/dashboard/). You can now explore the data catalog to verify the ingestion process has worked successfully, as now uploaded data should be ready for viewing and exploration. "
   ]
  }
 ],
 "metadata": {
  "kernelspec": {
   "display_name": "Python 3 (ipykernel)",
   "language": "python",
   "name": "python3"
  }
 },
 "nbformat": 4,
 "nbformat_minor": 5
}
