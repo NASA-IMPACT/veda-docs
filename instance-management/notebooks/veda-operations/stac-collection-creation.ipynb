{
 "cells": [
  {
   "cell_type": "raw",
   "id": "0aded714-bbfd-4cfc-b812-b8522a82d1b2",
   "metadata": {},
   "source": [
    "---\n",
    "title: STAC Collection Creation\n",
    "description: Starting point for data providers who want to add a new dataset to the STAC API.\n",
    "author: Julia Signell\n",
    "date: June 12, 2023\n",
    "execute:\n",
    "  freeze: true\n",
    "  cache: true\n",
    "---"
   ]
  },
  {
   "attachments": {},
   "cell_type": "markdown",
   "id": "fb13c6bd-5efc-4513-8702-412ebe132a8b",
   "metadata": {
    "tags": []
   },
   "source": [
    "## Run this notebook\n",
    "\n",
    "You can launch this notebook in VEDA JupyterHub by clicking the link below.\n",
    "\n",
    "[Launch in VEDA JupyterHub (requires access)](https://hub.openveda.cloud/hub/user-redirect/git-pull?repo=https://github.com/NASA-IMPACT/veda-docs&urlpath=lab/tree/veda-docs/notebooks/veda-operations/stac-collection-creation.ipynb&branch=main) \n",
    "\n",
    "<details><summary>Learn more</summary>\n",
    "    \n",
    "### Inside the Hub\n",
    "\n",
    "This notebook was written on a VEDA JupyterHub instance\n",
    "\n",
    "See (VEDA Analytics JupyterHub Access)[https://nasa-impact.github.io/veda-docs/veda-jh-access.html] for information about how to gain access.\n",
    "\n",
    "### Outside the Hub\n",
    "\n",
    "You are welcome to run this anywhere you like (Note: alternatively you can run this on https://daskhub.veda.smce.nasa.gov/, MAAP, locally, ...), just make sure that the data is accessible, or get in contact with the VEDA team to enable access.\n",
    "\n",
    "</details>"
   ]
  },
  {
   "attachments": {},
   "cell_type": "markdown",
   "id": "2e360b7f-d241-42ec-987b-a93cde0ee803",
   "metadata": {},
   "source": [
    "## Install extra packages"
   ]
  },
  {
   "cell_type": "code",
   "execution_count": 1,
   "id": "0f8e7c3a-1ec3-4e82-8c9c-790be48da090",
   "metadata": {},
   "outputs": [],
   "source": [
    "!pip install -U pystac nbss-upload --quiet"
   ]
  },
  {
   "cell_type": "code",
   "execution_count": 2,
   "id": "e16eb677-1ac6-4860-9230-d2a403f0d8a2",
   "metadata": {},
   "outputs": [],
   "source": [
    "from datetime import datetime, timezone\n",
    "import pystac"
   ]
  },
  {
   "attachments": {},
   "cell_type": "markdown",
   "id": "ff855143-dfef-4318-aeb2-e2108bceef90",
   "metadata": {
    "tags": []
   },
   "source": [
    "## Create `pystac.Collection`\n",
    "\n",
    "In this section we will be creating a `pystac.Collection` object. This is the part of that notebook that you should update.\n",
    "\n",
    "### Declare constants\n",
    "\n",
    "Start by declaring some string and boolean fields."
   ]
  },
  {
   "cell_type": "code",
   "execution_count": 3,
   "id": "dcf5702f-ed7c-4844-9fcd-a2e693f5ec05",
   "metadata": {
    "tags": []
   },
   "outputs": [],
   "source": [
    "COLLECTION_ID = \"no2-monthly-diff\"\n",
    "TITLE = \"NO₂ (Diff)\"\n",
    "DESCRIPTION = (\n",
    "    \"This layer shows changes in nitrogen dioxide (NO₂) levels. Redder colors \"\n",
    "    \"indicate increases in NO₂. Bluer colors indicate lower levels of NO₂. \"\n",
    "    \"Missing pixels indicate areas of no data most likely associated with \"\n",
    "    \"cloud cover or snow.\"\n",
    ")\n",
    "DASHBOARD__IS_PERIODIC = True\n",
    "DASHBOARD__TIME_DENSITY = \"month\"\n",
    "LICENSE = \"CC0-1.0\""
   ]
  },
  {
   "attachments": {},
   "cell_type": "markdown",
   "id": "56c0d7e1-80c3-4f84-a8a0-b6a20e0ee80e",
   "metadata": {
    "tags": []
   },
   "source": [
    "### Extents\n",
    "\n",
    "The extents indicate the start (and potentially end) times of the data as well as the footprint of the data."
   ]
  },
  {
   "cell_type": "code",
   "execution_count": 4,
   "id": "99d23b77-e337-4fb6-8a41-da51b96e139c",
   "metadata": {
    "tags": []
   },
   "outputs": [],
   "source": [
    "# Time must be in UTC\n",
    "demo_time = datetime.now(tz=timezone.utc)\n",
    "\n",
    "extent = pystac.Extent(\n",
    "    pystac.SpatialExtent([[-180.0, -90.0, 180.0, 90.0]]),\n",
    "    pystac.TemporalExtent([[demo_time, None]]),\n",
    ")"
   ]
  },
  {
   "attachments": {},
   "cell_type": "markdown",
   "id": "9c0b2c12-a44e-4fea-97de-c068e621d22c",
   "metadata": {},
   "source": [
    "### Providers\n",
    "\n",
    "We know that the data host, processor, and producter is \"VEDA\", but you can include other providers that fill other roles in the data creation pipeline."
   ]
  },
  {
   "cell_type": "code",
   "execution_count": 5,
   "id": "6956b82f-75a4-46c8-9006-85eed5123ebe",
   "metadata": {
    "tags": []
   },
   "outputs": [],
   "source": [
    "providers = [\n",
    "    pystac.Provider(\n",
    "        name=\"VEDA\",\n",
    "        roles=[pystac.ProviderRole.PRODUCER, pystac.ProviderRole.PROCESSOR, pystac.ProviderRole.HOST],\n",
    "        url=\"https://github.com/nasa-impact/veda-data-pipelines\",\n",
    "    )\n",
    "]"
   ]
  },
  {
   "attachments": {},
   "cell_type": "markdown",
   "id": "6f0b36ad-f5a0-4201-a64e-20dd63d6f565",
   "metadata": {},
   "source": [
    "### Put it together\n",
    "\n",
    "Now take your constants and the extents and providers and create a `pystac.Collection`"
   ]
  },
  {
   "cell_type": "code",
   "execution_count": 6,
   "id": "f762b2c8-997a-40b0-8e30-526155048946",
   "metadata": {
    "tags": []
   },
   "outputs": [],
   "source": [
    "collection = pystac.Collection(\n",
    "    id=COLLECTION_ID,\n",
    "    title=TITLE,\n",
    "    description=DESCRIPTION,\n",
    "    extra_fields={\n",
    "        \"dashboard:is_periodic\": DASHBOARD__IS_PERIODIC,\n",
    "        \"dashboard:time_density\": DASHBOARD__TIME_DENSITY,\n",
    "    },\n",
    "    license=LICENSE,\n",
    "    extent=extent,\n",
    "    providers=providers,\n",
    ")"
   ]
  },
  {
   "attachments": {},
   "cell_type": "markdown",
   "id": "daf17ade-d2f4-42d4-ba6a-916fcc41a435",
   "metadata": {},
   "source": [
    "### Try it out!\n",
    "\n",
    "Now that you have a collection you can try it out and make sure that it looks how you expect and that it passes validation checks."
   ]
  },
  {
   "cell_type": "code",
   "execution_count": 7,
   "id": "5d53bbe2-cbfd-4993-b98f-17d8a63e0e13",
   "metadata": {
    "tags": []
   },
   "outputs": [
    {
     "data": {
      "text/plain": [
       "['https://schemas.stacspec.org/v1.0.0/collection-spec/json-schema/collection.json']"
      ]
     },
     "execution_count": 7,
     "metadata": {},
     "output_type": "execute_result"
    }
   ],
   "source": [
    "collection.validate()"
   ]
  },
  {
   "cell_type": "code",
   "execution_count": 8,
   "id": "880af165-0b1a-4f20-835e-f8eed28f100a",
   "metadata": {
    "tags": []
   },
   "outputs": [
    {
     "data": {
      "text/plain": [
       "{'type': 'Collection',\n",
       " 'id': 'no2-monthly-diff',\n",
       " 'stac_version': '1.0.0',\n",
       " 'description': 'This layer shows changes in nitrogen dioxide (NO₂) levels. Redder colors indicate increases in NO₂. Bluer colors indicate lower levels of NO₂. Missing pixels indicate areas of no data most likely associated with cloud cover or snow.',\n",
       " 'links': [],\n",
       " 'dashboard:is_periodic': True,\n",
       " 'dashboard:time_density': 'month',\n",
       " 'title': 'NO₂ (Diff)',\n",
       " 'extent': {'spatial': {'bbox': [[-180.0, -90.0, 180.0, 90.0]]},\n",
       "  'temporal': {'interval': [['2023-06-12T17:36:30.161697Z', None]]}},\n",
       " 'license': 'CC0-1.0',\n",
       " 'providers': [{'name': 'VEDA',\n",
       "   'roles': [<ProviderRole.PRODUCER: 'producer'>,\n",
       "    <ProviderRole.PROCESSOR: 'processor'>,\n",
       "    <ProviderRole.HOST: 'host'>],\n",
       "   'url': 'https://github.com/nasa-impact/veda-data-pipelines'}]}"
      ]
     },
     "execution_count": 8,
     "metadata": {},
     "output_type": "execute_result"
    }
   ],
   "source": [
    "collection.to_dict()"
   ]
  },
  {
   "attachments": {},
   "cell_type": "markdown",
   "id": "00eea9f2-fbcf-418a-b9d1-9ba8c08a939b",
   "metadata": {},
   "source": [
    "## Upload this notebook\n",
    "\n",
    "You can upload the notebook to anyplace you like, but one of the easiest ones is [notebook sharing space](https://notebooksharing.space/). Just change the following cell from \"Raw\" to \"Code\", run it and copy the output link."
   ]
  },
  {
   "attachments": {},
   "cell_type": "markdown",
   "id": "46966a1c-0c23-4eb4-9ff5-0d9a1e6d00f8",
   "metadata": {},
   "source": [
    "<div class=\"alert-warning\">\n",
    "    \n",
    "Before uploading make sure:\n",
    "1) you have not hard-coded any secrets or access keys.\n",
    "2) you have saved this notebook. Hint (ctrl+s) will do it\n",
    "    \n",
    "</div>"
   ]
  },
  {
   "cell_type": "raw",
   "id": "ac66583e-8c68-47ab-95e2-8b570dba1f6b",
   "metadata": {},
   "source": [
    "!nbss-upload new-collection.ipynb"
   ]
  }
 ],
 "metadata": {
  "kernelspec": {
   "display_name": "Python 3 (ipykernel)",
   "language": "python",
   "name": "python3"
  },
  "language_info": {
   "codemirror_mode": {
    "name": "ipython",
    "version": 3
   },
   "file_extension": ".py",
   "mimetype": "text/x-python",
   "name": "python",
   "nbconvert_exporter": "python",
   "pygments_lexer": "ipython3",
   "version": "3.10.8"
  }
 },
 "nbformat": 4,
 "nbformat_minor": 5
}
