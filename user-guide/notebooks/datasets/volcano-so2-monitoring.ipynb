{
 "cells": [
  {
   "cell_type": "raw",
   "metadata": {},
   "source": [
    "---\n",
    "title: Monitoring Volcanic Sulfur Dioxide Emissions\n",
    "description: NASA monitors volcanic emissions and its impact on global air quality\n",
    "author: Kathryn Berger\n",
    "date: April 4, 2023\n",
    "execute:\n",
    "   freeze: true\n",
    "---"
   ]
  },
  {
   "attachments": {},
   "cell_type": "markdown",
   "metadata": {},
   "source": [
    "## Run this notebook\n",
    "\n",
    "You can launch this notebook using mybinder, by clicking the button below.\n",
    "\n",
    "<a href=\"https://binder.openveda.cloud/v2/gh/NASA-IMPACT/veda-docs/HEAD?labpath=user-guide/notebooks/datasets/volcano-so2-monitoring.ipynb\">\n",
    "<img src=\"https://binder.openveda.cloud/badge_logo.svg\" alt=\"Binder\" title=\"A cute binder\" width=\"150\"/> \n",
    "</a>"
   ]
  },
  {
   "cell_type": "markdown",
   "metadata": {},
   "source": [
    "## Approach\n",
    "\n",
    "   1. Identify available dates and temporal frequency of observations for a given collection - SO2\n",
    "   2. Pass the STAC item into raster API `collection` endpoint\n",
    "   3. We'll visualize tiles for each of the time steps of interest using `folium`\n",
    "   "
   ]
  },
  {
   "cell_type": "markdown",
   "metadata": {},
   "source": [
    "## About the Data\n",
    "\n",
    "Collecting measurements of Sulfur Dioxide (SO2) plumes from space is a valuable way to monitor changes in emissions. The SO2 index product is used by NASA to monitor volcanic clouds and pre-eruptive volcanic gas emissions activity. Additionally, this information is used in advisories to airlines for operational decisions. \n",
    "\n",
    "In this notebook, we will explore the [Sulfur Dioxide](https://radiantearth.github.io/stac-browser/#/external/staging-stac.delta-backend.com/collections/OMSO2PCA-COG) dataset and how it was used in this [VEDA Discovery article](https://www.earthdata.nasa.gov/dashboard/air-quality/discoveries/so2-volcanoes) to monitor air pollution across the globe."
   ]
  },
  {
   "cell_type": "markdown",
   "metadata": {},
   "source": [
    "## Querying the STAC API"
   ]
  },
  {
   "cell_type": "code",
   "execution_count": null,
   "metadata": {},
   "outputs": [],
   "source": [
    "import requests\n",
    "from folium import Map, TileLayer"
   ]
  },
  {
   "cell_type": "code",
   "execution_count": null,
   "metadata": {},
   "outputs": [],
   "source": [
    "# Provide STAC and RASTER API endpoints\n",
    "STAC_API_URL = \"https://openveda.cloud/api/stac\"\n",
    "RASTER_API_URL = \"https://openveda.cloud/api/raster\"\n",
    "\n",
    "# Declare collection of interest - Sulfur Dioxide\n",
    "collection_name = \"OMSO2PCA-COG\""
   ]
  },
  {
   "cell_type": "code",
   "execution_count": null,
   "metadata": {},
   "outputs": [],
   "source": [
    "# Fetch STAC collection\n",
    "collection = requests.get(f\"{STAC_API_URL}/collections/{collection_name}\").json()\n",
    "collection"
   ]
  },
  {
   "cell_type": "markdown",
   "metadata": {},
   "source": [
    "Examining the contents of our `collection` under `summaries` we see that the data is available from 2005 to 2021. By looking at the `dashboard:time density` we observe that the periodic frequency of these observations is yearly.  "
   ]
  },
  {
   "cell_type": "markdown",
   "metadata": {},
   "source": [
    "We can verify this by checking the total items returned from our STAC API requests. "
   ]
  },
  {
   "cell_type": "code",
   "execution_count": null,
   "metadata": {},
   "outputs": [],
   "source": [
    "# Check total number of items available\n",
    "items = requests.get(\n",
    "    f\"{STAC_API_URL}/collections/{collection_name}/items?limit=100\"\n",
    ").json()[\"features\"]\n",
    "print(f\"Found {len(items)} items\")"
   ]
  },
  {
   "cell_type": "markdown",
   "metadata": {},
   "source": [
    "This makes sense as there are 17 years between 2005 - 2021. "
   ]
  },
  {
   "cell_type": "markdown",
   "metadata": {},
   "source": [
    "## Exploring Sulfur Dioxide Plumes from Space - Using the Raster API\n",
    "\n",
    "We'll explore three different time steps to show how NASA has observed volcanic activity in the Galápagos islands (2005), detected large scale emissions on the Kamchatka Peninsula (2009), and monitored the eruptions of Fagradalsfjall in Iceland (2021). We'll then visualize the outputs on a map using `folium`. \n",
    "\n",
    "To start, we'll identify which item value corresponds to each year of interest and setting a `rescaling_factor` for the SO2 index, so that values range from 0 to 1. "
   ]
  },
  {
   "cell_type": "code",
   "execution_count": null,
   "metadata": {},
   "outputs": [],
   "source": [
    "# to access the year value from each item more easily\n",
    "items = {item[\"properties\"][\"datetime\"][:4]: item for item in items}"
   ]
  },
  {
   "cell_type": "code",
   "execution_count": null,
   "metadata": {},
   "outputs": [],
   "source": [
    "rescaling_factor = \"0,1\""
   ]
  },
  {
   "cell_type": "markdown",
   "metadata": {},
   "source": [
    "Now we will pass the item id, collection name, and `rescaling_factor` to the `Raster API` endpoint. We will do this three times, one for each time step of interest, so that we can visualize each event independently. "
   ]
  },
  {
   "cell_type": "code",
   "execution_count": null,
   "metadata": {},
   "outputs": [],
   "source": [
    "tile_2005 = requests.get(\n",
    "    f\"{RASTER_API_URL}/collections/{items['2005']['collection']}/items/{items['2005']['id']}/WebMercatorQuad/tilejson.json?\"\n",
    "    \"&assets=cog_default\"\n",
    "    \"&color_formula=gamma+r+1.05&colormap_name=viridis\"\n",
    "    f\"&rescale={rescaling_factor}\",\n",
    ").json()\n",
    "tile_2005"
   ]
  },
  {
   "cell_type": "code",
   "execution_count": null,
   "metadata": {},
   "outputs": [],
   "source": [
    "tile_2009 = requests.get(\n",
    "    f\"{RASTER_API_URL}/collections/{items['2009']['collection']}/items/{items['2009']['id']}/WebMercatorQuad/tilejson.json?\"\n",
    "    \"&assets=cog_default\"\n",
    "    \"&color_formula=gamma+r+1.05&colormap_name=viridis\"\n",
    "    f\"&rescale={rescaling_factor}\",\n",
    ").json()\n",
    "tile_2009"
   ]
  },
  {
   "cell_type": "code",
   "execution_count": null,
   "metadata": {},
   "outputs": [],
   "source": [
    "tile_2021 = requests.get(\n",
    "    f\"{RASTER_API_URL}/collections/{items['2021']['collection']}/items/{items['2021']['id']}/WebMercatorQuad/tilejson.json?\"\n",
    "    \"&assets=cog_default\"\n",
    "    \"&color_formula=gamma+r+1.05&colormap_name=viridis\"\n",
    "    f\"&rescale={rescaling_factor}\",\n",
    ").json()\n",
    "tile_2021"
   ]
  },
  {
   "cell_type": "markdown",
   "metadata": {},
   "source": [
    "We will then use the tile URL prepared above to create a simple visualization for each time step using `folium`. In each of these visualizations you can zoom in and out of the map's focus area to explore the data layer for that year. "
   ]
  },
  {
   "cell_type": "markdown",
   "metadata": {},
   "source": [
    "## Visualizing Galápagos islands (2005)"
   ]
  },
  {
   "cell_type": "code",
   "execution_count": null,
   "metadata": {},
   "outputs": [],
   "source": [
    "# Set initial zoom and map for Galápagos islands\n",
    "\n",
    "import folium\n",
    "\n",
    "m = Map(\n",
    "    tiles=\"OpenStreetMap\",\n",
    "    location=[\n",
    "        -0.915435,\n",
    "        -89.57216,\n",
    "    ],\n",
    "    zoom_start=7,\n",
    ")\n",
    "\n",
    "map_layer = TileLayer(\n",
    "    tiles=tile_2005[\"tiles\"][0],\n",
    "    attr=\"VEDA\",\n",
    "    opacity=0.6,\n",
    ")\n",
    "\n",
    "map_layer.add_to(m)\n",
    "\n",
    "m"
   ]
  },
  {
   "cell_type": "markdown",
   "metadata": {},
   "source": [
    "## Visualizing Kamchatka Peninsula (2009)"
   ]
  },
  {
   "cell_type": "code",
   "execution_count": null,
   "metadata": {},
   "outputs": [],
   "source": [
    "# Set initial zoom and map for Kamchatka Peninsula\n",
    "\n",
    "import folium\n",
    "\n",
    "m = Map(\n",
    "    tiles=\"OpenStreetMap\",\n",
    "    location=[\n",
    "        53.018234,\n",
    "        158.67016,\n",
    "    ],\n",
    "    zoom_start=7,\n",
    ")\n",
    "\n",
    "map_layer = TileLayer(\n",
    "    tiles=tile_2009[\"tiles\"][0],\n",
    "    attr=\"VEDA\",\n",
    "    opacity=0.6,\n",
    ")\n",
    "\n",
    "map_layer.add_to(m)\n",
    "\n",
    "m"
   ]
  },
  {
   "cell_type": "markdown",
   "metadata": {},
   "source": [
    "## Visualizing Fagradalsfjall, Iceland (2021)"
   ]
  },
  {
   "cell_type": "code",
   "execution_count": null,
   "metadata": {},
   "outputs": [],
   "source": [
    "# Set initial zoom and map for Fagradalsfjall, Iceland\n",
    "\n",
    "import folium\n",
    "\n",
    "m = Map(\n",
    "    tiles=\"OpenStreetMap\",\n",
    "    location=[\n",
    "        65.0294256,\n",
    "        -18.393870,\n",
    "    ],\n",
    "    zoom_start=6,\n",
    ")\n",
    "\n",
    "map_layer = TileLayer(\n",
    "    tiles=tile_2021[\"tiles\"][0],\n",
    "    attr=\"VEDA\",\n",
    "    opacity=0.6,\n",
    ")\n",
    "\n",
    "map_layer.add_to(m)\n",
    "\n",
    "m"
   ]
  },
  {
   "cell_type": "markdown",
   "metadata": {},
   "source": [
    "## Summary\n",
    "\n",
    "In this case study we have successfully visualized how NASA monitors sulfur dioxide emissions from space, by showcasing three different examples across the globe: volcanic activity in the Galápagos islands (2005), large scale emissions on the Kamchatka Peninsula (2009), and eruptions of Fagradalsfjall in Iceland (2021)."
   ]
  }
 ],
 "metadata": {
  "kernelspec": {
   "display_name": "Python 3 (ipykernel)",
   "language": "python",
   "name": "python3"
  },
  "language_info": {
   "codemirror_mode": {
    "name": "ipython",
    "version": 3
   },
   "file_extension": ".py",
   "mimetype": "text/x-python",
   "name": "python",
   "nbconvert_exporter": "python",
   "pygments_lexer": "ipython3",
   "version": "3.12.7"
  }
 },
 "nbformat": 4,
 "nbformat_minor": 4
}
