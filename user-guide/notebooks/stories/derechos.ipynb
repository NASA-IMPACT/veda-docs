{
 "cells": [
  {
   "cell_type": "raw",
   "id": "95829697",
   "metadata": {
    "vscode": {
     "languageId": "raw"
    }
   },
   "source": [
    "---\n",
    "title: NASA Data Fusion Analysis of Derechos and Their Impact on Rural America\n",
    "description: Analysis of derecho storms using multiple NASA datasets to understand their formation, impacts on agriculture, and power infrastructure damage across rural America.\n",
    "author: \n",
    "  - Madison Wallner, Andrew Blackford, Udaysankar Nair (UAH)\n",
    "  - Kyle Lesinger (editor)\n",
    "date: July 25, 2025\n",
    "execute:\n",
    "   freeze: true\n",
    "---"
   ]
  },
  {
   "cell_type": "markdown",
   "id": "261ce739-6f08-4e22-853c-159fb928e4b4",
   "metadata": {},
   "source": [
    "# Run This Notebook"
   ]
  },
  {
   "cell_type": "markdown",
   "id": "d0ec7a33-8fc1-40ee-b857-26eeb518b59f",
   "metadata": {},
   "source": [
    "<h3><a href=\"https://hub.openveda.cloud/hub/user-redirect/git-pull?repo=https://github.com/NASA-IMPACT/veda-docs&urlpath=lab/tree/veda-docs/user-guide/notebooks/stories/derechos.ipynb&branch=main\">🚀 Launch in VEDA JupyterHub (requires access)</a></h3>\n",
    "\n",
    "<h4> To obtain credentials to VEDA Hub, <a href = \"https://docs.openveda.cloud/user-guide/scientific-computing/getting-access.html\"> follow this link for more information.</a></h4>"
   ]
  },
  {
   "cell_type": "markdown",
   "id": "f8b8f848-e91c-468b-9ec5-7c5e2ea8db4c",
   "metadata": {},
   "source": [
    "<div class=\"alert alert-block\" style=\"\n",
    "     background-color: #f8d7da;\n",
    "     color: #721c24;\n",
    "     border-left: 4px solid #28a745;\n",
    "  \">\n",
    "Disclaimer: it is highly recommended to run a tutorial within NASA VEDA JupyterHub, which already includes functions for processing and visualizing data specific to VEDA stories. Running the tutorial outside of the VEDA JupyterHub may lead to errors, specifically related to EarthData authentication. Additionally, it is recommended to use the Pangeo workspace within the VEDA JupyterHub, since certain packages relevant to this tutorial are already installed. </div>\n",
    "\n",
    "<h4> If you <strong>do not</strong> have a VEDA Jupyterhub Account you can launch this notebook on your local environment using MyBinder by clicking the icon below.</h4>\n",
    "<br/>\n",
    "<a href=\"https://binder.openveda.cloud/v2/gh/NASA-IMPACT/veda-docs/9c8cdbae92906fb7062b8a0c759dad90e223a4f9?urlpath=lab%2Ftree%2Fuser-guide%2Fnotebooks%2Fstories%2Fderechos.ipynb\">\n",
    "<img src=\"https://binder.openveda.cloud/badge_logo.svg\" alt=\"Binder\" title=\"A cute binder\" width=\"150\"/> </a>"
   ]
  },
  {
   "cell_type": "markdown",
   "id": "6bf5f134-0fba-41bf-8d1d-7654a1b9307a",
   "metadata": {},
   "source": [
    "## Environment Setup"
   ]
  },
  {
   "cell_type": "code",
   "execution_count": 1,
   "id": "a6041ba0-3d38-433d-8982-505de8e6fbaf",
   "metadata": {},
   "outputs": [],
   "source": [
    "# Load libraries\n",
    "#!pip install -q earthaccess pandas xarray fsspec requests pystac_client\n",
    "\n",
    "import datetime\n",
    "import glob\n",
    "import os\n",
    "\n",
    "import earthaccess\n",
    "import pandas as pd\n",
    "import plotutils as putils\n",
    "import requests\n",
    "import xarray as xr\n",
    "from earthaccess import Store\n",
    "from pystac_client import Client"
   ]
  },
  {
   "cell_type": "code",
   "execution_count": 2,
   "id": "9f25c49c-452e-4970-bdb6-993a5cfff08b",
   "metadata": {},
   "outputs": [],
   "source": [
    "# For retrieving data already catalogued in VEDA STAC\n",
    "STAC_API_URL = \"https://openveda.cloud/api/stac\"\n",
    "RASTER_API_URL = \"https://openveda.cloud/api/raster\""
   ]
  },
  {
   "cell_type": "markdown",
   "id": "a7bdf719-4445-47cc-937f-13d6c7f937b3",
   "metadata": {},
   "source": [
    "# What is a Derecho?\n",
    "\n",
    "A **derecho** is a long-lasting, fast-moving windstorm that is produced from a line of severe thunderstorms. For a storm to be called a derecho, there must be:\n",
    "\n",
    "- A concentrated area of severe wind reports over 400 miles (650 km) in length and at least 60 miles (96 km) wide.\n",
    "- Several wind gusts reported over 75 mph (120 km/h).\n",
    "- Sustained winds of at least 58 mph (93 km/h). (SPC)\n",
    "\n",
    "Unlike single thunderstorms, derechos form within mesoscale (i.e., mid-sized) convective systems (MCS)—large storm clusters that produce strong, long-lasting straight-line winds.\n",
    "\n",
    "## Conditions that Help a Derecho Form Include:\n",
    "\n",
    "- **Strong instability** (Convective Available Potential Energy (CAPE) over 2000–4000 J/kg): provides energy for strong updrafts and intense thunderstorms.  \n",
    "- **High low-level moisture** (dewpoints of 65–75 °F): keeps storms going by supplying moisture.  \n",
    "- **Strong mid- and upper-level winds** (wind shear over 40 knots): help organize storms and push them forward.  \n",
    "- **A well-defined cold pool**: rain-cooled air at the surface strengthens the storm by increasing wind speeds at the front of the system.  \n"
   ]
  },
  {
   "cell_type": "markdown",
   "id": "9c225b07-7ecc-462d-a19a-ce15187238e5",
   "metadata": {},
   "source": [
    "\n",
    "# Example: Soil Moisture from GLDAS\n",
    "\n",
    "Retrieve Global Land Data Assimilation System (GLDAS) data from the NASA EarthData portal. GLDAS data helps assess soil moisture levels before and after the storm, showing how pre-existing drought conditions contributed to dust transport and how heavy rainfall may have impacted runoff and flooding."
   ]
  },
  {
   "cell_type": "markdown",
   "id": "c6031116-bbbb-4e13-9dd4-a0c06de6dba4",
   "metadata": {},
   "source": [
    "### Processing steps:\n",
    "1.) Provide credentials for EarthAccess authentication<br />\n",
    "2.) Select a start and end date for the data granules<br />\n",
    "3.) Add <a href=\"https://search.earthdata.nasa.gov/search/granules?p=C1690022359-GES_DISC&pg[0][v]=f&pg[0][gsk]=-start_date&q=GLDAS_CLSM10_3H_2.1&tl=1347014600.484!5!!&lat=0.05719976537514171&long=-0.07464366545408296&zoom=3.0033333333333334\"\n",
    "        target=\"_blank\" rel=\"noopener noreferrer\"\n",
    "         style=\"color: blue; text-decoration: none;\">\n",
    "      model name and version from EarthData portal\n",
    "    </a><br />\n",
    "4.) Add the prefix for the data within the bucket (e.g., remote sensing mission, reanalysis model, etc.)<br />\n",
    "5.) Retrieve all files within the collection based on the start and end date. (If the same year is selected for start_date and end_date, then only the common year will be retrieved. Else all granules are retrived.<br />\n",
    "6.) Filter all collected granules based on the start_ and end_date range.<br />\n",
    "7.) Compute daily mean of hourly files<br />\n",
    "8.) Plot variable based on coordinates selected<br />\n",
    "9.) Create a .gif over the start_ and end_date range"
   ]
  },
  {
   "cell_type": "code",
   "execution_count": 3,
   "id": "0bfac17a-2af1-489f-b1ad-655f7541e23a",
   "metadata": {},
   "outputs": [],
   "source": [
    "# ── Authenticate ──────────────────────────────────────────────────────────────\n",
    "auth = earthaccess.login()\n",
    "\n",
    "store = Store(auth)"
   ]
  },
  {
   "cell_type": "markdown",
   "id": "90b58cb3-206c-43cd-9fdd-9bb410a6839e",
   "metadata": {},
   "source": [
    "## Select dates and find links"
   ]
  },
  {
   "cell_type": "code",
   "execution_count": null,
   "id": "5f16b1a4-9f28-420f-b888-a9a043d5f238",
   "metadata": {},
   "outputs": [
    {
     "name": "stdout",
     "output_type": "stream",
     "text": [
      "Retrieving data granules from Earthaccess\n",
      "Found 329 files\n"
     ]
    },
    {
     "data": {
      "application/vnd.jupyter.widget-view+json": {
       "model_id": "fa7133c5732c42a1bb8a11cce9e84e35",
       "version_major": 2,
       "version_minor": 0
      },
      "text/plain": [
       "QUEUEING TASKS | :   0%|          | 0/329 [00:00<?, ?it/s]"
      ]
     },
     "metadata": {},
     "output_type": "display_data"
    },
    {
     "data": {
      "application/vnd.jupyter.widget-view+json": {
       "model_id": "7419cc78f3764f60a437dfb03ec4e03d",
       "version_major": 2,
       "version_minor": 0
      },
      "text/plain": [
       "PROCESSING TASKS | :   0%|          | 0/329 [00:00<?, ?it/s]"
      ]
     },
     "metadata": {},
     "output_type": "display_data"
    },
    {
     "data": {
      "application/vnd.jupyter.widget-view+json": {
       "model_id": "a98a04ac79804d2a8ec283db014178c4",
       "version_major": 2,
       "version_minor": 0
      },
      "text/plain": [
       "COLLECTING RESULTS | :   0%|          | 0/329 [00:00<?, ?it/s]"
      ]
     },
     "metadata": {},
     "output_type": "display_data"
    }
   ],
   "source": [
    "# ── Search by date ────────(requires >2GB RAM if more than 40 dates are selected)───────────────\n",
    "start_date = datetime.datetime(2022, 4, 1)\n",
    "end_date = datetime.datetime(2022, 5, 12)\n",
    "date_array = pd.date_range(start=start_date, end=end_date, freq=\"D\").to_pydatetime()\n",
    "\n",
    "# ── Dataset ─────────────────────────────────────────────────────────────────────────────────────\n",
    "short_name = \"GLDAS_NOAH025_3H\"\n",
    "version = \"2.1\"\n",
    "variable = \"SoilMoi0_10cm_inst\"  # Only select a single variable of interest\n",
    "\n",
    "# get all granules\n",
    "print(\"Retrieving data granules from Earthaccess\")\n",
    "results = earthaccess.search_data(\n",
    "    short_name=short_name,\n",
    "    version=version,\n",
    "    temporal=(start_date, end_date),\n",
    "    cloud_hosted=True,\n",
    ")\n",
    "\n",
    "# grab the S3 URLs\n",
    "urls = [g[\"umm\"][\"RelatedUrls\"][1][\"URL\"] for g in results]\n",
    "print(f\"Found {len(urls)} files\")\n",
    "\n",
    "# ── Open granules ───────────────────────────────────────────────────────────────────────────────\n",
    "granules = earthaccess.open(results)\n",
    "fs = earthaccess.get_s3_filesystem(results=results)  # auto‐picks the right DAAC & creds\n",
    "\n",
    "fsspec_caching = {\"cache_type\": \"mmap\"}\n",
    "lat_range = slice(24, 50)\n",
    "lon_range = slice(-125, -66)\n",
    "\n",
    "\n",
    "def subset(ds):\n",
    "    return ds[[variable]].sel(lat=lat_range, lon=lon_range)\n",
    "\n",
    "\n",
    "ds = xr.open_mfdataset(\n",
    "    [fs.open(url, **fsspec_caching) for url in urls],\n",
    "    chunks=\"auto\",\n",
    "    concat_dim=\"time\",\n",
    "    combine=\"nested\",\n",
    "    parallel=True,\n",
    "    data_vars=\"minimal\",\n",
    "    coords=\"minimal\",\n",
    "    compat=\"override\",\n",
    "    join=\"exact\",\n",
    "    preprocess=subset,\n",
    ")\n",
    "\n",
    "# ── Compute Daily Mean ───────────────────────────────────────────────────────────────────────────────\n",
    "ds_resampled = ds.resample(time=\"1D\").mean(dim=\"time\").compute()\n",
    "ds_resampled"
   ]
  },
  {
   "cell_type": "markdown",
   "id": "568bf7d8-6520-47db-838b-029c63947708",
   "metadata": {},
   "source": [
    "## Create interactive map"
   ]
  },
  {
   "cell_type": "code",
   "execution_count": null,
   "id": "e45ae2fa-7548-4253-86d9-09bf0e7699d9",
   "metadata": {},
   "outputs": [],
   "source": [
    "# Use the plot_folium_from_xarray function from plotutils\n",
    "putils.plot_folium_from_xarray(\n",
    "    dataset=ds_resampled[\"SoilMoi0_10cm_inst\"],\n",
    "    day_select=\"2022-05-11\",\n",
    "    bbox=[-130, 33, -90, 50],\n",
    "    var_name_for_title=\"Soil Moisture from GLDAS (m³/m³) [subset]\",\n",
    "    matplot_ramp=\"YlOrRd_r\",\n",
    "    zoom_level=4.5,\n",
    "    flipud=False,\n",
    "    save_tif=False,\n",
    "    tif_filename=None,\n",
    "    crs=\"4326\",\n",
    "    opacity=0.8,\n",
    ")"
   ]
  },
  {
   "cell_type": "markdown",
   "id": "0e06456e-bfe6-4e43-ae7a-d56aba746c91",
   "metadata": {},
   "source": [
    "## Create an animation over dates"
   ]
  },
  {
   "cell_type": "code",
   "execution_count": null,
   "id": "02472547-2653-4148-a8fc-2c1040a3af8e",
   "metadata": {},
   "outputs": [],
   "source": [
    "# Usage:\n",
    "putils.matplotlib_gif(\n",
    "    data=ds_resampled[\"SoilMoi0_10cm_inst\"],\n",
    "    bbox=[-130, 33, -90, 50],\n",
    "    gif_savename=\"soil_matplotlib.gif\",\n",
    "    duration=2,\n",
    "    cmap=\"YlOrRd_r\",\n",
    ")"
   ]
  },
  {
   "cell_type": "markdown",
   "id": "d1865289-78ef-4d0e-8371-6172c746c883",
   "metadata": {},
   "source": [
    "# Example: Soil moisture data from WLDAS\n",
    "This example pulls soil moisture data from the Western Land Data Assimilation System (WLDAS) via the VEDA STAC catalog and visualize.The WLDAS is a regional instance of NASA’s Land Information System (LIS), developed at Goddard Space Flight Center for the western United States.  It integrates meteorological forcings (precipitation, radiation, temperature, humidity, wind, surface pressure) and satellite-derived parameters (vegetation class, soil texture, elevation) into the Noah-MP land surface model using data assimilation techniques.\n",
    "\n",
    "Soil moisture critically controls the partitioning of net surface energy into latent (evapotranspiration) versus sensible (heating) fluxes. Wetter soils favor latent heat, stabilizing the boundary layer, whereas drier soils boost sensible heating, enhancing near-surface temperature and convective available potential energy (CAPE). These processes govern where and when thunderstorms can initiate and organize.\n",
    "\n"
   ]
  },
  {
   "cell_type": "markdown",
   "id": "5b770e10-fcd9-4fa5-8eaf-a5feb6390064",
   "metadata": {},
   "source": [
    "## Processing steps:\n",
    "1.) Choose STAC catalog ID and date<br />\n",
    "2.) Retrieve collection information and items from VEDA STAC catalog<br />\n",
    "3.) Retrieve item statistics and tiling information<br />\n",
    "4.) Plot data<br />"
   ]
  },
  {
   "cell_type": "markdown",
   "id": "69c58d56-338b-4c04-a670-285aabe2ef2d",
   "metadata": {},
   "source": [
    "## Choose variable and retrieve json from VEDA STAC catalogue"
   ]
  },
  {
   "cell_type": "code",
   "execution_count": null,
   "id": "099e8873-24f3-4599-9599-0c76b74915b1",
   "metadata": {
    "scrolled": true
   },
   "outputs": [],
   "source": [
    "# TODO: Change collection_ID and date\n",
    "client_STAC = Client.open(STAC_API_URL)\n",
    "\n",
    "collection_id = \"wldas-derecho-sm\"\n",
    "date = \"2022-05-11\"\n",
    "\n",
    "results = client_STAC.search(collections=[collection_id], datetime=date)\n",
    "\n",
    "# ── VEDA Collection Request ─────────────────────────────────────────────────────────────────────────────────────\n",
    "\n",
    "items = list(results.items())\n",
    "assert len(items) != 0, \"No items found\"\n",
    "item = items[0]\n",
    "collection = item.get_collection()\n",
    "\n",
    "# grab the dashboard render block\n",
    "dashboard_render = collection.extra_fields[\"renders\"][\"dashboard\"]\n",
    "\n",
    "assets = dashboard_render[\"assets\"][0]\n",
    "((vmin, vmax),) = dashboard_render[\"rescale\"]\n",
    "\n",
    "collection"
   ]
  },
  {
   "cell_type": "markdown",
   "id": "47a8ce62-0d57-40b5-a0a2-550efece7ca0",
   "metadata": {},
   "source": [
    "## Retrieve tiling information"
   ]
  },
  {
   "cell_type": "code",
   "execution_count": null,
   "id": "3944eeea-25c1-485e-8f3e-3af5f015306a",
   "metadata": {},
   "outputs": [],
   "source": [
    "# ── VEDA Tile Request ─────────────────────────────────────────────────────────────────────────────────────\n",
    "colormap_name = \"hot\"\n",
    "\n",
    "# Build endpoint URL without worrying about trailing slashes\n",
    "response = requests.get(\n",
    "    f\"{RASTER_API_URL.rstrip('/')}/collections/{collection_id}\"\n",
    "    f\"/items/{item.id}/WebMercatorQuad/tilejson.json?\"\n",
    "    f\"&assets={assets}\"\n",
    "    f\"&color_formula=gamma+r+1.05&colormap_name={colormap_name}\"\n",
    "    f\"&rescale={vmin},{vmax}\",\n",
    ")\n",
    "\n",
    "response.raise_for_status()\n",
    "\n",
    "tiles = response.json()\n",
    "print(tiles)"
   ]
  },
  {
   "cell_type": "markdown",
   "id": "3ccda185-72b9-4137-b7c9-9d97edcc9271",
   "metadata": {},
   "source": [
    "## Plot data"
   ]
  },
  {
   "cell_type": "code",
   "execution_count": null,
   "id": "7cd6de0b-937c-4462-9951-306985f26279",
   "metadata": {},
   "outputs": [],
   "source": [
    "# Use the new plot_folium_from_VEDA_STAC function\n",
    "m = putils.plot_folium_from_VEDA_STAC(\n",
    "    tiles_url_template=tiles[\"tiles\"][0],\n",
    "    center_coords=[41.5, -110],\n",
    "    zoom_level=5,\n",
    "    rescale=(vmin, vmax),\n",
    "    colormap_name=colormap_name,\n",
    "    capitalize_cmap=False,  # to better match VEDA colors and matplotlib colors\n",
    "    layer_name=\"WLDAS soil moisture\",\n",
    "    date=f\"{date}T00:00:00Z\",\n",
    "    colorbar_caption=\"Soil Moisture (m3/m3)\",\n",
    "    attribution=\"VEDA WLDAS Soil Moisture\",\n",
    "    tile_name=\"WLDAS Soil Moisture Data\",\n",
    "    opacity=0.8,\n",
    "    height=\"800px\",\n",
    ")\n",
    "\n",
    "# Display the map\n",
    "m"
   ]
  },
  {
   "cell_type": "markdown",
   "id": "a3e5f5d3-5aab-45d4-93ac-1e9f0ebc5a9c",
   "metadata": {},
   "source": [
    "# Example:  Hourly Aerosol Optical Thickness from MERRA-2\n",
    "\n",
    "This example retrieves MERRA-2 hourly files for Aerosol Optical Thickness. Aerosol Optical Thickness (AOT), also called Aerosol Optical Depth (AOD), is a dimensionless measure of how much sunlight aerosols—tiny particles like dust, smoke or sea salt—scatter and absorb as it travels through a column of atmosphere. In practical terms, an AOT of 0.1 means only 10 % of the direct solar beam is extinguished by aerosols before reaching the surface.\n",
    "\n",
    "The intense straight-line winds in derechos can uplift large quantities of soil and dust, dramatically increasing AOT downwind. Tracking AOT in near-real-time reveals the spatial extent and intensity of these airborne dust plumes.\n",
    "\n"
   ]
  },
  {
   "cell_type": "markdown",
   "id": "c4851cb9-1d4c-4a4b-a5da-68fa9df5f13c",
   "metadata": {},
   "source": [
    "## Processing steps:\n",
    "1.) Select a start and end date for the data granules<br />\n",
    "2.) Add <a href=\"https://search.earthdata.nasa.gov/search/granules/collection-details?p=C1276812830-GES_DISC&pg[0][v]=f&pg[0][gsk]=-start_date&q=merra%20aerosol&tl=1031468010.052!5!!\"\n",
    "        target=\"_blank\" rel=\"noopener noreferrer\"\n",
    "         style=\"color: blue; text-decoration: none;\">\n",
    "      model name and version from EarthData portal\n",
    "    </a><br />\n",
    "3.) Add the prefix for the data within the bucket (e.g., remote sensing mission, reanalysis model, etc.)<br />\n",
    "4.) Retrive all files within the collection based on the start and end date. (If the same year is selected for start_date and end_date, then only the common year will be retrieved. Else all granules are retrived.<br />\n",
    "5.) Filter all collected granules based on the start_ and end_date range.<br />\n",
    "6.) Plot variable based on coordinates selected<br />\n",
    "7.) Create a .gif over the start_ and end_date range"
   ]
  },
  {
   "cell_type": "markdown",
   "id": "e89209ab-752a-473f-922c-67d9ecd38712",
   "metadata": {},
   "source": [
    "## Select and filter"
   ]
  },
  {
   "cell_type": "code",
   "execution_count": null,
   "id": "0586c967-9724-4640-8e71-d5f20195c1b0",
   "metadata": {},
   "outputs": [],
   "source": [
    "# ── Search by date ──────────────────────────────────────────────────────────────────────────────\n",
    "start_date = datetime.datetime(2022, 5, 12)\n",
    "end_date = datetime.datetime(2022, 5, 12)\n",
    "date_array = pd.date_range(start=start_date, end=end_date, freq=\"D\").to_pydatetime()\n",
    "\n",
    "# ── Dataset ─────────────────────────────────────────────────────────────────────────────────────\n",
    "short_name = \"M2T1NXAER\"\n",
    "version = \"5.12.4\"\n",
    "variable = \"TOTEXTTAU\"  # Total aerosol extinction optical thickness\n",
    "\n",
    "# get all granules\n",
    "print(\"Retrieving data granules from Earthaccess\")\n",
    "results = earthaccess.search_data(\n",
    "    short_name=short_name,\n",
    "    version=version,\n",
    "    temporal=(start_date, end_date),\n",
    "    cloud_hosted=True,\n",
    ")\n",
    "\n",
    "# grab the S3 URLs\n",
    "urls = [g[\"umm\"][\"RelatedUrls\"][1][\"URL\"] for g in results]\n",
    "print(f\"Found {len(urls)} files\")\n",
    "\n",
    "# ── Open granules ───────────────────────────────────────────────────────────────────────────────\n",
    "granules = earthaccess.open(results)\n",
    "fs = earthaccess.get_s3_filesystem(results=results)  # auto‐picks the right DAAC & creds\n",
    "\n",
    "fsspec_caching = {\"cache_type\": \"mmap\"}\n",
    "lat_range = slice(24, 50)\n",
    "lon_range = slice(-125, -66)\n",
    "\n",
    "\n",
    "def subset(ds):\n",
    "    return ds[[variable]].sel(lat=lat_range, lon=lon_range)\n",
    "\n",
    "\n",
    "ds = xr.open_mfdataset(\n",
    "    [fs.open(url, **fsspec_caching) for url in urls],\n",
    "    chunks=\"auto\",\n",
    "    concat_dim=\"time\",\n",
    "    combine=\"nested\",\n",
    "    parallel=True,\n",
    "    data_vars=\"minimal\",\n",
    "    coords=\"minimal\",\n",
    "    compat=\"override\",\n",
    "    join=\"exact\",\n",
    "    preprocess=subset,\n",
    ")\n",
    "\n",
    "ds"
   ]
  },
  {
   "cell_type": "markdown",
   "id": "b0f2746c-b6e2-4b8b-a6d4-2e530c6462d0",
   "metadata": {},
   "source": [
    "## Plot time series of Aerosols\n",
    "\n",
    "Open the MERRA file and plot by hour in a .gif for the selected variable AOT"
   ]
  },
  {
   "cell_type": "code",
   "execution_count": null,
   "id": "1b74614a-dac6-4f06-a2a7-6a0423d020d3",
   "metadata": {},
   "outputs": [],
   "source": [
    "# Use the matplotlib_gif function from plotutils\n",
    "putils.matplotlib_gif(\n",
    "    data=ds[\"TOTEXTTAU\"],\n",
    "    bbox=[-130, 33, -90, 50],\n",
    "    gif_savename=\"merra_aot.gif\",\n",
    "    duration=2,\n",
    "    cmap=\"YlOrRd_r\",\n",
    ");"
   ]
  },
  {
   "cell_type": "markdown",
   "id": "9bb134f2-47c7-4403-8925-067633fc6226",
   "metadata": {},
   "source": [
    "# Example: Aerosol Optical Depth with MODIS\n",
    "\n",
    "Pull MODIS Aerosol Optical Depth data from the VEDA STAC catalog and visualize\n"
   ]
  },
  {
   "cell_type": "code",
   "execution_count": null,
   "id": "95a156b0-e489-4f58-bb56-684b1c0685b6",
   "metadata": {},
   "outputs": [],
   "source": [
    "collection_id = \"modis-derecho\"\n",
    "date = \"2022-05-12\"\n",
    "\n",
    "results = client_STAC.search(collections=[collection_id], datetime=date)\n",
    "\n",
    "# ── VEDA Collection Request ─────────────────────────────────────────────────────────────────────────────────────\n",
    "\n",
    "items = list(results.items())\n",
    "assert len(items) != 0, \"No items found\"\n",
    "item = items[0]\n",
    "collection = item.get_collection()\n",
    "\n",
    "# grab the dashboard render block\n",
    "dashboard_render = collection.extra_fields[\"renders\"][\"dashboard\"]\n",
    "\n",
    "assets = dashboard_render[\"assets\"][0]\n",
    "((vmin, vmax),) = dashboard_render[\"rescale\"]\n",
    "\n",
    "collection"
   ]
  },
  {
   "cell_type": "code",
   "execution_count": null,
   "id": "9a609b19-23e0-4086-b7c1-5105f366c75c",
   "metadata": {},
   "outputs": [],
   "source": [
    "# ── VEDA Tile Request ─────────────────────────────────────────────────────────────────────────────────────\n",
    "colormap_name = \"viridis\"\n",
    "\n",
    "# Build endpoint URL without worrying about trailing slashes\n",
    "response = requests.get(\n",
    "    f\"{RASTER_API_URL.rstrip('/')}/collections/{collection_id}\"\n",
    "    f\"/items/{item.id}/WebMercatorQuad/tilejson.json?\"\n",
    "    f\"&assets={assets}\"\n",
    "    f\"&color_formula=gamma+r+1.05&colormap_name={colormap_name}\"\n",
    "    f\"&rescale={vmin},{vmax}\",\n",
    ")\n",
    "\n",
    "response.raise_for_status()\n",
    "\n",
    "tiles = response.json()\n",
    "print(tiles)"
   ]
  },
  {
   "cell_type": "code",
   "execution_count": null,
   "id": "83494d69-1830-493a-bbdb-23b1f6cffea8",
   "metadata": {},
   "outputs": [],
   "source": [
    "# Use the new plot_folium_from_VEDA_STAC function\n",
    "m = putils.plot_folium_from_VEDA_STAC(\n",
    "    tiles_url_template=tiles[\"tiles\"][0],\n",
    "    center_coords=[42.5, -96],\n",
    "    zoom_level=7,\n",
    "    rescale=(vmin, vmax),\n",
    "    colormap_name=colormap_name,\n",
    "    layer_name=\"MODIS AOD\",\n",
    "    date=f\"{date}T00:00:00Z\",\n",
    "    colorbar_caption=\"Aerosol Optical Depth\",\n",
    "    attribution=\"VEDA MODIS AOD\",\n",
    "    tile_name=\"MODIS AOD\",\n",
    "    opacity=0.8,\n",
    "    height=\"800px\",\n",
    ")\n",
    "\n",
    "# Display the map\n",
    "m"
   ]
  },
  {
   "cell_type": "markdown",
   "id": "8af64d82-ae4b-4658-8fcf-ef7e7b246d81",
   "metadata": {},
   "source": [
    "# Example: Wind Gusts\n",
    "\n",
    "This examples pulls data the National Centers for Environmental Information's (NCEI) Interpolated Wind Gusts data from the VEDA STAC catalog and visualizes. The NCEI Interpolated Wind Gusts product takes the discrete station‐reported peak wind gusts from the NCEI Storm Events Database—a standardized archive of severe‐weather observations dating back to 1950—and uses spatial interpolation to generate a continuous gridded field of maximum gust speeds across the derecho swath. \n",
    "\n",
    "By filling in the gaps between point measurements, it reveals the full geographic extent and intensity gradients of the derecho’s outflow winds, often uncovering zones of extreme gust (e.g., 70 mph +) that lie between and beyond individual station sites. "
   ]
  },
  {
   "cell_type": "code",
   "execution_count": null,
   "id": "88cd930e-5817-4637-a99d-0730a57dec36",
   "metadata": {},
   "outputs": [],
   "source": [
    "collection_id = \"windgusts-derecho\"\n",
    "date = \"2022-05-12\"\n",
    "\n",
    "results = client_STAC.search(collections=[collection_id], datetime=date)\n",
    "\n",
    "# ── VEDA Collection Request ─────────────────────────────────────────────────────────────────────────────────────\n",
    "\n",
    "items = list(results.items())\n",
    "assert len(items) != 0, \"No items found\"\n",
    "item = items[0]\n",
    "collection = item.get_collection()\n",
    "\n",
    "# grab the dashboard render block\n",
    "dashboard_render = collection.extra_fields[\"renders\"][\"dashboard\"]\n",
    "\n",
    "assets = dashboard_render[\"assets\"][0]\n",
    "((vmin, vmax),) = dashboard_render[\"rescale\"]\n",
    "\n",
    "collection"
   ]
  },
  {
   "cell_type": "code",
   "execution_count": null,
   "id": "3dd7a212-62be-429d-89c2-59f0449f7078",
   "metadata": {},
   "outputs": [],
   "source": [
    "# ── VEDA Tile Request ─────────────────────────────────────────────────────────────────────────────────────\n",
    "colormap_name = \"viridis\"\n",
    "\n",
    "# Build endpoint URL without worrying about trailing slashes\n",
    "response = requests.get(\n",
    "    f\"{RASTER_API_URL.rstrip('/')}/collections/{collection_id}\"\n",
    "    f\"/items/{item.id}/WebMercatorQuad/tilejson.json?\"\n",
    "    f\"&assets={assets}\"\n",
    "    f\"&color_formula=gamma+r+1.05&colormap_name={colormap_name}\"\n",
    "    f\"&rescale={vmin},{vmax}\",\n",
    ")\n",
    "\n",
    "response.raise_for_status()\n",
    "\n",
    "tiles = response.json()\n",
    "print(tiles)"
   ]
  },
  {
   "cell_type": "code",
   "execution_count": null,
   "id": "ff7ce218-f71a-472c-975f-95b4d46e4e5a",
   "metadata": {},
   "outputs": [],
   "source": [
    "# Use the new plot_folium_from_VEDA_STAC function\n",
    "m = putils.plot_folium_from_VEDA_STAC(\n",
    "    tiles_url_template=tiles[\"tiles\"][0],\n",
    "    center_coords=[45, -97.7],\n",
    "    zoom_level=6,\n",
    "    rescale=(vmin, vmax),\n",
    "    colormap_name=colormap_name,\n",
    "    capitalize_cmap=False,  # to better match VEDA colors and matplotlib colors\n",
    "    layer_name=\"Wind Gusts\",\n",
    "    date=f\"{date}T00:00:00Z\",\n",
    "    colorbar_caption=\"Wind Gusts (mph)\",\n",
    "    attribution=\"VEDA Wind Gusts\",\n",
    "    tile_name=\"Wind Gusts\",\n",
    "    opacity=0.8,\n",
    "    height=\"800px\",\n",
    ")\n",
    "\n",
    "# Display the map\n",
    "m"
   ]
  },
  {
   "cell_type": "markdown",
   "id": "089ceb67-22bf-4f3c-96a8-50c196fff2d5",
   "metadata": {},
   "source": [
    "# Example: Black Marble Night Lights\n",
    "\n",
    "This examples pulls the NASA Black Marble Night Lights data from the VEDA STAC catalog and visualizes.\n",
    "During extreme windstorms such as derechos, sudden drops in nighttime brightness in the Black Marble imagery reveal where power infrastructure has failed and outages have occurred, while the re-illumination of areas over subsequent days tracks the pace and extent of electrical service restoration. This makes Black Marble a powerful, near-real-time proxy for assessing societal impacts and grid resilience in the storm’s wake."
   ]
  },
  {
   "cell_type": "code",
   "execution_count": null,
   "id": "97af23f1-7204-47f9-8a1b-6b21916cfd15",
   "metadata": {},
   "outputs": [],
   "source": [
    "collection_id = \"nightlights-derecho\"\n",
    "date = \"2022-05-10\"\n",
    "\n",
    "results = client_STAC.search(collections=[collection_id], datetime=date)\n",
    "\n",
    "# ── VEDA Collection Request ─────────────────────────────────────────────────────────────────────────────────────\n",
    "\n",
    "items = list(results.items())\n",
    "assert len(items) != 0, \"No items found\"\n",
    "item = items[0]\n",
    "collection = item.get_collection()\n",
    "\n",
    "# grab the dashboard render block\n",
    "dashboard_render = collection.extra_fields[\"renders\"][\"dashboard\"]\n",
    "\n",
    "assets = dashboard_render[\"assets\"][0]\n",
    "((vmin, vmax),) = dashboard_render[\"rescale\"]\n",
    "\n",
    "collection"
   ]
  },
  {
   "cell_type": "code",
   "execution_count": null,
   "id": "2ee4bca9-0a27-43e9-bf7d-af161e186130",
   "metadata": {},
   "outputs": [],
   "source": [
    "# ── VEDA Tile Request ─────────────────────────────────────────────────────────────────────────────────────\n",
    "colormap_name = \"bwr\"\n",
    "\n",
    "# Build endpoint URL without worrying about trailing slashes\n",
    "response = requests.get(\n",
    "    f\"{RASTER_API_URL.rstrip('/')}/collections/{collection_id}\"\n",
    "    f\"/items/{item.id}/WebMercatorQuad/tilejson.json?\"\n",
    "    f\"&assets={assets}\"\n",
    "    f\"&color_formula=gamma+r+1.05&colormap_name={colormap_name}\"\n",
    "    f\"&rescale={vmin},{vmax}\",\n",
    ")\n",
    "\n",
    "response.raise_for_status()\n",
    "\n",
    "tiles = response.json()\n",
    "print(tiles)"
   ]
  },
  {
   "cell_type": "code",
   "execution_count": null,
   "id": "c991a66f-7055-473d-8f33-bcd4b7b81392",
   "metadata": {},
   "outputs": [],
   "source": [
    "# Use the new plot_folium_from_VEDA_STAC function\n",
    "m = putils.plot_folium_from_VEDA_STAC(\n",
    "    tiles_url_template=tiles[\"tiles\"][0],\n",
    "    center_coords=[45, -93],\n",
    "    zoom_level=8,\n",
    "    rescale=(vmin, vmax),\n",
    "    colormap_name=colormap_name,\n",
    "    capitalize_cmap=False,  # to better match VEDA colors and matplotlib colors\n",
    "    layer_name=\"Black Marble Night Lights\",\n",
    "    date=f\"{date}T00:00:00Z\",\n",
    "    colorbar_caption=\"Artificial Light\",\n",
    "    attribution=\"VEDA Black Marble Night Lights\",\n",
    "    tile_name=\"Black Marble Night Lights\",\n",
    "    opacity=0.8,\n",
    "    height=\"800px\",\n",
    ")\n",
    "\n",
    "print(\n",
    "    \"Visualization of St. Paul, Minnesota where values approaching 255 indicate power outages.\"\n",
    ")\n",
    "# Display the map\n",
    "m"
   ]
  },
  {
   "cell_type": "markdown",
   "id": "a00dc19a-2fb6-46ae-b315-be52a63c01af",
   "metadata": {},
   "source": [
    "\n",
    "# Example: Global Precipitation\n",
    "\n",
    "Pull NASA's Global Precipitation Measurement (GPM) data through the Common Metadata Repository (CMR) STAC API.\n",
    "NASA's GPM uses satellites to measure Earth's rain and snowfall for the benefit of mankind. Launched by NASA and JAXA on Feb. 27th, 2014, GPM is an international mission that sets the standard for spaceborne precipitation measurements.\n",
    "\n"
   ]
  },
  {
   "cell_type": "code",
   "execution_count": null,
   "id": "1ec39775-7dee-4d06-a472-ffa9208e8e89",
   "metadata": {},
   "outputs": [],
   "source": [
    "# Specific for May 05, 2022 (using titiler-cmr request)\n",
    "date = \"2022-05-12\"\n",
    "basetile_URL = \"https://staging.openveda.cloud/api/titiler-cmr/tiles/WebMercatorQuad/{z}/{x}/{y}@1x?\"\n",
    "tile_URL = f\"datetime={date}T00%3A00%3A00.000Z%2F{date}T23%3A59%3A59.999Z&resampling=bilinear&variable=precipitation&colormap_name=gnbu&rescale=0%2C46&concept_id=C2723754864-GES_DISC&backend=xarray\"\n",
    "tilejson_url = f\"{basetile_URL}{tile_URL}\""
   ]
  },
  {
   "cell_type": "code",
   "execution_count": null,
   "id": "de388abd-06ea-4b79-a916-589a078481fc",
   "metadata": {},
   "outputs": [],
   "source": [
    "m = putils.plot_folium_from_VEDA_STAC(\n",
    "    tiles_url_template=tilejson_url,\n",
    "    layer_name=\"GPM Imerge Precipitation\",\n",
    "    colorbar_caption=\"mm/hr\",\n",
    "    date=\"2022-05-12\",\n",
    "    colormap_name=\"Blues\",\n",
    "    capitalize_cmap=False,  # to better match VEDA colors and matplotlib colors\n",
    "    center_coords=[46.55, -96.94],\n",
    "    zoom_level=5,\n",
    "    height=\"800px\",\n",
    "    rescale=(0, 46),\n",
    ")\n",
    "\n",
    "m"
   ]
  },
  {
   "cell_type": "markdown",
   "id": "ba192aa4-6fe4-42f6-bad1-b5ded0b205f4",
   "metadata": {},
   "source": [
    "## Economic Impact\n",
    "The economic impact reached beyond the crop fields. Many grain silos, irrigation systems, and farm buildings were also damaged or destroyed, adding to the financial burden on farmers.  See image below to identify crop types across the Midwest and the Storm Prediction Center reports across the Midwest.\n",
    "\n",
    "### Compare Corn vs Soybean\n",
    "Use the slider below to compare the USDA corn and soybean land cover for the year 2022 and all unfiltered storm reports collected by the Storm Prediction Center (SPC) on May 12, 2022. \n",
    "\n",
    "Image credit [USDA](https://www.nass.usda.gov/Research_and_Science/Cropland/sarsfaqs2.php) and [Storm Prediction Center](https://www.spc.noaa.gov/)."
   ]
  },
  {
   "cell_type": "code",
   "execution_count": null,
   "id": "e6d8cd6d-ffb9-480b-8500-2142a753e729",
   "metadata": {},
   "outputs": [],
   "source": [
    "# Usage example:\n",
    "img1_path = \"images/derecho/Derecho-Crop.jpg\"\n",
    "img2_path = \"images/derecho/Derecho-storm-reports.jpg\"\n",
    "\n",
    "putils.create_pausable_blend_slider(img1_path, img2_path, width=800)"
   ]
  },
  {
   "cell_type": "markdown",
   "id": "1bab2de7-05fe-4c7e-88d1-f56f48ea92ed",
   "metadata": {},
   "source": [
    "# Clean Up (Optional)\n",
    "\n",
    "\n",
    "Remove any **.gif** files that were created to save on storage space. Additionally, remove any **core** files that were created if the kernel crashed."
   ]
  },
  {
   "cell_type": "code",
   "execution_count": null,
   "id": "46fcc420-3c68-481c-9223-86484eea1820",
   "metadata": {},
   "outputs": [],
   "source": [
    "# find all .gif files in the current directory\n",
    "for gif_path in glob.glob(\"*.gif\"):\n",
    "    try:\n",
    "        os.remove(gif_path)\n",
    "        print(f\"Removed {gif_path}\")\n",
    "    except OSError as e:\n",
    "        print(f\"Error removing {gif_path}: {e}\")\n",
    "\n",
    "# find all core files in the current directory\n",
    "for core_path in glob.glob(\"core.*\"):\n",
    "    try:\n",
    "        os.remove(core_path)\n",
    "        print(f\"Removed {core_path}\")\n",
    "    except OSError as e:\n",
    "        print(f\"Error removing {core_path}: {e}\")"
   ]
  }
 ],
 "metadata": {
  "colab": {
   "provenance": []
  },
  "kernelspec": {
   "display_name": "Python 3 (ipykernel)",
   "language": "python",
   "name": "python3"
  },
  "language_info": {
   "codemirror_mode": {
    "name": "ipython",
    "version": 3
   },
   "file_extension": ".py",
   "mimetype": "text/x-python",
   "name": "python",
   "nbconvert_exporter": "python",
   "pygments_lexer": "ipython3",
   "version": "3.12.10"
  }
 },
 "nbformat": 4,
 "nbformat_minor": 5
}
