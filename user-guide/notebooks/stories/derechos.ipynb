{
 "cells": [
  {
   "cell_type": "markdown",
   "id": "7b36dc18-2d9b-410d-9253-6ead1367de7d",
   "metadata": {
    "id": "7b36dc18-2d9b-410d-9253-6ead1367de7d"
   },
   "source": [
    "<div class=\"alert alert-block alert-success\">\n",
    "<h1><strong>NASA Data Fusion Analysis of Derechos and Their Impact on Rural America</h1>\n",
    "</div>\n",
    "    \n",
    "Story authors: Madison Wallner<sup>1</sup>, Andrew Blackford<sup>1</sup>, Udaysankar Nair<sup>1</sup><br />\n",
    "<sup>1</sup>The University of Alabama in Huntsville (UAH)\n",
    "\n",
    "Notebook editor: Kyle Lesinger<sup>1</sup>"
   ]
  },
  {
   "cell_type": "markdown",
   "id": "261ce739-6f08-4e22-853c-159fb928e4b4",
   "metadata": {},
   "source": [
    "# Run This Notebook"
   ]
  },
  {
   "cell_type": "markdown",
   "id": "d0ec7a33-8fc1-40ee-b857-26eeb518b59f",
   "metadata": {},
   "source": [
    "<h3><a href=\"https://hub.openveda.cloud/hub/user-redirect/git-pull?repo=https://github.com/NASA-IMPACT/veda-docs&urlpath=lab/tree/veda-docs/user-guide/notebooks/stories/derechos.ipynb&branch=main\">🚀 Launch in VEDA JupyterHub (requires access)</a></h3>\n",
    "\n",
    "<h3> To gain access to VEDA Hub, <a href = \"https://docs.openveda.cloud/user-guide/scientific-computing/getting-access.html\"> follow this link for more information.</a></h3>"
   ]
  },
  {
   "cell_type": "markdown",
   "id": "f8b8f848-e91c-468b-9ec5-7c5e2ea8db4c",
   "metadata": {},
   "source": [
    "<div class=\"alert alert-block\" style=\"\n",
    "     background-color: #f8d7da;\n",
    "     color: #721c24;\n",
    "     border-left: 4px solid #28a745;\n",
    "  \">\n",
    "Disclaimer: it is highly recommended to run a tutorial within NASA VEDA JupyterHub, which already includes functions for processing and visualizing data specific to VEDA stories. Running the tutorial outside of the VEDA JupyterHub may lead to errors, specifically related to EarthData authentication. Additionally, it is recommended to use the Pangeo workspace within the VEDA JupyterHub, since certain packages relevant to this tutorial are already installed. </div>\n",
    "\n",
    "<h4> If you <strong>do not</strong> have a VEDA Jupyterhub Account you can launch this notebook using mybinder by clicking the icon below.</h4>\n",
    "<br/>\n",
    "\n",
    "<a href=\"https://binder.openveda.cloud/v2/gh/NASA-IMPACT/veda-docs/9c8cdbae92906fb7062b8a0c759dad90e223a4f9?urlpath=lab%2Ftree%2Fuser-guide%2Fnotebooks%2Fstories%2Fderechos.ipynb\">\n",
    "<img src=\"https://binder.openveda.cloud/badge_logo.svg\" alt=\"Binder\" title=\"A cute binder\" width=\"150\"/> </a>"
   ]
  },
  {
   "cell_type": "markdown",
   "id": "6bf5f134-0fba-41bf-8d1d-7654a1b9307a",
   "metadata": {},
   "source": [
    "## Example scripts to process and visualize information"
   ]
  },
  {
   "cell_type": "code",
   "execution_count": 1,
   "id": "a6041ba0-3d38-433d-8982-505de8e6fbaf",
   "metadata": {},
   "outputs": [],
   "source": [
    "# Load libraries\n",
    "import earthaccess\n",
    "from earthaccess import Auth, Store\n",
    "import datetime\n",
    "import pandas as pd\n",
    "import xarray as xr\n",
    "import fsspec\n",
    "import requests\n",
    "import json\n",
    "\n",
    "import plotutils as putils"
   ]
  },
  {
   "cell_type": "code",
   "execution_count": 2,
   "id": "9f25c49c-452e-4970-bdb6-993a5cfff08b",
   "metadata": {},
   "outputs": [],
   "source": [
    "#For retrieving data already catalogued in VEDA STAC\n",
    "STAC_API_URL=\"https://openveda.cloud/api/stac\"\n",
    "RASTER_API_URL = \"https://openveda.cloud/api/raster\""
   ]
  },
  {
   "cell_type": "markdown",
   "id": "a7bdf719-4445-47cc-937f-13d6c7f937b3",
   "metadata": {},
   "source": [
    "# What is a Derecho?\n",
    "\n",
    "A **derecho** is a long-lasting, fast-moving windstorm that is produced from a line of severe thunderstorms. For a storm to be called a derecho, there must be:\n",
    "\n",
    "- A concentrated area of severe wind reports over 400 miles (650 km) in length and at least 60 miles (96 km) wide.\n",
    "- Several wind gusts reported over 75 mph (120 km/h).\n",
    "- Sustained winds of at least 58 mph (93 km/h). (SPC)\n",
    "\n",
    "Unlike single thunderstorms, derechos form within mesoscale (i.e., mid-sized) convective systems (MCS)—large storm clusters that produce strong, long-lasting straight-line winds.\n",
    "\n",
    "## Conditions that Help a Derecho Form Include:\n",
    "\n",
    "- **Strong instability** (Convective Available Potential Energy (CAPE) over 2000–4000 J/kg): provides energy for strong updrafts and intense thunderstorms.  \n",
    "- **High low-level moisture** (dewpoints of 65–75 °F): keeps storms going by supplying moisture.  \n",
    "- **Strong mid- and upper-level winds** (wind shear over 40 knots): help organize storms and push them forward.  \n",
    "- **A well-defined cold pool**: rain-cooled air at the surface strengthens the storm by increasing wind speeds at the front of the system.  \n"
   ]
  },
  {
   "cell_type": "markdown",
   "id": "9c225b07-7ecc-462d-a19a-ce15187238e5",
   "metadata": {},
   "source": [
    "<div class=\"alert alert-block alert-warning\">\n",
    "<h1><strong>Example:</strong> Retrieve GLDAS data from EarthData portal</h1>\n",
    "<h3>Global Land Data Assimilation System (GLDAS) data helps assess soil moisture levels before and after the storm, showing how pre-existing drought conditions contributed to dust transport and how heavy rainfall may have impacted runoff and flooding.</h3>\n",
    "</div>\n"
   ]
  },
  {
   "cell_type": "markdown",
   "id": "c6031116-bbbb-4e13-9dd4-a0c06de6dba4",
   "metadata": {},
   "source": [
    "### Processing steps:\n",
    "1.) Provide credentials for EarthAccess authentication<br />\n",
    "2.) Select a start and end date for the data granules<br />\n",
    "3.) Add <a href=\"https://search.earthdata.nasa.gov/search/granules?p=C1690022359-GES_DISC&pg[0][v]=f&pg[0][gsk]=-start_date&q=GLDAS_CLSM10_3H_2.1&tl=1347014600.484!5!!&lat=0.05719976537514171&long=-0.07464366545408296&zoom=3.0033333333333334\"\n",
    "        target=\"_blank\" rel=\"noopener noreferrer\"\n",
    "         style=\"color: blue; text-decoration: none;\">\n",
    "      model name and version from EarthData portal\n",
    "    </a><br />\n",
    "4.) Add the prefix for the data within the bucket (e.g., remote sensing mission, reanalysis model, etc.)<br />\n",
    "5.) Retrieve all files within the collection based on the start and end date. (If the same year is selected for start_date and end_date, then only the common year will be retrieved. Else all granules are retrived.<br />\n",
    "6.) Filter all collected granules based on the start_ and end_date range.<br />\n",
    "7.) Compute daily mean of hourly files<br />\n",
    "8.) Plot variable based on coordinates selected<br />\n",
    "9.) Create a .gif over the start_ and end_date range"
   ]
  },
  {
   "cell_type": "code",
   "execution_count": 3,
   "id": "0bfac17a-2af1-489f-b1ad-655f7541e23a",
   "metadata": {},
   "outputs": [
    {
     "name": "stdout",
     "output_type": "stream",
     "text": [
      "Authenticated: True\n",
      "Authenticated: True\n"
     ]
    }
   ],
   "source": [
    "# ── Authenticate ──────────────────────────────────────────────────────────────\n",
    "auth = Auth()\n",
    "### If authentication comes from personal .netrc file\n",
    "auth.login(strategy=\"netrc\")\n",
    "print(f\"Authenticated: {auth.authenticated}\")\n",
    "## If authentication comes from local environment\n",
    "auth.login(strategy=\"environment\")\n",
    "print(f\"Authenticated: {auth.authenticated}\")\n",
    "\n",
    "store = Store(auth)"
   ]
  },
  {
   "cell_type": "markdown",
   "id": "90b58cb3-206c-43cd-9fdd-9bb410a6839e",
   "metadata": {},
   "source": [
    "### Select dates and find Earthdata links"
   ]
  },
  {
   "cell_type": "code",
   "execution_count": 4,
   "id": "5f16b1a4-9f28-420f-b888-a9a043d5f238",
   "metadata": {},
   "outputs": [
    {
     "name": "stdout",
     "output_type": "stream",
     "text": [
      "Retrieving data granules from Earthaccess\n"
     ]
    },
    {
     "ename": "KeyboardInterrupt",
     "evalue": "",
     "output_type": "error",
     "traceback": [
      "\u001b[0;31m---------------------------------------------------------------------------\u001b[0m",
      "\u001b[0;31mKeyboardInterrupt\u001b[0m                         Traceback (most recent call last)",
      "Cell \u001b[0;32mIn[4], line 13\u001b[0m\n\u001b[1;32m     11\u001b[0m \u001b[38;5;66;03m# get all granules\u001b[39;00m\n\u001b[1;32m     12\u001b[0m \u001b[38;5;28mprint\u001b[39m(\u001b[38;5;124m'\u001b[39m\u001b[38;5;124mRetrieving data granules from Earthaccess\u001b[39m\u001b[38;5;124m'\u001b[39m) \n\u001b[0;32m---> 13\u001b[0m results \u001b[38;5;241m=\u001b[39m \u001b[43mearthaccess\u001b[49m\u001b[38;5;241;43m.\u001b[39;49m\u001b[43msearch_data\u001b[49m\u001b[43m(\u001b[49m\n\u001b[1;32m     14\u001b[0m \u001b[43m   \u001b[49m\u001b[43mshort_name\u001b[49m\u001b[38;5;241;43m=\u001b[39;49m\u001b[43mshort_name\u001b[49m\u001b[43m,\u001b[49m\n\u001b[1;32m     15\u001b[0m \u001b[43m   \u001b[49m\u001b[43mversion\u001b[49m\u001b[38;5;241;43m=\u001b[39;49m\u001b[43mversion\u001b[49m\u001b[43m,\u001b[49m\n\u001b[1;32m     16\u001b[0m \u001b[43m   \u001b[49m\u001b[43mtemporal\u001b[49m\u001b[38;5;241;43m=\u001b[39;49m\u001b[43m(\u001b[49m\u001b[43mstart_date\u001b[49m\u001b[43m,\u001b[49m\u001b[43m \u001b[49m\u001b[43mend_date\u001b[49m\u001b[43m)\u001b[49m\u001b[43m,\u001b[49m\n\u001b[1;32m     17\u001b[0m \u001b[43m   \u001b[49m\u001b[43mcloud_hosted\u001b[49m\u001b[38;5;241;43m=\u001b[39;49m\u001b[38;5;28;43;01mTrue\u001b[39;49;00m\n\u001b[1;32m     18\u001b[0m \u001b[43m)\u001b[49m\n\u001b[1;32m     20\u001b[0m \u001b[38;5;66;03m# grab the S3 URLs\u001b[39;00m\n\u001b[1;32m     21\u001b[0m urls \u001b[38;5;241m=\u001b[39m [g[\u001b[38;5;124m\"\u001b[39m\u001b[38;5;124mumm\u001b[39m\u001b[38;5;124m\"\u001b[39m][\u001b[38;5;124m\"\u001b[39m\u001b[38;5;124mRelatedUrls\u001b[39m\u001b[38;5;124m\"\u001b[39m][\u001b[38;5;241m1\u001b[39m][\u001b[38;5;124m\"\u001b[39m\u001b[38;5;124mURL\u001b[39m\u001b[38;5;124m\"\u001b[39m] \u001b[38;5;28;01mfor\u001b[39;00m g \u001b[38;5;129;01min\u001b[39;00m results]\n",
      "File \u001b[0;32m/srv/conda/envs/notebook/lib/python3.12/site-packages/earthaccess/api.py:123\u001b[0m, in \u001b[0;36msearch_data\u001b[0;34m(count, **kwargs)\u001b[0m\n\u001b[1;32m     87\u001b[0m \u001b[38;5;28;01mdef\u001b[39;00m \u001b[38;5;21msearch_data\u001b[39m(count: \u001b[38;5;28mint\u001b[39m \u001b[38;5;241m=\u001b[39m \u001b[38;5;241m-\u001b[39m\u001b[38;5;241m1\u001b[39m, \u001b[38;5;241m*\u001b[39m\u001b[38;5;241m*\u001b[39mkwargs: Any) \u001b[38;5;241m-\u001b[39m\u001b[38;5;241m>\u001b[39m List[DataGranule]:\n\u001b[1;32m     88\u001b[0m \u001b[38;5;250m    \u001b[39m\u001b[38;5;124;03m\"\"\"Search dataset granules using NASA's CMR.\u001b[39;00m\n\u001b[1;32m     89\u001b[0m \n\u001b[1;32m     90\u001b[0m \u001b[38;5;124;03m    [https://cmr.earthdata.nasa.gov/search/site/docs/search/api.html](https://cmr.earthdata.nasa.gov/search/site/docs/search/api.html)\u001b[39;00m\n\u001b[0;32m   (...)\u001b[0m\n\u001b[1;32m    121\u001b[0m \u001b[38;5;124;03m        ```\u001b[39;00m\n\u001b[1;32m    122\u001b[0m \u001b[38;5;124;03m    \"\"\"\u001b[39;00m\n\u001b[0;32m--> 123\u001b[0m     \u001b[38;5;28;01mif\u001b[39;00m \u001b[43mearthaccess\u001b[49m\u001b[38;5;241;43m.\u001b[39;49m\u001b[43m__auth__\u001b[49m\u001b[38;5;241m.\u001b[39mauthenticated:\n\u001b[1;32m    124\u001b[0m         query \u001b[38;5;241m=\u001b[39m DataGranules(earthaccess\u001b[38;5;241m.\u001b[39m__auth__)\u001b[38;5;241m.\u001b[39mparameters(\u001b[38;5;241m*\u001b[39m\u001b[38;5;241m*\u001b[39mkwargs)\n\u001b[1;32m    125\u001b[0m     \u001b[38;5;28;01melse\u001b[39;00m:\n",
      "File \u001b[0;32m/srv/conda/envs/notebook/lib/python3.12/site-packages/earthaccess/__init__.py:84\u001b[0m, in \u001b[0;36m__getattr__\u001b[0;34m(name)\u001b[0m\n\u001b[1;32m     82\u001b[0m \u001b[38;5;28;01mfor\u001b[39;00m strategy \u001b[38;5;129;01min\u001b[39;00m [\u001b[38;5;124m\"\u001b[39m\u001b[38;5;124menvironment\u001b[39m\u001b[38;5;124m\"\u001b[39m, \u001b[38;5;124m\"\u001b[39m\u001b[38;5;124mnetrc\u001b[39m\u001b[38;5;124m\"\u001b[39m]:\n\u001b[1;32m     83\u001b[0m     \u001b[38;5;28;01mtry\u001b[39;00m:\n\u001b[0;32m---> 84\u001b[0m         \u001b[43m_auth\u001b[49m\u001b[38;5;241;43m.\u001b[39;49m\u001b[43mlogin\u001b[49m\u001b[43m(\u001b[49m\u001b[43mstrategy\u001b[49m\u001b[38;5;241;43m=\u001b[39;49m\u001b[43mstrategy\u001b[49m\u001b[43m)\u001b[49m\n\u001b[1;32m     86\u001b[0m         \u001b[38;5;28;01mif\u001b[39;00m _auth\u001b[38;5;241m.\u001b[39mauthenticated:\n\u001b[1;32m     87\u001b[0m             _store \u001b[38;5;241m=\u001b[39m Store(_auth)\n",
      "File \u001b[0;32m/srv/conda/envs/notebook/lib/python3.12/site-packages/earthaccess/auth.py:110\u001b[0m, in \u001b[0;36mAuth.login\u001b[0;34m(self, strategy, persist, system)\u001b[0m\n\u001b[1;32m    108\u001b[0m     \u001b[38;5;28mself\u001b[39m\u001b[38;5;241m.\u001b[39m_interactive(persist)\n\u001b[1;32m    109\u001b[0m \u001b[38;5;28;01mif\u001b[39;00m strategy \u001b[38;5;241m==\u001b[39m \u001b[38;5;124m\"\u001b[39m\u001b[38;5;124mnetrc\u001b[39m\u001b[38;5;124m\"\u001b[39m:\n\u001b[0;32m--> 110\u001b[0m     \u001b[38;5;28;43mself\u001b[39;49m\u001b[38;5;241;43m.\u001b[39;49m\u001b[43m_netrc\u001b[49m\u001b[43m(\u001b[49m\u001b[43m)\u001b[49m\n\u001b[1;32m    111\u001b[0m \u001b[38;5;28;01mif\u001b[39;00m strategy \u001b[38;5;241m==\u001b[39m \u001b[38;5;124m\"\u001b[39m\u001b[38;5;124menvironment\u001b[39m\u001b[38;5;124m\"\u001b[39m:\n\u001b[1;32m    112\u001b[0m     \u001b[38;5;28mself\u001b[39m\u001b[38;5;241m.\u001b[39m_environment()\n",
      "File \u001b[0;32m/srv/conda/envs/notebook/lib/python3.12/site-packages/earthaccess/auth.py:241\u001b[0m, in \u001b[0;36mAuth._netrc\u001b[0;34m(self)\u001b[0m\n\u001b[1;32m    239\u001b[0m username \u001b[38;5;241m=\u001b[39m creds[\u001b[38;5;124m\"\u001b[39m\u001b[38;5;124mlogin\u001b[39m\u001b[38;5;124m\"\u001b[39m]\n\u001b[1;32m    240\u001b[0m password \u001b[38;5;241m=\u001b[39m creds[\u001b[38;5;124m\"\u001b[39m\u001b[38;5;124mpassword\u001b[39m\u001b[38;5;124m\"\u001b[39m]\n\u001b[0;32m--> 241\u001b[0m authenticated \u001b[38;5;241m=\u001b[39m \u001b[38;5;28;43mself\u001b[39;49m\u001b[38;5;241;43m.\u001b[39;49m\u001b[43m_get_credentials\u001b[49m\u001b[43m(\u001b[49m\u001b[43musername\u001b[49m\u001b[43m,\u001b[49m\u001b[43m \u001b[49m\u001b[43mpassword\u001b[49m\u001b[43m)\u001b[49m\n\u001b[1;32m    242\u001b[0m \u001b[38;5;28;01mif\u001b[39;00m authenticated:\n\u001b[1;32m    243\u001b[0m     logger\u001b[38;5;241m.\u001b[39mdebug(\u001b[38;5;124m\"\u001b[39m\u001b[38;5;124mUsing .netrc file for EDL\u001b[39m\u001b[38;5;124m\"\u001b[39m)\n",
      "File \u001b[0;32m/srv/conda/envs/notebook/lib/python3.12/site-packages/earthaccess/auth.py:263\u001b[0m, in \u001b[0;36mAuth._get_credentials\u001b[0;34m(self, username, password)\u001b[0m\n\u001b[1;32m    259\u001b[0m \u001b[38;5;28;01mdef\u001b[39;00m \u001b[38;5;21m_get_credentials\u001b[39m(\n\u001b[1;32m    260\u001b[0m     \u001b[38;5;28mself\u001b[39m, username: Optional[\u001b[38;5;28mstr\u001b[39m], password: Optional[\u001b[38;5;28mstr\u001b[39m]\n\u001b[1;32m    261\u001b[0m ) \u001b[38;5;241m-\u001b[39m\u001b[38;5;241m>\u001b[39m \u001b[38;5;28mbool\u001b[39m:\n\u001b[1;32m    262\u001b[0m     \u001b[38;5;28;01mif\u001b[39;00m username \u001b[38;5;129;01mis\u001b[39;00m \u001b[38;5;129;01mnot\u001b[39;00m \u001b[38;5;28;01mNone\u001b[39;00m \u001b[38;5;129;01mand\u001b[39;00m password \u001b[38;5;129;01mis\u001b[39;00m \u001b[38;5;129;01mnot\u001b[39;00m \u001b[38;5;28;01mNone\u001b[39;00m:\n\u001b[0;32m--> 263\u001b[0m         token_resp \u001b[38;5;241m=\u001b[39m \u001b[38;5;28;43mself\u001b[39;49m\u001b[38;5;241;43m.\u001b[39;49m\u001b[43m_find_or_create_token\u001b[49m\u001b[43m(\u001b[49m\u001b[43musername\u001b[49m\u001b[43m,\u001b[49m\u001b[43m \u001b[49m\u001b[43mpassword\u001b[49m\u001b[43m)\u001b[49m\n\u001b[1;32m    265\u001b[0m         \u001b[38;5;28;01mif\u001b[39;00m \u001b[38;5;129;01mnot\u001b[39;00m (token_resp\u001b[38;5;241m.\u001b[39mok):  \u001b[38;5;66;03m# type: ignore\u001b[39;00m\n\u001b[1;32m    266\u001b[0m             logger\u001b[38;5;241m.\u001b[39minfo(\n\u001b[1;32m    267\u001b[0m                 \u001b[38;5;124mf\u001b[39m\u001b[38;5;124m\"\u001b[39m\u001b[38;5;124mAuthentication with Earthdata Login failed with:\u001b[39m\u001b[38;5;130;01m\\n\u001b[39;00m\u001b[38;5;132;01m{\u001b[39;00mtoken_resp\u001b[38;5;241m.\u001b[39mtext\u001b[38;5;132;01m}\u001b[39;00m\u001b[38;5;124m\"\u001b[39m\n\u001b[1;32m    268\u001b[0m             )\n",
      "File \u001b[0;32m/srv/conda/envs/notebook/lib/python3.12/site-packages/earthaccess/auth.py:285\u001b[0m, in \u001b[0;36mAuth._find_or_create_token\u001b[0;34m(self, username, password)\u001b[0m\n\u001b[1;32m    283\u001b[0m \u001b[38;5;28;01mdef\u001b[39;00m \u001b[38;5;21m_find_or_create_token\u001b[39m(\u001b[38;5;28mself\u001b[39m, username: \u001b[38;5;28mstr\u001b[39m, password: \u001b[38;5;28mstr\u001b[39m) \u001b[38;5;241m-\u001b[39m\u001b[38;5;241m>\u001b[39m Any:\n\u001b[1;32m    284\u001b[0m     session \u001b[38;5;241m=\u001b[39m SessionWithHeaderRedirection(username, password)\n\u001b[0;32m--> 285\u001b[0m     auth_resp \u001b[38;5;241m=\u001b[39m \u001b[43msession\u001b[49m\u001b[38;5;241;43m.\u001b[39;49m\u001b[43mpost\u001b[49m\u001b[43m(\u001b[49m\n\u001b[1;32m    286\u001b[0m \u001b[43m        \u001b[49m\u001b[38;5;28;43mself\u001b[39;49m\u001b[38;5;241;43m.\u001b[39;49m\u001b[43mEDL_FIND_OR_CREATE_TOKEN_URL\u001b[49m\u001b[43m,\u001b[49m\n\u001b[1;32m    287\u001b[0m \u001b[43m        \u001b[49m\u001b[43mheaders\u001b[49m\u001b[38;5;241;43m=\u001b[39;49m\u001b[43m{\u001b[49m\n\u001b[1;32m    288\u001b[0m \u001b[43m            \u001b[49m\u001b[38;5;124;43m\"\u001b[39;49m\u001b[38;5;124;43mAccept\u001b[39;49m\u001b[38;5;124;43m\"\u001b[39;49m\u001b[43m:\u001b[49m\u001b[43m \u001b[49m\u001b[38;5;124;43m\"\u001b[39;49m\u001b[38;5;124;43mapplication/json\u001b[39;49m\u001b[38;5;124;43m\"\u001b[39;49m\u001b[43m,\u001b[49m\n\u001b[1;32m    289\u001b[0m \u001b[43m        \u001b[49m\u001b[43m}\u001b[49m\u001b[43m,\u001b[49m\n\u001b[1;32m    290\u001b[0m \u001b[43m        \u001b[49m\u001b[43mtimeout\u001b[49m\u001b[38;5;241;43m=\u001b[39;49m\u001b[38;5;241;43m10\u001b[39;49m\u001b[43m,\u001b[49m\n\u001b[1;32m    291\u001b[0m \u001b[43m    \u001b[49m\u001b[43m)\u001b[49m\n\u001b[1;32m    292\u001b[0m     \u001b[38;5;28;01mreturn\u001b[39;00m auth_resp\n",
      "File \u001b[0;32m/srv/conda/envs/notebook/lib/python3.12/site-packages/requests/sessions.py:637\u001b[0m, in \u001b[0;36mSession.post\u001b[0;34m(self, url, data, json, **kwargs)\u001b[0m\n\u001b[1;32m    626\u001b[0m \u001b[38;5;28;01mdef\u001b[39;00m \u001b[38;5;21mpost\u001b[39m(\u001b[38;5;28mself\u001b[39m, url, data\u001b[38;5;241m=\u001b[39m\u001b[38;5;28;01mNone\u001b[39;00m, json\u001b[38;5;241m=\u001b[39m\u001b[38;5;28;01mNone\u001b[39;00m, \u001b[38;5;241m*\u001b[39m\u001b[38;5;241m*\u001b[39mkwargs):\n\u001b[1;32m    627\u001b[0m \u001b[38;5;250m    \u001b[39m\u001b[38;5;124mr\u001b[39m\u001b[38;5;124;03m\"\"\"Sends a POST request. Returns :class:`Response` object.\u001b[39;00m\n\u001b[1;32m    628\u001b[0m \n\u001b[1;32m    629\u001b[0m \u001b[38;5;124;03m    :param url: URL for the new :class:`Request` object.\u001b[39;00m\n\u001b[0;32m   (...)\u001b[0m\n\u001b[1;32m    634\u001b[0m \u001b[38;5;124;03m    :rtype: requests.Response\u001b[39;00m\n\u001b[1;32m    635\u001b[0m \u001b[38;5;124;03m    \"\"\"\u001b[39;00m\n\u001b[0;32m--> 637\u001b[0m     \u001b[38;5;28;01mreturn\u001b[39;00m \u001b[38;5;28;43mself\u001b[39;49m\u001b[38;5;241;43m.\u001b[39;49m\u001b[43mrequest\u001b[49m\u001b[43m(\u001b[49m\u001b[38;5;124;43m\"\u001b[39;49m\u001b[38;5;124;43mPOST\u001b[39;49m\u001b[38;5;124;43m\"\u001b[39;49m\u001b[43m,\u001b[49m\u001b[43m \u001b[49m\u001b[43murl\u001b[49m\u001b[43m,\u001b[49m\u001b[43m \u001b[49m\u001b[43mdata\u001b[49m\u001b[38;5;241;43m=\u001b[39;49m\u001b[43mdata\u001b[49m\u001b[43m,\u001b[49m\u001b[43m \u001b[49m\u001b[43mjson\u001b[49m\u001b[38;5;241;43m=\u001b[39;49m\u001b[43mjson\u001b[49m\u001b[43m,\u001b[49m\u001b[43m \u001b[49m\u001b[38;5;241;43m*\u001b[39;49m\u001b[38;5;241;43m*\u001b[39;49m\u001b[43mkwargs\u001b[49m\u001b[43m)\u001b[49m\n",
      "File \u001b[0;32m/srv/conda/envs/notebook/lib/python3.12/site-packages/requests/sessions.py:589\u001b[0m, in \u001b[0;36mSession.request\u001b[0;34m(self, method, url, params, data, headers, cookies, files, auth, timeout, allow_redirects, proxies, hooks, stream, verify, cert, json)\u001b[0m\n\u001b[1;32m    584\u001b[0m send_kwargs \u001b[38;5;241m=\u001b[39m {\n\u001b[1;32m    585\u001b[0m     \u001b[38;5;124m\"\u001b[39m\u001b[38;5;124mtimeout\u001b[39m\u001b[38;5;124m\"\u001b[39m: timeout,\n\u001b[1;32m    586\u001b[0m     \u001b[38;5;124m\"\u001b[39m\u001b[38;5;124mallow_redirects\u001b[39m\u001b[38;5;124m\"\u001b[39m: allow_redirects,\n\u001b[1;32m    587\u001b[0m }\n\u001b[1;32m    588\u001b[0m send_kwargs\u001b[38;5;241m.\u001b[39mupdate(settings)\n\u001b[0;32m--> 589\u001b[0m resp \u001b[38;5;241m=\u001b[39m \u001b[38;5;28;43mself\u001b[39;49m\u001b[38;5;241;43m.\u001b[39;49m\u001b[43msend\u001b[49m\u001b[43m(\u001b[49m\u001b[43mprep\u001b[49m\u001b[43m,\u001b[49m\u001b[43m \u001b[49m\u001b[38;5;241;43m*\u001b[39;49m\u001b[38;5;241;43m*\u001b[39;49m\u001b[43msend_kwargs\u001b[49m\u001b[43m)\u001b[49m\n\u001b[1;32m    591\u001b[0m \u001b[38;5;28;01mreturn\u001b[39;00m resp\n",
      "File \u001b[0;32m/srv/conda/envs/notebook/lib/python3.12/site-packages/requests/sessions.py:703\u001b[0m, in \u001b[0;36mSession.send\u001b[0;34m(self, request, **kwargs)\u001b[0m\n\u001b[1;32m    700\u001b[0m start \u001b[38;5;241m=\u001b[39m preferred_clock()\n\u001b[1;32m    702\u001b[0m \u001b[38;5;66;03m# Send the request\u001b[39;00m\n\u001b[0;32m--> 703\u001b[0m r \u001b[38;5;241m=\u001b[39m \u001b[43madapter\u001b[49m\u001b[38;5;241;43m.\u001b[39;49m\u001b[43msend\u001b[49m\u001b[43m(\u001b[49m\u001b[43mrequest\u001b[49m\u001b[43m,\u001b[49m\u001b[43m \u001b[49m\u001b[38;5;241;43m*\u001b[39;49m\u001b[38;5;241;43m*\u001b[39;49m\u001b[43mkwargs\u001b[49m\u001b[43m)\u001b[49m\n\u001b[1;32m    705\u001b[0m \u001b[38;5;66;03m# Total elapsed time of the request (approximately)\u001b[39;00m\n\u001b[1;32m    706\u001b[0m elapsed \u001b[38;5;241m=\u001b[39m preferred_clock() \u001b[38;5;241m-\u001b[39m start\n",
      "File \u001b[0;32m/srv/conda/envs/notebook/lib/python3.12/site-packages/requests/adapters.py:667\u001b[0m, in \u001b[0;36mHTTPAdapter.send\u001b[0;34m(self, request, stream, timeout, verify, cert, proxies)\u001b[0m\n\u001b[1;32m    664\u001b[0m     timeout \u001b[38;5;241m=\u001b[39m TimeoutSauce(connect\u001b[38;5;241m=\u001b[39mtimeout, read\u001b[38;5;241m=\u001b[39mtimeout)\n\u001b[1;32m    666\u001b[0m \u001b[38;5;28;01mtry\u001b[39;00m:\n\u001b[0;32m--> 667\u001b[0m     resp \u001b[38;5;241m=\u001b[39m \u001b[43mconn\u001b[49m\u001b[38;5;241;43m.\u001b[39;49m\u001b[43murlopen\u001b[49m\u001b[43m(\u001b[49m\n\u001b[1;32m    668\u001b[0m \u001b[43m        \u001b[49m\u001b[43mmethod\u001b[49m\u001b[38;5;241;43m=\u001b[39;49m\u001b[43mrequest\u001b[49m\u001b[38;5;241;43m.\u001b[39;49m\u001b[43mmethod\u001b[49m\u001b[43m,\u001b[49m\n\u001b[1;32m    669\u001b[0m \u001b[43m        \u001b[49m\u001b[43murl\u001b[49m\u001b[38;5;241;43m=\u001b[39;49m\u001b[43murl\u001b[49m\u001b[43m,\u001b[49m\n\u001b[1;32m    670\u001b[0m \u001b[43m        \u001b[49m\u001b[43mbody\u001b[49m\u001b[38;5;241;43m=\u001b[39;49m\u001b[43mrequest\u001b[49m\u001b[38;5;241;43m.\u001b[39;49m\u001b[43mbody\u001b[49m\u001b[43m,\u001b[49m\n\u001b[1;32m    671\u001b[0m \u001b[43m        \u001b[49m\u001b[43mheaders\u001b[49m\u001b[38;5;241;43m=\u001b[39;49m\u001b[43mrequest\u001b[49m\u001b[38;5;241;43m.\u001b[39;49m\u001b[43mheaders\u001b[49m\u001b[43m,\u001b[49m\n\u001b[1;32m    672\u001b[0m \u001b[43m        \u001b[49m\u001b[43mredirect\u001b[49m\u001b[38;5;241;43m=\u001b[39;49m\u001b[38;5;28;43;01mFalse\u001b[39;49;00m\u001b[43m,\u001b[49m\n\u001b[1;32m    673\u001b[0m \u001b[43m        \u001b[49m\u001b[43massert_same_host\u001b[49m\u001b[38;5;241;43m=\u001b[39;49m\u001b[38;5;28;43;01mFalse\u001b[39;49;00m\u001b[43m,\u001b[49m\n\u001b[1;32m    674\u001b[0m \u001b[43m        \u001b[49m\u001b[43mpreload_content\u001b[49m\u001b[38;5;241;43m=\u001b[39;49m\u001b[38;5;28;43;01mFalse\u001b[39;49;00m\u001b[43m,\u001b[49m\n\u001b[1;32m    675\u001b[0m \u001b[43m        \u001b[49m\u001b[43mdecode_content\u001b[49m\u001b[38;5;241;43m=\u001b[39;49m\u001b[38;5;28;43;01mFalse\u001b[39;49;00m\u001b[43m,\u001b[49m\n\u001b[1;32m    676\u001b[0m \u001b[43m        \u001b[49m\u001b[43mretries\u001b[49m\u001b[38;5;241;43m=\u001b[39;49m\u001b[38;5;28;43mself\u001b[39;49m\u001b[38;5;241;43m.\u001b[39;49m\u001b[43mmax_retries\u001b[49m\u001b[43m,\u001b[49m\n\u001b[1;32m    677\u001b[0m \u001b[43m        \u001b[49m\u001b[43mtimeout\u001b[49m\u001b[38;5;241;43m=\u001b[39;49m\u001b[43mtimeout\u001b[49m\u001b[43m,\u001b[49m\n\u001b[1;32m    678\u001b[0m \u001b[43m        \u001b[49m\u001b[43mchunked\u001b[49m\u001b[38;5;241;43m=\u001b[39;49m\u001b[43mchunked\u001b[49m\u001b[43m,\u001b[49m\n\u001b[1;32m    679\u001b[0m \u001b[43m    \u001b[49m\u001b[43m)\u001b[49m\n\u001b[1;32m    681\u001b[0m \u001b[38;5;28;01mexcept\u001b[39;00m (ProtocolError, \u001b[38;5;167;01mOSError\u001b[39;00m) \u001b[38;5;28;01mas\u001b[39;00m err:\n\u001b[1;32m    682\u001b[0m     \u001b[38;5;28;01mraise\u001b[39;00m \u001b[38;5;167;01mConnectionError\u001b[39;00m(err, request\u001b[38;5;241m=\u001b[39mrequest)\n",
      "File \u001b[0;32m/srv/conda/envs/notebook/lib/python3.12/site-packages/urllib3/connectionpool.py:715\u001b[0m, in \u001b[0;36mHTTPConnectionPool.urlopen\u001b[0;34m(self, method, url, body, headers, retries, redirect, assert_same_host, timeout, pool_timeout, release_conn, chunked, body_pos, **response_kw)\u001b[0m\n\u001b[1;32m    712\u001b[0m     \u001b[38;5;28mself\u001b[39m\u001b[38;5;241m.\u001b[39m_prepare_proxy(conn)\n\u001b[1;32m    714\u001b[0m \u001b[38;5;66;03m# Make the request on the httplib connection object.\u001b[39;00m\n\u001b[0;32m--> 715\u001b[0m httplib_response \u001b[38;5;241m=\u001b[39m \u001b[38;5;28;43mself\u001b[39;49m\u001b[38;5;241;43m.\u001b[39;49m\u001b[43m_make_request\u001b[49m\u001b[43m(\u001b[49m\n\u001b[1;32m    716\u001b[0m \u001b[43m    \u001b[49m\u001b[43mconn\u001b[49m\u001b[43m,\u001b[49m\n\u001b[1;32m    717\u001b[0m \u001b[43m    \u001b[49m\u001b[43mmethod\u001b[49m\u001b[43m,\u001b[49m\n\u001b[1;32m    718\u001b[0m \u001b[43m    \u001b[49m\u001b[43murl\u001b[49m\u001b[43m,\u001b[49m\n\u001b[1;32m    719\u001b[0m \u001b[43m    \u001b[49m\u001b[43mtimeout\u001b[49m\u001b[38;5;241;43m=\u001b[39;49m\u001b[43mtimeout_obj\u001b[49m\u001b[43m,\u001b[49m\n\u001b[1;32m    720\u001b[0m \u001b[43m    \u001b[49m\u001b[43mbody\u001b[49m\u001b[38;5;241;43m=\u001b[39;49m\u001b[43mbody\u001b[49m\u001b[43m,\u001b[49m\n\u001b[1;32m    721\u001b[0m \u001b[43m    \u001b[49m\u001b[43mheaders\u001b[49m\u001b[38;5;241;43m=\u001b[39;49m\u001b[43mheaders\u001b[49m\u001b[43m,\u001b[49m\n\u001b[1;32m    722\u001b[0m \u001b[43m    \u001b[49m\u001b[43mchunked\u001b[49m\u001b[38;5;241;43m=\u001b[39;49m\u001b[43mchunked\u001b[49m\u001b[43m,\u001b[49m\n\u001b[1;32m    723\u001b[0m \u001b[43m\u001b[49m\u001b[43m)\u001b[49m\n\u001b[1;32m    725\u001b[0m \u001b[38;5;66;03m# If we're going to release the connection in ``finally:``, then\u001b[39;00m\n\u001b[1;32m    726\u001b[0m \u001b[38;5;66;03m# the response doesn't need to know about the connection. Otherwise\u001b[39;00m\n\u001b[1;32m    727\u001b[0m \u001b[38;5;66;03m# it will also try to release it and we'll have a double-release\u001b[39;00m\n\u001b[1;32m    728\u001b[0m \u001b[38;5;66;03m# mess.\u001b[39;00m\n\u001b[1;32m    729\u001b[0m response_conn \u001b[38;5;241m=\u001b[39m conn \u001b[38;5;28;01mif\u001b[39;00m \u001b[38;5;129;01mnot\u001b[39;00m release_conn \u001b[38;5;28;01melse\u001b[39;00m \u001b[38;5;28;01mNone\u001b[39;00m\n",
      "File \u001b[0;32m/srv/conda/envs/notebook/lib/python3.12/site-packages/urllib3/connectionpool.py:467\u001b[0m, in \u001b[0;36mHTTPConnectionPool._make_request\u001b[0;34m(self, conn, method, url, timeout, chunked, **httplib_request_kw)\u001b[0m\n\u001b[1;32m    462\u001b[0m             httplib_response \u001b[38;5;241m=\u001b[39m conn\u001b[38;5;241m.\u001b[39mgetresponse()\n\u001b[1;32m    463\u001b[0m         \u001b[38;5;28;01mexcept\u001b[39;00m \u001b[38;5;167;01mBaseException\u001b[39;00m \u001b[38;5;28;01mas\u001b[39;00m e:\n\u001b[1;32m    464\u001b[0m             \u001b[38;5;66;03m# Remove the TypeError from the exception chain in\u001b[39;00m\n\u001b[1;32m    465\u001b[0m             \u001b[38;5;66;03m# Python 3 (including for exceptions like SystemExit).\u001b[39;00m\n\u001b[1;32m    466\u001b[0m             \u001b[38;5;66;03m# Otherwise it looks like a bug in the code.\u001b[39;00m\n\u001b[0;32m--> 467\u001b[0m             \u001b[43msix\u001b[49m\u001b[38;5;241;43m.\u001b[39;49m\u001b[43mraise_from\u001b[49m\u001b[43m(\u001b[49m\u001b[43me\u001b[49m\u001b[43m,\u001b[49m\u001b[43m \u001b[49m\u001b[38;5;28;43;01mNone\u001b[39;49;00m\u001b[43m)\u001b[49m\n\u001b[1;32m    468\u001b[0m \u001b[38;5;28;01mexcept\u001b[39;00m (SocketTimeout, BaseSSLError, SocketError) \u001b[38;5;28;01mas\u001b[39;00m e:\n\u001b[1;32m    469\u001b[0m     \u001b[38;5;28mself\u001b[39m\u001b[38;5;241m.\u001b[39m_raise_timeout(err\u001b[38;5;241m=\u001b[39me, url\u001b[38;5;241m=\u001b[39murl, timeout_value\u001b[38;5;241m=\u001b[39mread_timeout)\n",
      "File \u001b[0;32m<string>:3\u001b[0m, in \u001b[0;36mraise_from\u001b[0;34m(value, from_value)\u001b[0m\n",
      "File \u001b[0;32m/srv/conda/envs/notebook/lib/python3.12/site-packages/urllib3/connectionpool.py:462\u001b[0m, in \u001b[0;36mHTTPConnectionPool._make_request\u001b[0;34m(self, conn, method, url, timeout, chunked, **httplib_request_kw)\u001b[0m\n\u001b[1;32m    459\u001b[0m \u001b[38;5;28;01mexcept\u001b[39;00m \u001b[38;5;167;01mTypeError\u001b[39;00m:\n\u001b[1;32m    460\u001b[0m     \u001b[38;5;66;03m# Python 3\u001b[39;00m\n\u001b[1;32m    461\u001b[0m     \u001b[38;5;28;01mtry\u001b[39;00m:\n\u001b[0;32m--> 462\u001b[0m         httplib_response \u001b[38;5;241m=\u001b[39m \u001b[43mconn\u001b[49m\u001b[38;5;241;43m.\u001b[39;49m\u001b[43mgetresponse\u001b[49m\u001b[43m(\u001b[49m\u001b[43m)\u001b[49m\n\u001b[1;32m    463\u001b[0m     \u001b[38;5;28;01mexcept\u001b[39;00m \u001b[38;5;167;01mBaseException\u001b[39;00m \u001b[38;5;28;01mas\u001b[39;00m e:\n\u001b[1;32m    464\u001b[0m         \u001b[38;5;66;03m# Remove the TypeError from the exception chain in\u001b[39;00m\n\u001b[1;32m    465\u001b[0m         \u001b[38;5;66;03m# Python 3 (including for exceptions like SystemExit).\u001b[39;00m\n\u001b[1;32m    466\u001b[0m         \u001b[38;5;66;03m# Otherwise it looks like a bug in the code.\u001b[39;00m\n\u001b[1;32m    467\u001b[0m         six\u001b[38;5;241m.\u001b[39mraise_from(e, \u001b[38;5;28;01mNone\u001b[39;00m)\n",
      "File \u001b[0;32m/srv/conda/envs/notebook/lib/python3.12/http/client.py:1428\u001b[0m, in \u001b[0;36mHTTPConnection.getresponse\u001b[0;34m(self)\u001b[0m\n\u001b[1;32m   1426\u001b[0m \u001b[38;5;28;01mtry\u001b[39;00m:\n\u001b[1;32m   1427\u001b[0m     \u001b[38;5;28;01mtry\u001b[39;00m:\n\u001b[0;32m-> 1428\u001b[0m         \u001b[43mresponse\u001b[49m\u001b[38;5;241;43m.\u001b[39;49m\u001b[43mbegin\u001b[49m\u001b[43m(\u001b[49m\u001b[43m)\u001b[49m\n\u001b[1;32m   1429\u001b[0m     \u001b[38;5;28;01mexcept\u001b[39;00m \u001b[38;5;167;01mConnectionError\u001b[39;00m:\n\u001b[1;32m   1430\u001b[0m         \u001b[38;5;28mself\u001b[39m\u001b[38;5;241m.\u001b[39mclose()\n",
      "File \u001b[0;32m/srv/conda/envs/notebook/lib/python3.12/http/client.py:331\u001b[0m, in \u001b[0;36mHTTPResponse.begin\u001b[0;34m(self)\u001b[0m\n\u001b[1;32m    329\u001b[0m \u001b[38;5;66;03m# read until we get a non-100 response\u001b[39;00m\n\u001b[1;32m    330\u001b[0m \u001b[38;5;28;01mwhile\u001b[39;00m \u001b[38;5;28;01mTrue\u001b[39;00m:\n\u001b[0;32m--> 331\u001b[0m     version, status, reason \u001b[38;5;241m=\u001b[39m \u001b[38;5;28;43mself\u001b[39;49m\u001b[38;5;241;43m.\u001b[39;49m\u001b[43m_read_status\u001b[49m\u001b[43m(\u001b[49m\u001b[43m)\u001b[49m\n\u001b[1;32m    332\u001b[0m     \u001b[38;5;28;01mif\u001b[39;00m status \u001b[38;5;241m!=\u001b[39m CONTINUE:\n\u001b[1;32m    333\u001b[0m         \u001b[38;5;28;01mbreak\u001b[39;00m\n",
      "File \u001b[0;32m/srv/conda/envs/notebook/lib/python3.12/http/client.py:292\u001b[0m, in \u001b[0;36mHTTPResponse._read_status\u001b[0;34m(self)\u001b[0m\n\u001b[1;32m    291\u001b[0m \u001b[38;5;28;01mdef\u001b[39;00m \u001b[38;5;21m_read_status\u001b[39m(\u001b[38;5;28mself\u001b[39m):\n\u001b[0;32m--> 292\u001b[0m     line \u001b[38;5;241m=\u001b[39m \u001b[38;5;28mstr\u001b[39m(\u001b[38;5;28;43mself\u001b[39;49m\u001b[38;5;241;43m.\u001b[39;49m\u001b[43mfp\u001b[49m\u001b[38;5;241;43m.\u001b[39;49m\u001b[43mreadline\u001b[49m\u001b[43m(\u001b[49m\u001b[43m_MAXLINE\u001b[49m\u001b[43m \u001b[49m\u001b[38;5;241;43m+\u001b[39;49m\u001b[43m \u001b[49m\u001b[38;5;241;43m1\u001b[39;49m\u001b[43m)\u001b[49m, \u001b[38;5;124m\"\u001b[39m\u001b[38;5;124miso-8859-1\u001b[39m\u001b[38;5;124m\"\u001b[39m)\n\u001b[1;32m    293\u001b[0m     \u001b[38;5;28;01mif\u001b[39;00m \u001b[38;5;28mlen\u001b[39m(line) \u001b[38;5;241m>\u001b[39m _MAXLINE:\n\u001b[1;32m    294\u001b[0m         \u001b[38;5;28;01mraise\u001b[39;00m LineTooLong(\u001b[38;5;124m\"\u001b[39m\u001b[38;5;124mstatus line\u001b[39m\u001b[38;5;124m\"\u001b[39m)\n",
      "File \u001b[0;32m/srv/conda/envs/notebook/lib/python3.12/socket.py:720\u001b[0m, in \u001b[0;36mSocketIO.readinto\u001b[0;34m(self, b)\u001b[0m\n\u001b[1;32m    718\u001b[0m \u001b[38;5;28;01mwhile\u001b[39;00m \u001b[38;5;28;01mTrue\u001b[39;00m:\n\u001b[1;32m    719\u001b[0m     \u001b[38;5;28;01mtry\u001b[39;00m:\n\u001b[0;32m--> 720\u001b[0m         \u001b[38;5;28;01mreturn\u001b[39;00m \u001b[38;5;28;43mself\u001b[39;49m\u001b[38;5;241;43m.\u001b[39;49m\u001b[43m_sock\u001b[49m\u001b[38;5;241;43m.\u001b[39;49m\u001b[43mrecv_into\u001b[49m\u001b[43m(\u001b[49m\u001b[43mb\u001b[49m\u001b[43m)\u001b[49m\n\u001b[1;32m    721\u001b[0m     \u001b[38;5;28;01mexcept\u001b[39;00m timeout:\n\u001b[1;32m    722\u001b[0m         \u001b[38;5;28mself\u001b[39m\u001b[38;5;241m.\u001b[39m_timeout_occurred \u001b[38;5;241m=\u001b[39m \u001b[38;5;28;01mTrue\u001b[39;00m\n",
      "File \u001b[0;32m/srv/conda/envs/notebook/lib/python3.12/ssl.py:1251\u001b[0m, in \u001b[0;36mSSLSocket.recv_into\u001b[0;34m(self, buffer, nbytes, flags)\u001b[0m\n\u001b[1;32m   1247\u001b[0m     \u001b[38;5;28;01mif\u001b[39;00m flags \u001b[38;5;241m!=\u001b[39m \u001b[38;5;241m0\u001b[39m:\n\u001b[1;32m   1248\u001b[0m         \u001b[38;5;28;01mraise\u001b[39;00m \u001b[38;5;167;01mValueError\u001b[39;00m(\n\u001b[1;32m   1249\u001b[0m           \u001b[38;5;124m\"\u001b[39m\u001b[38;5;124mnon-zero flags not allowed in calls to recv_into() on \u001b[39m\u001b[38;5;132;01m%s\u001b[39;00m\u001b[38;5;124m\"\u001b[39m \u001b[38;5;241m%\u001b[39m\n\u001b[1;32m   1250\u001b[0m           \u001b[38;5;28mself\u001b[39m\u001b[38;5;241m.\u001b[39m\u001b[38;5;18m__class__\u001b[39m)\n\u001b[0;32m-> 1251\u001b[0m     \u001b[38;5;28;01mreturn\u001b[39;00m \u001b[38;5;28;43mself\u001b[39;49m\u001b[38;5;241;43m.\u001b[39;49m\u001b[43mread\u001b[49m\u001b[43m(\u001b[49m\u001b[43mnbytes\u001b[49m\u001b[43m,\u001b[49m\u001b[43m \u001b[49m\u001b[43mbuffer\u001b[49m\u001b[43m)\u001b[49m\n\u001b[1;32m   1252\u001b[0m \u001b[38;5;28;01melse\u001b[39;00m:\n\u001b[1;32m   1253\u001b[0m     \u001b[38;5;28;01mreturn\u001b[39;00m \u001b[38;5;28msuper\u001b[39m()\u001b[38;5;241m.\u001b[39mrecv_into(buffer, nbytes, flags)\n",
      "File \u001b[0;32m/srv/conda/envs/notebook/lib/python3.12/ssl.py:1103\u001b[0m, in \u001b[0;36mSSLSocket.read\u001b[0;34m(self, len, buffer)\u001b[0m\n\u001b[1;32m   1101\u001b[0m \u001b[38;5;28;01mtry\u001b[39;00m:\n\u001b[1;32m   1102\u001b[0m     \u001b[38;5;28;01mif\u001b[39;00m buffer \u001b[38;5;129;01mis\u001b[39;00m \u001b[38;5;129;01mnot\u001b[39;00m \u001b[38;5;28;01mNone\u001b[39;00m:\n\u001b[0;32m-> 1103\u001b[0m         \u001b[38;5;28;01mreturn\u001b[39;00m \u001b[38;5;28;43mself\u001b[39;49m\u001b[38;5;241;43m.\u001b[39;49m\u001b[43m_sslobj\u001b[49m\u001b[38;5;241;43m.\u001b[39;49m\u001b[43mread\u001b[49m\u001b[43m(\u001b[49m\u001b[38;5;28;43mlen\u001b[39;49m\u001b[43m,\u001b[49m\u001b[43m \u001b[49m\u001b[43mbuffer\u001b[49m\u001b[43m)\u001b[49m\n\u001b[1;32m   1104\u001b[0m     \u001b[38;5;28;01melse\u001b[39;00m:\n\u001b[1;32m   1105\u001b[0m         \u001b[38;5;28;01mreturn\u001b[39;00m \u001b[38;5;28mself\u001b[39m\u001b[38;5;241m.\u001b[39m_sslobj\u001b[38;5;241m.\u001b[39mread(\u001b[38;5;28mlen\u001b[39m)\n",
      "\u001b[0;31mKeyboardInterrupt\u001b[0m: "
     ]
    }
   ],
   "source": [
    "# ── Search by date ────────(requires >2GB RAM if more than 40 dates are selected)───────────────\n",
    "start_date = datetime.datetime(2022, 4, 1)\n",
    "end_date = datetime.datetime(2022, 5, 12)\n",
    "date_array = pd.date_range(start=start_date, end=end_date, freq='D').to_pydatetime()\n",
    "\n",
    "# ── Dataset ─────────────────────────────────────────────────────────────────────────────────────\n",
    "short_name=\"GLDAS_NOAH025_3H\"\n",
    "version=\"2.1\"\n",
    "variable = 'SoilMoi0_10cm_inst' #Only select a single variable of interest\n",
    "\n",
    "# get all granules\n",
    "print('Retrieving data granules from Earthaccess') \n",
    "results = earthaccess.search_data(\n",
    "   short_name=short_name,\n",
    "   version=version,\n",
    "   temporal=(start_date, end_date),\n",
    "   cloud_hosted=True\n",
    ")\n",
    "\n",
    "# grab the S3 URLs\n",
    "urls = [g[\"umm\"][\"RelatedUrls\"][1][\"URL\"] for g in results]\n",
    "print(f\"Found {len(urls)} files\")\n",
    "\n",
    "# ── Open granules ───────────────────────────────────────────────────────────────────────────────\n",
    "granules=earthaccess.open(results)\n",
    "fs = earthaccess.get_s3_filesystem(results=results)   # auto‐picks the right DAAC & creds\n",
    "\n",
    "fsspec_caching = {\n",
    "    \"cache_type\": \"mmap\"\n",
    "}\n",
    "lat_range=slice(24, 50)\n",
    "lon_range=slice(-125, -66)\n",
    "\n",
    "def subset(ds):\n",
    "    return ds[[variable]].sel(lat=lat_range, lon=lon_range)\n",
    "\n",
    "ds = xr.open_mfdataset(\n",
    "    [fs.open(url, **fsspec_caching) for url in urls],\n",
    "    chunks=\"auto\",\n",
    "    concat_dim=\"time\",\n",
    "    combine=\"nested\",\n",
    "    parallel=True,\n",
    "    data_vars=\"minimal\",\n",
    "    coords=\"minimal\",\n",
    "    compat=\"override\",\n",
    "    join=\"exact\",\n",
    "    preprocess=subset,\n",
    ")\n",
    "\n",
    "# ── Compute Daily Mean ───────────────────────────────────────────────────────────────────────────────\n",
    "ds_resampled = ds.resample(time=\"1D\").mean(dim='time').compute()\n",
    "ds_resampled"
   ]
  },
  {
   "cell_type": "markdown",
   "id": "568bf7d8-6520-47db-838b-029c63947708",
   "metadata": {},
   "source": [
    "### Create interactive geospatial folium plot"
   ]
  },
  {
   "cell_type": "code",
   "execution_count": null,
   "id": "e45ae2fa-7548-4253-86d9-09bf0e7699d9",
   "metadata": {},
   "outputs": [],
   "source": [
    "# Use the plot_folium_from_xarray function from plotutils\n",
    "putils.plot_folium_from_xarray(dataset=ds_resampled['SoilMoi0_10cm_inst'],\n",
    "                  day_select='2022-05-11',\n",
    "                  bbox=[-130, 33, -90, 50],\n",
    "                  var_name_for_title='Soil Moisture from GLDAS (m³/m³) [subset]',\n",
    "                  matplot_ramp = 'YlOrRd_r',\n",
    "                  zoom_level = 4.5,\n",
    "                  flipud=False,\n",
    "                  save_tif=False,\n",
    "                  tif_filename=None,\n",
    "                  crs = '4326',\n",
    "                  opacity = 0.8)"
   ]
  },
  {
   "cell_type": "markdown",
   "id": "0e06456e-bfe6-4e43-ae7a-d56aba746c91",
   "metadata": {},
   "source": [
    "### Create a gif over the date range"
   ]
  },
  {
   "cell_type": "code",
   "execution_count": null,
   "id": "02472547-2653-4148-a8fc-2c1040a3af8e",
   "metadata": {},
   "outputs": [],
   "source": [
    "# Usage:\n",
    "putils.matplotlib_gif(data=ds_resampled['SoilMoi0_10cm_inst'],\n",
    "               bbox= [-130, 33, -90, 50],\n",
    "               gif_savename= \"soil_matplotlib.gif\",\n",
    "               duration=2,\n",
    "               cmap=\"YlOrRd_r\")"
   ]
  },
  {
   "cell_type": "markdown",
   "id": "d1865289-78ef-4d0e-8371-6172c746c883",
   "metadata": {},
   "source": [
    "<div class=\"alert alert-block alert-warning\">\n",
    "<h2><strong>Example:</strong> Pull WLDAS soil moisture data from the VEDA STAC catalog and visualize.</h2>\n",
    "\n",
    "The Western Land Data Assimilation System (WLDAS) is a regional instance of NASA’s Land Information System (LIS), developed at Goddard Space Flight Center for the western United States.  It integrates meteorological forcings (precipitation, radiation, temperature, humidity, wind, surface pressure) and satellite-derived parameters (vegetation class, soil texture, elevation) into the Noah-MP land surface model using data assimilation techniques.\n",
    "\n",
    "Soil moisture critically controls the partitioning of net surface energy into latent (evapotranspiration) versus sensible (heating) fluxes. Wetter soils favor latent heat, stabilizing the boundary layer, whereas drier soils boost sensible heating, enhancing near-surface temperature and convective available potential energy (CAPE). These processes govern where and when thunderstorms can initiate and organize.\n",
    "</div>\n"
   ]
  },
  {
   "cell_type": "markdown",
   "id": "5b770e10-fcd9-4fa5-8eaf-a5feb6390064",
   "metadata": {},
   "source": [
    "### Processing steps:\n",
    "1.) Choose STAC catalog ID and date<br />\n",
    "2.) Retrieve collection information and items from VEDA STAC catalog<br />\n",
    "3.) Retrieve item statistics and tiling information<br />\n",
    "4.) Plot data<br />"
   ]
  },
  {
   "cell_type": "markdown",
   "id": "69c58d56-338b-4c04-a670-285aabe2ef2d",
   "metadata": {},
   "source": [
    "### Choose variable and retrieve json from VEDA STAC catalogue"
   ]
  },
  {
   "cell_type": "code",
   "execution_count": null,
   "id": "099e8873-24f3-4599-9599-0c76b74915b1",
   "metadata": {
    "scrolled": true
   },
   "outputs": [],
   "source": [
    "#TODO: Change collection_ID and date\n",
    "\n",
    "collection_id = 'wldas-derecho-sm'\n",
    "date = \"2022-05-11\"\n",
    "\n",
    "# ── VEDA Collection Request ─────────────────────────────────────────────────────────────────────────────────────\n",
    "url = f\"{STAC_API_URL.rstrip('/')}/collections/{collection_id}\"\n",
    "\n",
    "response = requests.get(url)\n",
    "response.raise_for_status()\n",
    "collection = response.json()\n",
    "\n",
    "# grab the dashboard render block\n",
    "dashboard_rend = collection[\"renders\"][\"dashboard\"]\n",
    "\n",
    "bands      = dashboard_rend[\"bidx\"]           \n",
    "asset_keys = dashboard_rend[\"assets\"]         \n",
    "(vmin, vmax), = dashboard_rend[\"rescale\"]    \n",
    "cmap_name  = dashboard_rend[\"colormap_name\"]\n",
    "\n",
    "# ── VEDA Item Request ─────────────────────────────────────────────────────────────────────────────────────\n",
    "url = f\"{STAC_API_URL.rstrip('/')}/search\"\n",
    "payload = {\n",
    "    \"collections\": [collection_id],\n",
    "    \"query\": {\n",
    "        \"datetime\": {\n",
    "            \"eq\": f\"{date}T00:00:00\"\n",
    "        }\n",
    "    },\n",
    "    \"limit\": 10,\n",
    "}\n",
    "\n",
    "response = requests.post(url, json=payload)\n",
    "response.raise_for_status()\n",
    "data = response.json()\n",
    "items = data.get(\"features\")\n",
    "\n",
    "if items is None:\n",
    "    raise KeyError(f\"No 'features' key in search response: {data.keys()}\")\n",
    "\n",
    "print(f\"\\nFound {len(items)} features in collection {collection_id} on date {date}\")\n",
    "\n",
    "item = items[0] #only return the first item\n"
   ]
  },
  {
   "cell_type": "markdown",
   "id": "47a8ce62-0d57-40b5-a0a2-550efece7ca0",
   "metadata": {},
   "source": [
    "### Retrieve tiling information"
   ]
  },
  {
   "cell_type": "code",
   "execution_count": null,
   "id": "3944eeea-25c1-485e-8f3e-3af5f015306a",
   "metadata": {},
   "outputs": [],
   "source": [
    "# ── VEDA Tile Request ─────────────────────────────────────────────────────────────────────────────────────\n",
    "assets = \"cog_default\"\n",
    "colormap_name = \"rdbu_r\"\n",
    "color_formula = \"gamma+r+1.05\"  ## DO NOT CHANGE\n",
    "rescale = (vmin,vmax)\n",
    "\n",
    "# Build endpoint URL without worrying about trailing slashes\n",
    "response = requests.get(\n",
    "    f\"{RASTER_API_URL.rstrip('/')}/collections/{collection_id}\"\n",
    "    f\"/items/{item['id']}/WebMercatorQuad/tilejson.json?\"\n",
    "    f\"&assets={assets}\"\n",
    "    f\"&color_formula={color_formula}&colormap_name={colormap_name}\"\n",
    "    f\"&rescale={rescale[0]},{rescale[1]}\",\n",
    ")\n",
    "\n",
    "response.raise_for_status()\n",
    "\n",
    "tiles = response.json()\n",
    "print(tiles)\n"
   ]
  },
  {
   "cell_type": "markdown",
   "id": "3ccda185-72b9-4137-b7c9-9d97edcc9271",
   "metadata": {},
   "source": [
    "### Plot data"
   ]
  },
  {
   "cell_type": "code",
   "execution_count": null,
   "id": "7cd6de0b-937c-4462-9951-306985f26279",
   "metadata": {},
   "outputs": [],
   "source": [
    "# Use the new plot_folium_from_VEDA_STAC function\n",
    "m = putils.plot_folium_from_VEDA_STAC(\n",
    "    tiles_url_template=tiles['tiles'][0],\n",
    "    center_coords=[41.5, -110],\n",
    "    zoom_level=4,\n",
    "    rescale=rescale,\n",
    "    colormap_name=colormap_name,\n",
    "    layer_name=\"WLDAS soil moisture\",\n",
    "    date=f'{date}T00:00:00Z',\n",
    "    colorbar_caption=\"Soil Moisture (m3/m3)\",\n",
    "    attribution='VEDA WLDAS Soil Moisture',\n",
    "    tile_name='WLDAS Soil Moisture Data',\n",
    "    opacity=0.8,\n",
    "    capitalize_cmap=True,\n",
    "    height =  \"800px\"\n",
    ")\n",
    "\n",
    "# Display the map\n",
    "m"
   ]
  },
  {
   "cell_type": "markdown",
   "id": "a3e5f5d3-5aab-45d4-93ac-1e9f0ebc5a9c",
   "metadata": {},
   "source": [
    "<div class=\"alert alert-block alert-warning\">\n",
    "<h2><strong>Example:</strong> Retrieve MERRA-2 hourly files for Aerosol Optical Thickness</h2>\n",
    "\n",
    "Aerosol Optical Thickness (AOT), also called Aerosol Optical Depth (AOD), is a dimensionless measure of how much sunlight aerosols—tiny particles like dust, smoke or sea salt—scatter and absorb as it travels through a column of atmosphere. In practical terms, an AOT of 0.1 means only 10 % of the direct solar beam is extinguished by aerosols before reaching the surface.\n",
    "\n",
    "The intense straight-line winds in derechos can uplift large quantities of soil and dust, dramatically increasing AOT downwind. Tracking AOT in near-real-time reveals the spatial extent and intensity of these airborne dust plumes.\n",
    "</div>\n"
   ]
  },
  {
   "cell_type": "markdown",
   "id": "c4851cb9-1d4c-4a4b-a5da-68fa9df5f13c",
   "metadata": {},
   "source": [
    "### Processing steps:\n",
    "1.) Select a start and end date for the data granules<br />\n",
    "2.) Add <a href=\"https://search.earthdata.nasa.gov/search/granules/collection-details?p=C1276812830-GES_DISC&pg[0][v]=f&pg[0][gsk]=-start_date&q=merra%20aerosol&tl=1031468010.052!5!!\"\n",
    "        target=\"_blank\" rel=\"noopener noreferrer\"\n",
    "         style=\"color: blue; text-decoration: none;\">\n",
    "      model name and version from EarthData portal\n",
    "    </a><br />\n",
    "3.) Add the prefix for the data within the bucket (e.g., remote sensing mission, reanalysis model, etc.)<br />\n",
    "4.) Retrive all files within the collection based on the start and end date. (If the same year is selected for start_date and end_date, then only the common year will be retrieved. Else all granules are retrived.<br />\n",
    "5.) Filter all collected granules based on the start_ and end_date range.<br />\n",
    "6.) Plot variable based on coordinates selected<br />\n",
    "7.) Create a .gif over the start_ and end_date range"
   ]
  },
  {
   "cell_type": "markdown",
   "id": "e89209ab-752a-473f-922c-67d9ecd38712",
   "metadata": {},
   "source": [
    "### Select and filter"
   ]
  },
  {
   "cell_type": "code",
   "execution_count": null,
   "id": "0586c967-9724-4640-8e71-d5f20195c1b0",
   "metadata": {},
   "outputs": [],
   "source": [
    "# ── Search by date ──────────────────────────────────────────────────────────────────────────────\n",
    "start_date = datetime.datetime(2022, 5, 12)\n",
    "end_date = datetime.datetime(2022, 5, 12)\n",
    "date_array = pd.date_range(start=start_date, end=end_date, freq='D').to_pydatetime()\n",
    "\n",
    "# ── Dataset ─────────────────────────────────────────────────────────────────────────────────────\n",
    "short_name=\"M2T1NXAER\"\n",
    "version=\"5.12.4\"\n",
    "variable = 'TOTEXTTAU' #Total aerosol extinction optical thickness\n",
    "\n",
    "# get all granules\n",
    "print('Retrieving data granules from Earthaccess') \n",
    "results = earthaccess.search_data(\n",
    "   short_name=short_name,\n",
    "   version=version,\n",
    "   temporal=(start_date, end_date),\n",
    "   cloud_hosted=True\n",
    ")\n",
    "\n",
    "# grab the S3 URLs\n",
    "urls = [g[\"umm\"][\"RelatedUrls\"][1][\"URL\"] for g in results]\n",
    "print(f\"Found {len(urls)} files\")\n",
    "\n",
    "# ── Open granules ───────────────────────────────────────────────────────────────────────────────\n",
    "granules=earthaccess.open(results)\n",
    "fs = earthaccess.get_s3_filesystem(results=results)   # auto‐picks the right DAAC & creds\n",
    "\n",
    "fsspec_caching = {\n",
    "    \"cache_type\": \"mmap\"\n",
    "}\n",
    "lat_range=slice(24, 50)\n",
    "lon_range=slice(-125, -66)\n",
    "\n",
    "def subset(ds):\n",
    "    return ds[[variable]].sel(lat=lat_range, lon=lon_range)\n",
    "\n",
    "ds = xr.open_mfdataset(\n",
    "    [fs.open(url, **fsspec_caching) for url in urls],\n",
    "    chunks=\"auto\",\n",
    "    concat_dim=\"time\",\n",
    "    combine=\"nested\",\n",
    "    parallel=True,\n",
    "    data_vars=\"minimal\",\n",
    "    coords=\"minimal\",\n",
    "    compat=\"override\",\n",
    "    join=\"exact\",\n",
    "    preprocess=subset,\n",
    ")\n",
    "\n",
    "ds"
   ]
  },
  {
   "cell_type": "markdown",
   "id": "b0f2746c-b6e2-4b8b-a6d4-2e530c6462d0",
   "metadata": {},
   "source": [
    "## Open the MERRA file and plot by hour in a .gif for the selected variable AOT"
   ]
  },
  {
   "cell_type": "code",
   "execution_count": null,
   "id": "1b74614a-dac6-4f06-a2a7-6a0423d020d3",
   "metadata": {},
   "outputs": [],
   "source": [
    "# Use the matplotlib_gif function from plotutils\n",
    "putils.matplotlib_gif(data=ds['TOTEXTTAU'],\n",
    "               bbox= [-130, 33, -90, 50],\n",
    "               gif_savename= \"merra_aot.gif\",\n",
    "               duration=2,\n",
    "               cmap=\"YlOrRd_r\")"
   ]
  },
  {
   "cell_type": "markdown",
   "id": "9bb134f2-47c7-4403-8925-067633fc6226",
   "metadata": {},
   "source": [
    "<div class=\"alert alert-block alert-warning\">\n",
    "<h2><strong>Example:</strong> Pull MODIS Aerosol Optical Depth data from the VEDA STAC catalog and visualize</h2>\n",
    "</div>\n"
   ]
  },
  {
   "cell_type": "code",
   "execution_count": null,
   "id": "95a156b0-e489-4f58-bb56-684b1c0685b6",
   "metadata": {},
   "outputs": [],
   "source": [
    "collection_id = 'modis-derecho'\n",
    "date = \"2022-05-12\"\n",
    "\n",
    "# ── VEDA Collection Request ─────────────────────────────────────────────────────────────────────────────────────\n",
    "url = f\"{STAC_API_URL.rstrip('/')}/collections/{collection_id}\"\n",
    "\n",
    "response = requests.get(url)\n",
    "response.raise_for_status()\n",
    "collection = response.json()\n",
    "\n",
    "# grab the dashboard render block\n",
    "dashboard_rend = collection[\"renders\"][\"dashboard\"]\n",
    "\n",
    "bands      = dashboard_rend[\"bidx\"]           \n",
    "asset_keys = dashboard_rend[\"assets\"]         \n",
    "(vmin, vmax), = dashboard_rend[\"rescale\"]    \n",
    "cmap_name  = dashboard_rend[\"colormap_name\"]\n",
    "\n",
    "# ── VEDA Item Request ─────────────────────────────────────────────────────────────────────────────────────\n",
    "url = f\"{STAC_API_URL.rstrip('/')}/search\"\n",
    "payload = {\n",
    "    \"collections\": [collection_id],\n",
    "    \"query\": {\n",
    "        \"datetime\": {\n",
    "            \"eq\": f\"{date}T00:00:00\"\n",
    "        }\n",
    "    },\n",
    "    \"limit\": 10,\n",
    "}\n",
    "\n",
    "response = requests.post(url, json=payload)\n",
    "response.raise_for_status()\n",
    "data = response.json()\n",
    "items = data.get(\"features\")\n",
    "\n",
    "if items is None:\n",
    "    raise KeyError(f\"No 'features' key in search response: {data.keys()}\")\n",
    "\n",
    "print(f\"\\nFound {len(items)} features in collection {collection_id} on date {date}\")\n",
    "\n",
    "item = items[0] #only return the first item\n",
    "\n",
    "# ── VEDA Tile Request ─────────────────────────────────────────────────────────────────────────────────────\n",
    "assets = \"cog_default\"\n",
    "colormap_name = \"viridis\"\n",
    "color_formula = \"gamma+r+1.05\"  ## DO NOT CHANGE\n",
    "rescale = (vmin,vmax)\n",
    "\n",
    "# Build endpoint URL without worrying about trailing slashes\n",
    "response = requests.get(\n",
    "    f\"{RASTER_API_URL.rstrip('/')}/collections/{collection_id}\"\n",
    "    f\"/items/{item['id']}/WebMercatorQuad/tilejson.json?\"\n",
    "    f\"&assets={assets}\"\n",
    "    f\"&color_formula={color_formula}&colormap_name={colormap_name}\"\n",
    "    f\"&rescale={rescale[0]},{rescale[1]}\",\n",
    ")\n",
    "\n",
    "response.raise_for_status()\n",
    "\n",
    "tiles = response.json()\n",
    "print(tiles)"
   ]
  },
  {
   "cell_type": "code",
   "execution_count": null,
   "id": "83494d69-1830-493a-bbdb-23b1f6cffea8",
   "metadata": {},
   "outputs": [],
   "source": [
    "# Use the new plot_folium_from_VEDA_STAC function\n",
    "m = putils.plot_folium_from_VEDA_STAC(\n",
    "    tiles_url_template=tiles['tiles'][0],\n",
    "    center_coords=[42.5, -96],\n",
    "    zoom_level=7,\n",
    "    rescale=rescale,\n",
    "    colormap_name=colormap_name,\n",
    "    layer_name=\"MODIS AOD\",\n",
    "    date=f'{date}T00:00:00Z',\n",
    "    colorbar_caption=\"Aerosol Optical Depth\",\n",
    "    attribution='VEDA MODIS AOD',\n",
    "    tile_name='MODIS AOD',\n",
    "    opacity=0.8,\n",
    "    height =  \"800px\"\n",
    ")\n",
    "\n",
    "# Display the map\n",
    "m"
   ]
  },
  {
   "cell_type": "markdown",
   "id": "8af64d82-ae4b-4658-8fcf-ef7e7b246d81",
   "metadata": {},
   "source": [
    "<div class=\"alert alert-block alert-warning\">\n",
    "<h2><strong>Example:</strong> Pull NCEI interpolated wind gusts data from the VEDA STAC catalog and visualize.</h2>\n",
    "    \n",
    "The NCEI Interpolated Wind Gusts product takes the discrete station‐reported peak wind gusts from the NCEI Storm Events Database—a standardized archive of severe‐weather observations dating back to 1950—and uses spatial interpolation to generate a continuous gridded field of maximum gust speeds across the derecho swath. \n",
    "\n",
    "By filling in the gaps between point measurements, it reveals the full geographic extent and intensity gradients of the derecho’s outflow winds, often uncovering zones of extreme gust (e.g., 70 mph +) that lie between and beyond individual station sites. \n",
    "\n",
    "</div>\n"
   ]
  },
  {
   "cell_type": "code",
   "execution_count": null,
   "id": "88cd930e-5817-4637-a99d-0730a57dec36",
   "metadata": {},
   "outputs": [],
   "source": [
    "collection_id = 'windgusts-derecho'\n",
    "date = \"2022-05-12\"\n",
    "\n",
    "# ── VEDA Collection Request ─────────────────────────────────────────────────────────────────────────────────────\n",
    "url = f\"{STAC_API_URL.rstrip('/')}/collections/{collection_id}\"\n",
    "\n",
    "response = requests.get(url)\n",
    "response.raise_for_status()\n",
    "collection = response.json()\n",
    "\n",
    "# grab the dashboard render block\n",
    "dashboard_rend = collection[\"renders\"][\"dashboard\"]\n",
    "\n",
    "bands      = dashboard_rend[\"bidx\"]           \n",
    "asset_keys = dashboard_rend[\"assets\"]         \n",
    "(vmin, vmax), = dashboard_rend[\"rescale\"]    \n",
    "cmap_name  = dashboard_rend[\"colormap_name\"]\n",
    "\n",
    "# ── VEDA Item Request ─────────────────────────────────────────────────────────────────────────────────────\n",
    "url = f\"{STAC_API_URL.rstrip('/')}/search\"\n",
    "payload = {\n",
    "    \"collections\": [collection_id],\n",
    "    \"query\": {\n",
    "        \"datetime\": {\n",
    "            \"eq\": f\"{date}T00:00:00\"\n",
    "        }\n",
    "    },\n",
    "    \"limit\": 10,\n",
    "}\n",
    "\n",
    "response = requests.post(url, json=payload)\n",
    "response.raise_for_status()\n",
    "data = response.json()\n",
    "items = data.get(\"features\")\n",
    "\n",
    "if items is None:\n",
    "    raise KeyError(f\"No 'features' key in search response: {data.keys()}\")\n",
    "\n",
    "print(f\"\\nFound {len(items)} features in collection {collection_id} on date {date}\")\n",
    "\n",
    "item = items[0] #only return the first item\n",
    "\n",
    "# ── VEDA Tile Request ─────────────────────────────────────────────────────────────────────────────────────\n",
    "assets = \"cog_default\"\n",
    "colormap_name = \"viridis\"\n",
    "color_formula = \"gamma+r+1.05\"  ## DO NOT CHANGE\n",
    "rescale = (vmin,vmax)\n",
    "\n",
    "# Build endpoint URL without worrying about trailing slashes\n",
    "response = requests.get(\n",
    "    f\"{RASTER_API_URL.rstrip('/')}/collections/{collection_id}\"\n",
    "    f\"/items/{item['id']}/WebMercatorQuad/tilejson.json?\"\n",
    "    f\"&assets={assets}\"\n",
    "    f\"&color_formula={color_formula}&colormap_name={colormap_name}\"\n",
    "    f\"&rescale={rescale[0]},{rescale[1]}\",\n",
    ")\n",
    "\n",
    "response.raise_for_status()\n",
    "\n",
    "tiles = response.json()\n",
    "print(tiles)"
   ]
  },
  {
   "cell_type": "code",
   "execution_count": null,
   "id": "ff7ce218-f71a-472c-975f-95b4d46e4e5a",
   "metadata": {},
   "outputs": [],
   "source": [
    "# Use the new plot_folium_from_VEDA_STAC function\n",
    "m = putils.plot_folium_from_VEDA_STAC(\n",
    "    tiles_url_template=tiles['tiles'][0],\n",
    "    center_coords=[45, -97.7],\n",
    "    zoom_level=6,\n",
    "    rescale=rescale,\n",
    "    colormap_name=colormap_name,\n",
    "    layer_name=\"Wind Gusts\",\n",
    "    date=f'{date}T00:00:00Z',\n",
    "    colorbar_caption=\"Wind Gusts (m/s)\",\n",
    "    attribution='VEDA Wind Gusts',\n",
    "    tile_name='Wind Gusts',\n",
    "    opacity=0.8,\n",
    "    height =  \"800px\"\n",
    ")\n",
    "\n",
    "# Display the map\n",
    "m"
   ]
  },
  {
   "cell_type": "markdown",
   "id": "089ceb67-22bf-4f3c-96a8-50c196fff2d5",
   "metadata": {},
   "source": [
    "<div class=\"alert alert-block alert-warning\">\n",
    "<h2><strong>Example:</strong> Pull Black Marble Night Lights data from the VEDA STAC catalog and visualize.</h2>\n",
    "\n",
    "During extreme windstorms such as derechos, sudden drops in nighttime brightness in the Black Marble imagery reveal where power infrastructure has failed and outages have occurred, while the re-illumination of areas over subsequent days tracks the pace and extent of electrical service restoration. This makes Black Marble a powerful, near-real-time proxy for assessing societal impacts and grid resilience in the storm’s wake.\n",
    "</div>\n"
   ]
  },
  {
   "cell_type": "code",
   "execution_count": null,
   "id": "97af23f1-7204-47f9-8a1b-6b21916cfd15",
   "metadata": {},
   "outputs": [],
   "source": [
    "collection_id = 'nightlights-derecho'\n",
    "date = \"2022-05-10\"\n",
    "\n",
    "# ── VEDA Collection Request ─────────────────────────────────────────────────────────────────────────────────────\n",
    "url = f\"{STAC_API_URL.rstrip('/')}/collections/{collection_id}\"\n",
    "\n",
    "response = requests.get(url)\n",
    "response.raise_for_status()\n",
    "collection = response.json()\n",
    "\n",
    "# grab the dashboard render block\n",
    "dashboard_rend = collection[\"renders\"][\"dashboard\"]\n",
    "\n",
    "bands      = dashboard_rend[\"bidx\"]           \n",
    "asset_keys = dashboard_rend[\"assets\"]         \n",
    "(vmin, vmax), = dashboard_rend[\"rescale\"]    \n",
    "cmap_name  = dashboard_rend[\"colormap_name\"]\n",
    "\n",
    "# ── VEDA Item Request ─────────────────────────────────────────────────────────────────────────────────────\n",
    "url = f\"{STAC_API_URL.rstrip('/')}/search\"\n",
    "payload = {\n",
    "    \"collections\": [collection_id],\n",
    "    \"query\": {\n",
    "        \"datetime\": {\n",
    "            \"eq\": f\"{date}T00:00:00\"\n",
    "        }\n",
    "    },\n",
    "    \"limit\": 10,\n",
    "}\n",
    "\n",
    "response = requests.post(url, json=payload)\n",
    "response.raise_for_status()\n",
    "data = response.json()\n",
    "items = data.get(\"features\")\n",
    "\n",
    "if items is None:\n",
    "    raise KeyError(f\"No 'features' key in search response: {data.keys()}\")\n",
    "\n",
    "print(f\"\\nFound {len(items)} features in collection {collection_id} on date {date}\")\n",
    "\n",
    "item = items[0] #only return the first item\n",
    "\n",
    "# ── VEDA Tile Request ─────────────────────────────────────────────────────────────────────────────────────\n",
    "assets = \"cog_default\"\n",
    "colormap_name = \"bwr\"\n",
    "color_formula = \"gamma+r+1.05\"  ## DO NOT CHANGE\n",
    "rescale = (vmin,vmax)\n",
    "\n",
    "# Build endpoint URL without worrying about trailing slashes\n",
    "response = requests.get(\n",
    "    f\"{RASTER_API_URL.rstrip('/')}/collections/{collection_id}\"\n",
    "    f\"/items/{item['id']}/WebMercatorQuad/tilejson.json?\"\n",
    "    f\"&assets={assets}\"\n",
    "    f\"&color_formula={color_formula}&colormap_name={colormap_name}\"\n",
    "    f\"&rescale={rescale[0]},{rescale[1]}\",\n",
    ")\n",
    "\n",
    "response.raise_for_status()\n",
    "\n",
    "tiles = response.json()\n",
    "print(tiles)"
   ]
  },
  {
   "cell_type": "code",
   "execution_count": null,
   "id": "c991a66f-7055-473d-8f33-bcd4b7b81392",
   "metadata": {},
   "outputs": [],
   "source": [
    "# Use the new plot_folium_from_VEDA_STAC function\n",
    "m = putils.plot_folium_from_VEDA_STAC(\n",
    "    tiles_url_template=tiles['tiles'][0],\n",
    "    center_coords=[45, -93],\n",
    "    zoom_level=8,\n",
    "    rescale=rescale,\n",
    "    colormap_name=colormap_name,\n",
    "    layer_name=\"Black Marble Night Lights\",\n",
    "    date=f'{date}T00:00:00Z',\n",
    "    colorbar_caption=\"Artificial Light\",\n",
    "    attribution='VEDA Black Marble Night Lights',\n",
    "    tile_name='Black Marble Night Lights',\n",
    "    opacity=0.8,\n",
    "    height =  \"800px\"\n",
    ")\n",
    "\n",
    "print('Visualization of St. Paul, Minnesota where values approaching 255 indicate power outages.')\n",
    "# Display the map\n",
    "m"
   ]
  },
  {
   "cell_type": "markdown",
   "id": "a00dc19a-2fb6-46ae-b315-be52a63c01af",
   "metadata": {},
   "source": [
    "<div class=\"alert alert-block alert-warning\">\n",
    "<h2><strong>Example:</strong> Pull Global Precipitation Measurement data through the Common Metadata Repository (CMR) STAC API.</h2>\n",
    "\n",
    "NASA's Global Precipitation Measurement Mission (GPM) uses satellites to measure Earth's rain and snowfall for the benefit of mankind. Launched by NASA and JAXA on Feb. 27th, 2014, GPM is an international mission that sets the standard for spaceborne precipitation measurements.\n",
    "</div>\n"
   ]
  },
  {
   "cell_type": "code",
   "execution_count": null,
   "id": "1ec39775-7dee-4d06-a472-ffa9208e8e89",
   "metadata": {},
   "outputs": [],
   "source": [
    "#Specific for May 05, 2022 (using titiler-cmr request)\n",
    "date = '2022-05-12'\n",
    "tile_A_URL = \"https://staging.openveda.cloud/api/titiler-cmr/tiles/WebMercatorQuad/{z}/{x}/{y}@1x?\"\n",
    "tile_B_URL = f\"datetime={date}T00%3A00%3A00.000Z%2F{date}T23%3A59%3A59.999Z&resampling=bilinear&variable=precipitation&colormap_name=gnbu&rescale=0%2C46&concept_id=C2723754864-GES_DISC&backend=xarray\"\n",
    "tilejson_url = f\"{tile_A_URL}{tile_B_URL}\""
   ]
  },
  {
   "cell_type": "code",
   "execution_count": null,
   "id": "de388abd-06ea-4b79-a916-589a078481fc",
   "metadata": {},
   "outputs": [],
   "source": [
    "m = putils.plot_folium_from_VEDA_STAC(\n",
    "    tiles_url_template=tilejson_url,\n",
    "    layer_name=\"GPM Imerge Precipitation\",\n",
    "    date = \"2022-05-12\",\n",
    "    colormap_name = \"Blues\",\n",
    "    center_coords = [46.55,-96.94],\n",
    "    zoom_level = 5,\n",
    "    height =  \"800px\"\n",
    "\n",
    ")\n",
    "\n",
    "m"
   ]
  },
  {
   "cell_type": "markdown",
   "id": "ba192aa4-6fe4-42f6-bad1-b5ded0b205f4",
   "metadata": {},
   "source": [
    "## The economic impact reached beyond the crop fields. Many grain silos, irrigation systems, and farm buildings were also damaged or destroyed, adding to the financial burden on farmers.  See image below to identify crop types across the Midwest and the Storm Prediction Center reports across the Midwest.\n",
    "\n",
    "### Use the slider below to investigate the crop-land type and the extreme weather reports across the Midwest."
   ]
  },
  {
   "cell_type": "code",
   "execution_count": null,
   "id": "e6d8cd6d-ffb9-480b-8500-2142a753e729",
   "metadata": {},
   "outputs": [],
   "source": [
    "# Usage example:\n",
    "# Replace these with your actual image paths\n",
    "img1_path = \"images/derecho/Derecho-Crop.jpg\"\n",
    "img2_path = \"images/derecho/Derecho-storm-reports.jpg\"\n",
    "\n",
    "putils.create_pausable_blend_slider(img1_path, img2_path, width=800)"
   ]
  },
  {
   "cell_type": "markdown",
   "id": "bc7e7ac4-f443-466b-9cfc-c58ebe6c9fa5",
   "metadata": {},
   "source": [
    "<div class=\"alert alert-block alert-danger\">\n",
    "<h2><strong>End of visualizations</strong>\n",
    "</div>\n"
   ]
  },
  {
   "cell_type": "code",
   "execution_count": null,
   "id": "46fcc420-3c68-481c-9223-86484eea1820",
   "metadata": {},
   "outputs": [],
   "source": [
    "# Remove created .gifs and core files from EarthAccess\n",
    "import os\n",
    "import glob\n",
    "\n",
    "# find all .gif files in the current directory\n",
    "for gif_path in glob.glob(\"*.gif\"):\n",
    "    try:\n",
    "        os.remove(gif_path)\n",
    "        print(f\"Removed {gif_path}\")\n",
    "    except OSError as e:\n",
    "        print(f\"Error removing {gif_path}: {e}\")\n",
    "\n",
    "# find all .gif files in the current directory\n",
    "for core_path in glob.glob(\"core.*\"):\n",
    "    try:\n",
    "        os.remove(core_path)\n",
    "        print(f\"Removed {core_path}\")\n",
    "    except OSError as e:\n",
    "        print(f\"Error removing {core_path}: {e}\")\n"
   ]
  }
 ],
 "metadata": {
  "colab": {
   "provenance": []
  },
  "kernelspec": {
   "display_name": "Python 3 (ipykernel)",
   "language": "python",
   "name": "python3"
  },
  "language_info": {
   "codemirror_mode": {
    "name": "ipython",
    "version": 3
   },
   "file_extension": ".py",
   "mimetype": "text/x-python",
   "name": "python",
   "nbconvert_exporter": "python",
   "pygments_lexer": "ipython3",
   "version": "3.12.7"
  }
 },
 "nbformat": 4,
 "nbformat_minor": 5
}
