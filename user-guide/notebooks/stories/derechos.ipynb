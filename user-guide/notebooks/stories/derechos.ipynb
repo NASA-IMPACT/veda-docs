{
 "cells": [
  {
   "cell_type": "markdown",
   "id": "7b36dc18-2d9b-410d-9253-6ead1367de7d",
   "metadata": {
    "id": "7b36dc18-2d9b-410d-9253-6ead1367de7d"
   },
   "source": [
    "<div class=\"alert alert-block alert-success\">\n",
    "<h1><strong>NASA Data Fusion Analysis of Derechos and Their Impact on Rural America</h1>\n",
    "</div>\n",
    "    \n",
    "Story authors: Madison Wallner<sup>1</sup>, Andrew Blackford<sup>1</sup>, Udaysankar Nair<sup>1</sup><br />\n",
    "<sup>1</sup>The University of Alabama in Huntsville (UAH)\n",
    "\n",
    "Notebook editor: Kyle Lesinger<sup>1</sup>"
   ]
  },
  {
   "cell_type": "markdown",
   "id": "261ce739-6f08-4e22-853c-159fb928e4b4",
   "metadata": {},
   "source": [
    "# Run This Notebook"
   ]
  },
  {
   "cell_type": "markdown",
   "id": "f8b8f848-e91c-468b-9ec5-7c5e2ea8db4c",
   "metadata": {},
   "source": [
    "<div class=\"alert alert-block alert-warning\">\n",
    "Disclaimer: it is highly recommended to run a tutorial within NASA VEDA JupyterHub, which already includes packages specific to VEDA stories, such as maap-py. Running the tutorial outside of the VEDA JupyterHub may lead to errors, specifically related to EarthData authentication. Additionally, it is recommended to use the Pangeo workspace within the VEDA JupyterHub, since certain packages relevant to this tutorial are already installed.</div>"
   ]
  },
  {
   "cell_type": "markdown",
   "id": "6bf5f134-0fba-41bf-8d1d-7654a1b9307a",
   "metadata": {},
   "source": [
    "## Example scripts to process and visualize information"
   ]
  },
  {
   "cell_type": "code",
   "execution_count": 1,
   "id": "a6041ba0-3d38-433d-8982-505de8e6fbaf",
   "metadata": {},
   "outputs": [
    {
     "ename": "NameError",
     "evalue": "name 't' is not defined",
     "output_type": "error",
     "traceback": [
      "\u001b[0;31m---------------------------------------------------------------------------\u001b[0m",
      "\u001b[0;31mNameError\u001b[0m                                 Traceback (most recent call last)",
      "Cell \u001b[0;32mIn[1], line 1\u001b[0m\n\u001b[0;32m----> 1\u001b[0m \u001b[43mt\u001b[49m\n\u001b[1;32m      2\u001b[0m get_ipython()\u001b[38;5;241m.\u001b[39msystem(\u001b[38;5;124m'\u001b[39m\u001b[38;5;124mpip install plotly\u001b[39m\u001b[38;5;124m'\u001b[39m)\n\u001b[1;32m      3\u001b[0m \u001b[38;5;66;03m# Load libraries\u001b[39;00m\n",
      "\u001b[0;31mNameError\u001b[0m: name 't' is not defined"
     ]
    }
   ],
   "source": [
    "!pip install plotly\n",
    "# Load libraries\n",
    "import videoutils as vutils\n",
    "import readutils as rutils\n",
    "import plotutils as putils\n",
    "import vedautils as veda\n",
    "import statsutils as sutils\n",
    "import earthaccess\n",
    "import datetime\n",
    "import pandas as pd\n",
    "import xarray as xr\n",
    "import shutil\n"
   ]
  },
  {
   "cell_type": "code",
   "execution_count": null,
   "id": "9f25c49c-452e-4970-bdb6-993a5cfff08b",
   "metadata": {},
   "outputs": [],
   "source": [
    "#For retrieving data already catalogued in VEDA STAC\n",
    "STAC_API_URL=\"https://openveda.cloud/api/stac\"\n",
    "RASTER_API_URL = \"https://openveda.cloud/api/raster\"\n"
   ]
  },
  {
   "cell_type": "markdown",
   "id": "a7bdf719-4445-47cc-937f-13d6c7f937b3",
   "metadata": {},
   "source": [
    "# What is a Derecho?\n",
    "\n",
    "A **derecho** is a long-lasting, fast-moving windstorm that is produced from a line of severe thunderstorms. For a storm to be called a derecho, there must be:\n",
    "\n",
    "- A concentrated area of severe wind reports over 400 miles (650 km) in length and at least 60 miles (96 km) wide.\n",
    "- Several wind gusts reported over 75 mph (120 km/h).\n",
    "- Sustained winds of at least 58 mph (93 km/h). (SPC)\n",
    "\n",
    "Unlike single thunderstorms, derechos form within mesoscale (i.e., mid-sized) convective systems (MCS)—large storm clusters that produce strong, long-lasting straight-line winds.\n",
    "\n",
    "## Conditions that Help a Derecho Form Include:\n",
    "\n",
    "- **Strong instability** (Convective Available Potential Energy (CAPE) over 2000–4000 J/kg): provides energy for strong updrafts and intense thunderstorms.  \n",
    "- **High low-level moisture** (dewpoints of 65–75 °F): keeps storms going by supplying moisture.  \n",
    "- **Strong mid- and upper-level winds** (wind shear over 40 knots): help organize storms and push them forward.  \n",
    "- **A well-defined cold pool**: rain-cooled air at the surface strengthens the storm by increasing wind speeds at the front of the system.  \n"
   ]
  },
  {
   "cell_type": "markdown",
   "id": "9c225b07-7ecc-462d-a19a-ce15187238e5",
   "metadata": {},
   "source": [
    "<div class=\"alert alert-block alert-warning\">\n",
    "<h1><strong>Example:</strong> Retrieve GLDAS data from EarthData portal</h1>\n",
    "<h3>Global Land Data Assimilation System (GLDAS) data helps assess soil moisture levels before and after the storm, showing how pre-existing drought conditions contributed to dust transport and how heavy rainfall may have impacted runoff and flooding.</h3>\n",
    "</div>\n"
   ]
  },
  {
   "cell_type": "markdown",
   "id": "c6031116-bbbb-4e13-9dd4-a0c06de6dba4",
   "metadata": {
    "jp-MarkdownHeadingCollapsed": true
   },
   "source": [
    "### Processing steps:\n",
    "1.) Select a start and end date for the data granules<br />\n",
    "2.) Add <a href=\"https://search.earthdata.nasa.gov/search/granules?p=C1690022359-GES_DISC&pg[0][v]=f&pg[0][gsk]=-start_date&q=GLDAS_CLSM10_3H_2.1&tl=1347014600.484!5!!&lat=0.05719976537514171&long=-0.07464366545408296&zoom=3.0033333333333334\"\n",
    "        target=\"_blank\" rel=\"noopener noreferrer\"\n",
    "         style=\"color: blue; text-decoration: none;\">\n",
    "      bucket name from EarthData portal\n",
    "    </a><br />\n",
    "3.) Add the prefix for the data within the bucket (e.g., remote sensing mission, reanalysis model, etc.)<br />\n",
    "4.) Retrieve all files within the collection based on the start and end date. (If the same year is selected for start_date and end_date, then only the common year will be retrieved. Else all granules are retrived.<br />\n",
    "5.) Filter all collected granules based on the start_ and end_date range.<br />\n",
    "6.) Compute daily mean of hourly files<br />\n",
    "7.) Plot variable based on coordinates selected<br />\n",
    "8.) Create a .gif over the start_ and end_date range"
   ]
  },
  {
   "cell_type": "markdown",
   "id": "90b58cb3-206c-43cd-9fdd-9bb410a6839e",
   "metadata": {},
   "source": [
    "### Select dates and find Earthdata links"
   ]
  },
  {
   "cell_type": "code",
   "execution_count": null,
   "id": "5f16b1a4-9f28-420f-b888-a9a043d5f238",
   "metadata": {},
   "outputs": [],
   "source": [
    "#Only subset data within a single year (requires >3GB RAM if you select more than 40 dates)\n",
    "start_date = datetime.datetime(2022, 4, 1)\n",
    "end_date = datetime.datetime(2022, 5, 12)\n",
    "date_array = pd.date_range(start=start_date, end=end_date, freq='D').to_pydatetime()\n",
    "\n",
    "bucket_name = \"gesdisc-cumulus-prod-protected\"\n",
    "prefix = \"GLDAS/GLDAS_NOAH025_3H.2.1\"\n",
    "\n",
    "#Don't get all of the data links if we don't have too. Only chooses a single year if the start_ and end_dates are in the same year\n",
    "prefix = f'{prefix}/{start_date.year}' if (start_date.year) == (end_date.year) else prefix\n",
    "\n",
    "# #Download all links for either a specific year or for all years\n",
    "all_links = rutils.list_files(bucket_name=bucket_name,\n",
    "                     prefix = prefix,\n",
    "                     region = \"us-west-2\",\n",
    "                     file_extension = \".nc4\")\n"
   ]
  },
  {
   "cell_type": "markdown",
   "id": "e2b604f3-c2c0-46df-a6af-29ac59e37163",
   "metadata": {},
   "source": [
    "### Filter based on start_date and end_date"
   ]
  },
  {
   "cell_type": "code",
   "execution_count": null,
   "id": "47a2df7e-c00a-474c-9799-af6607674048",
   "metadata": {},
   "outputs": [],
   "source": [
    "#Subset the data based on the actual start_date and end_date to reduce number of processes\n",
    "filtered_keys = []\n",
    "\n",
    "for key in all_links:\n",
    "    # Example: extract \"20220401\" from filename\n",
    "    date_str = key.split('.')[-4][1:]  # A20220401 -> 20220401\n",
    "    file_date = datetime.datetime.strptime(date_str, \"%Y%m%d\")\n",
    "    \n",
    "    if start_date <= file_date <= end_date:\n",
    "        filtered_keys.append(key)\n",
    "\n",
    "print(f\"Filtered to {len(filtered_keys)} files between {start_date.strftime(\"%B\")} {start_date.day} and {end_date.strftime(\"%B\")} {end_date.day}, {end_date.year}.\")"
   ]
  },
  {
   "cell_type": "markdown",
   "id": "b84db8f6-83c8-411e-99e1-6cc2601c35a9",
   "metadata": {},
   "source": [
    "### Compute daily mean (soil moisture data is within 3-hr increments)"
   ]
  },
  {
   "cell_type": "code",
   "execution_count": null,
   "id": "2db668bd-7a5b-40cc-bf76-c917df0a4a3f",
   "metadata": {},
   "outputs": [],
   "source": [
    "variable = 'SoilMoi0_10cm_inst'\n",
    "\n",
    "'''Pass filtered keys through EarthData portal, stores in a dictionary, \n",
    "and computes the daily mean'''\n",
    "daily_mean_datasets = sutils.compute_daily_mean_from_keys_NETCDF(\n",
    "    bucket_name = bucket_name,\n",
    "    region_name = \"us-west-2\",\n",
    "    file_keys=filtered_keys,\n",
    "    variable = variable\n",
    ")\n",
    "print(list(daily_mean_datasets.keys())[0])"
   ]
  },
  {
   "cell_type": "markdown",
   "id": "f0c7a860-fce3-4cf6-89b2-7c5dffe1f881",
   "metadata": {},
   "source": [
    "### Convert to a single xarray object"
   ]
  },
  {
   "cell_type": "code",
   "execution_count": null,
   "id": "831b1fe9-f710-4198-bc39-d8606c7953d7",
   "metadata": {},
   "outputs": [],
   "source": [
    "#Select a soil moisture variable (0-10cm); items are currently in a dictionary\n",
    "soil = [daily_mean_datasets[i] for i in list(daily_mean_datasets.keys())]\n",
    "soil = xr.concat(soil,dim='time')\n",
    "soil['time'] = date_array\n",
    "print(f\"First 10 dates: {soil.time.values[0:10]}\")\n"
   ]
  },
  {
   "cell_type": "markdown",
   "id": "568bf7d8-6520-47db-838b-029c63947708",
   "metadata": {},
   "source": [
    "### Create interactive geospatial folium plot"
   ]
  },
  {
   "cell_type": "code",
   "execution_count": null,
   "id": "e45ae2fa-7548-4253-86d9-09bf0e7699d9",
   "metadata": {},
   "outputs": [],
   "source": [
    "putils.plot_folium_from_xarray(dataset=soil,\n",
    "                  day_select='2022-05-11',\n",
    "                  bbox=[-130, 33, -90, 50],\n",
    "                  var_name_for_title='Soil Moisture from GLDAS (m³/m³) [subset]',\n",
    "                  matplot_ramp = 'YlOrRd_r',\n",
    "                  zoom_level = 5,\n",
    "                  flipud=False,\n",
    "                  save_tif=False,\n",
    "                  tif_filename=None,\n",
    "                  crs = 'EPSG4326',\n",
    "                  opacity = 0.8)\n"
   ]
  },
  {
   "cell_type": "markdown",
   "id": "0e06456e-bfe6-4e43-ae7a-d56aba746c91",
   "metadata": {},
   "source": [
    "### Create a gif over the date range"
   ]
  },
  {
   "cell_type": "code",
   "execution_count": null,
   "id": "02472547-2653-4148-a8fc-2c1040a3af8e",
   "metadata": {},
   "outputs": [],
   "source": [
    "# Usage:\n",
    "putils.matplotlib_gif(data=soil,\n",
    "               bbox= [-104, 30, -90, 50],\n",
    "               gif_savename= \"soil_matplotlib.gif\",\n",
    "               duration=2,\n",
    "               cmap=\"YlOrRd_r\")"
   ]
  },
  {
   "cell_type": "markdown",
   "id": "d1865289-78ef-4d0e-8371-6172c746c883",
   "metadata": {},
   "source": [
    "<div class=\"alert alert-block alert-warning\">\n",
    "<h2><strong>Example:</strong> Pull WLDAS soil moisture data from the VEDA STAC catalog and visualize.</h2>\n",
    "\n",
    "The Western Land Data Assimilation System (WLDAS) is a regional instance of NASA’s Land Information System (LIS), developed at Goddard Space Flight Center for the western United States.  It integrates meteorological forcings (precipitation, radiation, temperature, humidity, wind, surface pressure) and satellite-derived parameters (vegetation class, soil texture, elevation) into the Noah-MP land surface model using data assimilation techniques.\n",
    "\n",
    "Soil moisture critically controls the partitioning of net surface energy into latent (evapotranspiration) versus sensible (heating) fluxes. Wetter soils favor latent heat, stabilizing the boundary layer, whereas drier soils boost sensible heating, enhancing near-surface temperature and convective available potential energy (CAPE). These processes govern where and when thunderstorms can initiate and organize.\n",
    "</div>\n"
   ]
  },
  {
   "cell_type": "markdown",
   "id": "5b770e10-fcd9-4fa5-8eaf-a5feb6390064",
   "metadata": {},
   "source": [
    "### Processing steps:\n",
    "1.) Choose STAC catalog ID and date<br />\n",
    "2.) Retrieve collection information and items from VEDA STAC catalog<br />\n",
    "3.) Retrieve item statistics and tiling information<br />\n",
    "4.) Plot data<br />"
   ]
  },
  {
   "cell_type": "markdown",
   "id": "69c58d56-338b-4c04-a670-285aabe2ef2d",
   "metadata": {},
   "source": [
    "### Choose variable and retrieve json"
   ]
  },
  {
   "cell_type": "code",
   "execution_count": null,
   "id": "099e8873-24f3-4599-9599-0c76b74915b1",
   "metadata": {
    "scrolled": true
   },
   "outputs": [],
   "source": [
    "collection_soil = 'wldas-derecho-sm'\n",
    "collection = veda.get_collection(STAC_API_URL, collection_soil)\n",
    "print(f'Collection information: {collection}')\n",
    "\n",
    "items = veda.search_stac_features(stac_api_url=STAC_API_URL,\n",
    "                               collection_id=collection_soil,\n",
    "                               date=\"2022-05-11\",\n",
    "                               limit=100)\n",
    "\n",
    "print(f\"\\nNumber of collection items found: {len(items)}\")\n",
    "item = items[0] #only return the first item\n",
    "\n",
    "#Collection render information to display like the VEDA story\n",
    "dashboard_rend, bands, asset_keys, vmin, vmax, cmap_name = veda.return_render_information(collection)\n"
   ]
  },
  {
   "cell_type": "markdown",
   "id": "47a8ce62-0d57-40b5-a0a2-550efece7ca0",
   "metadata": {},
   "source": [
    "### Retrieve tiling information"
   ]
  },
  {
   "cell_type": "code",
   "execution_count": null,
   "id": "cf37de1e-73d1-4f78-9f3d-281ecda39a9d",
   "metadata": {},
   "outputs": [],
   "source": [
    "tiles = veda.get_raster_tilejson(raster_api_url = RASTER_API_URL,\n",
    "                                 collection_id = collection_soil,\n",
    "                                 item = item,\n",
    "                                 rescale = (vmin,vmax),\n",
    "                                 assets = asset_keys[0],\n",
    "                                 color_formula = \"gamma+r+1.05\",\n",
    "                                 colormap_name = cmap_name\n",
    "                                )\n",
    "                                 \n",
    "\n",
    "\n",
    "tiles"
   ]
  },
  {
   "cell_type": "markdown",
   "id": "3ccda185-72b9-4137-b7c9-9d97edcc9271",
   "metadata": {},
   "source": [
    "### Plot data"
   ]
  },
  {
   "cell_type": "code",
   "execution_count": null,
   "id": "102d11dd-9eca-425f-998b-42661e5e2bab",
   "metadata": {},
   "outputs": [],
   "source": [
    "# Example usage:\n",
    "tiles_url = tiles[\"tiles\"][0]  # from your TileJSON\n",
    "lat_min, lon_min, lat_max, lon_max = 30, -110, 50, -95\n",
    "center = ((lat_min + lat_max) / 2, (lon_min + lon_max) / 2)\n",
    "\n",
    "m = putils.plot_folium_from_STAC_with_legend(\n",
    "    tiles_url=tiles_url,\n",
    "    vmin = vmin,\n",
    "    vmax = vmax,\n",
    "    center=center,\n",
    "    zoom_start=5.5,\n",
    "    width=\"100%\",\n",
    "    height=\"800px\",\n",
    "    attribution=\"VEDA\",\n",
    "    layer_name=\"WLDAS soil moisture\",\n",
    "    day_select = item['properties'].get('start_datetime'),\n",
    "    crs= \"EPSG3857\",\n",
    "    opacity = 0.6,\n",
    "    colormap_name = \"\".join(\n",
    "    c.upper() if i % 2 == 0 else c.lower()\n",
    "    for i, c in enumerate(cmap_name)\n",
    ")\n",
    ")\n",
    "\n",
    "# In a Jupyter notebook, simply display `m`:\n",
    "m"
   ]
  },
  {
   "cell_type": "markdown",
   "id": "a3e5f5d3-5aab-45d4-93ac-1e9f0ebc5a9c",
   "metadata": {},
   "source": [
    "<div class=\"alert alert-block alert-warning\">\n",
    "<h2><strong>Example:</strong> Retrieve MERRA-2 hourly files for Aerosol Optical Thickness</h2>\n",
    "\n",
    "Aerosol Optical Thickness (AOT), also called Aerosol Optical Depth (AOD), is a dimensionless measure of how much sunlight aerosols—tiny particles like dust, smoke or sea salt—scatter and absorb as it travels through a column of atmosphere. In practical terms, an AOT of 0.1 means only 10 % of the direct solar beam is extinguished by aerosols before reaching the surface.\n",
    "\n",
    "The intense straight-line winds in derechos can uplift large quantities of soil and dust, dramatically increasing AOT downwind. Tracking AOT in near-real-time reveals the spatial extent and intensity of these airborne dust plumes.\n",
    "</div>\n"
   ]
  },
  {
   "cell_type": "markdown",
   "id": "c4851cb9-1d4c-4a4b-a5da-68fa9df5f13c",
   "metadata": {},
   "source": [
    "### Processing steps:\n",
    "1.) Select a start and end date for the data granules<br />\n",
    "2.) Add the bucket name from EarthData portal<br />\n",
    "3.) Add the prefix for the data within the bucket (e.g., remote sensing mission, reanalysis model, etc.)<br />\n",
    "4.) Retrive all files within the collection based on the start and end date. (If the same year is selected for start_date and end_date, then only the common year will be retrieved. Else all granules are retrived.<br />\n",
    "5.) Filter all collected granules based on the start_ and end_date range.<br />\n",
    "6.) Plot variable based on coordinates selected<br />\n",
    "7.) Create a .gif over the start_ and end_date range"
   ]
  },
  {
   "cell_type": "markdown",
   "id": "e89209ab-752a-473f-922c-67d9ecd38712",
   "metadata": {},
   "source": [
    "### Select and filter"
   ]
  },
  {
   "cell_type": "code",
   "execution_count": null,
   "id": "f5ad4006-7888-468d-8833-647169023137",
   "metadata": {},
   "outputs": [],
   "source": [
    "#Only subset data within a single year\n",
    "start_date = datetime.datetime(2022, 5, 12)\n",
    "end_date = datetime.datetime(2022, 5, 12)\n",
    "date_array = pd.date_range(start=start_date, end=end_date, freq='D').to_pydatetime()\n",
    "\n",
    "bucket_name = \"gesdisc-cumulus-prod-protected\"\n",
    "prefix = \"MERRA2/M2T1NXAER.5.12.4\"\n",
    "\n",
    "#Don't get all of the data links if we don't have too. Only chooses a single year if the start_ and end_dates are in the same year\n",
    "prefix = f'{prefix}/{start_date.year}' if (start_date.year) == (end_date.year) else prefix\n",
    "\n",
    "#Download all links for either a specific year or for all years\n",
    "all_links = rutils.list_files(bucket_name=bucket_name,\n",
    "                     prefix = prefix,\n",
    "                     region = \"us-west-2\",\n",
    "                     file_extension = \".nc4\")\n",
    "\n",
    "\n",
    "#Subset the data based on the start_date and end_date to reduce number of processes\n",
    "filtered_keys = []\n",
    "\n",
    "for key in all_links:\n",
    "    # Example: extract \"20220401\" from filename\n",
    "    date_str = key.split('.')[-2]  # A20220401 -> 20220401\n",
    "    file_date = datetime.datetime.strptime(date_str, \"%Y%m%d\")\n",
    "    \n",
    "    if start_date <= file_date <= end_date:\n",
    "        filtered_keys.append(key)\n",
    "\n",
    "print(f\"Filtered to {len(filtered_keys)} files between {start_date.strftime(\"%B\")} {start_date.day} and {end_date.strftime(\"%B\")} {end_date.day}, {end_date.year}.\")\n",
    "\n"
   ]
  },
  {
   "cell_type": "code",
   "execution_count": null,
   "id": "82c07838-f526-4e6c-9831-e9f24fa0ee1a",
   "metadata": {},
   "outputs": [],
   "source": [
    "variable = 'TOTEXTTAU' #Total aerosol extinction optical thickness\n",
    "\n",
    "# Compute daily mean for all variables within each file\n",
    "# Assume `filtered_keys` is your list of S3 paths (.nc4 files)\n",
    "merra_datasets = rutils.load_datasets_from_keys(\n",
    "    bucket_name = bucket_name,\n",
    "    region_name = \"us-west-2\",\n",
    "    file_keys=filtered_keys,\n",
    "    variable = variable,\n",
    "    data_source = 'MERRA'\n",
    ")\n",
    "print(list(merra_datasets.keys())[0])\n"
   ]
  },
  {
   "cell_type": "code",
   "execution_count": null,
   "id": "edf7521e-c88a-49a8-91cd-99597a6e6e89",
   "metadata": {},
   "outputs": [],
   "source": [
    "# Currently each day is its own key\n",
    "merra_datasets"
   ]
  },
  {
   "cell_type": "code",
   "execution_count": null,
   "id": "9c7b1983-a315-45dc-9f2b-57d4c096dd2b",
   "metadata": {},
   "outputs": [],
   "source": [
    "#Only grab the first object in the dictionary\n",
    "single_date = merra_datasets.get(list(merra_datasets.keys())[0])[0]"
   ]
  },
  {
   "cell_type": "markdown",
   "id": "adc6e0a3-7beb-4247-a204-b508854b28e1",
   "metadata": {},
   "source": [
    "### Plot"
   ]
  },
  {
   "cell_type": "code",
   "execution_count": null,
   "id": "f0eea906-3c22-4857-bc71-3dcae147ffe4",
   "metadata": {},
   "outputs": [],
   "source": [
    "# Usage:\n",
    "putils.matplotlib_gif(data=single_date[variable],\n",
    "               bbox= [-110, 30, -90, 40],\n",
    "               gif_savename= \"merra_aot_matplotlib.gif\",\n",
    "               duration=2,\n",
    "               cmap=\"YlOrRd_r\")\n"
   ]
  },
  {
   "cell_type": "markdown",
   "id": "6beb735a-ae67-44c2-a122-34f0143affcd",
   "metadata": {},
   "source": [
    "## Retrieve and plot MODIS Aerosol Optical Depth"
   ]
  },
  {
   "cell_type": "markdown",
   "id": "9bb134f2-47c7-4403-8925-067633fc6226",
   "metadata": {},
   "source": [
    "<div class=\"alert alert-block alert-warning\">\n",
    "<h2><strong>Example:</strong> Pull MODIS Aerosol Optical Depth data from the VEDA STAC catalog and visualize</h2>\n",
    "</div>\n"
   ]
  },
  {
   "cell_type": "code",
   "execution_count": null,
   "id": "95a156b0-e489-4f58-bb56-684b1c0685b6",
   "metadata": {},
   "outputs": [],
   "source": [
    "collection_modis = 'modis-derecho'\n",
    "date = \"2022-05-12\"\n",
    "\n",
    "collection = veda.get_collection(STAC_API_URL, collection_modis)\n",
    "collection\n",
    "\n",
    "items = veda.search_stac_features(stac_api_url=STAC_API_URL,\n",
    "                               collection_id=collection_modis,\n",
    "                               date=date,\n",
    "                               limit=100)\n",
    "\n",
    "print(f\"Number of collection items found: {len(items)}\")\n",
    "item = items[0] #only return the first item"
   ]
  },
  {
   "cell_type": "code",
   "execution_count": null,
   "id": "83494d69-1830-493a-bbdb-23b1f6cffea8",
   "metadata": {},
   "outputs": [],
   "source": [
    "#Collection render information to display like the VEDA story\n",
    "dashboard_rend, bands, asset_keys, vmin, vmax, cmap_name = veda.return_render_information(collection)\n",
    "\n",
    "\n",
    "tiles = veda.get_raster_tilejson(raster_api_url = RASTER_API_URL,\n",
    "                                 collection_id = collection_modis,\n",
    "                                 item = item,\n",
    "                                 rescale = (vmin, vmax),\n",
    "                                 assets = asset_keys[0],\n",
    "                                 color_formula = \"gamma+r+1.05\",\n",
    "                                 colormap_name = cmap_name\n",
    "                                )\n",
    "                                 \n",
    "\n",
    "\n",
    "tiles"
   ]
  },
  {
   "cell_type": "code",
   "execution_count": null,
   "id": "60267b59-3589-46f3-adc0-85b58d31e5e9",
   "metadata": {},
   "outputs": [],
   "source": [
    "# Example usage:\n",
    "tiles_url = tiles[\"tiles\"][0]  # from your TileJSON\n",
    "lat_min, lon_min, lat_max, lon_max = 35, -100, 50, -85\n",
    "center = ((lat_min + lat_max) / 2, (lon_min + lon_max) / 2)\n",
    "\n",
    "m = putils.plot_folium_from_STAC_with_legend(\n",
    "    tiles_url=tiles_url,\n",
    "    vmin = vmin,\n",
    "    vmax = vmax,\n",
    "    center=center,\n",
    "    zoom_start=7,\n",
    "    width=\"100%\",\n",
    "    height=\"800px\",\n",
    "    attribution=\"VEDA\",\n",
    "    layer_name=\"MODIS AOD\",\n",
    "    day_select = item['properties'].get('datetime'),\n",
    "    crs= \"EPSG3857\",\n",
    "    opacity = 0.7,\n",
    "    colormap_name = \"\".join(\n",
    "    c.upper() if i % 2 == 0 else c.lower()\n",
    "    for i, c in enumerate(cmap_name)\n",
    ")\n",
    ")\n",
    "\n",
    "# In a Jupyter notebook, simply display `m`:\n",
    "m"
   ]
  },
  {
   "cell_type": "markdown",
   "id": "8af64d82-ae4b-4658-8fcf-ef7e7b246d81",
   "metadata": {},
   "source": [
    "<div class=\"alert alert-block alert-warning\">\n",
    "<h2><strong>Example:</strong> Pull NCEI interpolated wind gusts data from the VEDA STAC catalog and visualize.</h2>\n",
    "    \n",
    "The NCEI Interpolated Wind Gusts product takes the discrete station‐reported peak wind gusts from the NCEI Storm Events Database—a standardized archive of severe‐weather observations dating back to 1950—and uses spatial interpolation to generate a continuous gridded field of maximum gust speeds across the derecho swath. \n",
    "\n",
    "By filling in the gaps between point measurements, it reveals the full geographic extent and intensity gradients of the derecho’s outflow winds, often uncovering zones of extreme gust (e.g., 70 mph +) that lie between and beyond individual station sites. \n",
    "\n",
    "</div>\n"
   ]
  },
  {
   "cell_type": "code",
   "execution_count": null,
   "id": "88cd930e-5817-4637-a99d-0730a57dec36",
   "metadata": {},
   "outputs": [],
   "source": [
    "collection_wind = 'windgusts-derecho'\n",
    "date = \"2022-05-12\"\n",
    "collection = veda.get_collection(STAC_API_URL, collection_wind)\n",
    "collection\n",
    "\n",
    "items = veda.search_stac_features(stac_api_url=STAC_API_URL,\n",
    "                               collection_id=collection_wind,\n",
    "                               date=date,\n",
    "                               limit=100)\n",
    "\n",
    "print(f\"Number of collection items found: {len(items)}\")\n",
    "item = items[0] #only return the first item"
   ]
  },
  {
   "cell_type": "code",
   "execution_count": null,
   "id": "26b88299-0d27-49bb-a5bc-d597a6eeabe0",
   "metadata": {},
   "outputs": [],
   "source": [
    "#Collection render information to display like the VEDA story\n",
    "dashboard_rend, bands, asset_keys, vmin, vmax, cmap_name = veda.return_render_information(collection)\n",
    "\n",
    "\n",
    "tiles = veda.get_raster_tilejson(raster_api_url = RASTER_API_URL,\n",
    "                                 collection_id = collection_wind,\n",
    "                                 item = item,\n",
    "                                 rescale = (vmin, vmax),\n",
    "                                 assets = asset_keys[0],\n",
    "                                 color_formula = \"gamma+r+1.05\",\n",
    "                                 colormap_name = cmap_name\n",
    "                                )\n",
    "                                 \n",
    "\n",
    "\n",
    "tiles"
   ]
  },
  {
   "cell_type": "code",
   "execution_count": null,
   "id": "ff7ce218-f71a-472c-975f-95b4d46e4e5a",
   "metadata": {},
   "outputs": [],
   "source": [
    "# Example usage:\n",
    "tiles_url = tiles[\"tiles\"][0]  # from your TileJSON\n",
    "lat_min, lon_min, lat_max, lon_max = 35, -105, 50, -90\n",
    "center = 43.8250, -97.7\n",
    "\n",
    "m = putils.plot_folium_from_STAC_with_legend(\n",
    "    tiles_url=tiles_url,\n",
    "    vmin = vmin,\n",
    "    vmax = vmax,\n",
    "    center=center,\n",
    "    zoom_start=7,\n",
    "    width=\"100%\",\n",
    "    height=\"800px\",\n",
    "    attribution=\"VEDA\",\n",
    "    layer_name=\"Windgusts\",\n",
    "    day_select = item['properties'].get('datetime'),\n",
    "    crs= \"EPSG3857\",\n",
    "    opacity = 0.7,\n",
    "    colormap_name = \"\".join(\n",
    "    c.upper() if i % 2 == 0 else c.lower()\n",
    "    for i, c in enumerate(cmap_name)\n",
    ")\n",
    ")\n",
    "\n",
    "# In a Jupyter notebook, simply display `m`:\n",
    "m"
   ]
  },
  {
   "cell_type": "markdown",
   "id": "089ceb67-22bf-4f3c-96a8-50c196fff2d5",
   "metadata": {},
   "source": [
    "<div class=\"alert alert-block alert-warning\">\n",
    "<h2><strong>Example:</strong> Pull Black Marble Night Lights data from the VEDA STAC catalog and visualize.</h2>\n",
    "\n",
    "During extreme windstorms such as derechos, sudden drops in nighttime brightness in the Black Marble imagery reveal where power infrastructure has failed and outages have occurred, while the re-illumination of areas over subsequent days tracks the pace and extent of electrical service restoration. This makes Black Marble a powerful, near-real-time proxy for assessing societal impacts and grid resilience in the storm’s wake.\n",
    "</div>\n"
   ]
  },
  {
   "cell_type": "code",
   "execution_count": null,
   "id": "97af23f1-7204-47f9-8a1b-6b21916cfd15",
   "metadata": {},
   "outputs": [],
   "source": [
    "collection_nightlights = 'nightlights-derecho'\n",
    "date = \"2022-05-10\"\n",
    "\n",
    "collection = veda.get_collection(STAC_API_URL, collection_nightlights)\n",
    "collection\n",
    "\n",
    "items = veda.search_stac_features(stac_api_url=STAC_API_URL,\n",
    "                               collection_id=collection_nightlights,\n",
    "                               date=date,\n",
    "                               limit=100)\n",
    "\n",
    "print(f\"Number of collection items found: {len(items)}\")\n",
    "item = items[0] #only return the first item"
   ]
  },
  {
   "cell_type": "code",
   "execution_count": null,
   "id": "c991a66f-7055-473d-8f33-bcd4b7b81392",
   "metadata": {},
   "outputs": [],
   "source": [
    "#Collection render information to display like the VEDA story\n",
    "dashboard_rend, bands, asset_keys, vmin, vmax, cmap_name = veda.return_render_information(collection)\n",
    "\n",
    "\n",
    "tiles = veda.get_raster_tilejson(raster_api_url = RASTER_API_URL,\n",
    "                                 collection_id = collection_nightlights,\n",
    "                                 item = item,\n",
    "                                 rescale = (vmin,vmax),\n",
    "                                 assets = asset_keys[0],\n",
    "                                 color_formula = \"gamma+r+1.05\",\n",
    "                                 colormap_name = cmap_name\n",
    "                                )\n",
    "                                 \n",
    "\n",
    "\n",
    "tiles"
   ]
  },
  {
   "cell_type": "code",
   "execution_count": null,
   "id": "3cfd7fe5-276b-4d3c-976a-ec014f7e64f7",
   "metadata": {},
   "outputs": [],
   "source": [
    "# Example usage:\n",
    "tiles_url = tiles[\"tiles\"][0]  # from your TileJSON\n",
    "lat_min, lon_min, lat_max, lon_max = 35, -105, 50, -90\n",
    "center = 43.55,-96.94\n",
    "\n",
    "m = putils.plot_folium_from_STAC_with_legend(\n",
    "    tiles_url=tiles_url,\n",
    "    vmin = vmin,\n",
    "    vmax = vmax,\n",
    "    center=center,\n",
    "    zoom_start=10,\n",
    "    width=\"100%\",\n",
    "    height=\"800px\",\n",
    "    attribution=\"VEDA\",\n",
    "    layer_name=\"Black Marble Night Lights\",\n",
    "    day_select = item['properties'].get('datetime'),\n",
    "    crs= \"EPSG3857\",\n",
    "    colormap_name = cmap_name,\n",
    "    opacity = 0.7\n",
    ")\n",
    "\n",
    "# In a Jupyter notebook, simply display `m`:\n",
    "m"
   ]
  },
  {
   "cell_type": "markdown",
   "id": "ba192aa4-6fe4-42f6-bad1-b5ded0b205f4",
   "metadata": {},
   "source": [
    "## The economic impact reached beyond the crop fields. Many grain silos, irrigation systems, and farm buildings were also damaged or destroyed, adding to the financial burden on farmers.  See image below to identify crop types across the Midwest and the Storm Prediction Center reports across the Midwest.\n",
    "\n",
    "### Use the slider below to investigate the crop-land type and the extreme weather reports across the Midwest."
   ]
  },
  {
   "cell_type": "code",
   "execution_count": null,
   "id": "e6d8cd6d-ffb9-480b-8500-2142a753e729",
   "metadata": {},
   "outputs": [],
   "source": [
    "putils.plotly_dual_slider_window(image1_path=\"images/derecho/Derecho-Crop.jpg\",\n",
    "                                    image2_path=\"images/derecho/Derecho-storm-reports.jpg\",\n",
    "                                    target_width=800,\n",
    "                                    fig_width=800,\n",
    "                                    fig_height=600)"
   ]
  },
  {
   "cell_type": "markdown",
   "id": "6d6bf531-31e9-493a-b06b-c342445b7d23",
   "metadata": {},
   "source": [
    "<div class=\"alert alert-block alert-warning\">\n",
    "<h2><strong>Example:</strong> Pull Global Precipitation Measurement data through the Common Metadata Repository (CMR) STAC API.</h2>\n",
    "\n",
    "NASA's Global Precipitation Measurement Mission (GPM) uses satellites to measure Earth's rain and snowfall for the benefit of mankind. Launched by NASA and JAXA on Feb. 27th, 2014, GPM is an international mission that sets the standard for spaceborne precipitation measurements.\n",
    "</div>\n"
   ]
  },
  {
   "cell_type": "code",
   "execution_count": null,
   "id": "2c4068ce-ed34-49e0-a94e-547ef32c8614",
   "metadata": {},
   "outputs": [],
   "source": [
    "# GENERATED USING https://dev-titiler-cmr.delta-backend.com/api.html#/TileJSON/tilejson_endpoint__tileMatrixSetId__tilejson_json_get\n",
    "\n",
    "#Specific for May 05, 2022\n",
    "tilejson_url = 'https://dev-titiler-cmr.delta-backend.com/tiles/WebMercatorQuad/{z}/{x}/{y}@1x?concept_id=C2723754864-GES_DISC&datetime=2022-05-12T09%3A00%3A00Z&variable=precipitation&backend=xarray&colormap_name=blues&rescale=0%2C48'"
   ]
  },
  {
   "cell_type": "code",
   "execution_count": null,
   "id": "541d17f4-d9c6-4172-a96e-f1a5602ea01a",
   "metadata": {},
   "outputs": [],
   "source": [
    "center= 43.55,-96.94\n",
    "\n",
    "m = putils.plot_folium_from_STAC_with_legend(\n",
    "    tiles_url=tilejson_url,\n",
    "    vmin = 0,\n",
    "    vmax = 46,\n",
    "    center= center,\n",
    "    zoom_start=4,\n",
    "    width=\"100%\",\n",
    "    height=\"800px\",\n",
    "    attribution=\"VEDA\",\n",
    "    layer_name=\"GPM Imerge Precipitation\",\n",
    "    day_select = \"2022-05-12\",\n",
    "    crs= \"EPSG3857\",\n",
    "    colormap_name = \"Blues\",\n",
    "    opacity = 0.6,\n",
    ")\n",
    "\n",
    "m\n"
   ]
  },
  {
   "cell_type": "markdown",
   "id": "bc7e7ac4-f443-466b-9cfc-c58ebe6c9fa5",
   "metadata": {},
   "source": [
    "<div class=\"alert alert-block alert-danger\">\n",
    "<h2><strong>End of visualizations</strong>\n",
    "</div>\n"
   ]
  },
  {
   "cell_type": "code",
   "execution_count": null,
   "id": "7cbbfd07-2c77-4d56-961d-0cbd44961995",
   "metadata": {},
   "outputs": [],
   "source": [
    "# Remove created .gifs\n",
    "import os\n",
    "import glob\n",
    "\n",
    "# find all .gif files in the current directory\n",
    "for gif_path in glob.glob(\"*.gif\"):\n",
    "    try:\n",
    "        os.remove(gif_path)\n",
    "        print(f\"Removed {gif_path}\")\n",
    "    except OSError as e:\n",
    "        print(f\"Error removing {gif_path}: {e}\")\n"
   ]
  },
  {
   "cell_type": "code",
   "execution_count": null,
   "id": "1a90b0d2-c713-4ad5-af29-5c2972b3ef2d",
   "metadata": {},
   "outputs": [],
   "source": []
  }
 ],
 "metadata": {
  "colab": {
   "provenance": []
  },
  "kernelspec": {
   "display_name": "Python 3 (ipykernel)",
   "language": "python",
   "name": "python3"
  },
  "language_info": {
   "codemirror_mode": {
    "name": "ipython",
    "version": 3
   },
   "file_extension": ".py",
   "mimetype": "text/x-python",
   "name": "python",
   "nbconvert_exporter": "python",
   "pygments_lexer": "ipython3",
   "version": "3.12.7"
  }
 },
 "nbformat": 4,
 "nbformat_minor": 5
}
