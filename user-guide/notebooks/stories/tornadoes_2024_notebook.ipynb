{
 "cells": [
  {
   "cell_type": "raw",
   "id": "95829697",
   "metadata": {
    "vscode": {
     "languageId": "raw"
    }
   },
   "source": [
    "---\n",
    "title: The Hyperactive Spring 2024 Tornado Season\n",
    "description: A detailed overview of the historic season.\n",
    "author:\n",
    "  - Andrew Blackford (UAH), Trent Cowan (UAH), Udaysankar Nair (UAH), Josh Wurman (CSU), Karen Kosiba (CSU), David Roueche (AU), Catherine Finley (UND), and Jana Houser (OSU)\n",
    "  - Andrew Blackford and Kyle Lesinger (editors)\n",
    "date: August 13, 2025\n",
    "execute:\n",
    "   freeze: true\n",
    "---"
   ]
  },
  {
   "cell_type": "markdown",
   "id": "a6d13686-de54-418d-bc10-3c18a24c4eb3",
   "metadata": {},
   "source": [
    "# Run This Notebook"
   ]
  },
  {
   "cell_type": "markdown",
   "id": "62f07d98-ab10-4ee2-a9d4-1df971949bfb",
   "metadata": {},
   "source": [
    "<h3><a href=\"https://hub.openveda.cloud/hub/user-redirect/git-pull?repo=https://github.com/NASA-IMPACT/veda-docs&urlpath=lab/tree/veda-docs/user-guide/notebooks/stories/tornadoes_2024_notebook.ipynb&branch=main\">🚀 Launch in VEDA JupyterHub (requires access)</a></h3>\n",
    "\n",
    "<h4> To obtain credentials to VEDA Hub, <a href = \"https://docs.openveda.cloud/user-guide/scientific-computing/getting-access.html\"> follow this link for more information.</a></h4>"
   ]
  },
  {
   "cell_type": "markdown",
   "id": "2136d645-0cab-4139-ab64-02608cdd83d9",
   "metadata": {},
   "source": [
    "<div class=\"alert alert-block\" style=\"\n",
    "     background-color: #f8d7da;\n",
    "     color: #721c24;\n",
    "     border-left: 4px solid #28a745;\n",
    "  \">\n",
    "Disclaimer: it is highly recommended to run a tutorial within NASA VEDA JupyterHub, which already includes functions for processing and visualizing data specific to VEDA stories. Running the tutorial outside of the VEDA JupyterHub may lead to errors, specifically related to EarthData authentication. Additionally, it is recommended to use the Pangeo workspace within the VEDA JupyterHub, since certain packages relevant to this tutorial are already installed. </div>\n",
    "\n",
    "<h4> If you <strong>do not</strong> have a VEDA Jupyterhub Account you can launch this notebook on your local environment using MyBinder by clicking the icon below.</h4>\n",
    "<br/>\n",
    "<a href=\"https://binder.openveda.cloud/v2/gh/NASA-IMPACT/veda-docs/9c8cdbae92906fb7062b8a0c759dad90e223a4f9?urlpath=lab%2Ftree%2Fuser-guide%2Fnotebooks%2Fstories%2Fderechos.ipynb\">\n",
    "<img src=\"https://binder.openveda.cloud/badge_logo.svg\" alt=\"Binder\" title=\"A cute binder\" width=\"150\"/> </a>"
   ]
  },
  {
   "cell_type": "markdown",
   "id": "0b0c26b2-a344-4b0c-924c-3fee3960a6b7",
   "metadata": {},
   "source": [
    "## Environment Setup"
   ]
  },
  {
   "cell_type": "code",
   "execution_count": null,
   "id": "fbad9700-ce5d-4210-9c58-f9204917b7ab",
   "metadata": {},
   "outputs": [],
   "source": [
    "# Load libraries\n",
    "#!pip install -q earthaccess pandas xarray fsspec requests branca pystac_client matplotlib\n",
    "\n",
    "import glob\n",
    "import os\n",
    "import requests\n",
    "import matplotlib as mpl\n",
    "import matplotlib.pyplot as plt\n",
    "import plotutils as putils\n",
    "from pystac_client import Client\n",
    "import folium"
   ]
  },
  {
   "cell_type": "code",
   "execution_count": null,
   "id": "1aafe340",
   "metadata": {},
   "outputs": [],
   "source": [
    "import importlib\n",
    "importlib.reload(putils)"
   ]
  },
  {
   "cell_type": "code",
   "execution_count": null,
   "id": "8fc9234c-975b-485d-bfb3-d9100ff3b12d",
   "metadata": {},
   "outputs": [],
   "source": [
    "# For retrieving data already catalogued in VEDA STAC\n",
    "STAC_API_URL = \"https://openveda.cloud/api/stac\"\n",
    "RASTER_API_URL = \"https://openveda.cloud/api/raster\"\n",
    "\n",
    "# Open STAC client designed for interacting with SpatioTemporal Asset Catalog (STAC) APIs and Catalogs\n",
    "client_STAC = Client.open(STAC_API_URL)"
   ]
  },
  {
   "cell_type": "markdown",
   "id": "6b9c9d7d-f5cc-49e7-b58a-8c7bb5b9d751",
   "metadata": {},
   "source": [
    "## Overview\n",
    "\n",
    "The Spring 2024 tornado season was one of the most active on record in the United States. As of May 31st, there were 1,176 tornadoes confirmed in the United States. The vast majority of these occurred in the meteorological spring months of March-May, placing this period within the 90th percentile of activity compared to climatological averages. This three-month period was responsible for 36 fatalities, hundreds of injuries, and was the second most prolific tornado season since at least 1950–second only to the deadly 2011 tornado season. Through the end of May, severe thunderstorms alone accounted for nearly 42 billion dollars (USD) in damage across the United States, with four tornado outbreaks during the spring attributing over $1 billion in damage each. Four tornadoes were rated violent EF-4s on the Enhanced Fujita Scale with wind speeds from 166-200 mph, and 27 were rated as intense EF-3s with wind speeds from 136-165 mph.\n",
    "\n",
    "The National Weather Service (NWS) issued 1,728 tornado warnings across the United States from March to May, with several of these being upgraded to Particularly Dangerous Situation (PDS) Tornado Warnings if confirmed to be large and actively damaging structures. An even smaller subset was upgraded further from PDS to Tornado Emergencies if the tornado was confirmed to be large and was directly threatening a larger population center. As a result, millions of Americans were impacted by tornado warnings during the Spring of 2024, with the vast majority of counties in the Midwest, Southeast, and Southern Great Plains seeing a warning at least once during the three-month period. Compared to average spring severe weather seasons, the Southeast United States saw a less active season, while the Great Plains and Midwest saw a more active season."
   ]
  },
  {
   "cell_type": "markdown",
   "id": "4d361505-c25b-4bd8-b85c-8b8ecf817710",
   "metadata": {},
   "source": [
    "# Example: NWS DAT Tornado Tracks (March-May 2024)\n"
   ]
  },
  {
   "cell_type": "markdown",
   "id": "72e56206-4827-4ac2-bbaf-62d8bf6bd234",
   "metadata": {},
   "source": [
    "This example pulls tornado paths from March-May 2024 via the VEDA STAC catalog and visualize. These tornado tracks were rasterized from the NWS Damage Assessment Toolkit (DAT), which is a geographic information system (GIS)-hosted dataset where post-storm damage survey results are uploaded and referenced to the location where each description of damage occurred. This dataset includes center lines of all tornado tracks, polygons that break down the EF rating at each point along the path, descriptions of the damage at each survey location, and ground damage pictures of the damage at most entry points.\n"
   ]
  },
  {
   "cell_type": "markdown",
   "id": "9851b652-08f7-48e2-9cf7-46cd0a255550",
   "metadata": {},
   "source": [
    "## Processing steps:\n",
    "1.) Choose STAC catalog ID and date<br />\n",
    "2.) Retrieve collection information and items from VEDA STAC catalog<br />\n",
    "3.) Retrieve item statistics and tiling information<br />\n",
    "4.) Plot data<br />"
   ]
  },
  {
   "cell_type": "markdown",
   "id": "f9058bf8-9a35-4265-a848-11bfa630b8d7",
   "metadata": {},
   "source": [
    "## Choose variable and retrieve json from VEDA STAC catalogue"
   ]
  },
  {
   "cell_type": "code",
   "execution_count": null,
   "id": "f1ef497a-4fa7-499c-8237-21f4cad1d45b",
   "metadata": {},
   "outputs": [],
   "source": [
    "# TODO: Change collection_ID and date\n",
    "collection_id = \"tornadoes-2024-paths\"\n",
    "date = \"2024-05-31\"\n",
    "\n",
    "results = client_STAC.search(collections=[collection_id], datetime=date)\n",
    "\n",
    "# ── VEDA Collection Request ─────────────────────────────────────────────────────────────────────────────────────\n",
    "\n",
    "items = list(results.items())\n",
    "assert len(items) != 0, \"No items found\"\n",
    "item = items[0]\n",
    "collection = item.get_collection()\n",
    "\n",
    "# grab the dashboard render block\n",
    "dashboard_render = collection.extra_fields[\"renders\"][\"dashboard\"]\n",
    "\n",
    "assets = dashboard_render[\"assets\"][0]\n",
    "# Use the same information as tornado paths for vmin and vmax range\n",
    "(vmin, vmax) = (0,6)\n",
    "\n",
    "collection"
   ]
  },
  {
   "cell_type": "code",
   "execution_count": null,
   "id": "b3bafa71-607c-49cc-9e5f-8f3d2f882410",
   "metadata": {},
   "outputs": [],
   "source": [
    "# ── VEDA Tile Request ─────────────────────────────────────────────────────────────\n",
    "colormap_name = \"tornado_ef_scale\"\n",
    "\n",
    "# Build endpoint URL. Do not add rescale parameters with discrete data\n",
    "response = requests.get(\n",
    "    f\"{RASTER_API_URL.rstrip('/')}/collections/{collection_id}\"\n",
    "    f\"/items/{item.id}/WebMercatorQuad/tilejson.json?\"\n",
    "    f\"&assets={assets}\"\n",
    "    f\"&colormap_name={colormap_name}\"\n",
    ")\n",
    "\n",
    "response.raise_for_status()\n",
    "\n",
    "tiles = response.json()\n",
    "print(tiles)"
   ]
  },
  {
   "cell_type": "markdown",
   "id": "4580703c-269a-4368-99ba-b2e140314b46",
   "metadata": {},
   "source": [
    "## Plot data"
   ]
  },
  {
   "cell_type": "code",
   "execution_count": null,
   "id": "9d17e195",
   "metadata": {},
   "outputs": [],
   "source": [
    "# First we will present the different basemaps that we have access to underlay beneath our tile requests\n",
    "# For the first map, we will utilize the 'esri-satellite-labels' map layer\n",
    "putils.get_available_basemaps()"
   ]
  },
  {
   "cell_type": "code",
   "execution_count": null,
   "id": "9af1c710-0423-4d3e-9c93-4fff13d1dab5",
   "metadata": {},
   "outputs": [],
   "source": [
    "# Define EF scale categories with specific colors to replicate predefined colorscale in VEDA backend. \n",
    "# Colors have been predifined in veda-backend https://github.com/NASA-IMPACT/veda-backend/tree/develop/raster_api/runtime/src/cmap_data#tornadoes-colormap\n",
    "\n",
    "ef_categories = [\n",
    "    {\"color\": \"#add8e6\", \"label\": \"EF0\", \"value\": 0},  # Light blue\n",
    "    {\"color\": \"#90ee90\", \"label\": \"EF1\", \"value\": 1},  # Green\n",
    "    {\"color\": \"#ffe71f\", \"label\": \"EF2\", \"value\": 2},  # Yellow\n",
    "    {\"color\": \"#ffa500\", \"label\": \"EF3\", \"value\": 3},  # Orange\n",
    "    {\"color\": \"#ff0000\", \"label\": \"EF4\", \"value\": 4},  # Red\n",
    "    {\"color\": \"#ff00ff\", \"label\": \"EF5\", \"value\": 5},  # Pink\n",
    "    {\"color\": \"#b3bcc9\", \"label\": \"EFU\", \"value\": 6}   # Gray-blue (Unknown)\n",
    "]\n",
    "\n",
    "# Extract colors from ef_categories\n",
    "ef_colors = [cat[\"color\"] for cat in ef_categories]\n",
    "n_bins = len(ef_colors)\n",
    "\n",
    "# Create a discrete colormap\n",
    "cmap_tornado = mpl.colors.ListedColormap(ef_colors, name='tornado_ef_scale')\n",
    "\n",
    "\n",
    "# Register the colormap with matplotlib using the new method [for newer matplotlib versions (3.5+)]\n",
    "try:\n",
    "    plt.colormaps.register(cmap_tornado)\n",
    "except ValueError:\n",
    "    pass #Custom colormap scale already applied. This is necessary if you re-run this cell block.\n",
    "\n",
    "m = putils.plot_folium_from_VEDA_STAC(\n",
    "    tiles_url_template=tiles[\"tiles\"][0],\n",
    "    center_coords=[41.31, -94.46],\n",
    "    zoom_level=10,\n",
    "    rescale=(vmin, vmax),\n",
    "    colormap_name='tornado_ef_scale',\n",
    "    custom_colors=ef_categories,\n",
    "    capitalize_cmap=False,\n",
    "    layer_name=\"Tornado Tracks\",\n",
    "    date=\"(March-May 2024)\",\n",
    "    colorbar_caption=\"EF Rating\",\n",
    "    attribution=\"VEDA - NWS DAT Tornado Tracks\",\n",
    "    tile_name=\"Tornado Tracks (March-May 2024)\",\n",
    "    opacity=0.8,\n",
    "    height=\"800px\",\n",
    "    remove_default_legend=False,  # Only show custom legend\n",
    "    basemap_style=\"esri-satellite-labels\"  # Use ESRI satellite with city/town labels\n",
    ")\n",
    "\n",
    "# Display the map\n",
    "m"
   ]
  },
  {
   "cell_type": "markdown",
   "id": "841fb116-8103-44b8-b897-cf5d10ac54a1",
   "metadata": {},
   "source": [
    "# Example: NWS Tornado Polygons (March-May 2024)\n",
    "\n",
    "Pull the NWS Tornado Polygon data from the VEDA STAC catalog and visualize\n"
   ]
  },
  {
   "cell_type": "code",
   "execution_count": null,
   "id": "965db310-ee99-4af3-96a8-00e63854351d",
   "metadata": {},
   "outputs": [],
   "source": [
    "# TODO: Change collection_ID and date\n",
    "collection_id = \"tornadoes-2024-polygons\"\n",
    "date = \"2024-05-31\"\n",
    "\n",
    "results = client_STAC.search(collections=[collection_id], datetime=date)\n",
    "\n",
    "# ── VEDA Collection Request ─────────────────────────────────────────────────────────────────────────────────────\n",
    "\n",
    "items = list(results.items())\n",
    "assert len(items) != 0, \"No items found\"\n",
    "item = items[0]\n",
    "collection = item.get_collection()\n",
    "\n",
    "# grab the dashboard render block\n",
    "dashboard_render = collection.extra_fields[\"renders\"][\"dashboard\"]\n",
    "\n",
    "assets = dashboard_render[\"assets\"][0]\n",
    "# Use 0-6 range to include EFU (Unknown) category (the same as the last map for tornado tracks)\n",
    "(vmin, vmax) = (0,6)\n",
    "\n",
    "collection"
   ]
  },
  {
   "cell_type": "code",
   "execution_count": null,
   "id": "bdba0ec8-aced-4a16-a5ad-e261aa586cfd",
   "metadata": {},
   "outputs": [],
   "source": [
    "# ── VEDA Tile Request ─────────────────────────────────────────────────────────────\n",
    "# Use the same tornado_ef_scale colormap for polygons\n",
    "colormap_name = \"tornado_ef_scale\"\n",
    "\n",
    "# Build endpoint URL - NO RESCALE for discrete categorical data\n",
    "response = requests.get(\n",
    "    f\"{RASTER_API_URL.rstrip('/')}/collections/{collection_id}\"\n",
    "    f\"/items/{item.id}/WebMercatorQuad/tilejson.json?\"\n",
    "    f\"&assets={assets}\"\n",
    "    f\"&colormap_name={colormap_name}\"\n",
    "    # Removed rescale completely - let the server use raw integer values\n",
    ")\n",
    "\n",
    "response.raise_for_status()\n",
    "\n",
    "tiles = response.json()\n",
    "tiles"
   ]
  },
  {
   "cell_type": "code",
   "execution_count": null,
   "id": "f6183652-36ca-4d4f-af4e-41070e813092",
   "metadata": {},
   "outputs": [],
   "source": [
    "# Create the base map using the unified function (ef_categories already defined above)\n",
    "# NOTE: Not passing rescale for discrete data\n",
    "m = putils.plot_folium_from_VEDA_STAC(\n",
    "    tiles_url_template=tiles[\"tiles\"][0],\n",
    "    center_coords=[40.50, -84.05],\n",
    "    zoom_level=12,\n",
    "    rescale=(vmin, vmax),\n",
    "    colormap_name='tornado_ef_scale',\n",
    "    custom_colors=ef_categories,\n",
    "    capitalize_cmap=False,\n",
    "    layer_name=\"Tornado Tracks [Polygons]\",\n",
    "    date=\"(March-May 2024)\",\n",
    "    colorbar_caption=\"EF Rating\",\n",
    "    attribution=\"VEDA - NWS DAT Tornado Polygons\",\n",
    "    tile_name=\"Tornado Tracks [Polygons] (March-May 2024)\",\n",
    "    opacity=0.8,\n",
    "    height=\"800px\",\n",
    "    remove_default_legend=True,  # Only show custom legend\n",
    "    basemap_style=\"esri-satellite-labels\"  # Use ESRI satellite with city/town labels\n",
    ")\n",
    "\n",
    "# Display the map\n",
    "m"
   ]
  },
  {
   "cell_type": "markdown",
   "id": "f2bfc2b9-27a1-4ec3-8bfa-e527ecc20a73",
   "metadata": {},
   "source": [
    "# Example: Black Marble Nightlights\n",
    "\n",
    "Pull the NASA Black Marble Nightlights data from from the VEDA STAC catalog and visualize\n"
   ]
  },
  {
   "cell_type": "markdown",
   "id": "257cac61-d592-4fa0-b7a7-3c14db93a9f0",
   "metadata": {},
   "source": [
    "NASA's Black Marble night lights dataset provides satellite images of Earth at night, capturing the light pollution from cities, roads, and other human activity. These images are collected by the Visible Infrared Imaging Radiometer Suite (VIIRS) sensor on the Suomi National Polar-orbiting Partnership (NPP) satellite, and can be used to examine changes in illumination over time. In this story, night lights data is used to assess changes before and after a tornado impacts a town, highlighting areas affected by power outages that may cause recovery slowdowns.\n"
   ]
  },
  {
   "cell_type": "code",
   "execution_count": null,
   "id": "d55ccd28-c8ba-47cf-bfd3-03c3a8cd5beb",
   "metadata": {},
   "outputs": [],
   "source": [
    "# TODO: Change collection_ID and date\n",
    "collection_id = \"lakeview-nightlights-tornadoes-2024\"\n",
    "date = \"2024-03-14\"\n",
    "\n",
    "results = client_STAC.search(collections=[collection_id], datetime=date)\n",
    "\n",
    "# ── VEDA Collection Request ─────────────────────────────────────────────────────────────────────────────────────\n",
    "\n",
    "items = list(results.items())\n",
    "assert len(items) != 0, \"No items found\"\n",
    "item = items[0]\n",
    "collection = item.get_collection()\n",
    "\n",
    "# grab the dashboard render block\n",
    "dashboard_render = collection.extra_fields[\"renders\"][\"dashboard\"]\n",
    "\n",
    "assets = dashboard_render[\"assets\"][0]\n",
    "((vmin, vmax),) = dashboard_render[\"rescale\"]\n",
    "\n",
    "collection"
   ]
  },
  {
   "cell_type": "code",
   "execution_count": null,
   "id": "6b3f9709-09bc-43ef-b3fd-d89f3c0cd5e9",
   "metadata": {},
   "outputs": [],
   "source": [
    "# ── VEDA Tile Request ─────────────────────────────────────────────────────────────────────────────────────\n",
    "#colormap_name = \"tornado_ef_scale\"\n",
    "colormap_name = \"bwr\"\n",
    "\n",
    "# Build endpoint URL without worrying about trailing slashes\n",
    "response = requests.get(\n",
    "    f\"{RASTER_API_URL.rstrip('/')}/collections/{collection_id}\"\n",
    "    f\"/items/{item.id}/WebMercatorQuad/tilejson.json?\"\n",
    "    f\"&assets={assets}\"\n",
    "    f\"&color_formula=gamma+r+1.05&colormap_name={colormap_name}\"\n",
    "    f\"&rescale={vmin},{vmax}\",\n",
    ")\n",
    "\n",
    "response.raise_for_status()\n",
    "\n",
    "tiles = response.json()\n",
    "print(tiles)"
   ]
  },
  {
   "cell_type": "code",
   "execution_count": null,
   "id": "f283977b-e862-4f2d-9032-414d974a35b4",
   "metadata": {},
   "outputs": [],
   "source": [
    "# Use the new plot_folium_from_VEDA_STAC function\n",
    "m = putils.plot_folium_from_VEDA_STAC(\n",
    "    tiles_url_template=tiles[\"tiles\"][0],\n",
    "    center_coords=[40.496, -83.884],\n",
    "    zoom_level=12.5,\n",
    "    rescale=(vmin, vmax),\n",
    "    colormap_name=colormap_name,\n",
    "    capitalize_cmap=False,  # to better match VEDA colors and matplotlib colors\n",
    "    layer_name=\"Black Marble Nightlights\",\n",
    "    date=f\"{date}T00:00:00Z\",\n",
    "    colorbar_caption=\"Artificial Light\",\n",
    "    attribution=\"VEDA Black Marble Nightlights\",\n",
    "    tile_name=\"Black Marble Nightlights\",\n",
    "    opacity=0.8,\n",
    "    height=\"800px\",\n",
    "    basemap_style=\"cartodb-dark\"  # Use dark basemap for better nightlight visibility\n",
    ")\n",
    "\n",
    "print(\n",
    "    \"Visualization of Indian Lake, Ohio showing large decreases in artificial light emissions after an EF-3 tornado on March 14, 2024.\"\n",
    ")\n",
    "# Display the map\n",
    "m"
   ]
  },
  {
   "cell_type": "markdown",
   "id": "77daa626-6096-41e3-b2cb-4398e1fe647f",
   "metadata": {},
   "source": [
    "# Example: DOW7 Base Reflectivity and Velocity (Radar)\n",
    "\n",
    "Pull the DOW7 radar data from from the VEDA STAC catalog and visualize using a side-by-side layer slider\n"
   ]
  },
  {
   "cell_type": "markdown",
   "id": "13ccdb69-68d4-459b-a9e6-1570aefd762b",
   "metadata": {},
   "source": [
    "The Doppler on Wheels (DOW) radar, which is mounted on vehicles and can get closer to storms, can be examined in cases where it was deployed in order to gather more detailed information than the NWS regional WSR-88D radars. DOW radars are typically used for research and can capture clearer, higher-resolution data on tornadoes, while WSR-88D provides a wider view but with slightly less detail.\n",
    "\n"
   ]
  },
  {
   "cell_type": "code",
   "execution_count": null,
   "id": "7213b9f2-8444-462b-a994-3e8cbb6beed2",
   "metadata": {},
   "outputs": [],
   "source": [
    "# Retrieve both DOW7 reflectivity and velocity data from VEDA STAC\n",
    "\n",
    "date = \"2024-04-26\" #Use the same date for both reflectivity and velocity\n",
    "\n",
    "# ── DOW7 Base Reflectivity ─────────────────────────────────────────────────────────────────────────────────────\n",
    "\n",
    "# Get reflectivity collection and tiles\n",
    "collection_id_refl = \"tornadoes-2024-dow-refl-harlan\"\n",
    "results_refl = client_STAC.search(collections=[collection_id_refl], datetime=date)\n",
    "items_refl = list(results_refl.items())\n",
    "item_refl = items_refl[0]\n",
    "collection_refl = item_refl.get_collection()\n",
    "dashboard_render_refl = collection_refl.extra_fields[\"renders\"][\"dashboard\"]\n",
    "assets_refl = dashboard_render_refl[\"assets\"][0]\n",
    "((vmin_refl, vmax_refl),) = dashboard_render_refl[\"rescale\"]\n",
    "colormap_name = collection_refl.extra_fields['renders']['dashboard']['colormap_name']\n",
    "\n",
    "# Build reflectivity tile URL\n",
    "response_refl = requests.get(\n",
    "    f\"{RASTER_API_URL.rstrip('/')}/collections/{collection_id_refl}\"\n",
    "    f\"/items/{item_refl.id}/WebMercatorQuad/tilejson.json?\"\n",
    "    f\"&assets={assets_refl}\"\n",
    "    f\"&color_formula=gamma+r+1.05&colormap_name={colormap_name}\"\n",
    "    f\"&rescale={vmin_refl},{vmax_refl}\",\n",
    ")\n",
    "response_refl.raise_for_status()\n",
    "tiles_refl = response_refl.json()\n",
    "\n",
    "# ── DOW7 Velocity ─────────────────────────────────────────────────────────────────────────────────────\n",
    "\n",
    "# Get velocity collection and tiles\n",
    "collection_id_vel = \"tornadoes-2024-dow-v-harlan\"\n",
    "results_vel = client_STAC.search(collections=[collection_id_vel], datetime=date)\n",
    "items_vel = list(results_vel.items())\n",
    "item_vel = items_vel[0]\n",
    "collection_vel = item_vel.get_collection()\n",
    "dashboard_render_vel = collection_vel.extra_fields[\"renders\"][\"dashboard\"]\n",
    "assets_vel = dashboard_render_vel[\"assets\"][0]\n",
    "((vmin_vel, vmax_vel),) = dashboard_render_vel[\"rescale\"]\n",
    "colormap_name = collection_vel.extra_fields['renders']['dashboard']['colormap_name']\n",
    "\n",
    "# Build velocity tile URL\n",
    "response_vel = requests.get(\n",
    "    f\"{RASTER_API_URL.rstrip('/')}/collections/{collection_id_vel}\"\n",
    "    f\"/items/{item_vel.id}/WebMercatorQuad/tilejson.json?\"\n",
    "    f\"&assets={assets_vel}\"\n",
    "    f\"&color_formula=gamma+r+1.05&colormap_name={colormap_name}\"\n",
    "    f\"&rescale={vmin_vel},{vmax_vel}\",\n",
    ")\n",
    "response_vel.raise_for_status()\n",
    "tiles_vel = response_vel.json()"
   ]
  },
  {
   "cell_type": "code",
   "execution_count": null,
   "id": "22a738e8",
   "metadata": {},
   "outputs": [],
   "source": [
    "#View DOW7 reflectivity collection\n",
    "collection_refl"
   ]
  },
  {
   "cell_type": "code",
   "execution_count": null,
   "id": "618ba9da",
   "metadata": {},
   "outputs": [],
   "source": [
    "#View DOW7 velocity collection\n",
    "collection_vel"
   ]
  },
  {
   "cell_type": "code",
   "execution_count": null,
   "id": "f01b3d85",
   "metadata": {},
   "outputs": [],
   "source": [
    "# Use the new plot_folium_SidebySide_layer_from_VEDA_STAC function from plotutils\n",
    "m = putils.plot_folium_SidebySide_layer_from_VEDA_STAC(\n",
    "    tiles_url_left=tiles_refl[\"tiles\"][0],\n",
    "    tiles_url_right=tiles_vel[\"tiles\"][0],\n",
    "    center_coords=[41.668, -95.372],\n",
    "    zoom_level=14,\n",
    "    title=\"DOW7 Comparison — Harlan, IA — April 26, 2024\",\n",
    "    label_left=\"← Reflectivity (-10 to 50 dBZ)\",\n",
    "    label_right=\"Velocity (-75 to 75 m/s) →\",\n",
    "    layer_name_left=\"DOW7 Reflectivity\",\n",
    "    layer_name_right=\"DOW7 Velocity\",\n",
    "    opacity=0.8,\n",
    "    basemap_style='esri-satellite-labels',\n",
    "    height=\"800px\",\n",
    "    width=\"100%\"\n",
    ")\n",
    "\n",
    "print(\"Interactive side-by-side comparison of DOW7 reflectivity and velocity data.\")\n",
    "print(\"Drag the vertical slider to reveal more of either dataset.\")\n",
    "print()\n",
    "\n",
    "# Display the map\n",
    "m"
   ]
  },
  {
   "cell_type": "markdown",
   "id": "a6f4d8e4-1e6a-4aaa-b2af-107bc5466344",
   "metadata": {},
   "source": [
    "# Example: DOW7 Correlation Coefficient (Radar)\n",
    "\n",
    "Pull the DOW7 radar data from from the VEDA STAC catalog and visualize\n"
   ]
  },
  {
   "cell_type": "code",
   "execution_count": null,
   "id": "2461b25d-de5d-42b1-b30d-464185144021",
   "metadata": {},
   "outputs": [],
   "source": [
    "# TODO: Change collection_ID and date\n",
    "collection_id = \"tornadoes-2024-dow-rhohv-greenfield\"\n",
    "date = \"2024-05-21\"\n",
    "\n",
    "results = client_STAC.search(collections=[collection_id], datetime=date)\n",
    "\n",
    "# ── VEDA Collection Request ─────────────────────────────────────────────────────────────────────────────────────\n",
    "\n",
    "items = list(results.items())\n",
    "assert len(items) != 0, \"No items found\"\n",
    "item = items[0]\n",
    "collection = item.get_collection()\n",
    "\n",
    "# grab the dashboard render block\n",
    "dashboard_render = collection.extra_fields[\"renders\"][\"dashboard\"]\n",
    "\n",
    "assets = dashboard_render[\"assets\"][0]\n",
    "((vmin, vmax),) = dashboard_render[\"rescale\"]\n",
    "\n",
    "collection"
   ]
  },
  {
   "cell_type": "code",
   "execution_count": null,
   "id": "f76739f7-236f-4b6f-be79-8772248e1f92",
   "metadata": {},
   "outputs": [],
   "source": [
    "# ── VEDA Tile Request ─────────────────────────────────────────────────────────────────────────────────────\n",
    "colormap_name = \"turbo\"\n",
    "\n",
    "# Build endpoint URL without worrying about trailing slashes\n",
    "response = requests.get(\n",
    "    f\"{RASTER_API_URL.rstrip('/')}/collections/{collection_id}\"\n",
    "    f\"/items/{item.id}/WebMercatorQuad/tilejson.json?\"\n",
    "    f\"&assets={assets}\"\n",
    "    f\"&color_formula=gamma+r+1.05&colormap_name={colormap_name}\"\n",
    "    f\"&rescale={vmin},{vmax}\",\n",
    ")\n",
    "\n",
    "response.raise_for_status()\n",
    "\n",
    "tiles = response.json()\n",
    "print(tiles)"
   ]
  },
  {
   "cell_type": "code",
   "execution_count": null,
   "id": "9c112371-86d5-4097-8c73-d9b510560cda",
   "metadata": {},
   "outputs": [],
   "source": [
    "# Use the new plot_folium_from_VEDA_STAC function\n",
    "m = putils.plot_folium_from_VEDA_STAC(\n",
    "    tiles_url_template=tiles[\"tiles\"][0],\n",
    "    center_coords=[41.3036, -94.4569],\n",
    "    zoom_level=16,\n",
    "    rescale=(vmin, vmax),\n",
    "    colormap_name=colormap_name,\n",
    "    capitalize_cmap=False,  # to better match VEDA colors and matplotlib colors\n",
    "    layer_name=\"DOW7 Correlation Coefficient (Greenfield, IA)\",\n",
    "    date=f\"{date}T00:00:00Z\",\n",
    "    attribution=\"DOW7 Correlation Coefficient (Greenfield, IA)\",\n",
    "    tile_name=\"DOW7 Correlation Coefficient (Greenfield, IA)\",\n",
    "    opacity=0.8,\n",
    "    height=\"800px\",\n",
    "    basemap_style=\"esri-satellite-labels\"  # Use satellite with labels for better context\n",
    ")\n",
    "\n",
    "print(\n",
    "    \"DOW-collected correlation coefficient values from the Greenfield, Iowa EF-4 tornado on May 21, 2024 as it was impacting Greenfield.\"\n",
    ")\n",
    "# Display the map\n",
    "m"
   ]
  },
  {
   "cell_type": "markdown",
   "id": "c78230c8-39be-44ee-920a-1b631d6604e4",
   "metadata": {},
   "source": [
    "# Example: DOW7-Derived Maximum Velocity Swath (Radar)\n",
    "\n",
    "Pull the DOW7 radar data from from the VEDA STAC catalog and visualize\n"
   ]
  },
  {
   "cell_type": "code",
   "execution_count": null,
   "id": "efb13664-1597-478a-b8e5-fac20e6ac481",
   "metadata": {},
   "outputs": [],
   "source": [
    "# TODO: Change collection_ID and date\n",
    "collection_id = \"tornadoes-2024-dow-vmax-greenfield\"\n",
    "date = \"2024-05-21\"\n",
    "\n",
    "# ── VEDA Collection Request ─────────────────────────────────────────────────────────────────────────────────────\n",
    "\n",
    "results = client_STAC.search(collections=[collection_id], datetime=date)\n",
    "\n",
    "items = list(results.items())\n",
    "assert len(items) != 0, \"No items found\"\n",
    "item = items[0]\n",
    "collection = item.get_collection()\n",
    "\n",
    "# grab the dashboard render block\n",
    "dashboard_render = collection.extra_fields[\"renders\"][\"dashboard\"]\n",
    "\n",
    "assets = dashboard_render[\"assets\"][0]\n",
    "((vmin, vmax),) = dashboard_render[\"rescale\"]\n",
    "\n",
    "collection"
   ]
  },
  {
   "cell_type": "code",
   "execution_count": null,
   "id": "14d08573-78ea-45bf-baf0-58cddf840401",
   "metadata": {},
   "outputs": [],
   "source": [
    "# ── VEDA Tile Request ─────────────────────────────────────────────────────────────────────────────────────\n",
    "colormap_name = \"gist_ncar\"\n",
    "\n",
    "# Build endpoint URL without worrying about trailing slashes\n",
    "response = requests.get(\n",
    "    f\"{RASTER_API_URL.rstrip('/')}/collections/{collection_id}\"\n",
    "    f\"/items/{item.id}/WebMercatorQuad/tilejson.json?\"\n",
    "    f\"&assets={assets}\"\n",
    "    f\"&color_formula=gamma+r+1.05&colormap_name={colormap_name}\"\n",
    "    f\"&rescale={vmin},{vmax}\",\n",
    ")\n",
    "\n",
    "response.raise_for_status()\n",
    "\n",
    "tiles = response.json()\n",
    "print(tiles)"
   ]
  },
  {
   "cell_type": "code",
   "execution_count": null,
   "id": "b062836d-83f6-414d-91d2-9255e0b46a3c",
   "metadata": {},
   "outputs": [],
   "source": [
    "# Use the new plot_folium_from_VEDA_STAC function\n",
    "m = putils.plot_folium_from_VEDA_STAC(\n",
    "    tiles_url_template=tiles[\"tiles\"][0],\n",
    "    center_coords=[41.3036, -94.4569],\n",
    "    zoom_level=16,\n",
    "    rescale=(vmin, vmax),\n",
    "    colormap_name=colormap_name,\n",
    "    capitalize_cmap=False,  # to better match VEDA colors and matplotlib colors\n",
    "    layer_name=\"DOW7-Derived Maximum Velocity (Greenfield, IA)\",\n",
    "    date=f\"{date}T00:00:00Z\",\n",
    "    colorbar_caption=\"m/s\",\n",
    "    attribution=\"DOW7-Derived Maximum Velocity  (Greenfield, IA)\",\n",
    "    tile_name=\"DOW7-Derived Maximum Velocity (Greenfield, IA)\",\n",
    "    opacity=0.8,\n",
    "    height=\"800px\",\n",
    "    basemap_style=\"esri-satellite-labels\"  # Use satellite with labels for better context\n",
    ")\n",
    "\n",
    "print(\n",
    "    \"DOW-collected correlation coefficient values from the Greenfield, Iowa EF-4 tornado on May 21, 2024 as it was impacting Greenfield.\"\n",
    ")\n",
    "# Display the map\n",
    "m"
   ]
  },
  {
   "cell_type": "code",
   "execution_count": null,
   "id": "bb6f0494",
   "metadata": {},
   "outputs": [],
   "source": []
  },
  {
   "cell_type": "code",
   "execution_count": null,
   "id": "e1a973b8",
   "metadata": {},
   "outputs": [],
   "source": [
    "# TODO: Change collection_ID and date\n",
    "collection_id = \"ps-greenfield-pre-tornadoes-2024\"\n",
    "date = \"2024-05-20\"\n",
    "\n",
    "# ── VEDA Collection Request ─────────────────────────────────────────────────────────────────────────────────────\n",
    "\n",
    "results = client_STAC.search(collections=[collection_id], datetime=date)\n",
    "\n",
    "items = list(results.items())\n",
    "assert len(items) != 0, \"No items found\"\n",
    "item = items[0]\n",
    "collection = item.get_collection()\n",
    "\n",
    "# grab the dashboard render block\n",
    "dashboard_render = collection.extra_fields[\"renders\"][\"dashboard\"]\n",
    "\n",
    "assets = dashboard_render[\"assets\"][0]\n",
    "((vmin, vmax),) = dashboard_render[\"rescale\"]\n",
    "\n",
    "collection"
   ]
  },
  {
   "cell_type": "markdown",
   "id": "5pvjwifnzz6",
   "metadata": {},
   "source": [
    "# Example: PlanetScope Greenfield Pre-Tornado and Post-Tornado Imagery\n",
    "\n",
    "High-resolution satellite imagery from PlanetScope showing Greenfield, Iowa before the tornado impact and afterwards."
   ]
  },
  {
   "cell_type": "markdown",
   "id": "12f34dc7",
   "metadata": {},
   "source": [
    "## Pre-Tornado"
   ]
  },
  {
   "cell_type": "code",
   "execution_count": null,
   "id": "g0zklfvn8i",
   "metadata": {},
   "outputs": [],
   "source": [
    "date_pre = \"2024-05-20\"  # Select date one day before tornado \n",
    "collection_id_pre = \"ps-greenfield-pre-tornadoes-2024\"\n",
    "\n",
    "# ── VEDA Collection Request ─────────────────────────────────────────────────────────────────────────────────────\n",
    "\n",
    "results_pre = client_STAC.search(collections=[collection_id_pre], datetime=date_pre)\n",
    "items_pre = list(results_pre.items())\n",
    "item_pre = items_pre[0]\n",
    "collection_pre = item_pre.get_collection()\n",
    "\n",
    "dashboard_render_pre = collection_pre.extra_fields[\"renders\"][\"dashboard\"]\n",
    "assets_pre = dashboard_render_pre[\"assets\"][0]\n",
    "((vmin_pre, vmax_pre),) = dashboard_render_pre[\"rescale\"]\n",
    "bidx_pre = dashboard_render_pre.get(\"bidx\", [3, 2, 1])\n",
    "\n",
    "# ── VEDA Tile Request ─────────────────────────────────────────────────────────────────────────────────────\n",
    "\n",
    "response_pre = requests.get(\n",
    "    f\"{RASTER_API_URL.rstrip('/')}/collections/{collection_id_pre}\"\n",
    "    f\"/items/{item_pre.id}/WebMercatorQuad/tilejson.json?\"\n",
    "    f\"&assets={assets_pre}\"\n",
    "    f\"&bidx={bidx_pre[0]}&bidx={bidx_pre[1]}&bidx={bidx_pre[2]}\"\n",
    "    f\"&rescale={vmin_pre},{vmax_pre}\"\n",
    "    f\"&resampling=bilinear\"\n",
    ")\n",
    "response_pre.raise_for_status()\n",
    "tiles_pre = response_pre.json()\n",
    "print(tiles_pre)\n",
    "\n",
    "collection_pre"
   ]
  },
  {
   "cell_type": "markdown",
   "id": "d9lwlj2qqxr",
   "metadata": {},
   "source": [
    "## Post-Tornado"
   ]
  },
  {
   "cell_type": "code",
   "execution_count": null,
   "id": "gc0d3a4crpj",
   "metadata": {},
   "outputs": [],
   "source": [
    "collection_id_post = \"ps-greenfield-post-tornadoes-2024\"\n",
    "date_post = \"2024-05-22\"  # Select date one day after tornado \n",
    "\n",
    "# ── VEDA Collection Request ─────────────────────────────────────────────────────────────────────────────────────\n",
    "\n",
    "results_post = client_STAC.search(collections=[collection_id_post], datetime=date_post)\n",
    "\n",
    "items_post = list(results_post.items())\n",
    "assert len(items_post) != 0, \"No items found\"\n",
    "item_post = items_post[0]\n",
    "collection_post = item_post.get_collection()\n",
    "\n",
    "# grab the dashboard render block\n",
    "dashboard_render_post = collection_post.extra_fields[\"renders\"][\"dashboard\"]\n",
    "\n",
    "assets_post = dashboard_render_post[\"assets\"][0]\n",
    "((vmin_post, vmax_post),) = dashboard_render_post[\"rescale\"]\n",
    "\n",
    "# Special handling for RGB bands - post tornado uses different band order (1,2,3)\n",
    "bidx_post = dashboard_render_post.get(\"bidx\", [1, 2, 3])  # RGB band order for post\n",
    "\n",
    "\n",
    "# ── VEDA Tile Request for Post-Tornado ─────────────────────────────────────────────────────────────────────\n",
    "\n",
    "response_post = requests.get(\n",
    "    f\"{RASTER_API_URL.rstrip('/')}/collections/{collection_id_post}\"\n",
    "    f\"/items/{item_post.id}/WebMercatorQuad/tilejson.json?\"\n",
    "    f\"&assets={assets_post}\"\n",
    "    f\"&bidx={bidx_post[0]}&bidx={bidx_post[1]}&bidx={bidx_post[2]}\"  # RGB bands (1,2,3 for post)\n",
    "    f\"&rescale={vmin_post},{vmax_post}\"\n",
    "    f\"&resampling=bilinear\"\n",
    ")\n",
    "\n",
    "response_post.raise_for_status()\n",
    "\n",
    "tiles_post = response_post.json()\n",
    "print(tiles_post)\n",
    "\n",
    "collection_post\n"
   ]
  },
  {
   "cell_type": "markdown",
   "id": "1lk41qvga25",
   "metadata": {},
   "source": [
    "## Side-by-Side Comparison: Before and After the Tornado"
   ]
  },
  {
   "cell_type": "code",
   "execution_count": null,
   "id": "9801hkznaop",
   "metadata": {},
   "outputs": [],
   "source": [
    "# Create side-by-side comparison using the create_side_by_side_map function\n",
    "m_comparison = putils.plot_folium_SidebySide_layer_from_VEDA_STAC(\n",
    "    tiles_url_left=tiles_pre[\"tiles\"][0],  # Pre-tornado (May 20)\n",
    "    tiles_url_right=tiles_post[\"tiles\"][0],  # Post-tornado (May 22)\n",
    "    center_coords=[41.3036, -94.4569],  # Greenfield, Iowa\n",
    "    zoom_level=15,\n",
    "    title=\"PlanetScope: Greenfield, IA — Before & After EF-4 Tornado (May 21, 2024)\",\n",
    "    label_left=\"← Pre-Tornado (May 20)\",\n",
    "    label_right=\"Post-Tornado (May 22) →\",\n",
    "    layer_name_left=\"PlanetScope Pre-Tornado\",\n",
    "    layer_name_right=\"PlanetScope Post-Tornado\",\n",
    "    opacity=1.0,  # Full opacity for satellite imagery\n",
    "    basemap_style='cartodb-positron',  # Light basemap\n",
    "    height=\"800px\",\n",
    "    width=\"100%\"\n",
    ")\n",
    "\n",
    "# Display the comparison map\n",
    "m_comparison"
   ]
  },
  {
   "cell_type": "markdown",
   "id": "6d9e15cb-bd9b-4439-8df3-83347673eebf",
   "metadata": {},
   "source": [
    "# Clean Up (Optional)\n",
    "\n",
    "\n",
    "Remove any **core** files that were created if the kernel crashed."
   ]
  },
  {
   "cell_type": "code",
   "execution_count": null,
   "id": "7bd64da5-fdb4-44d8-a0dc-3ed4b1160a12",
   "metadata": {},
   "outputs": [],
   "source": [
    "# find all core files in the current directory\n",
    "for core_path in glob.glob(\"core.*\"):\n",
    "    try:\n",
    "        os.remove(core_path)\n",
    "        print(f\"Removed {core_path}\")\n",
    "    except OSError as e:\n",
    "        print(f\"Error removing {core_path}: {e}\")"
   ]
  }
 ],
 "metadata": {
  "kernelspec": {
   "display_name": "gdal",
   "language": "python",
   "name": "python3"
  },
  "language_info": {
   "codemirror_mode": {
    "name": "ipython",
    "version": 3
   },
   "file_extension": ".py",
   "mimetype": "text/x-python",
   "name": "python",
   "nbconvert_exporter": "python",
   "pygments_lexer": "ipython3",
   "version": "3.12.10"
  }
 },
 "nbformat": 4,
 "nbformat_minor": 5
}
