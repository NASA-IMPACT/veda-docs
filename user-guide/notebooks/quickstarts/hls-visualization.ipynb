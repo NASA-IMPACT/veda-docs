{
 "cells": [
  {
   "cell_type": "raw",
   "metadata": {
    "tags": [
     "hide-input"
    ]
   },
   "source": [
    "---\n",
    "title: Get tiles from COGs\n",
    "description: Demonstrates exploring HLS data at a specific time and place using the Raster API.\n",
    "author: Alexandra Kirk\n",
    "date: June 30, 2022\n",
    "execute:\n",
    "  freeze: true\n",
    "---"
   ]
  },
  {
   "cell_type": "markdown",
   "metadata": {},
   "source": [
    "## Run this notebook\n",
    "\n",
    "You can launch this notbook using mybinder, by clicking the button below.\n",
    "\n",
    "<a href=\"https://binder.openveda.cloud/v2/gh/NASA-IMPACT/veda-docs/HEAD?labpath=user-guide/notebooks/quickstarts%2Fhls-visualization.ipynb\">\n",
    "<img src=\"https://binder.openveda.cloud/badge_logo.svg\" alt=\"Binder\" title=\"A cute binder\" width=\"150\"/> \n",
    "</a>"
   ]
  },
  {
   "cell_type": "markdown",
   "metadata": {
    "tags": [
     "hide-input"
    ]
   },
   "source": [
    "## Approach\n",
    "\n",
    "   1. Identify available dates within a bounding box, which is also an area of interest (AOI) in this example, for a given collection\n",
    "   2. Register a dynamic tiler search for an AOI and specific date range for a given collection\n",
    "   3. Explore different options for displaying multi-band Harmonized Landsat and Sentinel (HLS) assets with the Raster API."
   ]
  },
  {
   "cell_type": "markdown",
   "metadata": {
    "tags": [
     "hide-input"
    ]
   },
   "source": [
    "## About the Data\n",
    "\n",
    "A small subset of HLS data has been ingested to the VEDA datastore to visually explore data using the Raster API, which is a VEDA instance of ([pgstac-titiler](https://github.com/stac-utils/titiler-pgstac)). This limited subset includes a two granules for dates before and after Hurricane Maria in 2017 and Hurricane Ida in 2021.\n",
    "\n",
    "Note about HLS datasets: The Sentinel and Landsat assets have been \"harmonized\" in the sense that these products have been generated to use the same spatial resolution and grid system. Thus these 2 HLS S30 and L30 productscan be used interchangeably in algorithms. However, the individual band assets are specific to each provider. This notebook focuses on displaying HLS data with a dynamic tiler so separate examples are provided for rendering the unique band assets of each collection.\n",
    "\n",
    "**Additional Resources**\n",
    "\n",
    "- [HLSL30 Dataset Landing Page](https://lpdaac.usgs.gov/products/hlsl30v002/)\n",
    "- [Landsat 8 Bands and Combinations Blog](https://www.l3harrisgeospatial.com/Learn/Blogs/Blog-Details/ArtMID/10198/ArticleID/15691/The-Many-Band-Combinations-of-Landsat-8)\n",
    "- [HLSS30 Dataset Landing Page](https://lpdaac.usgs.gov/products/hlss30v002/)\n",
    "- [Sentinel 2 Bands and Combinations Blog](https://gisgeography.com/sentinel-2-bands-combinations/)\n",
    "- [CQL2 STAC-API Examples](https://github.com/radiantearth/stac-api-spec/tree/master/fragments/filter#examples)"
   ]
  },
  {
   "cell_type": "code",
   "execution_count": 1,
   "metadata": {
    "tags": []
   },
   "outputs": [],
   "source": [
    "import json\n",
    "import requests\n",
    "\n",
    "from folium import Map, TileLayer"
   ]
  },
  {
   "cell_type": "markdown",
   "metadata": {},
   "source": [
    "## Parameters for investigating hurricane events with the dynamic tiler and custom band combinations\n",
    "\n",
    "In this notebook we will focus on HLS S30 data for Hurricane Ida, but Hurricane Maria and L30 parameters are provided below for further exploration."
   ]
  },
  {
   "cell_type": "code",
   "execution_count": 2,
   "metadata": {
    "tags": []
   },
   "outputs": [],
   "source": [
    "# Endpoints\n",
    "STAC_API_URL = \"https://openveda.cloud/api/stac\"\n",
    "RASTER_API_URL = \"https://openveda.cloud/api/raster\"\n",
    "\n",
    "# Harmonized Sentinel collection id and configuration info\n",
    "s30_collection_id = \"hls-s30-002-ej-reprocessed\"\n",
    "s30_swir_assets = [\"B12\", \"B8A\", \"B04\"]\n",
    "s30_vegetation_index_assets = [\"B08\", \"B04\"]\n",
    "s30_vegetation_index_expression = \"(B08_b1-B04_b1)/(B08_b1+B04_b1)\"\n",
    "s30_vegetation_index_rescaling = \"0,1\"\n",
    "s30_vegetation_index_colormap = \"rdylgn\"\n",
    "\n",
    "# Harmonized Landsat collection id and map configuration info\n",
    "l30_collection_id = \"hls-l30-002-ej-reprocessed\"\n",
    "l30_swir_assets = [\"B07\", \"B05\", \"B04\"]\n",
    "l30_ndwi_expression = \"(B03_b1-B05_b1)/(B03_b1+B05_b1)\"\n",
    "l30_ndwi_assets = [\"B03\", \"B05\"]\n",
    "l30_ndwi_rescaling = \"0,1\"\n",
    "l30_ndwi_colormap = \"spectral\"\n",
    "\n",
    "# Search criteria for events in both HLS Events collections\n",
    "maria_bbox = [-66.167596, 17.961538, -65.110098, 18.96772]\n",
    "maria_temporal_range = [\"2017-06-06T00:00:00Z\", \"2017-11-30T00:00:00Z\"]\n",
    "\n",
    "ida_bbox = [-90.932637, 29.705366, -89.766437, 30.71627]\n",
    "ida_temporal_range = [\"2021-07-01T00:00:00Z\", \"2021-10-28T00:00:00Z\"]"
   ]
  },
  {
   "cell_type": "markdown",
   "metadata": {},
   "source": [
    "### First, search the STAC API to find the specific dates available within timeframe of interest (Hurricane Ida)\n",
    "\n",
    "To focus on a specific point in time, we will restrict the temporal range when defining the item search in the example below."
   ]
  },
  {
   "cell_type": "code",
   "execution_count": 3,
   "metadata": {
    "tags": []
   },
   "outputs": [
    {
     "name": "stdout",
     "output_type": "stream",
     "text": [
      "search context: {'limit': 100, 'matched': 14, 'returned': 14}\n"
     ]
    },
    {
     "data": {
      "text/plain": [
       "['2021-07-14T16:55:15.122720+00:00',\n",
       " '2021-07-24T16:55:15.112940+00:00',\n",
       " '2021-07-29T16:55:16.405890+00:00',\n",
       " '2021-08-08T16:55:15.798510+00:00',\n",
       " '2021-08-13T16:55:13.394950+00:00',\n",
       " '2021-08-23T16:55:11.785040+00:00',\n",
       " '2021-09-02T16:55:09.568600+00:00',\n",
       " '2021-09-07T16:55:13.430530+00:00',\n",
       " '2021-09-22T16:55:10.763010+00:00',\n",
       " '2021-09-27T16:55:17.027350+00:00',\n",
       " '2021-10-07T16:55:18.213640+00:00',\n",
       " '2021-10-12T16:55:14.209080+00:00',\n",
       " '2021-10-17T16:55:18.517600+00:00',\n",
       " '2021-10-22T16:55:14.670710+00:00']"
      ]
     },
     "execution_count": 3,
     "metadata": {},
     "output_type": "execute_result"
    }
   ],
   "source": [
    "collections_filter = {\n",
    "    \"op\": \"=\",\n",
    "    \"args\": [{\"property\": \"collection\"}, s30_collection_id],\n",
    "}\n",
    "\n",
    "spatial_filter = {\"op\": \"s_intersects\", \"args\": [{\"property\": \"bbox\"}, ida_bbox]}\n",
    "\n",
    "temporal_filter = {\n",
    "    \"op\": \"t_intersects\",\n",
    "    \"args\": [{\"property\": \"datetime\"}, {\"interval\": ida_temporal_range}],\n",
    "}\n",
    "\n",
    "# Additional filters can be applied for other search criteria like <= maximum eo:cloud_cover in item properties\n",
    "cloud_filter = {\"op\": \"<=\", \"args\": [{\"property\": \"eo:cloud_cover\"}, 80]}\n",
    "\n",
    "search_body = {\n",
    "    \"filter-lang\": \"cql2-json\",\n",
    "    \"limit\": 100,\n",
    "    \"sortby\": [{\"direction\": \"asc\", \"field\": \"properties.datetime\"}],\n",
    "    \"context\": \"on\",  # add context for a summary of matched results\n",
    "    \"filter\": {\n",
    "        \"op\": \"and\",\n",
    "        \"args\": [collections_filter, spatial_filter, temporal_filter, cloud_filter],\n",
    "    },\n",
    "}\n",
    "\n",
    "# Note this search body can also be used for a stac item search\n",
    "stac_items_response = requests.post(\n",
    "    f\"{STAC_API_URL}/search\",\n",
    "    json=search_body,\n",
    ").json()\n",
    "\n",
    "# Check how many items were matched in search\n",
    "print(\"search context:\", stac_items_response[\"context\"])\n",
    "\n",
    "# Iterate over search results to get an array of item datetimes\n",
    "[item[\"properties\"][\"datetime\"] for item in stac_items_response[\"features\"]]"
   ]
  },
  {
   "cell_type": "markdown",
   "metadata": {},
   "source": [
    "## Visualizing the data on a map\n",
    "The VEDA backend is based on [eoAPI](https://github.com/developmentseed/eoAPI#earth-observation-api), an application for searching and tiling earth observation STAC records. The application uses titiler-pgstac for dynamically mosaicing cloud optimized data from a registerd STAC API search.\n",
    "\n",
    "To use the dynamic tiler, [register a STAC item search and then use the registered search ID to dynamically mosaic the search results on the map](https://github.com/stac-utils/titiler-pgstac/blob/master/docs/intro.md#mosaic)."
   ]
  },
  {
   "cell_type": "markdown",
   "metadata": {},
   "source": [
    "### Update the temporal range in search body and register that search with the Raster API\n",
    "\n",
    "The registered search id can be reused for alternate map layer visualizations."
   ]
  },
  {
   "cell_type": "code",
   "execution_count": 4,
   "metadata": {
    "tags": []
   },
   "outputs": [
    {
     "name": "stdout",
     "output_type": "stream",
     "text": [
      "{\n",
      "  \"id\": \"7743bcb31bff7151aff7e5508785fce1\",\n",
      "  \"links\": [\n",
      "    {\n",
      "      \"href\": \"https://openveda.cloud/api/raster/searches/7743bcb31bff7151aff7e5508785fce1/info\",\n",
      "      \"rel\": \"metadata\",\n",
      "      \"title\": \"Mosaic metadata\"\n",
      "    },\n",
      "    {\n",
      "      \"href\": \"https://openveda.cloud/api/raster/searches/7743bcb31bff7151aff7e5508785fce1/{tileMatrixSetId}/tilejson.json\",\n",
      "      \"rel\": \"tilejson\",\n",
      "      \"templated\": true,\n",
      "      \"title\": \"Link for TileJSON (Template URL)\"\n",
      "    },\n",
      "    {\n",
      "      \"href\": \"https://openveda.cloud/api/raster/searches/7743bcb31bff7151aff7e5508785fce1/{tileMatrixSetId}/WMTSCapabilities.xml\",\n",
      "      \"rel\": \"wmts\",\n",
      "      \"templated\": true,\n",
      "      \"title\": \"Link for WMTS (Template URL)\"\n",
      "    }\n",
      "  ]\n",
      "}\n"
     ]
    }
   ],
   "source": [
    "# Restricted date range\n",
    "restricted_temporal_filter = {\n",
    "    \"op\": \"t_intersects\",\n",
    "    \"args\": [\n",
    "        {\"property\": \"datetime\"},\n",
    "        {\"interval\": [\"2021-10-16T00:00:00Z\", \"2021-10-18T00:00:00Z\"]},\n",
    "    ],\n",
    "}\n",
    "\n",
    "# Specify cql2-json filter language in search body\n",
    "search_body = {\n",
    "    \"filter-lang\": \"cql2-json\",\n",
    "    \"filter\": {\n",
    "        \"op\": \"and\",\n",
    "        \"args\": [collections_filter, spatial_filter, restricted_temporal_filter],\n",
    "    },\n",
    "}\n",
    "\n",
    "mosaic_response = requests.post(\n",
    "    f\"{RASTER_API_URL}/searches/register\",\n",
    "    json=search_body,\n",
    ").json()\n",
    "print(json.dumps(mosaic_response, indent=2))"
   ]
  },
  {
   "cell_type": "code",
   "execution_count": 5,
   "metadata": {
    "scrolled": true
   },
   "outputs": [],
   "source": [
    "# Get base url for tiler from the register mosaic request\n",
    "tiles_href = next(\n",
    "    link[\"href\"] for link in mosaic_response[\"links\"] if link[\"rel\"] == \"tilejson\"\n",
    ")"
   ]
  },
  {
   "cell_type": "markdown",
   "metadata": {},
   "source": [
    "### Configure map formatting parameters\n",
    "See the [openveda.cloud/api/raster/docs](https://openveda.cloud/api/raster/docs#/STAC%20Search/tilejson_searches__search_id___tileMatrixSetId__tilejson_json_get) for more formatting options"
   ]
  },
  {
   "cell_type": "markdown",
   "metadata": {},
   "source": [
    "## Use the built-in SWIR post processing algorithm\n",
    "\n",
    "Note in the example below the band assets for HLS S30 are selected. The equivalent SWIR band assets for L30 are provided at the top of this notebook."
   ]
  },
  {
   "cell_type": "code",
   "execution_count": 6,
   "metadata": {},
   "outputs": [
    {
     "name": "stdout",
     "output_type": "stream",
     "text": [
      "{\n",
      "  \"tilejson\": \"2.2.0\",\n",
      "  \"name\": \"7743bcb31bff7151aff7e5508785fce1\",\n",
      "  \"version\": \"1.0.0\",\n",
      "  \"scheme\": \"xyz\",\n",
      "  \"tiles\": [\n",
      "    \"https://openveda.cloud/api/raster/searches/7743bcb31bff7151aff7e5508785fce1/tiles/WebMercatorQuad/{z}/{x}/{y}?algorithm=swir&assets=B12&assets=B8A&assets=B04\"\n",
      "  ],\n",
      "  \"minzoom\": 6,\n",
      "  \"maxzoom\": 12,\n",
      "  \"bounds\": [\n",
      "    -180.0,\n",
      "    -85.0511287798066,\n",
      "    180.00000000000009,\n",
      "    85.0511287798066\n",
      "  ],\n",
      "  \"center\": [\n",
      "    4.263256414560601e-14,\n",
      "    0.0,\n",
      "    6\n",
      "  ]\n",
      "}\n"
     ]
    }
   ],
   "source": [
    "# Add additional map formatting parameters to tiles url\n",
    "\n",
    "# Use default tile matrix set\n",
    "tile_matrix_set_id = \"WebMercatorQuad\"\n",
    "\n",
    "tilejson_response = requests.get(\n",
    "    tiles_href.format(tileMatrixSetId=tile_matrix_set_id),\n",
    "    params={\n",
    "        # Info to add to the tilejson response\n",
    "        \"minzoom\": 6,\n",
    "        \"maxzoom\": 12,\n",
    "        \"algorithm\": \"swir\",\n",
    "        \"assets\": s30_swir_assets\n",
    "    },\n",
    ").json()\n",
    "print(json.dumps(tilejson_response, indent=2))"
   ]
  },
  {
   "cell_type": "markdown",
   "metadata": {},
   "source": [
    "### Display the data on a map"
   ]
  },
  {
   "cell_type": "code",
   "execution_count": 7,
   "metadata": {},
   "outputs": [
    {
     "data": {
      "text/html": [
       "<div style=\"width:100%;\"><div style=\"position:relative;width:100%;height:0;padding-bottom:60%;\"><span style=\"color:#565656\">Make this Notebook Trusted to load map: File -> Trust Notebook</span><iframe srcdoc=\"&lt;!DOCTYPE html&gt;\n",
       "&lt;html&gt;\n",
       "&lt;head&gt;\n",
       "    \n",
       "    &lt;meta http-equiv=&quot;content-type&quot; content=&quot;text/html; charset=UTF-8&quot; /&gt;\n",
       "    \n",
       "        &lt;script&gt;\n",
       "            L_NO_TOUCH = false;\n",
       "            L_DISABLE_3D = false;\n",
       "        &lt;/script&gt;\n",
       "    \n",
       "    &lt;style&gt;html, body {width: 100%;height: 100%;margin: 0;padding: 0;}&lt;/style&gt;\n",
       "    &lt;style&gt;#map {position:absolute;top:0;bottom:0;right:0;left:0;}&lt;/style&gt;\n",
       "    &lt;script src=&quot;https://cdn.jsdelivr.net/npm/leaflet@1.9.3/dist/leaflet.js&quot;&gt;&lt;/script&gt;\n",
       "    &lt;script src=&quot;https://code.jquery.com/jquery-3.7.1.min.js&quot;&gt;&lt;/script&gt;\n",
       "    &lt;script src=&quot;https://cdn.jsdelivr.net/npm/bootstrap@5.2.2/dist/js/bootstrap.bundle.min.js&quot;&gt;&lt;/script&gt;\n",
       "    &lt;script src=&quot;https://cdnjs.cloudflare.com/ajax/libs/Leaflet.awesome-markers/2.0.2/leaflet.awesome-markers.js&quot;&gt;&lt;/script&gt;\n",
       "    &lt;link rel=&quot;stylesheet&quot; href=&quot;https://cdn.jsdelivr.net/npm/leaflet@1.9.3/dist/leaflet.css&quot;/&gt;\n",
       "    &lt;link rel=&quot;stylesheet&quot; href=&quot;https://cdn.jsdelivr.net/npm/bootstrap@5.2.2/dist/css/bootstrap.min.css&quot;/&gt;\n",
       "    &lt;link rel=&quot;stylesheet&quot; href=&quot;https://netdna.bootstrapcdn.com/bootstrap/3.0.0/css/bootstrap.min.css&quot;/&gt;\n",
       "    &lt;link rel=&quot;stylesheet&quot; href=&quot;https://cdn.jsdelivr.net/npm/@fortawesome/fontawesome-free@6.2.0/css/all.min.css&quot;/&gt;\n",
       "    &lt;link rel=&quot;stylesheet&quot; href=&quot;https://cdnjs.cloudflare.com/ajax/libs/Leaflet.awesome-markers/2.0.2/leaflet.awesome-markers.css&quot;/&gt;\n",
       "    &lt;link rel=&quot;stylesheet&quot; href=&quot;https://cdn.jsdelivr.net/gh/python-visualization/folium/folium/templates/leaflet.awesome.rotate.min.css&quot;/&gt;\n",
       "    \n",
       "            &lt;meta name=&quot;viewport&quot; content=&quot;width=device-width,\n",
       "                initial-scale=1.0, maximum-scale=1.0, user-scalable=no&quot; /&gt;\n",
       "            &lt;style&gt;\n",
       "                #map_3492b269ab9f0096a0379a7e3cc6f5f2 {\n",
       "                    position: relative;\n",
       "                    width: 100.0%;\n",
       "                    height: 100.0%;\n",
       "                    left: 0.0%;\n",
       "                    top: 0.0%;\n",
       "                }\n",
       "                .leaflet-container { font-size: 1rem; }\n",
       "            &lt;/style&gt;\n",
       "        \n",
       "&lt;/head&gt;\n",
       "&lt;body&gt;\n",
       "    \n",
       "    \n",
       "            &lt;div class=&quot;folium-map&quot; id=&quot;map_3492b269ab9f0096a0379a7e3cc6f5f2&quot; &gt;&lt;/div&gt;\n",
       "        \n",
       "&lt;/body&gt;\n",
       "&lt;script&gt;\n",
       "    \n",
       "    \n",
       "            var map_3492b269ab9f0096a0379a7e3cc6f5f2 = L.map(\n",
       "                &quot;map_3492b269ab9f0096a0379a7e3cc6f5f2&quot;,\n",
       "                {\n",
       "                    center: [30.210818000000003, -90.349537],\n",
       "                    crs: L.CRS.EPSG3857,\n",
       "                    zoom: 11,\n",
       "                    zoomControl: true,\n",
       "                    preferCanvas: false,\n",
       "                }\n",
       "            );\n",
       "\n",
       "            \n",
       "\n",
       "        \n",
       "    \n",
       "            var tile_layer_a12781b66470395250a6489a97cccd25 = L.tileLayer(\n",
       "                &quot;https://tile.openstreetmap.org/{z}/{x}/{y}.png&quot;,\n",
       "                {&quot;attribution&quot;: &quot;\\u0026copy; \\u003ca href=\\&quot;https://www.openstreetmap.org/copyright\\&quot;\\u003eOpenStreetMap\\u003c/a\\u003e contributors&quot;, &quot;detectRetina&quot;: false, &quot;maxNativeZoom&quot;: 19, &quot;maxZoom&quot;: 19, &quot;minZoom&quot;: 0, &quot;noWrap&quot;: false, &quot;opacity&quot;: 1, &quot;subdomains&quot;: &quot;abc&quot;, &quot;tms&quot;: false}\n",
       "            );\n",
       "        \n",
       "    \n",
       "            tile_layer_a12781b66470395250a6489a97cccd25.addTo(map_3492b269ab9f0096a0379a7e3cc6f5f2);\n",
       "        \n",
       "    \n",
       "            var tile_layer_dbc197ca711efaafd713199adc70b406 = L.tileLayer(\n",
       "                &quot;https://openveda.cloud/api/raster/searches/7743bcb31bff7151aff7e5508785fce1/tiles/WebMercatorQuad/{z}/{x}/{y}?algorithm=swir\\u0026assets=B12\\u0026assets=B8A\\u0026assets=B04&quot;,\n",
       "                {&quot;attribution&quot;: &quot;Mosaic&quot;, &quot;detectRetina&quot;: false, &quot;maxNativeZoom&quot;: 18, &quot;maxZoom&quot;: 18, &quot;minZoom&quot;: 0, &quot;noWrap&quot;: false, &quot;opacity&quot;: 1, &quot;subdomains&quot;: &quot;abc&quot;, &quot;tms&quot;: false}\n",
       "            );\n",
       "        \n",
       "    \n",
       "            tile_layer_dbc197ca711efaafd713199adc70b406.addTo(map_3492b269ab9f0096a0379a7e3cc6f5f2);\n",
       "        \n",
       "&lt;/script&gt;\n",
       "&lt;/html&gt;\" style=\"position:absolute;width:100%;height:100%;left:0;top:0;border:none !important;\" allowfullscreen webkitallowfullscreen mozallowfullscreen></iframe></div></div>"
      ],
      "text/plain": [
       "<folium.folium.Map at 0x7f2f913f0550>"
      ]
     },
     "execution_count": 7,
     "metadata": {},
     "output_type": "execute_result"
    }
   ],
   "source": [
    "# Use bbox initial zoom and map\n",
    "# Set up a map located w/in event bounds\n",
    "zoom_start = 11\n",
    "m = Map(\n",
    "    tiles=\"OpenStreetMap\",\n",
    "    location=((ida_bbox[1] + ida_bbox[3]) / 2, (ida_bbox[0] + ida_bbox[2]) / 2),\n",
    "    zoom_start=zoom_start,\n",
    ")\n",
    "\n",
    "# Add the formatted map layer\n",
    "map_layer = TileLayer(\n",
    "    tiles=tilejson_response[\"tiles\"][0],\n",
    "    attr=\"Mosaic\",\n",
    ")\n",
    "map_layer.add_to(m)\n",
    "m"
   ]
  },
  {
   "cell_type": "markdown",
   "metadata": {},
   "source": [
    "### Format and render tiles using custom formatting\n",
    "The titiler/raster-api supports user defined band combinations, band math expressions, rescaling, band index, resampling and more.  "
   ]
  },
  {
   "cell_type": "code",
   "execution_count": 8,
   "metadata": {},
   "outputs": [
    {
     "name": "stdout",
     "output_type": "stream",
     "text": [
      "{\n",
      "  \"tilejson\": \"2.2.0\",\n",
      "  \"name\": \"7743bcb31bff7151aff7e5508785fce1\",\n",
      "  \"version\": \"1.0.0\",\n",
      "  \"scheme\": \"xyz\",\n",
      "  \"tiles\": [\n",
      "    \"https://openveda.cloud/api/raster/searches/7743bcb31bff7151aff7e5508785fce1/tiles/WebMercatorQuad/{z}/{x}/{y}?assets=B08&assets=B04&expression=%28B08_b1-B04_b1%29%2F%28B08_b1%2BB04_b1%29&rescale=0%2C1&colormap_name=rdylgn\"\n",
      "  ],\n",
      "  \"minzoom\": 6,\n",
      "  \"maxzoom\": 12,\n",
      "  \"bounds\": [\n",
      "    -180.0,\n",
      "    -85.0511287798066,\n",
      "    180.00000000000009,\n",
      "    85.0511287798066\n",
      "  ],\n",
      "  \"center\": [\n",
      "    4.263256414560601e-14,\n",
      "    0.0,\n",
      "    6\n",
      "  ]\n",
      "}\n"
     ]
    }
   ],
   "source": [
    "# Add additional map formatting parameters to tiles url\n",
    "\n",
    "# Use default tile matrix set\n",
    "tile_matrix_set_id = \"WebMercatorQuad\"\n",
    "\n",
    "tilejson_response = requests.get(\n",
    "    tiles_href.format(tileMatrixSetId=tile_matrix_set_id),\n",
    "    params={\n",
    "        # Info to add to the tilejson response\n",
    "        \"minzoom\": 6,\n",
    "        \"maxzoom\": 12,\n",
    "        \"assets\": s30_vegetation_index_assets,\n",
    "        \"expression\": s30_vegetation_index_expression,\n",
    "        \"rescale\": s30_vegetation_index_rescaling,\n",
    "        \"colormap_name\": s30_vegetation_index_colormap,\n",
    "    },\n",
    ").json()\n",
    "print(json.dumps(tilejson_response, indent=2))"
   ]
  },
  {
   "cell_type": "code",
   "execution_count": 9,
   "metadata": {},
   "outputs": [
    {
     "data": {
      "text/html": [
       "<div style=\"width:100%;\"><div style=\"position:relative;width:100%;height:0;padding-bottom:60%;\"><span style=\"color:#565656\">Make this Notebook Trusted to load map: File -> Trust Notebook</span><iframe srcdoc=\"&lt;!DOCTYPE html&gt;\n",
       "&lt;html&gt;\n",
       "&lt;head&gt;\n",
       "    \n",
       "    &lt;meta http-equiv=&quot;content-type&quot; content=&quot;text/html; charset=UTF-8&quot; /&gt;\n",
       "    \n",
       "        &lt;script&gt;\n",
       "            L_NO_TOUCH = false;\n",
       "            L_DISABLE_3D = false;\n",
       "        &lt;/script&gt;\n",
       "    \n",
       "    &lt;style&gt;html, body {width: 100%;height: 100%;margin: 0;padding: 0;}&lt;/style&gt;\n",
       "    &lt;style&gt;#map {position:absolute;top:0;bottom:0;right:0;left:0;}&lt;/style&gt;\n",
       "    &lt;script src=&quot;https://cdn.jsdelivr.net/npm/leaflet@1.9.3/dist/leaflet.js&quot;&gt;&lt;/script&gt;\n",
       "    &lt;script src=&quot;https://code.jquery.com/jquery-3.7.1.min.js&quot;&gt;&lt;/script&gt;\n",
       "    &lt;script src=&quot;https://cdn.jsdelivr.net/npm/bootstrap@5.2.2/dist/js/bootstrap.bundle.min.js&quot;&gt;&lt;/script&gt;\n",
       "    &lt;script src=&quot;https://cdnjs.cloudflare.com/ajax/libs/Leaflet.awesome-markers/2.0.2/leaflet.awesome-markers.js&quot;&gt;&lt;/script&gt;\n",
       "    &lt;link rel=&quot;stylesheet&quot; href=&quot;https://cdn.jsdelivr.net/npm/leaflet@1.9.3/dist/leaflet.css&quot;/&gt;\n",
       "    &lt;link rel=&quot;stylesheet&quot; href=&quot;https://cdn.jsdelivr.net/npm/bootstrap@5.2.2/dist/css/bootstrap.min.css&quot;/&gt;\n",
       "    &lt;link rel=&quot;stylesheet&quot; href=&quot;https://netdna.bootstrapcdn.com/bootstrap/3.0.0/css/bootstrap.min.css&quot;/&gt;\n",
       "    &lt;link rel=&quot;stylesheet&quot; href=&quot;https://cdn.jsdelivr.net/npm/@fortawesome/fontawesome-free@6.2.0/css/all.min.css&quot;/&gt;\n",
       "    &lt;link rel=&quot;stylesheet&quot; href=&quot;https://cdnjs.cloudflare.com/ajax/libs/Leaflet.awesome-markers/2.0.2/leaflet.awesome-markers.css&quot;/&gt;\n",
       "    &lt;link rel=&quot;stylesheet&quot; href=&quot;https://cdn.jsdelivr.net/gh/python-visualization/folium/folium/templates/leaflet.awesome.rotate.min.css&quot;/&gt;\n",
       "    \n",
       "            &lt;meta name=&quot;viewport&quot; content=&quot;width=device-width,\n",
       "                initial-scale=1.0, maximum-scale=1.0, user-scalable=no&quot; /&gt;\n",
       "            &lt;style&gt;\n",
       "                #map_c898fdd66d2e8111355dd99cbdeb36dd {\n",
       "                    position: relative;\n",
       "                    width: 100.0%;\n",
       "                    height: 100.0%;\n",
       "                    left: 0.0%;\n",
       "                    top: 0.0%;\n",
       "                }\n",
       "                .leaflet-container { font-size: 1rem; }\n",
       "            &lt;/style&gt;\n",
       "        \n",
       "&lt;/head&gt;\n",
       "&lt;body&gt;\n",
       "    \n",
       "    \n",
       "            &lt;div class=&quot;folium-map&quot; id=&quot;map_c898fdd66d2e8111355dd99cbdeb36dd&quot; &gt;&lt;/div&gt;\n",
       "        \n",
       "&lt;/body&gt;\n",
       "&lt;script&gt;\n",
       "    \n",
       "    \n",
       "            var map_c898fdd66d2e8111355dd99cbdeb36dd = L.map(\n",
       "                &quot;map_c898fdd66d2e8111355dd99cbdeb36dd&quot;,\n",
       "                {\n",
       "                    center: [30.210818000000003, -90.349537],\n",
       "                    crs: L.CRS.EPSG3857,\n",
       "                    zoom: 11,\n",
       "                    zoomControl: true,\n",
       "                    preferCanvas: false,\n",
       "                }\n",
       "            );\n",
       "\n",
       "            \n",
       "\n",
       "        \n",
       "    \n",
       "            var tile_layer_072c2d274f3b5de06d73a6e16061ac54 = L.tileLayer(\n",
       "                &quot;https://tile.openstreetmap.org/{z}/{x}/{y}.png&quot;,\n",
       "                {&quot;attribution&quot;: &quot;\\u0026copy; \\u003ca href=\\&quot;https://www.openstreetmap.org/copyright\\&quot;\\u003eOpenStreetMap\\u003c/a\\u003e contributors&quot;, &quot;detectRetina&quot;: false, &quot;maxNativeZoom&quot;: 19, &quot;maxZoom&quot;: 19, &quot;minZoom&quot;: 0, &quot;noWrap&quot;: false, &quot;opacity&quot;: 1, &quot;subdomains&quot;: &quot;abc&quot;, &quot;tms&quot;: false}\n",
       "            );\n",
       "        \n",
       "    \n",
       "            tile_layer_072c2d274f3b5de06d73a6e16061ac54.addTo(map_c898fdd66d2e8111355dd99cbdeb36dd);\n",
       "        \n",
       "    \n",
       "            var tile_layer_327ca89add025f85e6559835ea933052 = L.tileLayer(\n",
       "                &quot;https://openveda.cloud/api/raster/searches/7743bcb31bff7151aff7e5508785fce1/tiles/WebMercatorQuad/{z}/{x}/{y}?assets=B08\\u0026assets=B04\\u0026expression=%28B08_b1-B04_b1%29%2F%28B08_b1%2BB04_b1%29\\u0026rescale=0%2C1\\u0026colormap_name=rdylgn&quot;,\n",
       "                {&quot;attribution&quot;: &quot;Mosaic&quot;, &quot;detectRetina&quot;: false, &quot;maxNativeZoom&quot;: 18, &quot;maxZoom&quot;: 18, &quot;minZoom&quot;: 0, &quot;noWrap&quot;: false, &quot;opacity&quot;: 1, &quot;subdomains&quot;: &quot;abc&quot;, &quot;tms&quot;: false}\n",
       "            );\n",
       "        \n",
       "    \n",
       "            tile_layer_327ca89add025f85e6559835ea933052.addTo(map_c898fdd66d2e8111355dd99cbdeb36dd);\n",
       "        \n",
       "&lt;/script&gt;\n",
       "&lt;/html&gt;\" style=\"position:absolute;width:100%;height:100%;left:0;top:0;border:none !important;\" allowfullscreen webkitallowfullscreen mozallowfullscreen></iframe></div></div>"
      ],
      "text/plain": [
       "<folium.folium.Map at 0x7f2f91430f50>"
      ]
     },
     "execution_count": 9,
     "metadata": {},
     "output_type": "execute_result"
    }
   ],
   "source": [
    "# Use bbox initial zoom and map\n",
    "# Set up a map located w/in event bounds\n",
    "zoom_start = 11\n",
    "m = Map(\n",
    "    tiles=\"OpenStreetMap\",\n",
    "    location=((ida_bbox[1] + ida_bbox[3]) / 2, (ida_bbox[0] + ida_bbox[2]) / 2),\n",
    "    zoom_start=zoom_start,\n",
    ")\n",
    "\n",
    "# Add the formatted map layer\n",
    "map_layer = TileLayer(\n",
    "    tiles=tilejson_response[\"tiles\"][0],\n",
    "    attr=\"Mosaic\",\n",
    ")\n",
    "map_layer.add_to(m)\n",
    "m"
   ]
  },
  {
   "cell_type": "markdown",
   "metadata": {},
   "source": [
    "## L30 Hurricane Maria Example"
   ]
  },
  {
   "cell_type": "code",
   "execution_count": 10,
   "metadata": {},
   "outputs": [
    {
     "name": "stdout",
     "output_type": "stream",
     "text": [
      "search context: {'limit': 10, 'matched': 9, 'returned': 9}\n"
     ]
    },
    {
     "data": {
      "text/plain": [
       "['2017-06-06T14:43:41.335694+00:00',\n",
       " '2017-06-22T14:43:47.156698+00:00',\n",
       " '2017-07-24T14:43:56.898518+00:00',\n",
       " '2017-08-09T14:44:03.584741+00:00',\n",
       " '2017-08-25T14:44:07.854507+00:00',\n",
       " '2017-09-26T14:44:14.813967+00:00',\n",
       " '2017-10-12T14:44:19.576858+00:00',\n",
       " '2017-11-13T14:44:17.834919+00:00',\n",
       " '2017-11-29T14:44:11.126689+00:00']"
      ]
     },
     "execution_count": 10,
     "metadata": {},
     "output_type": "execute_result"
    }
   ],
   "source": [
    "collections_filter = {\n",
    "    \"op\": \"=\", \n",
    "    \"args\" : [{ \"property\": \"collection\" }, l30_collection_id]\n",
    "}\n",
    "\n",
    "spatial_filter = {\n",
    "    \"op\": \"s_intersects\",\n",
    "    \"args\": [\n",
    "        {\"property\": \"bbox\"}, maria_bbox\n",
    "    ]\n",
    "}\n",
    "\n",
    "temporal_filter = {\n",
    "    \"op\": \"t_intersects\",\n",
    "    \"args\": [\n",
    "        { \"property\": \"datetime\" },\n",
    "        { \"interval\" : maria_temporal_range }\n",
    "    ]\n",
    "}\n",
    "\n",
    "# Additional filters can be applied for other search criteria like <= maximum eo:cloud_cover in item properties\n",
    "cloud_filter = {\n",
    "    \"op\": \"<=\",\n",
    "    \"args\": [\n",
    "        {\"property\": \"eo:cloud_cover\"},\n",
    "        80\n",
    "    ]\n",
    "}\n",
    "\n",
    "# Specify cql2-json filter language in search body and add context for a summary of matched results\n",
    "search_body = {\n",
    "    \"filter-lang\": \"cql2-json\",\n",
    "    \"context\": \"on\",\n",
    "    \"filter\": {\n",
    "        \"op\": \"and\",\n",
    "        \"args\": [\n",
    "            collections_filter,\n",
    "            temporal_filter,\n",
    "            cloud_filter\n",
    "        ]\n",
    "    }\n",
    "}\n",
    "\n",
    "# Note this search body can also be used for a stac item search \n",
    "stac_items_response = requests.post(\n",
    "    f\"{STAC_API_URL}/search\",\n",
    "    json=search_body,\n",
    ").json()\n",
    "\n",
    "# Check how many items were matched in searc\n",
    "print(\"search context:\", stac_items_response[\"context\"])\n",
    "\n",
    "# Iterate over search results to get an array of unique item datetimes\n",
    "datetimes = []\n",
    "features = stac_items_response[\"features\"]\n",
    "datetimes += [item[\"properties\"][\"datetime\"] for item in features]\n",
    "next_link = next((link for link in stac_items_response[\"links\"] if link[\"rel\"] == \"next\"), None)\n",
    "while next_link:\n",
    "    stac_items_response = requests.post(\n",
    "        f\"{STAC_API_URL}/search\",\n",
    "        json=next_link[\"body\"],\n",
    "    ).json()\n",
    "    features = stac_items_response[\"features\"]\n",
    "    datetimes += [item[\"properties\"][\"datetime\"] for item in features]\n",
    "    next_link = next((link for link in stac_items_response[\"links\"] if link[\"rel\"] == \"next\"), False)\n",
    "\n",
    "sorted(datetimes)"
   ]
  },
  {
   "cell_type": "code",
   "execution_count": 11,
   "metadata": {},
   "outputs": [],
   "source": [
    "# Restricted date range \n",
    "restricted_temporal_filter = {\n",
    "    \"op\": \"t_intersects\",\n",
    "    \"args\": [\n",
    "        { \"property\": \"datetime\" },\n",
    "        { \"interval\" : [ \"2017-10-11T00:00:00Z\", \"2017-10-13T00:00:00Z\"] }\n",
    "    ]\n",
    "}\n",
    "\n",
    "# Specify cql2-json filter language in search body\n",
    "search_body = {\n",
    "    \"filter-lang\": \"cql2-json\",\n",
    "    \"filter\": {\n",
    "        \"op\": \"and\",\n",
    "        \"args\": [\n",
    "            collections_filter,\n",
    "            spatial_filter,\n",
    "            restricted_temporal_filter\n",
    "        ]\n",
    "    }\n",
    "}\n",
    "\n",
    "mosaic_response = requests.post(\n",
    "    f\"{RASTER_API_URL}/searches/register\",\n",
    "    json=search_body,\n",
    ").json()\n",
    "\n",
    "# Set up format for Map API url\n",
    "# Get base url for tiler from the register mosaic request\n",
    "tiles_href = next(link[\"href\"] for link in mosaic_response[\"links\"] if link[\"rel\"]==\"tilejson\")\n",
    "\n",
    "# Use default tile matrix set\n",
    "tile_matrix_set_id = \"WebMercatorQuad\"\n",
    "\n",
    "tilejson_response = requests.get(\n",
    "    tiles_href.format(tileMatrixSetId=tile_matrix_set_id),\n",
    "    params={\n",
    "        # Info to add to the tilejson response\n",
    "        \"minzoom\": 6,\n",
    "        \"maxzoom\": 12,\n",
    "        \"assets\": l30_ndwi_assets,\n",
    "        \"expression\": l30_ndwi_expression,\n",
    "        \"rescale\": l30_ndwi_rescaling,\n",
    "        \"colormap_name\": \"viridis\"\n",
    "    }\n",
    ").json()"
   ]
  },
  {
   "cell_type": "code",
   "execution_count": 12,
   "metadata": {
    "tags": []
   },
   "outputs": [
    {
     "data": {
      "text/html": [
       "<div style=\"width:100%;\"><div style=\"position:relative;width:100%;height:0;padding-bottom:60%;\"><span style=\"color:#565656\">Make this Notebook Trusted to load map: File -> Trust Notebook</span><iframe srcdoc=\"&lt;!DOCTYPE html&gt;\n",
       "&lt;html&gt;\n",
       "&lt;head&gt;\n",
       "    \n",
       "    &lt;meta http-equiv=&quot;content-type&quot; content=&quot;text/html; charset=UTF-8&quot; /&gt;\n",
       "    \n",
       "        &lt;script&gt;\n",
       "            L_NO_TOUCH = false;\n",
       "            L_DISABLE_3D = false;\n",
       "        &lt;/script&gt;\n",
       "    \n",
       "    &lt;style&gt;html, body {width: 100%;height: 100%;margin: 0;padding: 0;}&lt;/style&gt;\n",
       "    &lt;style&gt;#map {position:absolute;top:0;bottom:0;right:0;left:0;}&lt;/style&gt;\n",
       "    &lt;script src=&quot;https://cdn.jsdelivr.net/npm/leaflet@1.9.3/dist/leaflet.js&quot;&gt;&lt;/script&gt;\n",
       "    &lt;script src=&quot;https://code.jquery.com/jquery-3.7.1.min.js&quot;&gt;&lt;/script&gt;\n",
       "    &lt;script src=&quot;https://cdn.jsdelivr.net/npm/bootstrap@5.2.2/dist/js/bootstrap.bundle.min.js&quot;&gt;&lt;/script&gt;\n",
       "    &lt;script src=&quot;https://cdnjs.cloudflare.com/ajax/libs/Leaflet.awesome-markers/2.0.2/leaflet.awesome-markers.js&quot;&gt;&lt;/script&gt;\n",
       "    &lt;link rel=&quot;stylesheet&quot; href=&quot;https://cdn.jsdelivr.net/npm/leaflet@1.9.3/dist/leaflet.css&quot;/&gt;\n",
       "    &lt;link rel=&quot;stylesheet&quot; href=&quot;https://cdn.jsdelivr.net/npm/bootstrap@5.2.2/dist/css/bootstrap.min.css&quot;/&gt;\n",
       "    &lt;link rel=&quot;stylesheet&quot; href=&quot;https://netdna.bootstrapcdn.com/bootstrap/3.0.0/css/bootstrap.min.css&quot;/&gt;\n",
       "    &lt;link rel=&quot;stylesheet&quot; href=&quot;https://cdn.jsdelivr.net/npm/@fortawesome/fontawesome-free@6.2.0/css/all.min.css&quot;/&gt;\n",
       "    &lt;link rel=&quot;stylesheet&quot; href=&quot;https://cdnjs.cloudflare.com/ajax/libs/Leaflet.awesome-markers/2.0.2/leaflet.awesome-markers.css&quot;/&gt;\n",
       "    &lt;link rel=&quot;stylesheet&quot; href=&quot;https://cdn.jsdelivr.net/gh/python-visualization/folium/folium/templates/leaflet.awesome.rotate.min.css&quot;/&gt;\n",
       "    \n",
       "            &lt;meta name=&quot;viewport&quot; content=&quot;width=device-width,\n",
       "                initial-scale=1.0, maximum-scale=1.0, user-scalable=no&quot; /&gt;\n",
       "            &lt;style&gt;\n",
       "                #map_36ac4bc808e02cef2c8d4599ba73947b {\n",
       "                    position: relative;\n",
       "                    width: 100.0%;\n",
       "                    height: 100.0%;\n",
       "                    left: 0.0%;\n",
       "                    top: 0.0%;\n",
       "                }\n",
       "                .leaflet-container { font-size: 1rem; }\n",
       "            &lt;/style&gt;\n",
       "        \n",
       "&lt;/head&gt;\n",
       "&lt;body&gt;\n",
       "    \n",
       "    \n",
       "            &lt;div class=&quot;folium-map&quot; id=&quot;map_36ac4bc808e02cef2c8d4599ba73947b&quot; &gt;&lt;/div&gt;\n",
       "        \n",
       "&lt;/body&gt;\n",
       "&lt;script&gt;\n",
       "    \n",
       "    \n",
       "            var map_36ac4bc808e02cef2c8d4599ba73947b = L.map(\n",
       "                &quot;map_36ac4bc808e02cef2c8d4599ba73947b&quot;,\n",
       "                {\n",
       "                    center: [18.464629000000002, -65.638847],\n",
       "                    crs: L.CRS.EPSG3857,\n",
       "                    zoom: 11,\n",
       "                    zoomControl: true,\n",
       "                    preferCanvas: false,\n",
       "                }\n",
       "            );\n",
       "\n",
       "            \n",
       "\n",
       "        \n",
       "    \n",
       "            var tile_layer_633b3871da27c87fbcca98dcba775f8a = L.tileLayer(\n",
       "                &quot;https://tile.openstreetmap.org/{z}/{x}/{y}.png&quot;,\n",
       "                {&quot;attribution&quot;: &quot;\\u0026copy; \\u003ca href=\\&quot;https://www.openstreetmap.org/copyright\\&quot;\\u003eOpenStreetMap\\u003c/a\\u003e contributors&quot;, &quot;detectRetina&quot;: false, &quot;maxNativeZoom&quot;: 19, &quot;maxZoom&quot;: 19, &quot;minZoom&quot;: 0, &quot;noWrap&quot;: false, &quot;opacity&quot;: 1, &quot;subdomains&quot;: &quot;abc&quot;, &quot;tms&quot;: false}\n",
       "            );\n",
       "        \n",
       "    \n",
       "            tile_layer_633b3871da27c87fbcca98dcba775f8a.addTo(map_36ac4bc808e02cef2c8d4599ba73947b);\n",
       "        \n",
       "    \n",
       "            var tile_layer_d81707b9d1c22ad01a46cc112c864504 = L.tileLayer(\n",
       "                &quot;https://openveda.cloud/api/raster/searches/61809545320d5ea343d57453af06b818/tiles/WebMercatorQuad/{z}/{x}/{y}?assets=B03\\u0026assets=B05\\u0026expression=%28B03_b1-B05_b1%29%2F%28B03_b1%2BB05_b1%29\\u0026rescale=0%2C1\\u0026colormap_name=viridis&quot;,\n",
       "                {&quot;attribution&quot;: &quot;Mosaic&quot;, &quot;detectRetina&quot;: false, &quot;maxNativeZoom&quot;: 18, &quot;maxZoom&quot;: 18, &quot;minZoom&quot;: 0, &quot;noWrap&quot;: false, &quot;opacity&quot;: 1, &quot;subdomains&quot;: &quot;abc&quot;, &quot;tms&quot;: false}\n",
       "            );\n",
       "        \n",
       "    \n",
       "            tile_layer_d81707b9d1c22ad01a46cc112c864504.addTo(map_36ac4bc808e02cef2c8d4599ba73947b);\n",
       "        \n",
       "&lt;/script&gt;\n",
       "&lt;/html&gt;\" style=\"position:absolute;width:100%;height:100%;left:0;top:0;border:none !important;\" allowfullscreen webkitallowfullscreen mozallowfullscreen></iframe></div></div>"
      ],
      "text/plain": [
       "<folium.folium.Map at 0x7f2f91543c90>"
      ]
     },
     "execution_count": 12,
     "metadata": {},
     "output_type": "execute_result"
    }
   ],
   "source": [
    "# Use bbox initial zoom and map\n",
    "# Set up a map located w/in event bounds\n",
    "zoom_start = 11\n",
    "m = Map(\n",
    "    tiles=\"OpenStreetMap\",\n",
    "    location=((maria_bbox[1] + maria_bbox[3]) / 2,(maria_bbox[0] + maria_bbox[2]) / 2),\n",
    "    zoom_start=zoom_start\n",
    ")\n",
    "\n",
    "# Add the formatted map layer\n",
    "map_layer = TileLayer(\n",
    "    tiles=tilejson_response[\"tiles\"][0],\n",
    "    attr=\"Mosaic\",  \n",
    ")\n",
    "map_layer.add_to(m)\n",
    "m"
   ]
  }
 ],
 "metadata": {
  "kernelspec": {
   "display_name": "Python 3 (ipykernel)",
   "language": "python",
   "name": "python3"
  },
  "language_info": {
   "codemirror_mode": {
    "name": "ipython",
    "version": 3
   },
   "file_extension": ".py",
   "mimetype": "text/x-python",
   "name": "python",
   "nbconvert_exporter": "python",
   "pygments_lexer": "ipython3",
   "version": "3.11.9"
  },
  "vscode": {
   "interpreter": {
    "hash": "4c50046321092db1b3f5c75963655e1ce9fc52a21d0be5afb0baeb2611965dce"
   }
  }
 },
 "nbformat": 4,
 "nbformat_minor": 4
}
